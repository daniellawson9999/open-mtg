{
 "cells": [
  {
   "cell_type": "code",
   "execution_count": 2,
   "metadata": {},
   "outputs": [],
   "source": [
    "from deck import *\n",
    "from game import *\n",
    "from player import *\n",
    "from phases import Phases\n",
    "import random"
   ]
  },
  {
   "cell_type": "code",
   "execution_count": 6,
   "metadata": {},
   "outputs": [],
   "source": [
    "data = {\n",
    "    \"Silver\": [],\n",
    "    \"Gold\": []\n",
    "}\n",
    "# Tuple State, Legal_actions, action, reward"
   ]
  },
  {
   "cell_type": "code",
   "execution_count": 9,
   "metadata": {},
   "outputs": [],
   "source": [
    "\n",
    "policies = [None,None]\n",
    "wins=[0,0]\n",
    "n_games = 100\n",
    "\n",
    "\n",
    "def get_move(index, state, move_indexes=None, move_strings=None):\n",
    "    assert(move_indexes != None or move_strings != None), \"at least one list must not be None {} {}\".format(move_indexes,move_strings)\n",
    "\n",
    "    if (move_indexes != None):\n",
    "        length = len(move_indexes)\n",
    "    else:\n",
    "        length = len(move_strings)\n",
    "\n",
    "    if policies[index] == None or length == 1:\n",
    "        if move_indexes != None:\n",
    "            move = random.sample(move_indexes,1)[0]\n",
    "        else:\n",
    "            move = random.sample(move_strings,1)[0]\n",
    "    else:\n",
    "        assert (False), \"TODO\"\n",
    "        pass\n",
    "    return move"
   ]
  },
  {
   "cell_type": "code",
   "execution_count": 11,
   "metadata": {},
   "outputs": [
    {
     "name": "stdout",
     "output_type": "stream",
     "text": [
      "Starting game 1\n",
      "Starting game 2\n",
      "Starting game 3\n",
      "Starting game 4\n",
      "Starting game 5\n",
      "Starting game 6\n",
      "Starting game 7\n",
      "Starting game 8\n",
      "Starting game 9\n",
      "Starting game 10\n",
      "Starting game 11\n",
      "Starting game 12\n",
      "Starting game 13\n",
      "Starting game 14\n",
      "Starting game 15\n",
      "Starting game 16\n",
      "Starting game 17\n",
      "Starting game 18\n",
      "Starting game 19\n",
      "Starting game 20\n",
      "Starting game 21\n",
      "Starting game 22\n",
      "Starting game 23\n",
      "Starting game 24\n",
      "Starting game 25\n",
      "Starting game 26\n",
      "Starting game 27\n",
      "Starting game 28\n",
      "Starting game 29\n",
      "Starting game 30\n",
      "Starting game 31\n",
      "Starting game 32\n",
      "Starting game 33\n",
      "Starting game 34\n",
      "Starting game 35\n",
      "Starting game 36\n",
      "Starting game 37\n",
      "Starting game 38\n",
      "Starting game 39\n",
      "Starting game 40\n",
      "Starting game 41\n",
      "Starting game 42\n",
      "Starting game 43\n",
      "Starting game 44\n",
      "Starting game 45\n",
      "Starting game 46\n",
      "Starting game 47\n",
      "Starting game 48\n",
      "Starting game 49\n",
      "Starting game 50\n",
      "Starting game 51\n",
      "Starting game 52\n",
      "Starting game 53\n",
      "Starting game 54\n",
      "Starting game 55\n",
      "Starting game 56\n",
      "Starting game 57\n",
      "Starting game 58\n",
      "Starting game 59\n",
      "Starting game 60\n",
      "Starting game 61\n",
      "Starting game 62\n",
      "Starting game 63\n",
      "Starting game 64\n",
      "Starting game 65\n",
      "Starting game 66\n",
      "Starting game 67\n",
      "Starting game 68\n",
      "Starting game 69\n",
      "Starting game 70\n",
      "Starting game 71\n",
      "Starting game 72\n",
      "Starting game 73\n",
      "Starting game 74\n",
      "Starting game 75\n",
      "Starting game 76\n",
      "Starting game 77\n",
      "Starting game 78\n",
      "Starting game 79\n",
      "Starting game 80\n",
      "Starting game 81\n",
      "Starting game 82\n",
      "Starting game 83\n",
      "Starting game 84\n",
      "Starting game 85\n",
      "Starting game 86\n",
      "Starting game 87\n",
      "Starting game 88\n",
      "Starting game 89\n",
      "Starting game 90\n",
      "Starting game 91\n",
      "Starting game 92\n",
      "Starting game 93\n",
      "Starting game 94\n",
      "Starting game 95\n",
      "Starting game 96\n",
      "Starting game 97\n",
      "Starting game 98\n",
      "Starting game 99\n",
      "Starting game 100\n",
      "player 0 wins: 46, player 1 wins: 54\n"
     ]
    }
   ],
   "source": [
    "# Simulate n_names times\n",
    "for i in range(n_games):\n",
    "    print(\"Starting game %d\" % (i + 1))\n",
    "    # Create game\n",
    "    #game = Game([Player(get_8ed_core_gold_deck(), name=\"Gold\"), Player(get_8ed_core_silver_deck(), name=\"Silver\")])\n",
    "    game = Game([Player(get_8ed_core_gold_deck(), name=\"Player1\", deck_name=\"Gold\"), Player(get_8ed_core_gold_deck(), name=\"Player2\", deck_name=\"Gold\")])\n",
    "    game.start_game()\n",
    "\n",
    "    game_data = {\n",
    "        game.players[0].name: [],\n",
    "        game.players[1].name: []\n",
    "    }\n",
    "    while not game.is_over():\n",
    "        # Get player, valid moves\n",
    "        player = game.player_with_priority\n",
    "        move_indexes, move_strings = game.get_moves()\n",
    "        state = game.get_board_string()\n",
    "\n",
    "        # Skip COMBAT_DAMAGE_STEP_510_1c, no choices in damage assignment\n",
    "        if game.current_phase_index == Phases.COMBAT_DAMAGE_STEP_510_1c:\n",
    "            assert(len(move_indexes) == 1), \"Should only be 1 value move\"\n",
    "            game.make_move(move_indexes[0],False)\n",
    "            continue\n",
    "\n",
    "        # Get move, may have to unroll action\n",
    "        if isinstance(move_strings, ActionUnroller):\n",
    "            unroller = move_strings\n",
    "            while not unroller.is_done():\n",
    "                moves = unroller.get_legal_moves()\n",
    "                move_string = get_move(player.index,state, move_indexes=None, move_strings=moves)\n",
    "\n",
    "                # Record Move\n",
    "                if len(moves) > 1:\n",
    "                    game_data[player.name].append([state, moves, move_string])\n",
    "\n",
    "                #print(move_string)\n",
    "                state = unroller.register_move(move_string)\n",
    "            # Apply unrolled actions to game\n",
    "            unroller.make_move()\n",
    "        else:\n",
    "            #print(state)\n",
    "            move = get_move(player.index, state, move_indexes, move_strings)\n",
    "            move_string = move_strings[move_indexes.index(move)]\n",
    "\n",
    "            # Record Move\n",
    "            if len(move_indexes) > 1:\n",
    "                game_data[player.name].append([state, move_strings, move_string])\n",
    "\n",
    "            #print(move_string)\n",
    "            game.make_move(move, False)\n",
    "        #move = mcts.uct(game, itermax=5)\n",
    "\n",
    "    if game.players[1].has_lost:\n",
    "        wins[0] += 1\n",
    "        reward_0 = 1\n",
    "        reward_1 = -1\n",
    "        #print(\"State\", state)\n",
    "    elif game.players[0].has_lost:\n",
    "        wins[1] += 1\n",
    "        reward_0 = -1\n",
    "        reward_1 = 1\n",
    "        #print(\"State\", state)\n",
    "    # Add reward info\n",
    "    name_0 = game.players[0].name\n",
    "    name_1 = game.players[1].name\n",
    "    len_0 = len(game_data[name_0])\n",
    "    len_1 = len(game_data[name_1])\n",
    "    for i in range(max(len_0, len_1)):\n",
    "        if i <= len_0 - 1:\n",
    "            game_data[name_0][i].append(reward_0)\n",
    "        if i <= len_1 - 1:\n",
    "            game_data[name_1][i].append(reward_1)\n",
    "    # Add game_data to overall data\n",
    "    for player in game.players:\n",
    "        data[player.deck_name].append(game_data[player.name])\n",
    "    \n",
    "print(\"player 0 wins: %i, player 1 wins: %i\" % (wins[0], wins[1]))\n"
   ]
  },
  {
   "cell_type": "code",
   "execution_count": 5,
   "metadata": {},
   "outputs": [
    {
     "name": "stderr",
     "output_type": "stream",
     "text": [
      "<ipython-input-5-2a37014f8a44>:1: VisibleDeprecationWarning: Creating an ndarray from ragged nested sequences (which is a list-or-tuple of lists-or-tuples-or ndarrays with different lengths or shapes) is deprecated. If you meant to do this, you must specify 'dtype=object' when creating the ndarray\n",
      "  np.array(game_data['Player1'])\n"
     ]
    },
    {
     "data": {
      "text/plain": [
       "array([['\\n        player-color$ Gold$\\n        life$ 20$\\n        opponent-life$ 20$\\n        phase$ Phases.MAIN_PHASE_PRE_COMBAT$\\n        hand$ Lava Axe$Stone Rain$Volcanic Hammer$Goblin Raider$Forest$Mountain$Hill Giant$Hill Giant$\\n        generic-debt$ 0$\\n        manapool$ White$ 0$ Blue$ 0$ Black$ 0$ Red$ 0$ Green$ 0$ Colorless$ 0$\\n        opponent-cards$ 6$\\n        self-lands-untapped$ $\\n        self-lands-tapped$ $\\n        opponent-lands-untapped$ Island$\\n        opponent-lands-tapped$ $\\n        self-creatures-untapped$ $\\n        self-creatures-tapped$ $\\n        opponent-creatures-untapped$ $\\n        opponent-creatures-tapped$ $\\n        attackers-blockers$ None$\\n        damage-order$ None$\\n        ',\n",
       "        list(['Forest', 'Mountain', 'Pass']), 'Pass', 1],\n",
       "       ['\\n        player-color$ Gold$\\n        life$ 20$\\n        opponent-life$ 20$\\n        phase$ Phases.MAIN_PHASE_PRE_COMBAT$\\n        hand$ Lava Axe$Stone Rain$Volcanic Hammer$Goblin Raider$Forest$Mountain$Hill Giant$Hill Giant$Forest$\\n        generic-debt$ 0$\\n        manapool$ White$ 0$ Blue$ 0$ Black$ 0$ Red$ 0$ Green$ 0$ Colorless$ 0$\\n        opponent-cards$ 7$\\n        self-lands-untapped$ $\\n        self-lands-tapped$ $\\n        opponent-lands-untapped$ Island$\\n        opponent-lands-tapped$ $\\n        self-creatures-untapped$ $\\n        self-creatures-tapped$ $\\n        opponent-creatures-untapped$ $\\n        opponent-creatures-tapped$ $\\n        attackers-blockers$ None$\\n        damage-order$ None$\\n        ',\n",
       "        list(['Forest', 'Mountain', 'Forest', 'Pass']), 'Mountain', 1],\n",
       "       ['\\n        player-color$ Gold$\\n        life$ 20$\\n        opponent-life$ 20$\\n        phase$ Phases.MAIN_PHASE_PRE_COMBAT$\\n        hand$ Lava Axe$Stone Rain$Volcanic Hammer$Goblin Raider$Forest$Hill Giant$Hill Giant$Forest$\\n        generic-debt$ 0$\\n        manapool$ White$ 0$ Blue$ 0$ Black$ 0$ Red$ 0$ Green$ 0$ Colorless$ 0$\\n        opponent-cards$ 7$\\n        self-lands-untapped$ Mountain$\\n        self-lands-tapped$ $\\n        opponent-lands-untapped$ Island$\\n        opponent-lands-tapped$ $\\n        self-creatures-untapped$ $\\n        self-creatures-tapped$ $\\n        opponent-creatures-untapped$ $\\n        opponent-creatures-tapped$ $\\n        attackers-blockers$ None$\\n        damage-order$ None$\\n        ',\n",
       "        list(['tapped_ability_0_Mountain', 'Pass']), 'Pass', 1],\n",
       "       ['\\n        player-color$ Gold$\\n        life$ 20$\\n        opponent-life$ 20$\\n        phase$ Phases.MAIN_PHASE_PRE_COMBAT$\\n        hand$ Lava Axe$Stone Rain$Volcanic Hammer$Goblin Raider$Forest$Hill Giant$Hill Giant$Forest$Grizzly Bears$\\n        generic-debt$ 0$\\n        manapool$ White$ 0$ Blue$ 0$ Black$ 0$ Red$ 0$ Green$ 0$ Colorless$ 0$\\n        opponent-cards$ 8$\\n        self-lands-untapped$ Mountain$\\n        self-lands-tapped$ $\\n        opponent-lands-untapped$ Island$\\n        opponent-lands-tapped$ $\\n        self-creatures-untapped$ $\\n        self-creatures-tapped$ $\\n        opponent-creatures-untapped$ $\\n        opponent-creatures-tapped$ $\\n        attackers-blockers$ None$\\n        damage-order$ None$\\n        ',\n",
       "        list(['Forest', 'Forest', 'tapped_ability_0_Mountain', 'Pass']),\n",
       "        'tapped_ability_0_Mountain', 1],\n",
       "       ['\\n        player-color$ Gold$\\n        life$ 20$\\n        opponent-life$ 20$\\n        phase$ Phases.MAIN_PHASE_PRE_COMBAT$\\n        hand$ Lava Axe$Stone Rain$Volcanic Hammer$Goblin Raider$Forest$Hill Giant$Hill Giant$Forest$Grizzly Bears$\\n        generic-debt$ 0$\\n        manapool$ Black$ 0$ White$ 0$ Red$ 1$ Colorless$ 0$ Green$ 0$ Blue$ 0$\\n        opponent-cards$ 8$\\n        self-lands-untapped$ $\\n        self-lands-tapped$ Mountain$\\n        opponent-lands-untapped$ Island$\\n        opponent-lands-tapped$ $\\n        self-creatures-untapped$ $\\n        self-creatures-tapped$ $\\n        opponent-creatures-untapped$ $\\n        opponent-creatures-tapped$ $\\n        attackers-blockers$ None$\\n        damage-order$ None$\\n        ',\n",
       "        list(['Forest', 'Forest', 'Pass']), 'Forest', 1],\n",
       "       ['\\n        player-color$ Gold$\\n        life$ 20$\\n        opponent-life$ 20$\\n        phase$ Phases.MAIN_PHASE_PRE_COMBAT$\\n        hand$ Lava Axe$Stone Rain$Volcanic Hammer$Goblin Raider$Forest$Hill Giant$Hill Giant$Grizzly Bears$\\n        generic-debt$ 0$\\n        manapool$ Black$ 0$ White$ 0$ Red$ 1$ Colorless$ 0$ Green$ 0$ Blue$ 0$\\n        opponent-cards$ 8$\\n        self-lands-untapped$ Forest$\\n        self-lands-tapped$ Mountain$\\n        opponent-lands-untapped$ Island$\\n        opponent-lands-tapped$ $\\n        self-creatures-untapped$ $\\n        self-creatures-tapped$ $\\n        opponent-creatures-untapped$ $\\n        opponent-creatures-tapped$ $\\n        attackers-blockers$ None$\\n        damage-order$ None$\\n        ',\n",
       "        list(['tapped_ability_0_Forest', 'Pass']), 'Pass', 1],\n",
       "       ['\\n        player-color$ Gold$\\n        life$ 20$\\n        opponent-life$ 24$\\n        phase$ Phases.MAIN_PHASE_PRE_COMBAT$\\n        hand$ Lava Axe$Stone Rain$Volcanic Hammer$Goblin Raider$Forest$Hill Giant$Hill Giant$Grizzly Bears$Lava Axe$\\n        generic-debt$ 0$\\n        manapool$ White$ 0$ Blue$ 0$ Black$ 0$ Red$ 0$ Green$ 0$ Colorless$ 0$\\n        opponent-cards$ 7$\\n        self-lands-untapped$ Mountain$Forest$\\n        self-lands-tapped$ $\\n        opponent-lands-untapped$ Island$Plains$\\n        opponent-lands-tapped$ $\\n        self-creatures-untapped$ $\\n        self-creatures-tapped$ $\\n        opponent-creatures-untapped$ $\\n        opponent-creatures-tapped$ $\\n        attackers-blockers$ None$\\n        damage-order$ None$\\n        ',\n",
       "        list(['Forest', 'tapped_ability_0_Mountain', 'tapped_ability_0_Forest', 'Pass']),\n",
       "        'tapped_ability_0_Mountain', 1],\n",
       "       ['\\n        player-color$ Gold$\\n        life$ 20$\\n        opponent-life$ 24$\\n        phase$ Phases.MAIN_PHASE_PRE_COMBAT$\\n        hand$ Lava Axe$Stone Rain$Volcanic Hammer$Goblin Raider$Forest$Hill Giant$Hill Giant$Grizzly Bears$Lava Axe$\\n        generic-debt$ 0$\\n        manapool$ Black$ 0$ White$ 0$ Red$ 1$ Colorless$ 0$ Green$ 1$ Blue$ 0$\\n        opponent-cards$ 7$\\n        self-lands-untapped$ $\\n        self-lands-tapped$ Mountain$Forest$\\n        opponent-lands-untapped$ Island$Plains$\\n        opponent-lands-tapped$ $\\n        self-creatures-untapped$ $\\n        self-creatures-tapped$ $\\n        opponent-creatures-untapped$ $\\n        opponent-creatures-tapped$ $\\n        attackers-blockers$ None$\\n        damage-order$ None$\\n        ',\n",
       "        list(['Volcanic Hammer', 'Goblin Raider', 'Forest', 'Grizzly Bears', 'Pass']),\n",
       "        'Volcanic Hammer', 1],\n",
       "       ['\\n        player-color$ Gold$\\n        life$ 20$\\n        opponent-life$ 24$\\n        phase$ Phases.MAIN_PHASE_PRE_COMBAT$\\n        hand$ Lava Axe$Stone Rain$Goblin Raider$Forest$Hill Giant$Hill Giant$Grizzly Bears$Lava Axe$\\n        generic-debt$ 0$\\n        manapool$ Black$ 0$ White$ 0$ Red$ 0$ Colorless$ 0$ Green$ 0$ Blue$ 0$\\n        opponent-cards$ 7$\\n        self-lands-untapped$ $\\n        self-lands-tapped$ Mountain$Forest$\\n        opponent-lands-untapped$ Island$Plains$\\n        opponent-lands-tapped$ $\\n        self-creatures-untapped$ $\\n        self-creatures-tapped$ $\\n        opponent-creatures-untapped$ $\\n        opponent-creatures-tapped$ $\\n        attackers-blockers$ None$\\n        damage-order$ None$\\n        ',\n",
       "        list(['self', 'opponent']), 'opponent', 1],\n",
       "       ['\\n        player-color$ Gold$\\n        life$ 20$\\n        opponent-life$ 21$\\n        phase$ Phases.MAIN_PHASE_PRE_COMBAT$\\n        hand$ Lava Axe$Stone Rain$Goblin Raider$Forest$Hill Giant$Hill Giant$Grizzly Bears$Lava Axe$\\n        generic-debt$ 0$\\n        manapool$ Black$ 0$ White$ 0$ Red$ 0$ Colorless$ 0$ Green$ 0$ Blue$ 0$\\n        opponent-cards$ 7$\\n        self-lands-untapped$ $\\n        self-lands-tapped$ Mountain$Forest$\\n        opponent-lands-untapped$ Island$Plains$\\n        opponent-lands-tapped$ $\\n        self-creatures-untapped$ $\\n        self-creatures-tapped$ $\\n        opponent-creatures-untapped$ $\\n        opponent-creatures-tapped$ $\\n        attackers-blockers$ None$\\n        damage-order$ None$\\n        ',\n",
       "        list(['Forest', 'Pass']), 'Pass', 1],\n",
       "       ['\\n        player-color$ Gold$\\n        life$ 20$\\n        opponent-life$ 21$\\n        phase$ Phases.MAIN_PHASE_PRE_COMBAT$\\n        hand$ Lava Axe$Stone Rain$Goblin Raider$Forest$Hill Giant$Hill Giant$Grizzly Bears$Lava Axe$Mountain$\\n        generic-debt$ 0$\\n        manapool$ White$ 0$ Blue$ 0$ Black$ 0$ Red$ 0$ Green$ 0$ Colorless$ 0$\\n        opponent-cards$ 6$\\n        self-lands-untapped$ Mountain$Forest$\\n        self-lands-tapped$ $\\n        opponent-lands-untapped$ Island$Plains$Plains$\\n        opponent-lands-tapped$ $\\n        self-creatures-untapped$ $\\n        self-creatures-tapped$ $\\n        opponent-creatures-untapped$ Fugitive Wizard$\\n        opponent-creatures-tapped$ $\\n        attackers-blockers$ None$\\n        damage-order$ None$\\n        ',\n",
       "        list(['Forest', 'Mountain', 'tapped_ability_0_Mountain', 'tapped_ability_0_Forest', 'Pass']),\n",
       "        'Mountain', 1],\n",
       "       ['\\n        player-color$ Gold$\\n        life$ 20$\\n        opponent-life$ 21$\\n        phase$ Phases.MAIN_PHASE_PRE_COMBAT$\\n        hand$ Lava Axe$Stone Rain$Goblin Raider$Forest$Hill Giant$Hill Giant$Grizzly Bears$Lava Axe$\\n        generic-debt$ 0$\\n        manapool$ White$ 0$ Blue$ 0$ Black$ 0$ Red$ 0$ Green$ 0$ Colorless$ 0$\\n        opponent-cards$ 6$\\n        self-lands-untapped$ Mountain$Forest$Mountain$\\n        self-lands-tapped$ $\\n        opponent-lands-untapped$ Island$Plains$Plains$\\n        opponent-lands-tapped$ $\\n        self-creatures-untapped$ $\\n        self-creatures-tapped$ $\\n        opponent-creatures-untapped$ Fugitive Wizard$\\n        opponent-creatures-tapped$ $\\n        attackers-blockers$ None$\\n        damage-order$ None$\\n        ',\n",
       "        list(['tapped_ability_0_Mountain', 'tapped_ability_0_Forest', 'tapped_ability_0_Mountain', 'Pass']),\n",
       "        'tapped_ability_0_Mountain', 1],\n",
       "       ['\\n        player-color$ Gold$\\n        life$ 20$\\n        opponent-life$ 21$\\n        phase$ Phases.MAIN_PHASE_PRE_COMBAT$\\n        hand$ Lava Axe$Stone Rain$Goblin Raider$Forest$Hill Giant$Hill Giant$Grizzly Bears$Lava Axe$\\n        generic-debt$ 0$\\n        manapool$ Black$ 0$ White$ 0$ Red$ 2$ Colorless$ 0$ Green$ 1$ Blue$ 0$\\n        opponent-cards$ 6$\\n        self-lands-untapped$ $\\n        self-lands-tapped$ Mountain$Forest$Mountain$\\n        opponent-lands-untapped$ Island$Plains$Plains$\\n        opponent-lands-tapped$ $\\n        self-creatures-untapped$ $\\n        self-creatures-tapped$ $\\n        opponent-creatures-untapped$ Fugitive Wizard$\\n        opponent-creatures-tapped$ $\\n        attackers-blockers$ None$\\n        damage-order$ None$\\n        ',\n",
       "        list(['Stone Rain', 'Goblin Raider', 'Grizzly Bears', 'Pass']),\n",
       "        'Grizzly Bears', 1],\n",
       "       ['\\n        player-color$ Gold$\\n        life$ 20$\\n        opponent-life$ 21$\\n        phase$ Phases.MAIN_PHASE_PRE_COMBAT$\\n        hand$ Lava Axe$Stone Rain$Goblin Raider$Forest$Hill Giant$Hill Giant$Lava Axe$Mountain$\\n        generic-debt$ 0$\\n        manapool$ White$ 0$ Blue$ 0$ Black$ 0$ Red$ 0$ Green$ 0$ Colorless$ 0$\\n        opponent-cards$ 6$\\n        self-lands-untapped$ Mountain$Forest$Mountain$\\n        self-lands-tapped$ $\\n        opponent-lands-untapped$ Island$Plains$Plains$Plains$\\n        opponent-lands-tapped$ $\\n        self-creatures-untapped$ Grizzly Bears$\\n        self-creatures-tapped$ $\\n        opponent-creatures-untapped$ Fugitive Wizard$\\n        opponent-creatures-tapped$ $\\n        attackers-blockers$ None$\\n        damage-order$ None$\\n        ',\n",
       "        list(['Forest', 'Mountain', 'tapped_ability_0_Mountain', 'tapped_ability_0_Forest', 'tapped_ability_0_Mountain', 'Pass']),\n",
       "        'tapped_ability_0_Forest', 1],\n",
       "       ['\\n        player-color$ Gold$\\n        life$ 20$\\n        opponent-life$ 21$\\n        phase$ Phases.MAIN_PHASE_PRE_COMBAT$\\n        hand$ Lava Axe$Stone Rain$Goblin Raider$Forest$Hill Giant$Hill Giant$Lava Axe$Mountain$\\n        generic-debt$ 0$\\n        manapool$ Black$ 0$ White$ 0$ Red$ 2$ Colorless$ 0$ Green$ 1$ Blue$ 0$\\n        opponent-cards$ 6$\\n        self-lands-untapped$ $\\n        self-lands-tapped$ Mountain$Forest$Mountain$\\n        opponent-lands-untapped$ Island$Plains$Plains$Plains$\\n        opponent-lands-tapped$ $\\n        self-creatures-untapped$ Grizzly Bears$\\n        self-creatures-tapped$ $\\n        opponent-creatures-untapped$ Fugitive Wizard$\\n        opponent-creatures-tapped$ $\\n        attackers-blockers$ None$\\n        damage-order$ None$\\n        ',\n",
       "        list(['Stone Rain', 'Goblin Raider', 'Forest', 'Mountain', 'Pass']),\n",
       "        'Goblin Raider', 1],\n",
       "       ['\\n        player-color$ Gold$\\n        life$ 20$\\n        opponent-life$ 21$\\n        phase$ Phases.MAIN_PHASE_PRE_COMBAT$\\n        hand$ Lava Axe$Stone Rain$Forest$Hill Giant$Hill Giant$Lava Axe$Mountain$\\n        generic-debt$ 1$\\n        manapool$ Black$ 0$ White$ 0$ Red$ 1$ Colorless$ 0$ Green$ 1$ Blue$ 0$\\n        opponent-cards$ 6$\\n        self-lands-untapped$ $\\n        self-lands-tapped$ Mountain$Forest$Mountain$\\n        opponent-lands-untapped$ Island$Plains$Plains$Plains$\\n        opponent-lands-tapped$ $\\n        self-creatures-untapped$ Grizzly Bears$Goblin Raider$\\n        self-creatures-tapped$ $\\n        opponent-creatures-untapped$ Fugitive Wizard$\\n        opponent-creatures-tapped$ $\\n        attackers-blockers$ None$\\n        damage-order$ None$\\n        ',\n",
       "        list(['Green', 'Red']), 'Red', 1],\n",
       "       ['\\n        player-color$ Gold$\\n        life$ 20$\\n        opponent-life$ 21$\\n        phase$ Phases.MAIN_PHASE_PRE_COMBAT$\\n        hand$ Lava Axe$Stone Rain$Forest$Hill Giant$Hill Giant$Lava Axe$Mountain$\\n        generic-debt$ 0$\\n        manapool$ Black$ 0$ White$ 0$ Red$ 0$ Colorless$ 0$ Green$ 1$ Blue$ 0$\\n        opponent-cards$ 6$\\n        self-lands-untapped$ $\\n        self-lands-tapped$ Mountain$Forest$Mountain$\\n        opponent-lands-untapped$ Island$Plains$Plains$Plains$\\n        opponent-lands-tapped$ $\\n        self-creatures-untapped$ Grizzly Bears$Goblin Raider$\\n        self-creatures-tapped$ $\\n        opponent-creatures-untapped$ Fugitive Wizard$\\n        opponent-creatures-tapped$ $\\n        attackers-blockers$ None$\\n        damage-order$ None$\\n        ',\n",
       "        list(['Forest', 'Mountain', 'Pass']), 'Forest', 1],\n",
       "       ['\\n        player-color$ Gold$\\n        life$ 20$\\n        opponent-life$ 21$\\n        phase$ Phases.MAIN_PHASE_PRE_COMBAT$\\n        hand$ Lava Axe$Stone Rain$Hill Giant$Hill Giant$Lava Axe$Mountain$\\n        generic-debt$ 0$\\n        manapool$ Black$ 0$ White$ 0$ Red$ 0$ Colorless$ 0$ Green$ 1$ Blue$ 0$\\n        opponent-cards$ 6$\\n        self-lands-untapped$ Forest$\\n        self-lands-tapped$ Mountain$Forest$Mountain$\\n        opponent-lands-untapped$ Island$Plains$Plains$Plains$\\n        opponent-lands-tapped$ $\\n        self-creatures-untapped$ Grizzly Bears$Goblin Raider$\\n        self-creatures-tapped$ $\\n        opponent-creatures-untapped$ Fugitive Wizard$\\n        opponent-creatures-tapped$ $\\n        attackers-blockers$ None$\\n        damage-order$ None$\\n        ',\n",
       "        list(['tapped_ability_0_Forest', 'Pass']),\n",
       "        'tapped_ability_0_Forest', 1],\n",
       "       ['\\n        player-color$ Gold$\\n        life$ 20$\\n        opponent-life$ 21$\\n        phase$ Phases.DECLARE_ATTACKERS_STEP$\\n        hand$ Lava Axe$Stone Rain$Hill Giant$Hill Giant$Lava Axe$Mountain$\\n        generic-debt$ 0$\\n        manapool$ Black$ 0$ White$ 0$ Red$ 0$ Colorless$ 0$ Green$ 2$ Blue$ 0$\\n        opponent-cards$ 6$\\n        self-lands-untapped$ $\\n        self-lands-tapped$ Mountain$Forest$Mountain$Forest$\\n        opponent-lands-untapped$ Island$Plains$Plains$Plains$\\n        opponent-lands-tapped$ $\\n        self-creatures-untapped$ Grizzly Bears$Goblin Raider$\\n        self-creatures-tapped$ $\\n        opponent-creatures-untapped$ Fugitive Wizard$\\n        opponent-creatures-tapped$ $\\n        attackers-blockers$ None$\\n        damage-order$ None$\\n        ',\n",
       "        list(['Grizzly Bears$0']), 'Pass', 1],\n",
       "       ['\\n        player-color$ Gold$\\n        life$ 20$\\n        opponent-life$ 21$\\n        phase$ Phases.DECLARE_BLOCKERS_STEP$\\n        hand$ Lava Axe$Stone Rain$Hill Giant$Hill Giant$Lava Axe$Mountain$\\n        generic-debt$ 0$\\n        manapool$ White$ 0$ Blue$ 0$ Black$ 0$ Red$ 0$ Green$ 0$ Colorless$ 0$\\n        opponent-cards$ 4$\\n        self-lands-untapped$ Mountain$Forest$Mountain$Forest$\\n        self-lands-tapped$ $\\n        opponent-lands-untapped$ $\\n        opponent-lands-tapped$ Island$Plains$Plains$Plains$Island$\\n        self-creatures-untapped$ Grizzly Bears$Goblin Raider$\\n        self-creatures-tapped$ $\\n        opponent-creatures-untapped$ Fugitive Wizard$Giant Octopus$\\n        opponent-creatures-tapped$ Fugitive Wizard$\\n        attackers-blockers$ attacker: $Fugitive Wizard$0$ blocked by: $None$$\\n        damage-order$ None$\\n        ',\n",
       "        list(['Pass', 'Grizzly Bears$0$block$Fugitive Wizard$0']),\n",
       "        'Pass', 1],\n",
       "       ['\\n        player-color$ Gold$\\n        life$ 19$\\n        opponent-life$ 21$\\n        phase$ Phases.MAIN_PHASE_PRE_COMBAT$\\n        hand$ Lava Axe$Stone Rain$Hill Giant$Hill Giant$Lava Axe$Mountain$Volcanic Hammer$\\n        generic-debt$ 0$\\n        manapool$ White$ 0$ Blue$ 0$ Black$ 0$ Red$ 0$ Green$ 0$ Colorless$ 0$\\n        opponent-cards$ 4$\\n        self-lands-untapped$ Mountain$Forest$Mountain$Forest$\\n        self-lands-tapped$ $\\n        opponent-lands-untapped$ Island$Plains$Plains$Plains$Island$\\n        opponent-lands-tapped$ $\\n        self-creatures-untapped$ Grizzly Bears$Goblin Raider$\\n        self-creatures-tapped$ $\\n        opponent-creatures-untapped$ Fugitive Wizard$Fugitive Wizard$Giant Octopus$\\n        opponent-creatures-tapped$ $\\n        attackers-blockers$ None$\\n        damage-order$ None$\\n        ',\n",
       "        list(['Mountain', 'tapped_ability_0_Mountain', 'tapped_ability_0_Forest', 'tapped_ability_0_Mountain', 'tapped_ability_0_Forest', 'Pass']),\n",
       "        'tapped_ability_0_Mountain', 1],\n",
       "       ['\\n        player-color$ Gold$\\n        life$ 19$\\n        opponent-life$ 21$\\n        phase$ Phases.MAIN_PHASE_PRE_COMBAT$\\n        hand$ Lava Axe$Stone Rain$Hill Giant$Hill Giant$Lava Axe$Mountain$Volcanic Hammer$\\n        generic-debt$ 0$\\n        manapool$ Black$ 0$ White$ 0$ Red$ 1$ Colorless$ 0$ Green$ 2$ Blue$ 0$\\n        opponent-cards$ 4$\\n        self-lands-untapped$ Mountain$\\n        self-lands-tapped$ Forest$Mountain$Forest$\\n        opponent-lands-untapped$ Island$Plains$Plains$Plains$Island$\\n        opponent-lands-tapped$ $\\n        self-creatures-untapped$ Grizzly Bears$Goblin Raider$\\n        self-creatures-tapped$ $\\n        opponent-creatures-untapped$ Fugitive Wizard$Fugitive Wizard$Giant Octopus$\\n        opponent-creatures-tapped$ $\\n        attackers-blockers$ None$\\n        damage-order$ None$\\n        ',\n",
       "        list(['Stone Rain', 'Mountain', 'Volcanic Hammer', 'tapped_ability_0_Mountain', 'Pass']),\n",
       "        'Volcanic Hammer', 1],\n",
       "       ['\\n        player-color$ Gold$\\n        life$ 19$\\n        opponent-life$ 21$\\n        phase$ Phases.MAIN_PHASE_PRE_COMBAT$\\n        hand$ Lava Axe$Stone Rain$Hill Giant$Hill Giant$Lava Axe$Mountain$\\n        generic-debt$ 0$\\n        manapool$ Black$ 0$ White$ 0$ Red$ 0$ Colorless$ 0$ Green$ 1$ Blue$ 0$\\n        opponent-cards$ 4$\\n        self-lands-untapped$ Mountain$\\n        self-lands-tapped$ Forest$Mountain$Forest$\\n        opponent-lands-untapped$ Island$Plains$Plains$Plains$Island$\\n        opponent-lands-tapped$ $\\n        self-creatures-untapped$ Grizzly Bears$Goblin Raider$\\n        self-creatures-tapped$ $\\n        opponent-creatures-untapped$ Fugitive Wizard$Fugitive Wizard$Giant Octopus$\\n        opponent-creatures-tapped$ $\\n        attackers-blockers$ None$\\n        damage-order$ None$\\n        ',\n",
       "        list(['Fugitive Wizard', 'Grizzly Bears', 'Goblin Raider', 'Fugitive Wizard', 'Giant Octopus', 'self', 'opponent']),\n",
       "        'Giant Octopus', 1],\n",
       "       ['\\n        player-color$ Gold$\\n        life$ 19$\\n        opponent-life$ 21$\\n        phase$ Phases.MAIN_PHASE_PRE_COMBAT$\\n        hand$ Lava Axe$Stone Rain$Hill Giant$Hill Giant$Lava Axe$Mountain$\\n        generic-debt$ 0$\\n        manapool$ Black$ 0$ White$ 0$ Red$ 0$ Colorless$ 0$ Green$ 1$ Blue$ 0$\\n        opponent-cards$ 4$\\n        self-lands-untapped$ Mountain$\\n        self-lands-tapped$ Forest$Mountain$Forest$\\n        opponent-lands-untapped$ Island$Plains$Plains$Plains$Island$\\n        opponent-lands-tapped$ $\\n        self-creatures-untapped$ Grizzly Bears$Goblin Raider$\\n        self-creatures-tapped$ $\\n        opponent-creatures-untapped$ Fugitive Wizard$Fugitive Wizard$Giant Octopus$\\n        opponent-creatures-tapped$ $\\n        attackers-blockers$ None$\\n        damage-order$ None$\\n        ',\n",
       "        list(['Mountain', 'tapped_ability_0_Mountain', 'Pass']),\n",
       "        'Mountain', 1],\n",
       "       ['\\n        player-color$ Gold$\\n        life$ 19$\\n        opponent-life$ 21$\\n        phase$ Phases.MAIN_PHASE_PRE_COMBAT$\\n        hand$ Lava Axe$Stone Rain$Hill Giant$Hill Giant$Lava Axe$\\n        generic-debt$ 0$\\n        manapool$ Black$ 0$ White$ 0$ Red$ 0$ Colorless$ 0$ Green$ 1$ Blue$ 0$\\n        opponent-cards$ 4$\\n        self-lands-untapped$ Mountain$Mountain$\\n        self-lands-tapped$ Forest$Mountain$Forest$\\n        opponent-lands-untapped$ Island$Plains$Plains$Plains$Island$\\n        opponent-lands-tapped$ $\\n        self-creatures-untapped$ Grizzly Bears$Goblin Raider$\\n        self-creatures-tapped$ $\\n        opponent-creatures-untapped$ Fugitive Wizard$Fugitive Wizard$Giant Octopus$\\n        opponent-creatures-tapped$ $\\n        attackers-blockers$ None$\\n        damage-order$ None$\\n        ',\n",
       "        list(['tapped_ability_0_Mountain', 'tapped_ability_0_Mountain', 'Pass']),\n",
       "        'tapped_ability_0_Mountain', 1],\n",
       "       ['\\n        player-color$ Gold$\\n        life$ 19$\\n        opponent-life$ 21$\\n        phase$ Phases.MAIN_PHASE_PRE_COMBAT$\\n        hand$ Lava Axe$Stone Rain$Hill Giant$Hill Giant$Lava Axe$\\n        generic-debt$ 0$\\n        manapool$ Black$ 0$ White$ 0$ Red$ 2$ Colorless$ 0$ Green$ 1$ Blue$ 0$\\n        opponent-cards$ 4$\\n        self-lands-untapped$ $\\n        self-lands-tapped$ Mountain$Forest$Mountain$Forest$Mountain$\\n        opponent-lands-untapped$ Island$Plains$Plains$Plains$Island$\\n        opponent-lands-tapped$ $\\n        self-creatures-untapped$ Grizzly Bears$Goblin Raider$\\n        self-creatures-tapped$ $\\n        opponent-creatures-untapped$ Fugitive Wizard$Fugitive Wizard$Giant Octopus$\\n        opponent-creatures-tapped$ $\\n        attackers-blockers$ None$\\n        damage-order$ None$\\n        ',\n",
       "        list(['Stone Rain', 'Pass']), 'Pass', 1],\n",
       "       ['\\n        player-color$ Gold$\\n        life$ 19$\\n        opponent-life$ 21$\\n        phase$ Phases.DECLARE_ATTACKERS_STEP$\\n        hand$ Lava Axe$Stone Rain$Hill Giant$Hill Giant$Lava Axe$\\n        generic-debt$ 0$\\n        manapool$ Black$ 0$ White$ 0$ Red$ 2$ Colorless$ 0$ Green$ 1$ Blue$ 0$\\n        opponent-cards$ 4$\\n        self-lands-untapped$ $\\n        self-lands-tapped$ Mountain$Forest$Mountain$Forest$Mountain$\\n        opponent-lands-untapped$ Island$Plains$Plains$Plains$Island$\\n        opponent-lands-tapped$ $\\n        self-creatures-untapped$ Grizzly Bears$Goblin Raider$\\n        self-creatures-tapped$ $\\n        opponent-creatures-untapped$ Fugitive Wizard$Fugitive Wizard$Giant Octopus$\\n        opponent-creatures-tapped$ $\\n        attackers-blockers$ None$\\n        damage-order$ None$\\n        ',\n",
       "        list(['Grizzly Bears$0']), 'Goblin Raider$1', 1],\n",
       "       ['\\n        player-color$ Gold$\\n        life$ 19$\\n        opponent-life$ 21$\\n        phase$ Phases.DECLARE_ATTACKERS_STEP$\\n        hand$ Lava Axe$Stone Rain$Hill Giant$Hill Giant$Lava Axe$\\n        generic-debt$ 0$\\n        manapool$ Black$ 0$ White$ 0$ Red$ 2$ Colorless$ 0$ Green$ 1$ Blue$ 0$\\n        opponent-cards$ 4$\\n        self-lands-untapped$ $\\n        self-lands-tapped$ Mountain$Forest$Mountain$Forest$Mountain$\\n        opponent-lands-untapped$ Island$Plains$Plains$Plains$Island$\\n        opponent-lands-tapped$ $\\n        self-creatures-untapped$ Grizzly Bears$Goblin Raider$\\n        self-creatures-tapped$ $\\n        opponent-creatures-untapped$ Fugitive Wizard$Fugitive Wizard$Giant Octopus$\\n        opponent-creatures-tapped$ $\\n        attackers-blockers$ None$\\n        damage-order$ None$\\n        ',\n",
       "        list(['Grizzly Bears$0']), 'Pass', 1],\n",
       "       ['\\n        player-color$ Gold$\\n        life$ 19$\\n        opponent-life$ 21$\\n        phase$ Phases.MAIN_PHASE_PRE_COMBAT$\\n        hand$ Lava Axe$Stone Rain$Hill Giant$Hill Giant$Lava Axe$Enormous Baloth$\\n        generic-debt$ 0$\\n        manapool$ White$ 0$ Blue$ 0$ Black$ 0$ Red$ 0$ Green$ 0$ Colorless$ 0$\\n        opponent-cards$ 4$\\n        self-lands-untapped$ Mountain$Forest$Mountain$Forest$Mountain$\\n        self-lands-tapped$ $\\n        opponent-lands-untapped$ Island$Plains$Plains$Plains$Island$Island$\\n        opponent-lands-tapped$ $\\n        self-creatures-untapped$ Grizzly Bears$Goblin Raider$\\n        self-creatures-tapped$ $\\n        opponent-creatures-untapped$ Fugitive Wizard$\\n        opponent-creatures-tapped$ $\\n        attackers-blockers$ None$\\n        damage-order$ None$\\n        ',\n",
       "        list(['tapped_ability_0_Mountain', 'tapped_ability_0_Forest', 'tapped_ability_0_Mountain', 'tapped_ability_0_Forest', 'tapped_ability_0_Mountain', 'Pass']),\n",
       "        'tapped_ability_0_Mountain', 1],\n",
       "       ['\\n        player-color$ Gold$\\n        life$ 19$\\n        opponent-life$ 21$\\n        phase$ Phases.MAIN_PHASE_PRE_COMBAT$\\n        hand$ Lava Axe$Stone Rain$Hill Giant$Hill Giant$Lava Axe$Enormous Baloth$\\n        generic-debt$ 0$\\n        manapool$ Black$ 0$ White$ 0$ Red$ 1$ Colorless$ 0$ Green$ 1$ Blue$ 0$\\n        opponent-cards$ 4$\\n        self-lands-untapped$ Mountain$Forest$Mountain$\\n        self-lands-tapped$ Forest$Mountain$\\n        opponent-lands-untapped$ Island$Plains$Plains$Plains$Island$Island$\\n        opponent-lands-tapped$ $\\n        self-creatures-untapped$ Grizzly Bears$Goblin Raider$\\n        self-creatures-tapped$ $\\n        opponent-creatures-untapped$ Fugitive Wizard$\\n        opponent-creatures-tapped$ $\\n        attackers-blockers$ None$\\n        damage-order$ None$\\n        ',\n",
       "        list(['tapped_ability_0_Mountain', 'tapped_ability_0_Forest', 'tapped_ability_0_Mountain', 'Pass']),\n",
       "        'tapped_ability_0_Mountain', 1],\n",
       "       ['\\n        player-color$ Gold$\\n        life$ 19$\\n        opponent-life$ 21$\\n        phase$ Phases.MAIN_PHASE_PRE_COMBAT$\\n        hand$ Lava Axe$Stone Rain$Hill Giant$Hill Giant$Lava Axe$Enormous Baloth$\\n        generic-debt$ 0$\\n        manapool$ Black$ 0$ White$ 0$ Red$ 3$ Colorless$ 0$ Green$ 2$ Blue$ 0$\\n        opponent-cards$ 4$\\n        self-lands-untapped$ $\\n        self-lands-tapped$ Mountain$Forest$Mountain$Forest$Mountain$\\n        opponent-lands-untapped$ Island$Plains$Plains$Plains$Island$Island$\\n        opponent-lands-tapped$ $\\n        self-creatures-untapped$ Grizzly Bears$Goblin Raider$\\n        self-creatures-tapped$ $\\n        opponent-creatures-untapped$ Fugitive Wizard$\\n        opponent-creatures-tapped$ $\\n        attackers-blockers$ None$\\n        damage-order$ None$\\n        ',\n",
       "        list(['Lava Axe', 'Stone Rain', 'Hill Giant', 'Hill Giant', 'Lava Axe', 'Pass']),\n",
       "        'Pass', 1],\n",
       "       ['\\n        player-color$ Gold$\\n        life$ 19$\\n        opponent-life$ 21$\\n        phase$ Phases.DECLARE_ATTACKERS_STEP$\\n        hand$ Lava Axe$Stone Rain$Hill Giant$Hill Giant$Lava Axe$Enormous Baloth$\\n        generic-debt$ 0$\\n        manapool$ Black$ 0$ White$ 0$ Red$ 3$ Colorless$ 0$ Green$ 2$ Blue$ 0$\\n        opponent-cards$ 4$\\n        self-lands-untapped$ $\\n        self-lands-tapped$ Mountain$Forest$Mountain$Forest$Mountain$\\n        opponent-lands-untapped$ Island$Plains$Plains$Plains$Island$Island$\\n        opponent-lands-tapped$ $\\n        self-creatures-untapped$ Grizzly Bears$Goblin Raider$\\n        self-creatures-tapped$ $\\n        opponent-creatures-untapped$ Fugitive Wizard$\\n        opponent-creatures-tapped$ $\\n        attackers-blockers$ None$\\n        damage-order$ None$\\n        ',\n",
       "        list([]), 'Goblin Raider$1', 1],\n",
       "       ['\\n        player-color$ Gold$\\n        life$ 19$\\n        opponent-life$ 21$\\n        phase$ Phases.DECLARE_ATTACKERS_STEP$\\n        hand$ Lava Axe$Stone Rain$Hill Giant$Hill Giant$Lava Axe$Enormous Baloth$\\n        generic-debt$ 0$\\n        manapool$ Black$ 0$ White$ 0$ Red$ 3$ Colorless$ 0$ Green$ 2$ Blue$ 0$\\n        opponent-cards$ 4$\\n        self-lands-untapped$ $\\n        self-lands-tapped$ Mountain$Forest$Mountain$Forest$Mountain$\\n        opponent-lands-untapped$ Island$Plains$Plains$Plains$Island$Island$\\n        opponent-lands-tapped$ $\\n        self-creatures-untapped$ Grizzly Bears$Goblin Raider$\\n        self-creatures-tapped$ $\\n        opponent-creatures-untapped$ Fugitive Wizard$\\n        opponent-creatures-tapped$ $\\n        attackers-blockers$ None$\\n        damage-order$ None$\\n        ',\n",
       "        list([]), 'Grizzly Bears$0', 1],\n",
       "       ['\\n        player-color$ Gold$\\n        life$ 19$\\n        opponent-life$ 19$\\n        phase$ Phases.MAIN_PHASE_PRE_COMBAT$\\n        hand$ Lava Axe$Stone Rain$Hill Giant$Hill Giant$Lava Axe$Enormous Baloth$Mountain$\\n        generic-debt$ 0$\\n        manapool$ White$ 0$ Blue$ 0$ Black$ 0$ Red$ 0$ Green$ 0$ Colorless$ 0$\\n        opponent-cards$ 5$\\n        self-lands-untapped$ Mountain$Forest$Mountain$Forest$Mountain$\\n        self-lands-tapped$ $\\n        opponent-lands-untapped$ Island$Plains$Plains$Plains$Island$Island$\\n        opponent-lands-tapped$ $\\n        self-creatures-untapped$ Grizzly Bears$Goblin Raider$\\n        self-creatures-tapped$ $\\n        opponent-creatures-untapped$ $\\n        opponent-creatures-tapped$ $\\n        attackers-blockers$ None$\\n        damage-order$ None$\\n        ',\n",
       "        list(['Mountain', 'tapped_ability_0_Mountain', 'tapped_ability_0_Forest', 'tapped_ability_0_Mountain', 'tapped_ability_0_Forest', 'tapped_ability_0_Mountain', 'Pass']),\n",
       "        'Mountain', 1],\n",
       "       ['\\n        player-color$ Gold$\\n        life$ 19$\\n        opponent-life$ 19$\\n        phase$ Phases.MAIN_PHASE_PRE_COMBAT$\\n        hand$ Lava Axe$Stone Rain$Hill Giant$Hill Giant$Lava Axe$Enormous Baloth$\\n        generic-debt$ 0$\\n        manapool$ White$ 0$ Blue$ 0$ Black$ 0$ Red$ 0$ Green$ 0$ Colorless$ 0$\\n        opponent-cards$ 5$\\n        self-lands-untapped$ Mountain$Forest$Mountain$Forest$Mountain$Mountain$\\n        self-lands-tapped$ $\\n        opponent-lands-untapped$ Island$Plains$Plains$Plains$Island$Island$\\n        opponent-lands-tapped$ $\\n        self-creatures-untapped$ Grizzly Bears$Goblin Raider$\\n        self-creatures-tapped$ $\\n        opponent-creatures-untapped$ $\\n        opponent-creatures-tapped$ $\\n        attackers-blockers$ None$\\n        damage-order$ None$\\n        ',\n",
       "        list(['tapped_ability_0_Mountain', 'tapped_ability_0_Forest', 'tapped_ability_0_Mountain', 'tapped_ability_0_Forest', 'tapped_ability_0_Mountain', 'tapped_ability_0_Mountain', 'Pass']),\n",
       "        'tapped_ability_0_Mountain', 1],\n",
       "       ['\\n        player-color$ Gold$\\n        life$ 19$\\n        opponent-life$ 19$\\n        phase$ Phases.MAIN_PHASE_PRE_COMBAT$\\n        hand$ Lava Axe$Stone Rain$Hill Giant$Hill Giant$Lava Axe$Enormous Baloth$\\n        generic-debt$ 0$\\n        manapool$ Black$ 0$ White$ 0$ Red$ 4$ Colorless$ 0$ Green$ 2$ Blue$ 0$\\n        opponent-cards$ 5$\\n        self-lands-untapped$ $\\n        self-lands-tapped$ Mountain$Forest$Mountain$Forest$Mountain$Mountain$\\n        opponent-lands-untapped$ Island$Plains$Plains$Plains$Island$Island$\\n        opponent-lands-tapped$ $\\n        self-creatures-untapped$ Grizzly Bears$Goblin Raider$\\n        self-creatures-tapped$ $\\n        opponent-creatures-untapped$ $\\n        opponent-creatures-tapped$ $\\n        attackers-blockers$ None$\\n        damage-order$ None$\\n        ',\n",
       "        list(['Lava Axe', 'Stone Rain', 'Hill Giant', 'Hill Giant', 'Lava Axe', 'Pass']),\n",
       "        'Hill Giant', 1],\n",
       "       ['\\n        player-color$ Gold$\\n        life$ 19$\\n        opponent-life$ 19$\\n        phase$ Phases.MAIN_PHASE_PRE_COMBAT$\\n        hand$ Lava Axe$Stone Rain$Hill Giant$Lava Axe$Enormous Baloth$\\n        generic-debt$ 3$\\n        manapool$ Black$ 0$ White$ 0$ Red$ 3$ Colorless$ 0$ Green$ 2$ Blue$ 0$\\n        opponent-cards$ 5$\\n        self-lands-untapped$ $\\n        self-lands-tapped$ Mountain$Forest$Mountain$Forest$Mountain$Mountain$\\n        opponent-lands-untapped$ Island$Plains$Plains$Plains$Island$Island$\\n        opponent-lands-tapped$ $\\n        self-creatures-untapped$ Grizzly Bears$Goblin Raider$Hill Giant$\\n        self-creatures-tapped$ $\\n        opponent-creatures-untapped$ $\\n        opponent-creatures-tapped$ $\\n        attackers-blockers$ None$\\n        damage-order$ None$\\n        ',\n",
       "        list(['Green', 'Red']), 'Red', 1],\n",
       "       ['\\n        player-color$ Gold$\\n        life$ 19$\\n        opponent-life$ 19$\\n        phase$ Phases.MAIN_PHASE_PRE_COMBAT$\\n        hand$ Lava Axe$Stone Rain$Hill Giant$Lava Axe$Enormous Baloth$\\n        generic-debt$ 2$\\n        manapool$ Black$ 0$ White$ 0$ Red$ 2$ Colorless$ 0$ Green$ 2$ Blue$ 0$\\n        opponent-cards$ 5$\\n        self-lands-untapped$ $\\n        self-lands-tapped$ Mountain$Forest$Mountain$Forest$Mountain$Mountain$\\n        opponent-lands-untapped$ Island$Plains$Plains$Plains$Island$Island$\\n        opponent-lands-tapped$ $\\n        self-creatures-untapped$ Grizzly Bears$Goblin Raider$Hill Giant$\\n        self-creatures-tapped$ $\\n        opponent-creatures-untapped$ $\\n        opponent-creatures-tapped$ $\\n        attackers-blockers$ None$\\n        damage-order$ None$\\n        ',\n",
       "        list(['Green', 'Red']), 'Green', 1],\n",
       "       ['\\n        player-color$ Gold$\\n        life$ 19$\\n        opponent-life$ 19$\\n        phase$ Phases.MAIN_PHASE_PRE_COMBAT$\\n        hand$ Lava Axe$Stone Rain$Hill Giant$Lava Axe$Enormous Baloth$\\n        generic-debt$ 1$\\n        manapool$ Black$ 0$ White$ 0$ Red$ 2$ Colorless$ 0$ Green$ 1$ Blue$ 0$\\n        opponent-cards$ 5$\\n        self-lands-untapped$ $\\n        self-lands-tapped$ Mountain$Forest$Mountain$Forest$Mountain$Mountain$\\n        opponent-lands-untapped$ Island$Plains$Plains$Plains$Island$Island$\\n        opponent-lands-tapped$ $\\n        self-creatures-untapped$ Grizzly Bears$Goblin Raider$Hill Giant$\\n        self-creatures-tapped$ $\\n        opponent-creatures-untapped$ $\\n        opponent-creatures-tapped$ $\\n        attackers-blockers$ None$\\n        damage-order$ None$\\n        ',\n",
       "        list(['Green', 'Red']), 'Red', 1],\n",
       "       ['\\n        player-color$ Gold$\\n        life$ 19$\\n        opponent-life$ 19$\\n        phase$ Phases.DECLARE_ATTACKERS_STEP$\\n        hand$ Lava Axe$Stone Rain$Hill Giant$Lava Axe$Enormous Baloth$\\n        generic-debt$ 0$\\n        manapool$ Black$ 0$ White$ 0$ Red$ 1$ Colorless$ 0$ Green$ 1$ Blue$ 0$\\n        opponent-cards$ 5$\\n        self-lands-untapped$ $\\n        self-lands-tapped$ Mountain$Forest$Mountain$Forest$Mountain$Mountain$\\n        opponent-lands-untapped$ Island$Plains$Plains$Plains$Island$Island$\\n        opponent-lands-tapped$ $\\n        self-creatures-untapped$ Grizzly Bears$Goblin Raider$Hill Giant$\\n        self-creatures-tapped$ $\\n        opponent-creatures-untapped$ $\\n        opponent-creatures-tapped$ $\\n        attackers-blockers$ None$\\n        damage-order$ None$\\n        ',\n",
       "        list(['Grizzly Bears$0', 'Goblin Raider$1']), 'Pass', 1],\n",
       "       ['\\n        player-color$ Gold$\\n        life$ 19$\\n        opponent-life$ 19$\\n        phase$ Phases.MAIN_PHASE_PRE_COMBAT$\\n        hand$ Lava Axe$Stone Rain$Hill Giant$Lava Axe$Enormous Baloth$Ogre Taskmaster$\\n        generic-debt$ 0$\\n        manapool$ White$ 0$ Blue$ 0$ Black$ 0$ Red$ 0$ Green$ 0$ Colorless$ 0$\\n        opponent-cards$ 5$\\n        self-lands-untapped$ Mountain$Forest$Mountain$Forest$Mountain$Mountain$\\n        self-lands-tapped$ $\\n        opponent-lands-untapped$ Island$Plains$Plains$Plains$Island$Island$Plains$\\n        opponent-lands-tapped$ $\\n        self-creatures-untapped$ Grizzly Bears$Goblin Raider$Hill Giant$\\n        self-creatures-tapped$ $\\n        opponent-creatures-untapped$ $\\n        opponent-creatures-tapped$ $\\n        attackers-blockers$ None$\\n        damage-order$ None$\\n        ',\n",
       "        list(['tapped_ability_0_Mountain', 'tapped_ability_0_Forest', 'tapped_ability_0_Mountain', 'tapped_ability_0_Forest', 'tapped_ability_0_Mountain', 'tapped_ability_0_Mountain', 'Pass']),\n",
       "        'tapped_ability_0_Mountain', 1],\n",
       "       ['\\n        player-color$ Gold$\\n        life$ 19$\\n        opponent-life$ 19$\\n        phase$ Phases.MAIN_PHASE_PRE_COMBAT$\\n        hand$ Lava Axe$Stone Rain$Hill Giant$Lava Axe$Enormous Baloth$Ogre Taskmaster$\\n        generic-debt$ 0$\\n        manapool$ Black$ 0$ White$ 0$ Red$ 3$ Colorless$ 0$ Green$ 2$ Blue$ 0$\\n        opponent-cards$ 5$\\n        self-lands-untapped$ Mountain$\\n        self-lands-tapped$ Forest$Mountain$Forest$Mountain$Mountain$\\n        opponent-lands-untapped$ Island$Plains$Plains$Plains$Island$Island$Plains$\\n        opponent-lands-tapped$ $\\n        self-creatures-untapped$ Grizzly Bears$Goblin Raider$Hill Giant$\\n        self-creatures-tapped$ $\\n        opponent-creatures-untapped$ $\\n        opponent-creatures-tapped$ $\\n        attackers-blockers$ None$\\n        damage-order$ None$\\n        ',\n",
       "        list(['Lava Axe', 'Stone Rain', 'Hill Giant', 'Lava Axe', 'Ogre Taskmaster', 'tapped_ability_0_Mountain', 'Pass']),\n",
       "        'Lava Axe', 1],\n",
       "       ['\\n        player-color$ Gold$\\n        life$ 19$\\n        opponent-life$ 19$\\n        phase$ Phases.MAIN_PHASE_PRE_COMBAT$\\n        hand$ Stone Rain$Hill Giant$Lava Axe$Enormous Baloth$Ogre Taskmaster$\\n        generic-debt$ 4$\\n        manapool$ Black$ 0$ White$ 0$ Red$ 2$ Colorless$ 0$ Green$ 2$ Blue$ 0$\\n        opponent-cards$ 5$\\n        self-lands-untapped$ Mountain$\\n        self-lands-tapped$ Forest$Mountain$Forest$Mountain$Mountain$\\n        opponent-lands-untapped$ Island$Plains$Plains$Plains$Island$Island$Plains$\\n        opponent-lands-tapped$ $\\n        self-creatures-untapped$ Grizzly Bears$Goblin Raider$Hill Giant$\\n        self-creatures-tapped$ $\\n        opponent-creatures-untapped$ $\\n        opponent-creatures-tapped$ $\\n        attackers-blockers$ None$\\n        damage-order$ None$\\n        ',\n",
       "        list(['Green', 'Red']), 'Red', 1],\n",
       "       ['\\n        player-color$ Gold$\\n        life$ 19$\\n        opponent-life$ 19$\\n        phase$ Phases.MAIN_PHASE_PRE_COMBAT$\\n        hand$ Stone Rain$Hill Giant$Lava Axe$Enormous Baloth$Ogre Taskmaster$\\n        generic-debt$ 3$\\n        manapool$ Black$ 0$ White$ 0$ Red$ 1$ Colorless$ 0$ Green$ 2$ Blue$ 0$\\n        opponent-cards$ 5$\\n        self-lands-untapped$ Mountain$\\n        self-lands-tapped$ Forest$Mountain$Forest$Mountain$Mountain$\\n        opponent-lands-untapped$ Island$Plains$Plains$Plains$Island$Island$Plains$\\n        opponent-lands-tapped$ $\\n        self-creatures-untapped$ Grizzly Bears$Goblin Raider$Hill Giant$\\n        self-creatures-tapped$ $\\n        opponent-creatures-untapped$ $\\n        opponent-creatures-tapped$ $\\n        attackers-blockers$ None$\\n        damage-order$ None$\\n        ',\n",
       "        list(['Green', 'Red']), 'Red', 1],\n",
       "       ['\\n        player-color$ Gold$\\n        life$ 19$\\n        opponent-life$ 19$\\n        phase$ Phases.MAIN_PHASE_PRE_COMBAT$\\n        hand$ Stone Rain$Hill Giant$Lava Axe$Enormous Baloth$Ogre Taskmaster$\\n        generic-debt$ 0$\\n        manapool$ Black$ 0$ White$ 0$ Red$ 0$ Colorless$ 0$ Green$ 0$ Blue$ 0$\\n        opponent-cards$ 5$\\n        self-lands-untapped$ Mountain$\\n        self-lands-tapped$ Forest$Mountain$Forest$Mountain$Mountain$\\n        opponent-lands-untapped$ Island$Plains$Plains$Plains$Island$Island$Plains$\\n        opponent-lands-tapped$ $\\n        self-creatures-untapped$ Grizzly Bears$Goblin Raider$Hill Giant$\\n        self-creatures-tapped$ $\\n        opponent-creatures-untapped$ $\\n        opponent-creatures-tapped$ $\\n        attackers-blockers$ None$\\n        damage-order$ None$\\n        ',\n",
       "        list(['self', 'opponent']), 'self', 1],\n",
       "       ['\\n        player-color$ Gold$\\n        life$ 14$\\n        opponent-life$ 19$\\n        phase$ Phases.MAIN_PHASE_PRE_COMBAT$\\n        hand$ Stone Rain$Hill Giant$Lava Axe$Enormous Baloth$Ogre Taskmaster$\\n        generic-debt$ 0$\\n        manapool$ Black$ 0$ White$ 0$ Red$ 0$ Colorless$ 0$ Green$ 0$ Blue$ 0$\\n        opponent-cards$ 5$\\n        self-lands-untapped$ Mountain$\\n        self-lands-tapped$ Forest$Mountain$Forest$Mountain$Mountain$\\n        opponent-lands-untapped$ Island$Plains$Plains$Plains$Island$Island$Plains$\\n        opponent-lands-tapped$ $\\n        self-creatures-untapped$ Grizzly Bears$Goblin Raider$Hill Giant$\\n        self-creatures-tapped$ $\\n        opponent-creatures-untapped$ $\\n        opponent-creatures-tapped$ $\\n        attackers-blockers$ None$\\n        damage-order$ None$\\n        ',\n",
       "        list(['tapped_ability_0_Mountain', 'Pass']), 'Pass', 1],\n",
       "       ['\\n        player-color$ Gold$\\n        life$ 14$\\n        opponent-life$ 19$\\n        phase$ Phases.DECLARE_ATTACKERS_STEP$\\n        hand$ Stone Rain$Hill Giant$Lava Axe$Enormous Baloth$Ogre Taskmaster$\\n        generic-debt$ 0$\\n        manapool$ Black$ 0$ White$ 0$ Red$ 0$ Colorless$ 0$ Green$ 0$ Blue$ 0$\\n        opponent-cards$ 5$\\n        self-lands-untapped$ Mountain$\\n        self-lands-tapped$ Forest$Mountain$Forest$Mountain$Mountain$\\n        opponent-lands-untapped$ Island$Plains$Plains$Plains$Island$Island$Plains$\\n        opponent-lands-tapped$ $\\n        self-creatures-untapped$ Grizzly Bears$Goblin Raider$Hill Giant$\\n        self-creatures-tapped$ $\\n        opponent-creatures-untapped$ $\\n        opponent-creatures-tapped$ $\\n        attackers-blockers$ None$\\n        damage-order$ None$\\n        ',\n",
       "        list(['Grizzly Bears$0', 'Goblin Raider$1', 'Hill Giant$0']),\n",
       "        'Pass', 1],\n",
       "       ['\\n        player-color$ Gold$\\n        life$ 14$\\n        opponent-life$ 19$\\n        phase$ Phases.MAIN_PHASE_PRE_COMBAT$\\n        hand$ Stone Rain$Hill Giant$Lava Axe$Enormous Baloth$Ogre Taskmaster$Norwood Ranger$\\n        generic-debt$ 0$\\n        manapool$ White$ 0$ Blue$ 0$ Black$ 0$ Red$ 0$ Green$ 0$ Colorless$ 0$\\n        opponent-cards$ 6$\\n        self-lands-untapped$ Mountain$Forest$Mountain$Forest$Mountain$Mountain$\\n        self-lands-tapped$ $\\n        opponent-lands-untapped$ Island$Plains$Plains$Plains$Island$Island$Plains$\\n        opponent-lands-tapped$ $\\n        self-creatures-untapped$ Grizzly Bears$Goblin Raider$Hill Giant$\\n        self-creatures-tapped$ $\\n        opponent-creatures-untapped$ $\\n        opponent-creatures-tapped$ $\\n        attackers-blockers$ None$\\n        damage-order$ None$\\n        ',\n",
       "        list(['tapped_ability_0_Mountain', 'tapped_ability_0_Forest', 'tapped_ability_0_Mountain', 'tapped_ability_0_Forest', 'tapped_ability_0_Mountain', 'tapped_ability_0_Mountain', 'Pass']),\n",
       "        'tapped_ability_0_Mountain', 1],\n",
       "       ['\\n        player-color$ Gold$\\n        life$ 14$\\n        opponent-life$ 19$\\n        phase$ Phases.MAIN_PHASE_PRE_COMBAT$\\n        hand$ Stone Rain$Hill Giant$Lava Axe$Enormous Baloth$Ogre Taskmaster$Norwood Ranger$\\n        generic-debt$ 0$\\n        manapool$ Black$ 0$ White$ 0$ Red$ 4$ Colorless$ 0$ Green$ 2$ Blue$ 0$\\n        opponent-cards$ 6$\\n        self-lands-untapped$ $\\n        self-lands-tapped$ Mountain$Forest$Mountain$Forest$Mountain$Mountain$\\n        opponent-lands-untapped$ Island$Plains$Plains$Plains$Island$Island$Plains$\\n        opponent-lands-tapped$ $\\n        self-creatures-untapped$ Grizzly Bears$Goblin Raider$Hill Giant$\\n        self-creatures-tapped$ $\\n        opponent-creatures-untapped$ $\\n        opponent-creatures-tapped$ $\\n        attackers-blockers$ None$\\n        damage-order$ None$\\n        ',\n",
       "        list(['Stone Rain', 'Hill Giant', 'Lava Axe', 'Ogre Taskmaster', 'Norwood Ranger', 'Pass']),\n",
       "        'Stone Rain', 1],\n",
       "       ['\\n        player-color$ Gold$\\n        life$ 14$\\n        opponent-life$ 19$\\n        phase$ Phases.MAIN_PHASE_PRE_COMBAT$\\n        hand$ Hill Giant$Lava Axe$Enormous Baloth$Ogre Taskmaster$Norwood Ranger$\\n        generic-debt$ 2$\\n        manapool$ Black$ 0$ White$ 0$ Red$ 3$ Colorless$ 0$ Green$ 2$ Blue$ 0$\\n        opponent-cards$ 6$\\n        self-lands-untapped$ $\\n        self-lands-tapped$ Mountain$Forest$Mountain$Forest$Mountain$Mountain$\\n        opponent-lands-untapped$ Island$Plains$Plains$Plains$Island$Island$Plains$\\n        opponent-lands-tapped$ $\\n        self-creatures-untapped$ Grizzly Bears$Goblin Raider$Hill Giant$\\n        self-creatures-tapped$ $\\n        opponent-creatures-untapped$ $\\n        opponent-creatures-tapped$ $\\n        attackers-blockers$ None$\\n        damage-order$ None$\\n        ',\n",
       "        list(['Green', 'Red']), 'Red', 1],\n",
       "       ['\\n        player-color$ Gold$\\n        life$ 14$\\n        opponent-life$ 19$\\n        phase$ Phases.MAIN_PHASE_PRE_COMBAT$\\n        hand$ Hill Giant$Lava Axe$Enormous Baloth$Ogre Taskmaster$Norwood Ranger$\\n        generic-debt$ 1$\\n        manapool$ Black$ 0$ White$ 0$ Red$ 2$ Colorless$ 0$ Green$ 2$ Blue$ 0$\\n        opponent-cards$ 6$\\n        self-lands-untapped$ $\\n        self-lands-tapped$ Mountain$Forest$Mountain$Forest$Mountain$Mountain$\\n        opponent-lands-untapped$ Island$Plains$Plains$Plains$Island$Island$Plains$\\n        opponent-lands-tapped$ $\\n        self-creatures-untapped$ Grizzly Bears$Goblin Raider$Hill Giant$\\n        self-creatures-tapped$ $\\n        opponent-creatures-untapped$ $\\n        opponent-creatures-tapped$ $\\n        attackers-blockers$ None$\\n        damage-order$ None$\\n        ',\n",
       "        list(['Green', 'Red']), 'Green', 1],\n",
       "       ['\\n        player-color$ Gold$\\n        life$ 14$\\n        opponent-life$ 19$\\n        phase$ Phases.MAIN_PHASE_PRE_COMBAT$\\n        hand$ Hill Giant$Lava Axe$Enormous Baloth$Ogre Taskmaster$Norwood Ranger$\\n        generic-debt$ 0$\\n        manapool$ Black$ 0$ White$ 0$ Red$ 2$ Colorless$ 0$ Green$ 1$ Blue$ 0$\\n        opponent-cards$ 6$\\n        self-lands-untapped$ $\\n        self-lands-tapped$ Mountain$Forest$Mountain$Forest$Mountain$Mountain$\\n        opponent-lands-untapped$ Island$Plains$Plains$Plains$Island$Island$Plains$\\n        opponent-lands-tapped$ $\\n        self-creatures-untapped$ Grizzly Bears$Goblin Raider$Hill Giant$\\n        self-creatures-tapped$ $\\n        opponent-creatures-untapped$ $\\n        opponent-creatures-tapped$ $\\n        attackers-blockers$ None$\\n        damage-order$ None$\\n        ',\n",
       "        list(['Island', 'Mountain', 'Forest', 'Plains', 'Plains', 'Mountain', 'Plains', 'Forest', 'Island', 'Mountain', 'Island', 'Mountain', 'Plains']),\n",
       "        'Mountain', 1],\n",
       "       ['\\n        player-color$ Gold$\\n        life$ 14$\\n        opponent-life$ 19$\\n        phase$ Phases.MAIN_PHASE_PRE_COMBAT$\\n        hand$ Hill Giant$Lava Axe$Enormous Baloth$Ogre Taskmaster$Norwood Ranger$\\n        generic-debt$ 0$\\n        manapool$ Black$ 0$ White$ 0$ Red$ 2$ Colorless$ 0$ Green$ 1$ Blue$ 0$\\n        opponent-cards$ 6$\\n        self-lands-untapped$ $\\n        self-lands-tapped$ Mountain$Forest$Mountain$Forest$Mountain$\\n        opponent-lands-untapped$ Island$Plains$Plains$Plains$Island$Island$Plains$\\n        opponent-lands-tapped$ $\\n        self-creatures-untapped$ Grizzly Bears$Goblin Raider$Hill Giant$\\n        self-creatures-tapped$ $\\n        opponent-creatures-untapped$ $\\n        opponent-creatures-tapped$ $\\n        attackers-blockers$ None$\\n        damage-order$ None$\\n        ',\n",
       "        list(['Norwood Ranger', 'Pass']), 'Pass', 1],\n",
       "       ['\\n        player-color$ Gold$\\n        life$ 14$\\n        opponent-life$ 19$\\n        phase$ Phases.DECLARE_ATTACKERS_STEP$\\n        hand$ Hill Giant$Lava Axe$Enormous Baloth$Ogre Taskmaster$Norwood Ranger$\\n        generic-debt$ 0$\\n        manapool$ Black$ 0$ White$ 0$ Red$ 2$ Colorless$ 0$ Green$ 1$ Blue$ 0$\\n        opponent-cards$ 6$\\n        self-lands-untapped$ $\\n        self-lands-tapped$ Mountain$Forest$Mountain$Forest$Mountain$\\n        opponent-lands-untapped$ Island$Plains$Plains$Plains$Island$Island$Plains$\\n        opponent-lands-tapped$ $\\n        self-creatures-untapped$ Grizzly Bears$Goblin Raider$Hill Giant$\\n        self-creatures-tapped$ $\\n        opponent-creatures-untapped$ $\\n        opponent-creatures-tapped$ $\\n        attackers-blockers$ None$\\n        damage-order$ None$\\n        ',\n",
       "        list(['Grizzly Bears$0', 'Goblin Raider$1', 'Hill Giant$0']),\n",
       "        'Pass', 1],\n",
       "       ['\\n        player-color$ Gold$\\n        life$ 14$\\n        opponent-life$ 19$\\n        phase$ Phases.MAIN_PHASE_PRE_COMBAT$\\n        hand$ Hill Giant$Lava Axe$Enormous Baloth$Ogre Taskmaster$Norwood Ranger$Forest$\\n        generic-debt$ 0$\\n        manapool$ White$ 0$ Blue$ 0$ Black$ 0$ Red$ 0$ Green$ 0$ Colorless$ 0$\\n        opponent-cards$ 4$\\n        self-lands-untapped$ Mountain$Forest$Mountain$Forest$Mountain$\\n        self-lands-tapped$ $\\n        opponent-lands-untapped$ Island$Plains$Plains$Plains$Island$Island$Plains$Plains$\\n        opponent-lands-tapped$ $\\n        self-creatures-untapped$ Grizzly Bears$Goblin Raider$Hill Giant$\\n        self-creatures-tapped$ $\\n        opponent-creatures-untapped$ Giant Octopus$Glory Seeker$\\n        opponent-creatures-tapped$ $\\n        attackers-blockers$ None$\\n        damage-order$ None$\\n        ',\n",
       "        list(['Forest', 'tapped_ability_0_Mountain', 'tapped_ability_0_Forest', 'tapped_ability_0_Mountain', 'tapped_ability_0_Forest', 'tapped_ability_0_Mountain', 'Pass']),\n",
       "        'tapped_ability_0_Forest', 1],\n",
       "       ['\\n        player-color$ Gold$\\n        life$ 14$\\n        opponent-life$ 19$\\n        phase$ Phases.MAIN_PHASE_PRE_COMBAT$\\n        hand$ Hill Giant$Lava Axe$Enormous Baloth$Ogre Taskmaster$Norwood Ranger$Forest$\\n        generic-debt$ 0$\\n        manapool$ Black$ 0$ White$ 0$ Red$ 2$ Colorless$ 0$ Green$ 1$ Blue$ 0$\\n        opponent-cards$ 4$\\n        self-lands-untapped$ Mountain$Forest$\\n        self-lands-tapped$ Mountain$Forest$Mountain$\\n        opponent-lands-untapped$ Island$Plains$Plains$Plains$Island$Island$Plains$Plains$\\n        opponent-lands-tapped$ $\\n        self-creatures-untapped$ Grizzly Bears$Goblin Raider$Hill Giant$\\n        self-creatures-tapped$ $\\n        opponent-creatures-untapped$ Giant Octopus$Glory Seeker$\\n        opponent-creatures-tapped$ $\\n        attackers-blockers$ None$\\n        damage-order$ None$\\n        ',\n",
       "        list(['Norwood Ranger', 'Forest', 'tapped_ability_0_Mountain', 'tapped_ability_0_Forest', 'Pass']),\n",
       "        'Norwood Ranger', 1],\n",
       "       ['\\n        player-color$ Gold$\\n        life$ 14$\\n        opponent-life$ 19$\\n        phase$ Phases.MAIN_PHASE_PRE_COMBAT$\\n        hand$ Hill Giant$Lava Axe$Enormous Baloth$Ogre Taskmaster$Forest$\\n        generic-debt$ 0$\\n        manapool$ Black$ 0$ White$ 0$ Red$ 2$ Colorless$ 0$ Green$ 0$ Blue$ 0$\\n        opponent-cards$ 4$\\n        self-lands-untapped$ Mountain$Forest$\\n        self-lands-tapped$ Mountain$Forest$Mountain$\\n        opponent-lands-untapped$ Island$Plains$Plains$Plains$Island$Island$Plains$Plains$\\n        opponent-lands-tapped$ $\\n        self-creatures-untapped$ Grizzly Bears$Goblin Raider$Hill Giant$Norwood Ranger$\\n        self-creatures-tapped$ $\\n        opponent-creatures-untapped$ Giant Octopus$Glory Seeker$\\n        opponent-creatures-tapped$ $\\n        attackers-blockers$ None$\\n        damage-order$ None$\\n        ',\n",
       "        list(['Forest', 'tapped_ability_0_Mountain', 'tapped_ability_0_Forest', 'Pass']),\n",
       "        'tapped_ability_0_Forest', 1],\n",
       "       ['\\n        player-color$ Gold$\\n        life$ 14$\\n        opponent-life$ 19$\\n        phase$ Phases.MAIN_PHASE_PRE_COMBAT$\\n        hand$ Hill Giant$Lava Axe$Enormous Baloth$Ogre Taskmaster$Forest$\\n        generic-debt$ 0$\\n        manapool$ Black$ 0$ White$ 0$ Red$ 3$ Colorless$ 0$ Green$ 1$ Blue$ 0$\\n        opponent-cards$ 4$\\n        self-lands-untapped$ $\\n        self-lands-tapped$ Mountain$Forest$Mountain$Forest$Mountain$\\n        opponent-lands-untapped$ Island$Plains$Plains$Plains$Island$Island$Plains$Plains$\\n        opponent-lands-tapped$ $\\n        self-creatures-untapped$ Grizzly Bears$Goblin Raider$Hill Giant$Norwood Ranger$\\n        self-creatures-tapped$ $\\n        opponent-creatures-untapped$ Giant Octopus$Glory Seeker$\\n        opponent-creatures-tapped$ $\\n        attackers-blockers$ None$\\n        damage-order$ None$\\n        ',\n",
       "        list(['Hill Giant', 'Ogre Taskmaster', 'Forest', 'Pass']),\n",
       "        'Forest', 1],\n",
       "       ['\\n        player-color$ Gold$\\n        life$ 14$\\n        opponent-life$ 19$\\n        phase$ Phases.MAIN_PHASE_PRE_COMBAT$\\n        hand$ Hill Giant$Lava Axe$Enormous Baloth$Ogre Taskmaster$\\n        generic-debt$ 0$\\n        manapool$ Black$ 0$ White$ 0$ Red$ 3$ Colorless$ 0$ Green$ 1$ Blue$ 0$\\n        opponent-cards$ 4$\\n        self-lands-untapped$ Forest$\\n        self-lands-tapped$ Mountain$Forest$Mountain$Forest$Mountain$\\n        opponent-lands-untapped$ Island$Plains$Plains$Plains$Island$Island$Plains$Plains$\\n        opponent-lands-tapped$ $\\n        self-creatures-untapped$ Grizzly Bears$Goblin Raider$Hill Giant$Norwood Ranger$\\n        self-creatures-tapped$ $\\n        opponent-creatures-untapped$ Giant Octopus$Glory Seeker$\\n        opponent-creatures-tapped$ $\\n        attackers-blockers$ None$\\n        damage-order$ None$\\n        ',\n",
       "        list(['Hill Giant', 'Ogre Taskmaster', 'tapped_ability_0_Forest', 'Pass']),\n",
       "        'Pass', 1],\n",
       "       ['\\n        player-color$ Gold$\\n        life$ 14$\\n        opponent-life$ 19$\\n        phase$ Phases.DECLARE_ATTACKERS_STEP$\\n        hand$ Hill Giant$Lava Axe$Enormous Baloth$Ogre Taskmaster$\\n        generic-debt$ 0$\\n        manapool$ Black$ 0$ White$ 0$ Red$ 3$ Colorless$ 0$ Green$ 1$ Blue$ 0$\\n        opponent-cards$ 4$\\n        self-lands-untapped$ Forest$\\n        self-lands-tapped$ Mountain$Forest$Mountain$Forest$Mountain$\\n        opponent-lands-untapped$ Island$Plains$Plains$Plains$Island$Island$Plains$Plains$\\n        opponent-lands-tapped$ $\\n        self-creatures-untapped$ Grizzly Bears$Goblin Raider$Hill Giant$Norwood Ranger$\\n        self-creatures-tapped$ $\\n        opponent-creatures-untapped$ Giant Octopus$Glory Seeker$\\n        opponent-creatures-tapped$ $\\n        attackers-blockers$ None$\\n        damage-order$ None$\\n        ',\n",
       "        list(['Grizzly Bears$0', 'Goblin Raider$1', 'Hill Giant$0']),\n",
       "        'Pass', 1],\n",
       "       ['\\n        player-color$ Gold$\\n        life$ 14$\\n        opponent-life$ 19$\\n        phase$ Phases.MAIN_PHASE_PRE_COMBAT$\\n        hand$ Hill Giant$Lava Axe$Enormous Baloth$Ogre Taskmaster$Forest$\\n        generic-debt$ 0$\\n        manapool$ White$ 0$ Blue$ 0$ Black$ 0$ Red$ 0$ Green$ 0$ Colorless$ 0$\\n        opponent-cards$ 3$\\n        self-lands-untapped$ Mountain$Forest$Mountain$Forest$Mountain$Forest$\\n        self-lands-tapped$ $\\n        opponent-lands-untapped$ Island$Plains$Plains$Plains$Island$Island$Plains$Plains$Plains$\\n        opponent-lands-tapped$ $\\n        self-creatures-untapped$ Grizzly Bears$Goblin Raider$Hill Giant$Norwood Ranger$\\n        self-creatures-tapped$ $\\n        opponent-creatures-untapped$ Giant Octopus$Glory Seeker$Glory Seeker$\\n        opponent-creatures-tapped$ $\\n        attackers-blockers$ None$\\n        damage-order$ None$\\n        ',\n",
       "        list(['Forest', 'tapped_ability_0_Mountain', 'tapped_ability_0_Forest', 'tapped_ability_0_Mountain', 'tapped_ability_0_Forest', 'tapped_ability_0_Mountain', 'tapped_ability_0_Forest', 'Pass']),\n",
       "        'tapped_ability_0_Forest', 1],\n",
       "       ['\\n        player-color$ Gold$\\n        life$ 14$\\n        opponent-life$ 19$\\n        phase$ Phases.MAIN_PHASE_PRE_COMBAT$\\n        hand$ Hill Giant$Lava Axe$Enormous Baloth$Ogre Taskmaster$Forest$\\n        generic-debt$ 0$\\n        manapool$ Black$ 0$ White$ 0$ Red$ 3$ Colorless$ 0$ Green$ 3$ Blue$ 0$\\n        opponent-cards$ 3$\\n        self-lands-untapped$ $\\n        self-lands-tapped$ Mountain$Forest$Mountain$Forest$Mountain$Forest$\\n        opponent-lands-untapped$ Island$Plains$Plains$Plains$Island$Island$Plains$Plains$Plains$\\n        opponent-lands-tapped$ $\\n        self-creatures-untapped$ Grizzly Bears$Goblin Raider$Hill Giant$Norwood Ranger$\\n        self-creatures-tapped$ $\\n        opponent-creatures-untapped$ Giant Octopus$Glory Seeker$Glory Seeker$\\n        opponent-creatures-tapped$ $\\n        attackers-blockers$ None$\\n        damage-order$ None$\\n        ',\n",
       "        list(['Hill Giant', 'Lava Axe', 'Ogre Taskmaster', 'Forest', 'Pass']),\n",
       "        'Pass', 1],\n",
       "       ['\\n        player-color$ Gold$\\n        life$ 14$\\n        opponent-life$ 19$\\n        phase$ Phases.DECLARE_ATTACKERS_STEP$\\n        hand$ Hill Giant$Lava Axe$Enormous Baloth$Ogre Taskmaster$Forest$\\n        generic-debt$ 0$\\n        manapool$ Black$ 0$ White$ 0$ Red$ 3$ Colorless$ 0$ Green$ 3$ Blue$ 0$\\n        opponent-cards$ 3$\\n        self-lands-untapped$ $\\n        self-lands-tapped$ Mountain$Forest$Mountain$Forest$Mountain$Forest$\\n        opponent-lands-untapped$ Island$Plains$Plains$Plains$Island$Island$Plains$Plains$Plains$\\n        opponent-lands-tapped$ $\\n        self-creatures-untapped$ Grizzly Bears$Goblin Raider$Hill Giant$Norwood Ranger$\\n        self-creatures-tapped$ $\\n        opponent-creatures-untapped$ Giant Octopus$Glory Seeker$Glory Seeker$\\n        opponent-creatures-tapped$ $\\n        attackers-blockers$ None$\\n        damage-order$ None$\\n        ',\n",
       "        list(['Hill Giant$0']), 'Grizzly Bears$0', 1],\n",
       "       ['\\n        player-color$ Gold$\\n        life$ 14$\\n        opponent-life$ 19$\\n        phase$ Phases.DECLARE_ATTACKERS_STEP$\\n        hand$ Hill Giant$Lava Axe$Enormous Baloth$Ogre Taskmaster$Forest$\\n        generic-debt$ 0$\\n        manapool$ Black$ 0$ White$ 0$ Red$ 3$ Colorless$ 0$ Green$ 3$ Blue$ 0$\\n        opponent-cards$ 3$\\n        self-lands-untapped$ $\\n        self-lands-tapped$ Mountain$Forest$Mountain$Forest$Mountain$Forest$\\n        opponent-lands-untapped$ Island$Plains$Plains$Plains$Island$Island$Plains$Plains$Plains$\\n        opponent-lands-tapped$ $\\n        self-creatures-untapped$ Grizzly Bears$Goblin Raider$Hill Giant$Norwood Ranger$\\n        self-creatures-tapped$ $\\n        opponent-creatures-untapped$ Giant Octopus$Glory Seeker$Glory Seeker$\\n        opponent-creatures-tapped$ $\\n        attackers-blockers$ None$\\n        damage-order$ None$\\n        ',\n",
       "        list(['Hill Giant$0']), 'Norwood Ranger$1', 1],\n",
       "       ['\\n        player-color$ Gold$\\n        life$ 14$\\n        opponent-life$ 19$\\n        phase$ Phases.DECLARE_ATTACKERS_STEP$\\n        hand$ Hill Giant$Lava Axe$Enormous Baloth$Ogre Taskmaster$Forest$\\n        generic-debt$ 0$\\n        manapool$ Black$ 0$ White$ 0$ Red$ 3$ Colorless$ 0$ Green$ 3$ Blue$ 0$\\n        opponent-cards$ 3$\\n        self-lands-untapped$ $\\n        self-lands-tapped$ Mountain$Forest$Mountain$Forest$Mountain$Forest$\\n        opponent-lands-untapped$ Island$Plains$Plains$Plains$Island$Island$Plains$Plains$Plains$\\n        opponent-lands-tapped$ $\\n        self-creatures-untapped$ Grizzly Bears$Goblin Raider$Hill Giant$Norwood Ranger$\\n        self-creatures-tapped$ $\\n        opponent-creatures-untapped$ Giant Octopus$Glory Seeker$Glory Seeker$\\n        opponent-creatures-tapped$ $\\n        attackers-blockers$ None$\\n        damage-order$ None$\\n        ',\n",
       "        list(['Hill Giant$0']), 'Goblin Raider$1', 1],\n",
       "       ['\\n        player-color$ Gold$\\n        life$ 14$\\n        opponent-life$ 19$\\n        phase$ Phases.DECLARE_ATTACKERS_STEP$\\n        hand$ Hill Giant$Lava Axe$Enormous Baloth$Ogre Taskmaster$Forest$\\n        generic-debt$ 0$\\n        manapool$ Black$ 0$ White$ 0$ Red$ 3$ Colorless$ 0$ Green$ 3$ Blue$ 0$\\n        opponent-cards$ 3$\\n        self-lands-untapped$ $\\n        self-lands-tapped$ Mountain$Forest$Mountain$Forest$Mountain$Forest$\\n        opponent-lands-untapped$ Island$Plains$Plains$Plains$Island$Island$Plains$Plains$Plains$\\n        opponent-lands-tapped$ $\\n        self-creatures-untapped$ Grizzly Bears$Goblin Raider$Hill Giant$Norwood Ranger$\\n        self-creatures-tapped$ $\\n        opponent-creatures-untapped$ Giant Octopus$Glory Seeker$Glory Seeker$\\n        opponent-creatures-tapped$ $\\n        attackers-blockers$ None$\\n        damage-order$ None$\\n        ',\n",
       "        list(['Hill Giant$0']), 'Pass', 1],\n",
       "       ['\\n        player-color$ Gold$\\n        life$ 14$\\n        opponent-life$ 19$\\n        phase$ Phases.DECLARE_BLOCKERS_STEP_509_2$\\n        hand$ Hill Giant$Lava Axe$Enormous Baloth$Ogre Taskmaster$Forest$\\n        generic-debt$ 0$\\n        manapool$ Black$ 0$ White$ 0$ Red$ 3$ Colorless$ 0$ Green$ 3$ Blue$ 0$\\n        opponent-cards$ 3$\\n        self-lands-untapped$ $\\n        self-lands-tapped$ Mountain$Forest$Mountain$Forest$Mountain$Forest$\\n        opponent-lands-untapped$ Island$Plains$Plains$Plains$Island$Island$Plains$Plains$Plains$\\n        opponent-lands-tapped$ $\\n        self-creatures-untapped$ Hill Giant$\\n        self-creatures-tapped$ Grizzly Bears$Goblin Raider$Norwood Ranger$\\n        opponent-creatures-untapped$ Giant Octopus$Glory Seeker$Glory Seeker$\\n        opponent-creatures-tapped$ $\\n        attackers-blockers$ attacker: $Grizzly Bears$0$ blocked by: $Giant Octopus$2$Glory Seeker$0$\\nattacker: $Goblin Raider$1$ blocked by: $None$\\nattacker: $Norwood Ranger$1$ blocked by: $None$$\\n        damage-order$ None$\\n        ',\n",
       "        list([]), 'Giant Octopus$2', 1],\n",
       "       ['\\n        player-color$ Gold$\\n        life$ 14$\\n        opponent-life$ 16$\\n        phase$ Phases.MAIN_PHASE_PRE_COMBAT$\\n        hand$ Hill Giant$Lava Axe$Enormous Baloth$Ogre Taskmaster$Forest$Goblin Raider$\\n        generic-debt$ 0$\\n        manapool$ White$ 0$ Blue$ 0$ Black$ 0$ Red$ 0$ Green$ 0$ Colorless$ 0$\\n        opponent-cards$ 3$\\n        self-lands-untapped$ Mountain$Forest$Mountain$Forest$Mountain$Forest$\\n        self-lands-tapped$ $\\n        opponent-lands-untapped$ Island$Plains$Plains$Plains$Island$Island$Plains$Plains$Plains$Island$\\n        opponent-lands-tapped$ $\\n        self-creatures-untapped$ Goblin Raider$Hill Giant$Norwood Ranger$\\n        self-creatures-tapped$ $\\n        opponent-creatures-untapped$ Glory Seeker$\\n        opponent-creatures-tapped$ $\\n        attackers-blockers$ None$\\n        damage-order$ None$\\n        ',\n",
       "        list(['Forest', 'tapped_ability_0_Mountain', 'tapped_ability_0_Forest', 'tapped_ability_0_Mountain', 'tapped_ability_0_Forest', 'tapped_ability_0_Mountain', 'tapped_ability_0_Forest', 'Pass']),\n",
       "        'Forest', 1],\n",
       "       ['\\n        player-color$ Gold$\\n        life$ 14$\\n        opponent-life$ 16$\\n        phase$ Phases.MAIN_PHASE_PRE_COMBAT$\\n        hand$ Hill Giant$Lava Axe$Enormous Baloth$Ogre Taskmaster$Goblin Raider$\\n        generic-debt$ 0$\\n        manapool$ White$ 0$ Blue$ 0$ Black$ 0$ Red$ 0$ Green$ 0$ Colorless$ 0$\\n        opponent-cards$ 3$\\n        self-lands-untapped$ Mountain$Forest$Mountain$Forest$Mountain$Forest$Forest$\\n        self-lands-tapped$ $\\n        opponent-lands-untapped$ Island$Plains$Plains$Plains$Island$Island$Plains$Plains$Plains$Island$\\n        opponent-lands-tapped$ $\\n        self-creatures-untapped$ Goblin Raider$Hill Giant$Norwood Ranger$\\n        self-creatures-tapped$ $\\n        opponent-creatures-untapped$ Glory Seeker$\\n        opponent-creatures-tapped$ $\\n        attackers-blockers$ None$\\n        damage-order$ None$\\n        ',\n",
       "        list(['tapped_ability_0_Mountain', 'tapped_ability_0_Forest', 'tapped_ability_0_Mountain', 'tapped_ability_0_Forest', 'tapped_ability_0_Mountain', 'tapped_ability_0_Forest', 'tapped_ability_0_Forest', 'Pass']),\n",
       "        'tapped_ability_0_Forest', 1],\n",
       "       ['\\n        player-color$ Gold$\\n        life$ 14$\\n        opponent-life$ 16$\\n        phase$ Phases.MAIN_PHASE_PRE_COMBAT$\\n        hand$ Hill Giant$Lava Axe$Enormous Baloth$Ogre Taskmaster$Goblin Raider$\\n        generic-debt$ 0$\\n        manapool$ Black$ 0$ White$ 0$ Red$ 1$ Colorless$ 0$ Green$ 2$ Blue$ 0$\\n        opponent-cards$ 3$\\n        self-lands-untapped$ Mountain$Forest$Mountain$Forest$\\n        self-lands-tapped$ Mountain$Forest$Forest$\\n        opponent-lands-untapped$ Island$Plains$Plains$Plains$Island$Island$Plains$Plains$Plains$Island$\\n        opponent-lands-tapped$ $\\n        self-creatures-untapped$ Goblin Raider$Hill Giant$Norwood Ranger$\\n        self-creatures-tapped$ $\\n        opponent-creatures-untapped$ Glory Seeker$\\n        opponent-creatures-tapped$ $\\n        attackers-blockers$ None$\\n        damage-order$ None$\\n        ',\n",
       "        list(['Goblin Raider', 'tapped_ability_0_Mountain', 'tapped_ability_0_Forest', 'tapped_ability_0_Mountain', 'tapped_ability_0_Forest', 'Pass']),\n",
       "        'tapped_ability_0_Forest', 1],\n",
       "       ['\\n        player-color$ Gold$\\n        life$ 14$\\n        opponent-life$ 16$\\n        phase$ Phases.MAIN_PHASE_PRE_COMBAT$\\n        hand$ Hill Giant$Lava Axe$Enormous Baloth$Ogre Taskmaster$Goblin Raider$\\n        generic-debt$ 0$\\n        manapool$ Black$ 0$ White$ 0$ Red$ 3$ Colorless$ 0$ Green$ 4$ Blue$ 0$\\n        opponent-cards$ 3$\\n        self-lands-untapped$ $\\n        self-lands-tapped$ Mountain$Forest$Mountain$Forest$Mountain$Forest$Forest$\\n        opponent-lands-untapped$ Island$Plains$Plains$Plains$Island$Island$Plains$Plains$Plains$Island$\\n        opponent-lands-tapped$ $\\n        self-creatures-untapped$ Goblin Raider$Hill Giant$Norwood Ranger$\\n        self-creatures-tapped$ $\\n        opponent-creatures-untapped$ Glory Seeker$\\n        opponent-creatures-tapped$ $\\n        attackers-blockers$ None$\\n        damage-order$ None$\\n        ',\n",
       "        list(['Hill Giant', 'Lava Axe', 'Enormous Baloth', 'Ogre Taskmaster', 'Goblin Raider', 'Pass']),\n",
       "        'Lava Axe', 1],\n",
       "       ['\\n        player-color$ Gold$\\n        life$ 14$\\n        opponent-life$ 16$\\n        phase$ Phases.MAIN_PHASE_PRE_COMBAT$\\n        hand$ Hill Giant$Enormous Baloth$Ogre Taskmaster$Goblin Raider$\\n        generic-debt$ 4$\\n        manapool$ Black$ 0$ White$ 0$ Red$ 2$ Colorless$ 0$ Green$ 4$ Blue$ 0$\\n        opponent-cards$ 3$\\n        self-lands-untapped$ $\\n        self-lands-tapped$ Mountain$Forest$Mountain$Forest$Mountain$Forest$Forest$\\n        opponent-lands-untapped$ Island$Plains$Plains$Plains$Island$Island$Plains$Plains$Plains$Island$\\n        opponent-lands-tapped$ $\\n        self-creatures-untapped$ Goblin Raider$Hill Giant$Norwood Ranger$\\n        self-creatures-tapped$ $\\n        opponent-creatures-untapped$ Glory Seeker$\\n        opponent-creatures-tapped$ $\\n        attackers-blockers$ None$\\n        damage-order$ None$\\n        ',\n",
       "        list(['Green', 'Red']), 'Red', 1],\n",
       "       ['\\n        player-color$ Gold$\\n        life$ 14$\\n        opponent-life$ 16$\\n        phase$ Phases.MAIN_PHASE_PRE_COMBAT$\\n        hand$ Hill Giant$Enormous Baloth$Ogre Taskmaster$Goblin Raider$\\n        generic-debt$ 3$\\n        manapool$ Black$ 0$ White$ 0$ Red$ 1$ Colorless$ 0$ Green$ 4$ Blue$ 0$\\n        opponent-cards$ 3$\\n        self-lands-untapped$ $\\n        self-lands-tapped$ Mountain$Forest$Mountain$Forest$Mountain$Forest$Forest$\\n        opponent-lands-untapped$ Island$Plains$Plains$Plains$Island$Island$Plains$Plains$Plains$Island$\\n        opponent-lands-tapped$ $\\n        self-creatures-untapped$ Goblin Raider$Hill Giant$Norwood Ranger$\\n        self-creatures-tapped$ $\\n        opponent-creatures-untapped$ Glory Seeker$\\n        opponent-creatures-tapped$ $\\n        attackers-blockers$ None$\\n        damage-order$ None$\\n        ',\n",
       "        list(['Green', 'Red']), 'Red', 1],\n",
       "       ['\\n        player-color$ Gold$\\n        life$ 14$\\n        opponent-life$ 16$\\n        phase$ Phases.MAIN_PHASE_PRE_COMBAT$\\n        hand$ Hill Giant$Enormous Baloth$Ogre Taskmaster$Goblin Raider$\\n        generic-debt$ 0$\\n        manapool$ Black$ 0$ White$ 0$ Red$ 0$ Colorless$ 0$ Green$ 2$ Blue$ 0$\\n        opponent-cards$ 3$\\n        self-lands-untapped$ $\\n        self-lands-tapped$ Mountain$Forest$Mountain$Forest$Mountain$Forest$Forest$\\n        opponent-lands-untapped$ Island$Plains$Plains$Plains$Island$Island$Plains$Plains$Plains$Island$\\n        opponent-lands-tapped$ $\\n        self-creatures-untapped$ Goblin Raider$Hill Giant$Norwood Ranger$\\n        self-creatures-tapped$ $\\n        opponent-creatures-untapped$ Glory Seeker$\\n        opponent-creatures-tapped$ $\\n        attackers-blockers$ None$\\n        damage-order$ None$\\n        ',\n",
       "        list(['self', 'opponent']), 'opponent', 1],\n",
       "       ['\\n        player-color$ Gold$\\n        life$ 14$\\n        opponent-life$ 11$\\n        phase$ Phases.DECLARE_ATTACKERS_STEP$\\n        hand$ Hill Giant$Enormous Baloth$Ogre Taskmaster$Goblin Raider$\\n        generic-debt$ 0$\\n        manapool$ Black$ 0$ White$ 0$ Red$ 0$ Colorless$ 0$ Green$ 2$ Blue$ 0$\\n        opponent-cards$ 3$\\n        self-lands-untapped$ $\\n        self-lands-tapped$ Mountain$Forest$Mountain$Forest$Mountain$Forest$Forest$\\n        opponent-lands-untapped$ Island$Plains$Plains$Plains$Island$Island$Plains$Plains$Plains$Island$\\n        opponent-lands-tapped$ $\\n        self-creatures-untapped$ Goblin Raider$Hill Giant$Norwood Ranger$\\n        self-creatures-tapped$ $\\n        opponent-creatures-untapped$ Glory Seeker$\\n        opponent-creatures-tapped$ $\\n        attackers-blockers$ None$\\n        damage-order$ None$\\n        ',\n",
       "        list(['Goblin Raider$1', 'Hill Giant$0']), 'Norwood Ranger$1', 1],\n",
       "       ['\\n        player-color$ Gold$\\n        life$ 14$\\n        opponent-life$ 11$\\n        phase$ Phases.DECLARE_ATTACKERS_STEP$\\n        hand$ Hill Giant$Enormous Baloth$Ogre Taskmaster$Goblin Raider$\\n        generic-debt$ 0$\\n        manapool$ Black$ 0$ White$ 0$ Red$ 0$ Colorless$ 0$ Green$ 2$ Blue$ 0$\\n        opponent-cards$ 3$\\n        self-lands-untapped$ $\\n        self-lands-tapped$ Mountain$Forest$Mountain$Forest$Mountain$Forest$Forest$\\n        opponent-lands-untapped$ Island$Plains$Plains$Plains$Island$Island$Plains$Plains$Plains$Island$\\n        opponent-lands-tapped$ $\\n        self-creatures-untapped$ Goblin Raider$Hill Giant$Norwood Ranger$\\n        self-creatures-tapped$ $\\n        opponent-creatures-untapped$ Glory Seeker$\\n        opponent-creatures-tapped$ $\\n        attackers-blockers$ None$\\n        damage-order$ None$\\n        ',\n",
       "        list(['Goblin Raider$1', 'Hill Giant$0']), 'Pass', 1],\n",
       "       ['\\n        player-color$ Gold$\\n        life$ 14$\\n        opponent-life$ 10$\\n        phase$ Phases.DECLARE_BLOCKERS_STEP$\\n        hand$ Hill Giant$Enormous Baloth$Ogre Taskmaster$Goblin Raider$\\n        generic-debt$ 0$\\n        manapool$ White$ 0$ Blue$ 0$ Black$ 0$ Red$ 0$ Green$ 0$ Colorless$ 0$\\n        opponent-cards$ 4$\\n        self-lands-untapped$ Mountain$Forest$Mountain$Forest$Mountain$Forest$Forest$\\n        self-lands-tapped$ $\\n        opponent-lands-untapped$ Island$Plains$Plains$Plains$Island$Island$Plains$Plains$Plains$Island$\\n        opponent-lands-tapped$ $\\n        self-creatures-untapped$ Goblin Raider$Hill Giant$Norwood Ranger$\\n        self-creatures-tapped$ $\\n        opponent-creatures-untapped$ $\\n        opponent-creatures-tapped$ Glory Seeker$\\n        attackers-blockers$ attacker: $Glory Seeker$2$ blocked by: $None$$\\n        damage-order$ None$\\n        ',\n",
       "        list(['Pass', 'Hill Giant$0$block$Glory Seeker$2']), 'Pass', 1],\n",
       "       ['\\n        player-color$ Gold$\\n        life$ 12$\\n        opponent-life$ 10$\\n        phase$ Phases.MAIN_PHASE_PRE_COMBAT$\\n        hand$ Hill Giant$Enormous Baloth$Ogre Taskmaster$Goblin Raider$Mountain$\\n        generic-debt$ 0$\\n        manapool$ White$ 0$ Blue$ 0$ Black$ 0$ Red$ 0$ Green$ 0$ Colorless$ 0$\\n        opponent-cards$ 4$\\n        self-lands-untapped$ Mountain$Forest$Mountain$Forest$Mountain$Forest$Forest$\\n        self-lands-tapped$ $\\n        opponent-lands-untapped$ Island$Plains$Plains$Plains$Island$Island$Plains$Plains$Plains$Island$\\n        opponent-lands-tapped$ $\\n        self-creatures-untapped$ Goblin Raider$Hill Giant$Norwood Ranger$\\n        self-creatures-tapped$ $\\n        opponent-creatures-untapped$ Glory Seeker$\\n        opponent-creatures-tapped$ $\\n        attackers-blockers$ None$\\n        damage-order$ None$\\n        ',\n",
       "        list(['Mountain', 'tapped_ability_0_Mountain', 'tapped_ability_0_Forest', 'tapped_ability_0_Mountain', 'tapped_ability_0_Forest', 'tapped_ability_0_Mountain', 'tapped_ability_0_Forest', 'tapped_ability_0_Forest', 'Pass']),\n",
       "        'tapped_ability_0_Forest', 1],\n",
       "       ['\\n        player-color$ Gold$\\n        life$ 12$\\n        opponent-life$ 10$\\n        phase$ Phases.MAIN_PHASE_PRE_COMBAT$\\n        hand$ Hill Giant$Enormous Baloth$Ogre Taskmaster$Goblin Raider$Mountain$\\n        generic-debt$ 0$\\n        manapool$ Black$ 0$ White$ 0$ Red$ 2$ Colorless$ 0$ Green$ 3$ Blue$ 0$\\n        opponent-cards$ 4$\\n        self-lands-untapped$ Mountain$Forest$\\n        self-lands-tapped$ Mountain$Forest$Mountain$Forest$Forest$\\n        opponent-lands-untapped$ Island$Plains$Plains$Plains$Island$Island$Plains$Plains$Plains$Island$\\n        opponent-lands-tapped$ $\\n        self-creatures-untapped$ Goblin Raider$Hill Giant$Norwood Ranger$\\n        self-creatures-tapped$ $\\n        opponent-creatures-untapped$ Glory Seeker$\\n        opponent-creatures-tapped$ $\\n        attackers-blockers$ None$\\n        damage-order$ None$\\n        ',\n",
       "        list(['Hill Giant', 'Ogre Taskmaster', 'Goblin Raider', 'Mountain', 'tapped_ability_0_Mountain', 'tapped_ability_0_Forest', 'Pass']),\n",
       "        'Pass', 1],\n",
       "       ['\\n        player-color$ Gold$\\n        life$ 12$\\n        opponent-life$ 10$\\n        phase$ Phases.DECLARE_ATTACKERS_STEP$\\n        hand$ Hill Giant$Enormous Baloth$Ogre Taskmaster$Goblin Raider$Mountain$\\n        generic-debt$ 0$\\n        manapool$ Black$ 0$ White$ 0$ Red$ 2$ Colorless$ 0$ Green$ 3$ Blue$ 0$\\n        opponent-cards$ 4$\\n        self-lands-untapped$ Mountain$Forest$\\n        self-lands-tapped$ Mountain$Forest$Mountain$Forest$Forest$\\n        opponent-lands-untapped$ Island$Plains$Plains$Plains$Island$Island$Plains$Plains$Plains$Island$\\n        opponent-lands-tapped$ $\\n        self-creatures-untapped$ Goblin Raider$Hill Giant$Norwood Ranger$\\n        self-creatures-tapped$ $\\n        opponent-creatures-untapped$ Glory Seeker$\\n        opponent-creatures-tapped$ $\\n        attackers-blockers$ None$\\n        damage-order$ None$\\n        ',\n",
       "        list([]), 'Norwood Ranger$1', 1],\n",
       "       ['\\n        player-color$ Gold$\\n        life$ 12$\\n        opponent-life$ 10$\\n        phase$ Phases.DECLARE_ATTACKERS_STEP$\\n        hand$ Hill Giant$Enormous Baloth$Ogre Taskmaster$Goblin Raider$Mountain$\\n        generic-debt$ 0$\\n        manapool$ Black$ 0$ White$ 0$ Red$ 2$ Colorless$ 0$ Green$ 3$ Blue$ 0$\\n        opponent-cards$ 4$\\n        self-lands-untapped$ Mountain$Forest$\\n        self-lands-tapped$ Mountain$Forest$Mountain$Forest$Forest$\\n        opponent-lands-untapped$ Island$Plains$Plains$Plains$Island$Island$Plains$Plains$Plains$Island$\\n        opponent-lands-tapped$ $\\n        self-creatures-untapped$ Goblin Raider$Hill Giant$Norwood Ranger$\\n        self-creatures-tapped$ $\\n        opponent-creatures-untapped$ Glory Seeker$\\n        opponent-creatures-tapped$ $\\n        attackers-blockers$ None$\\n        damage-order$ None$\\n        ',\n",
       "        list([]), 'Goblin Raider$1', 1],\n",
       "       ['\\n        player-color$ Gold$\\n        life$ 12$\\n        opponent-life$ 10$\\n        phase$ Phases.DECLARE_ATTACKERS_STEP$\\n        hand$ Hill Giant$Enormous Baloth$Ogre Taskmaster$Goblin Raider$Mountain$\\n        generic-debt$ 0$\\n        manapool$ Black$ 0$ White$ 0$ Red$ 2$ Colorless$ 0$ Green$ 3$ Blue$ 0$\\n        opponent-cards$ 4$\\n        self-lands-untapped$ Mountain$Forest$\\n        self-lands-tapped$ Mountain$Forest$Mountain$Forest$Forest$\\n        opponent-lands-untapped$ Island$Plains$Plains$Plains$Island$Island$Plains$Plains$Plains$Island$\\n        opponent-lands-tapped$ $\\n        self-creatures-untapped$ Goblin Raider$Hill Giant$Norwood Ranger$\\n        self-creatures-tapped$ $\\n        opponent-creatures-untapped$ Glory Seeker$\\n        opponent-creatures-tapped$ $\\n        attackers-blockers$ None$\\n        damage-order$ None$\\n        ',\n",
       "        list([]), 'Hill Giant$0', 1],\n",
       "       ['\\n        player-color$ Gold$\\n        life$ 12$\\n        opponent-life$ 7$\\n        phase$ Phases.MAIN_PHASE_PRE_COMBAT$\\n        hand$ Hill Giant$Enormous Baloth$Ogre Taskmaster$Goblin Raider$Mountain$Mountain$\\n        generic-debt$ 0$\\n        manapool$ White$ 0$ Blue$ 0$ Black$ 0$ Red$ 0$ Green$ 0$ Colorless$ 0$\\n        opponent-cards$ 4$\\n        self-lands-untapped$ Mountain$Forest$Mountain$Forest$Mountain$Forest$Forest$\\n        self-lands-tapped$ $\\n        opponent-lands-untapped$ Island$Plains$Plains$Plains$Island$Island$Plains$Plains$Plains$Island$Plains$\\n        opponent-lands-tapped$ $\\n        self-creatures-untapped$ Goblin Raider$Hill Giant$Norwood Ranger$\\n        self-creatures-tapped$ $\\n        opponent-creatures-untapped$ Glory Seeker$\\n        opponent-creatures-tapped$ $\\n        attackers-blockers$ None$\\n        damage-order$ None$\\n        ',\n",
       "        list(['Mountain', 'Mountain', 'tapped_ability_0_Mountain', 'tapped_ability_0_Forest', 'tapped_ability_0_Mountain', 'tapped_ability_0_Forest', 'tapped_ability_0_Mountain', 'tapped_ability_0_Forest', 'tapped_ability_0_Forest', 'Pass']),\n",
       "        'Mountain', 1],\n",
       "       ['\\n        player-color$ Gold$\\n        life$ 12$\\n        opponent-life$ 7$\\n        phase$ Phases.MAIN_PHASE_PRE_COMBAT$\\n        hand$ Hill Giant$Enormous Baloth$Ogre Taskmaster$Goblin Raider$Mountain$\\n        generic-debt$ 0$\\n        manapool$ White$ 0$ Blue$ 0$ Black$ 0$ Red$ 0$ Green$ 0$ Colorless$ 0$\\n        opponent-cards$ 4$\\n        self-lands-untapped$ Mountain$Forest$Mountain$Forest$Mountain$Forest$Forest$Mountain$\\n        self-lands-tapped$ $\\n        opponent-lands-untapped$ Island$Plains$Plains$Plains$Island$Island$Plains$Plains$Plains$Island$Plains$\\n        opponent-lands-tapped$ $\\n        self-creatures-untapped$ Goblin Raider$Hill Giant$Norwood Ranger$\\n        self-creatures-tapped$ $\\n        opponent-creatures-untapped$ Glory Seeker$\\n        opponent-creatures-tapped$ $\\n        attackers-blockers$ None$\\n        damage-order$ None$\\n        ',\n",
       "        list(['tapped_ability_0_Mountain', 'tapped_ability_0_Forest', 'tapped_ability_0_Mountain', 'tapped_ability_0_Forest', 'tapped_ability_0_Mountain', 'tapped_ability_0_Forest', 'tapped_ability_0_Forest', 'tapped_ability_0_Mountain', 'Pass']),\n",
       "        'Pass', 1],\n",
       "       ['\\n        player-color$ Gold$\\n        life$ 12$\\n        opponent-life$ 7$\\n        phase$ Phases.DECLARE_ATTACKERS_STEP$\\n        hand$ Hill Giant$Enormous Baloth$Ogre Taskmaster$Goblin Raider$Mountain$\\n        generic-debt$ 0$\\n        manapool$ White$ 0$ Blue$ 0$ Black$ 0$ Red$ 0$ Green$ 0$ Colorless$ 0$\\n        opponent-cards$ 4$\\n        self-lands-untapped$ Mountain$Forest$Mountain$Forest$Mountain$Forest$Forest$Mountain$\\n        self-lands-tapped$ $\\n        opponent-lands-untapped$ Island$Plains$Plains$Plains$Island$Island$Plains$Plains$Plains$Island$Plains$\\n        opponent-lands-tapped$ $\\n        self-creatures-untapped$ Goblin Raider$Hill Giant$Norwood Ranger$\\n        self-creatures-tapped$ $\\n        opponent-creatures-untapped$ Glory Seeker$\\n        opponent-creatures-tapped$ $\\n        attackers-blockers$ None$\\n        damage-order$ None$\\n        ',\n",
       "        list(['Goblin Raider$1']), 'Hill Giant$0', 1],\n",
       "       ['\\n        player-color$ Gold$\\n        life$ 12$\\n        opponent-life$ 7$\\n        phase$ Phases.DECLARE_ATTACKERS_STEP$\\n        hand$ Hill Giant$Enormous Baloth$Ogre Taskmaster$Goblin Raider$Mountain$\\n        generic-debt$ 0$\\n        manapool$ White$ 0$ Blue$ 0$ Black$ 0$ Red$ 0$ Green$ 0$ Colorless$ 0$\\n        opponent-cards$ 4$\\n        self-lands-untapped$ Mountain$Forest$Mountain$Forest$Mountain$Forest$Forest$Mountain$\\n        self-lands-tapped$ $\\n        opponent-lands-untapped$ Island$Plains$Plains$Plains$Island$Island$Plains$Plains$Plains$Island$Plains$\\n        opponent-lands-tapped$ $\\n        self-creatures-untapped$ Goblin Raider$Hill Giant$Norwood Ranger$\\n        self-creatures-tapped$ $\\n        opponent-creatures-untapped$ Glory Seeker$\\n        opponent-creatures-tapped$ $\\n        attackers-blockers$ None$\\n        damage-order$ None$\\n        ',\n",
       "        list(['Goblin Raider$1']), 'Norwood Ranger$1', 1],\n",
       "       ['\\n        player-color$ Gold$\\n        life$ 12$\\n        opponent-life$ 7$\\n        phase$ Phases.DECLARE_ATTACKERS_STEP$\\n        hand$ Hill Giant$Enormous Baloth$Ogre Taskmaster$Goblin Raider$Mountain$\\n        generic-debt$ 0$\\n        manapool$ White$ 0$ Blue$ 0$ Black$ 0$ Red$ 0$ Green$ 0$ Colorless$ 0$\\n        opponent-cards$ 4$\\n        self-lands-untapped$ Mountain$Forest$Mountain$Forest$Mountain$Forest$Forest$Mountain$\\n        self-lands-tapped$ $\\n        opponent-lands-untapped$ Island$Plains$Plains$Plains$Island$Island$Plains$Plains$Plains$Island$Plains$\\n        opponent-lands-tapped$ $\\n        self-creatures-untapped$ Goblin Raider$Hill Giant$Norwood Ranger$\\n        self-creatures-tapped$ $\\n        opponent-creatures-untapped$ Glory Seeker$\\n        opponent-creatures-tapped$ $\\n        attackers-blockers$ None$\\n        damage-order$ None$\\n        ',\n",
       "        list(['Goblin Raider$1']), 'Pass', 1],\n",
       "       ['\\n        player-color$ Gold$\\n        life$ 12$\\n        opponent-life$ 3$\\n        phase$ Phases.MAIN_PHASE_PRE_COMBAT$\\n        hand$ Hill Giant$Enormous Baloth$Ogre Taskmaster$Goblin Raider$Mountain$Norwood Ranger$\\n        generic-debt$ 0$\\n        manapool$ White$ 0$ Blue$ 0$ Black$ 0$ Red$ 0$ Green$ 0$ Colorless$ 0$\\n        opponent-cards$ 5$\\n        self-lands-untapped$ Mountain$Forest$Mountain$Forest$Mountain$Forest$Forest$Mountain$\\n        self-lands-tapped$ $\\n        opponent-lands-untapped$ Island$Plains$Plains$Plains$Island$Island$Plains$Plains$Plains$Island$Plains$\\n        opponent-lands-tapped$ $\\n        self-creatures-untapped$ Goblin Raider$Hill Giant$Norwood Ranger$\\n        self-creatures-tapped$ $\\n        opponent-creatures-untapped$ Glory Seeker$\\n        opponent-creatures-tapped$ $\\n        attackers-blockers$ None$\\n        damage-order$ None$\\n        ',\n",
       "        list(['Mountain', 'tapped_ability_0_Mountain', 'tapped_ability_0_Forest', 'tapped_ability_0_Mountain', 'tapped_ability_0_Forest', 'tapped_ability_0_Mountain', 'tapped_ability_0_Forest', 'tapped_ability_0_Forest', 'tapped_ability_0_Mountain', 'Pass']),\n",
       "        'tapped_ability_0_Forest', 1],\n",
       "       ['\\n        player-color$ Gold$\\n        life$ 12$\\n        opponent-life$ 3$\\n        phase$ Phases.MAIN_PHASE_PRE_COMBAT$\\n        hand$ Hill Giant$Enormous Baloth$Ogre Taskmaster$Goblin Raider$Mountain$Norwood Ranger$\\n        generic-debt$ 0$\\n        manapool$ Black$ 0$ White$ 0$ Red$ 1$ Colorless$ 0$ Green$ 2$ Blue$ 0$\\n        opponent-cards$ 5$\\n        self-lands-untapped$ Mountain$Forest$Mountain$Forest$Mountain$\\n        self-lands-tapped$ Forest$Forest$Mountain$\\n        opponent-lands-untapped$ Island$Plains$Plains$Plains$Island$Island$Plains$Plains$Plains$Island$Plains$\\n        opponent-lands-tapped$ $\\n        self-creatures-untapped$ Goblin Raider$Hill Giant$Norwood Ranger$\\n        self-creatures-tapped$ $\\n        opponent-creatures-untapped$ Glory Seeker$\\n        opponent-creatures-tapped$ $\\n        attackers-blockers$ None$\\n        damage-order$ None$\\n        ',\n",
       "        list(['Goblin Raider', 'Mountain', 'Norwood Ranger', 'tapped_ability_0_Mountain', 'tapped_ability_0_Forest', 'tapped_ability_0_Mountain', 'tapped_ability_0_Forest', 'tapped_ability_0_Mountain', 'Pass']),\n",
       "        'tapped_ability_0_Mountain', 1],\n",
       "       ['\\n        player-color$ Gold$\\n        life$ 12$\\n        opponent-life$ 3$\\n        phase$ Phases.MAIN_PHASE_PRE_COMBAT$\\n        hand$ Hill Giant$Enormous Baloth$Ogre Taskmaster$Goblin Raider$Mountain$Norwood Ranger$\\n        generic-debt$ 0$\\n        manapool$ Black$ 0$ White$ 0$ Red$ 3$ Colorless$ 0$ Green$ 4$ Blue$ 0$\\n        opponent-cards$ 5$\\n        self-lands-untapped$ Mountain$\\n        self-lands-tapped$ Forest$Mountain$Forest$Mountain$Forest$Forest$Mountain$\\n        opponent-lands-untapped$ Island$Plains$Plains$Plains$Island$Island$Plains$Plains$Plains$Island$Plains$\\n        opponent-lands-tapped$ $\\n        self-creatures-untapped$ Goblin Raider$Hill Giant$Norwood Ranger$\\n        self-creatures-tapped$ $\\n        opponent-creatures-untapped$ Glory Seeker$\\n        opponent-creatures-tapped$ $\\n        attackers-blockers$ None$\\n        damage-order$ None$\\n        ',\n",
       "        list(['Hill Giant', 'Enormous Baloth', 'Ogre Taskmaster', 'Goblin Raider', 'Mountain', 'Norwood Ranger', 'tapped_ability_0_Mountain', 'Pass']),\n",
       "        'Hill Giant', 1],\n",
       "       ['\\n        player-color$ Gold$\\n        life$ 12$\\n        opponent-life$ 3$\\n        phase$ Phases.MAIN_PHASE_PRE_COMBAT$\\n        hand$ Enormous Baloth$Ogre Taskmaster$Goblin Raider$Mountain$Norwood Ranger$\\n        generic-debt$ 3$\\n        manapool$ Black$ 0$ White$ 0$ Red$ 2$ Colorless$ 0$ Green$ 4$ Blue$ 0$\\n        opponent-cards$ 5$\\n        self-lands-untapped$ Mountain$\\n        self-lands-tapped$ Forest$Mountain$Forest$Mountain$Forest$Forest$Mountain$\\n        opponent-lands-untapped$ Island$Plains$Plains$Plains$Island$Island$Plains$Plains$Plains$Island$Plains$\\n        opponent-lands-tapped$ $\\n        self-creatures-untapped$ Goblin Raider$Hill Giant$Norwood Ranger$Hill Giant$\\n        self-creatures-tapped$ $\\n        opponent-creatures-untapped$ Glory Seeker$\\n        opponent-creatures-tapped$ $\\n        attackers-blockers$ None$\\n        damage-order$ None$\\n        ',\n",
       "        list(['Green', 'Red']), 'Red', 1],\n",
       "       ['\\n        player-color$ Gold$\\n        life$ 12$\\n        opponent-life$ 3$\\n        phase$ Phases.MAIN_PHASE_PRE_COMBAT$\\n        hand$ Enormous Baloth$Ogre Taskmaster$Goblin Raider$Mountain$Norwood Ranger$\\n        generic-debt$ 2$\\n        manapool$ Black$ 0$ White$ 0$ Red$ 1$ Colorless$ 0$ Green$ 4$ Blue$ 0$\\n        opponent-cards$ 5$\\n        self-lands-untapped$ Mountain$\\n        self-lands-tapped$ Forest$Mountain$Forest$Mountain$Forest$Forest$Mountain$\\n        opponent-lands-untapped$ Island$Plains$Plains$Plains$Island$Island$Plains$Plains$Plains$Island$Plains$\\n        opponent-lands-tapped$ $\\n        self-creatures-untapped$ Goblin Raider$Hill Giant$Norwood Ranger$Hill Giant$\\n        self-creatures-tapped$ $\\n        opponent-creatures-untapped$ Glory Seeker$\\n        opponent-creatures-tapped$ $\\n        attackers-blockers$ None$\\n        damage-order$ None$\\n        ',\n",
       "        list(['Green', 'Red']), 'Red', 1],\n",
       "       ['\\n        player-color$ Gold$\\n        life$ 12$\\n        opponent-life$ 3$\\n        phase$ Phases.MAIN_PHASE_PRE_COMBAT$\\n        hand$ Enormous Baloth$Ogre Taskmaster$Goblin Raider$Mountain$Norwood Ranger$\\n        generic-debt$ 0$\\n        manapool$ Black$ 0$ White$ 0$ Red$ 0$ Colorless$ 0$ Green$ 3$ Blue$ 0$\\n        opponent-cards$ 5$\\n        self-lands-untapped$ Mountain$\\n        self-lands-tapped$ Forest$Mountain$Forest$Mountain$Forest$Forest$Mountain$\\n        opponent-lands-untapped$ Island$Plains$Plains$Plains$Island$Island$Plains$Plains$Plains$Island$Plains$\\n        opponent-lands-tapped$ $\\n        self-creatures-untapped$ Goblin Raider$Hill Giant$Norwood Ranger$Hill Giant$\\n        self-creatures-tapped$ $\\n        opponent-creatures-untapped$ Glory Seeker$\\n        opponent-creatures-tapped$ $\\n        attackers-blockers$ None$\\n        damage-order$ None$\\n        ',\n",
       "        list(['Mountain', 'Norwood Ranger', 'tapped_ability_0_Mountain', 'Pass']),\n",
       "        'tapped_ability_0_Mountain', 1],\n",
       "       ['\\n        player-color$ Gold$\\n        life$ 12$\\n        opponent-life$ 3$\\n        phase$ Phases.MAIN_PHASE_PRE_COMBAT$\\n        hand$ Enormous Baloth$Ogre Taskmaster$Goblin Raider$Mountain$Norwood Ranger$\\n        generic-debt$ 0$\\n        manapool$ Black$ 0$ White$ 0$ Red$ 1$ Colorless$ 0$ Green$ 3$ Blue$ 0$\\n        opponent-cards$ 5$\\n        self-lands-untapped$ $\\n        self-lands-tapped$ Mountain$Forest$Mountain$Forest$Mountain$Forest$Forest$Mountain$\\n        opponent-lands-untapped$ Island$Plains$Plains$Plains$Island$Island$Plains$Plains$Plains$Island$Plains$\\n        opponent-lands-tapped$ $\\n        self-creatures-untapped$ Goblin Raider$Hill Giant$Norwood Ranger$Hill Giant$\\n        self-creatures-tapped$ $\\n        opponent-creatures-untapped$ Glory Seeker$\\n        opponent-creatures-tapped$ $\\n        attackers-blockers$ None$\\n        damage-order$ None$\\n        ',\n",
       "        list(['Ogre Taskmaster', 'Goblin Raider', 'Mountain', 'Norwood Ranger', 'Pass']),\n",
       "        'Ogre Taskmaster', 1],\n",
       "       ['\\n        player-color$ Gold$\\n        life$ 12$\\n        opponent-life$ 3$\\n        phase$ Phases.MAIN_PHASE_PRE_COMBAT$\\n        hand$ Enormous Baloth$Goblin Raider$Mountain$Norwood Ranger$\\n        generic-debt$ 0$\\n        manapool$ Black$ 0$ White$ 0$ Red$ 0$ Colorless$ 0$ Green$ 0$ Blue$ 0$\\n        opponent-cards$ 5$\\n        self-lands-untapped$ $\\n        self-lands-tapped$ Mountain$Forest$Mountain$Forest$Mountain$Forest$Forest$Mountain$\\n        opponent-lands-untapped$ Island$Plains$Plains$Plains$Island$Island$Plains$Plains$Plains$Island$Plains$\\n        opponent-lands-tapped$ $\\n        self-creatures-untapped$ Goblin Raider$Hill Giant$Norwood Ranger$Hill Giant$Ogre Taskmaster$\\n        self-creatures-tapped$ $\\n        opponent-creatures-untapped$ Glory Seeker$\\n        opponent-creatures-tapped$ $\\n        attackers-blockers$ None$\\n        damage-order$ None$\\n        ',\n",
       "        list(['Mountain', 'Pass']), 'Mountain', 1],\n",
       "       ['\\n        player-color$ Gold$\\n        life$ 12$\\n        opponent-life$ 3$\\n        phase$ Phases.MAIN_PHASE_PRE_COMBAT$\\n        hand$ Enormous Baloth$Goblin Raider$Norwood Ranger$\\n        generic-debt$ 0$\\n        manapool$ Black$ 0$ White$ 0$ Red$ 0$ Colorless$ 0$ Green$ 0$ Blue$ 0$\\n        opponent-cards$ 5$\\n        self-lands-untapped$ Mountain$\\n        self-lands-tapped$ Mountain$Forest$Mountain$Forest$Mountain$Forest$Forest$Mountain$\\n        opponent-lands-untapped$ Island$Plains$Plains$Plains$Island$Island$Plains$Plains$Plains$Island$Plains$\\n        opponent-lands-tapped$ $\\n        self-creatures-untapped$ Goblin Raider$Hill Giant$Norwood Ranger$Hill Giant$Ogre Taskmaster$\\n        self-creatures-tapped$ $\\n        opponent-creatures-untapped$ Glory Seeker$\\n        opponent-creatures-tapped$ $\\n        attackers-blockers$ None$\\n        damage-order$ None$\\n        ',\n",
       "        list(['tapped_ability_0_Mountain', 'Pass']),\n",
       "        'tapped_ability_0_Mountain', 1],\n",
       "       ['\\n        player-color$ Gold$\\n        life$ 12$\\n        opponent-life$ 3$\\n        phase$ Phases.DECLARE_ATTACKERS_STEP$\\n        hand$ Enormous Baloth$Goblin Raider$Norwood Ranger$\\n        generic-debt$ 0$\\n        manapool$ Black$ 0$ White$ 0$ Red$ 1$ Colorless$ 0$ Green$ 0$ Blue$ 0$\\n        opponent-cards$ 5$\\n        self-lands-untapped$ $\\n        self-lands-tapped$ Mountain$Forest$Mountain$Forest$Mountain$Forest$Forest$Mountain$Mountain$\\n        opponent-lands-untapped$ Island$Plains$Plains$Plains$Island$Island$Plains$Plains$Plains$Island$Plains$\\n        opponent-lands-tapped$ $\\n        self-creatures-untapped$ Goblin Raider$Hill Giant$Norwood Ranger$Hill Giant$Ogre Taskmaster$\\n        self-creatures-tapped$ $\\n        opponent-creatures-untapped$ Glory Seeker$\\n        opponent-creatures-tapped$ $\\n        attackers-blockers$ None$\\n        damage-order$ None$\\n        ',\n",
       "        list([]), 'Norwood Ranger$1', 1],\n",
       "       ['\\n        player-color$ Gold$\\n        life$ 12$\\n        opponent-life$ 3$\\n        phase$ Phases.DECLARE_ATTACKERS_STEP$\\n        hand$ Enormous Baloth$Goblin Raider$Norwood Ranger$\\n        generic-debt$ 0$\\n        manapool$ Black$ 0$ White$ 0$ Red$ 1$ Colorless$ 0$ Green$ 0$ Blue$ 0$\\n        opponent-cards$ 5$\\n        self-lands-untapped$ $\\n        self-lands-tapped$ Mountain$Forest$Mountain$Forest$Mountain$Forest$Forest$Mountain$Mountain$\\n        opponent-lands-untapped$ Island$Plains$Plains$Plains$Island$Island$Plains$Plains$Plains$Island$Plains$\\n        opponent-lands-tapped$ $\\n        self-creatures-untapped$ Goblin Raider$Hill Giant$Norwood Ranger$Hill Giant$Ogre Taskmaster$\\n        self-creatures-tapped$ $\\n        opponent-creatures-untapped$ Glory Seeker$\\n        opponent-creatures-tapped$ $\\n        attackers-blockers$ None$\\n        damage-order$ None$\\n        ',\n",
       "        list([]), 'Goblin Raider$1', 1],\n",
       "       ['\\n        player-color$ Gold$\\n        life$ 12$\\n        opponent-life$ 3$\\n        phase$ Phases.DECLARE_ATTACKERS_STEP$\\n        hand$ Enormous Baloth$Goblin Raider$Norwood Ranger$\\n        generic-debt$ 0$\\n        manapool$ Black$ 0$ White$ 0$ Red$ 1$ Colorless$ 0$ Green$ 0$ Blue$ 0$\\n        opponent-cards$ 5$\\n        self-lands-untapped$ $\\n        self-lands-tapped$ Mountain$Forest$Mountain$Forest$Mountain$Forest$Forest$Mountain$Mountain$\\n        opponent-lands-untapped$ Island$Plains$Plains$Plains$Island$Island$Plains$Plains$Plains$Island$Plains$\\n        opponent-lands-tapped$ $\\n        self-creatures-untapped$ Goblin Raider$Hill Giant$Norwood Ranger$Hill Giant$Ogre Taskmaster$\\n        self-creatures-tapped$ $\\n        opponent-creatures-untapped$ Glory Seeker$\\n        opponent-creatures-tapped$ $\\n        attackers-blockers$ None$\\n        damage-order$ None$\\n        ',\n",
       "        list([]), 'Hill Giant$0', 1]], dtype=object)"
      ]
     },
     "execution_count": 5,
     "metadata": {},
     "output_type": "execute_result"
    }
   ],
   "source": [
    "#np.array(game_data['Player1'])"
   ]
  },
  {
   "cell_type": "code",
   "execution_count": 12,
   "metadata": {},
   "outputs": [
    {
     "data": {
      "text/plain": [
       "0"
      ]
     },
     "execution_count": 12,
     "metadata": {},
     "output_type": "execute_result"
    }
   ],
   "source": [
    "len(data['Silver'])"
   ]
  },
  {
   "cell_type": "code",
   "execution_count": 19,
   "metadata": {},
   "outputs": [
    {
     "data": {
      "text/plain": [
       "['\\n        player-color$ Silver$\\n        life$ 20$\\n        opponent-life$ 20$\\n        phase$ Phases.MAIN_PHASE_PRE_COMBAT$\\n        hand$ Volcanic Hammer$Mountain$Mountain$Stone Rain$Grizzly Bears$Mountain$\\n        generic-debt$ 0$\\n        manapool$ White$ 0$ Blue$ 0$ Black$ 0$ Red$ 0$ Green$ 0$ Colorless$ 0$\\n        opponent-cards$ 7$\\n        self-lands-untapped$ Forest$\\n        self-lands-tapped$ $\\n        opponent-lands-untapped$ $\\n        opponent-lands-tapped$ $\\n        self-creatures-untapped$ $\\n        self-creatures-tapped$ $\\n        opponent-creatures-untapped$ $\\n        opponent-creatures-tapped$ $\\n        attackers-blockers$ None$\\n        damage-order$ None$\\n        ',\n",
       " ['tapped_ability_0_Forest', 'Pass'],\n",
       " 'Pass',\n",
       " -1]"
      ]
     },
     "execution_count": 19,
     "metadata": {},
     "output_type": "execute_result"
    }
   ],
   "source": [
    "data['Gold'][1][1]"
   ]
  },
  {
   "cell_type": "code",
   "execution_count": 19,
   "metadata": {},
   "outputs": [
    {
     "data": {
      "text/plain": [
       "['\\n        player-color$ Silver$\\n        life$ 20$\\n        opponent-life$ 20$\\n        phase$ Phases.MAIN_PHASE_PRE_COMBAT$\\n        hand$ Island$Island$Island$Giant Octopus$Vizzerdrix$Plains$Plains$Island$\\n        generic-debt$ 0$\\n        manapool$ White$ 0$ Blue$ 0$ Black$ 0$ Red$ 0$ Green$ 0$ Colorless$ 0$\\n        opponent-cards$ 6$\\n        self-lands-untapped$ $\\n        self-lands-tapped$ $\\n        opponent-lands-untapped$ Mountain$\\n        opponent-lands-tapped$ $\\n        self-creatures-untapped$ $\\n        self-creatures-tapped$ $\\n        opponent-creatures-untapped$ $\\n        opponent-creatures-tapped$ $\\n        attackers-blockers$ None$\\n        damage-order$ None$\\n        ',\n",
       " ['Island', 'Island', 'Island', 'Plains', 'Plains', 'Island', 'Pass'],\n",
       " 'Island',\n",
       " -1]"
      ]
     },
     "execution_count": 19,
     "metadata": {},
     "output_type": "execute_result"
    }
   ],
   "source": [
    "data['Silver'][0][0]"
   ]
  },
  {
   "cell_type": "code",
   "execution_count": 22,
   "metadata": {},
   "outputs": [
    {
     "data": {
      "text/plain": [
       "['\\n        player-color$ Gold$\\n        life$ 20$\\n        opponent-life$ 20$\\n        phase$ Phases.MAIN_PHASE_PRE_COMBAT$\\n        hand$ Ogre Taskmaster$Hill Giant$Volcanic Hammer$Norwood Ranger$Grizzly Bears$Mountain$Mountain$\\n        generic-debt$ 0$\\n        manapool$ White$ 0$ Blue$ 0$ Black$ 0$ Red$ 0$ Green$ 0$ Colorless$ 0$\\n        opponent-cards$ 7$\\n        self-lands-untapped$ $\\n        self-lands-tapped$ $\\n        opponent-lands-untapped$ $\\n        opponent-lands-tapped$ $\\n        self-creatures-untapped$ $\\n        self-creatures-tapped$ $\\n        opponent-creatures-untapped$ $\\n        opponent-creatures-tapped$ $\\n        attackers-blockers$ None$\\n        damage-order$ None$\\n        ',\n",
       " ['Mountain', 'Mountain', 'Pass'],\n",
       " 'Mountain',\n",
       " 1]"
      ]
     },
     "execution_count": 22,
     "metadata": {},
     "output_type": "execute_result"
    }
   ],
   "source": [
    "data['Gold'][0][0]"
   ]
  },
  {
   "cell_type": "code",
   "execution_count": 5,
   "metadata": {},
   "outputs": [
    {
     "data": {
      "text/plain": [
       "[2491, 2509]"
      ]
     },
     "execution_count": 5,
     "metadata": {},
     "output_type": "execute_result"
    }
   ],
   "source": [
    "wins"
   ]
  },
  {
   "cell_type": "code",
   "execution_count": 20,
   "metadata": {},
   "outputs": [
    {
     "name": "stdout",
     "output_type": "stream",
     "text": [
      "12858\n"
     ]
    }
   ],
   "source": [
    "# Count total amount of transitions\n",
    "total_transitions = 0\n",
    "for deck_name, deck_data in data.items():\n",
    "    for game_data in deck_data:\n",
    "        total_transitions += len(game_data)\n",
    "print(total_transitions)"
   ]
  },
  {
   "cell_type": "code",
   "execution_count": 11,
   "metadata": {},
   "outputs": [
    {
     "data": {
      "text/plain": [
       "10000"
      ]
     },
     "execution_count": 11,
     "metadata": {},
     "output_type": "execute_result"
    }
   ],
   "source": [
    "len(data['Gold'])"
   ]
  },
  {
   "cell_type": "code",
   "execution_count": 21,
   "metadata": {},
   "outputs": [],
   "source": [
    "flat_data = []\n",
    "for deck_type, deck_data in data.items():\n",
    "    for game in deck_data:\n",
    "        flat_data.extend(game)"
   ]
  },
  {
   "cell_type": "code",
   "execution_count": 12,
   "metadata": {},
   "outputs": [
    {
     "data": {
      "text/plain": [
       "666386"
      ]
     },
     "execution_count": 12,
     "metadata": {},
     "output_type": "execute_result"
    }
   ],
   "source": [
    "len(flat_data)"
   ]
  },
  {
   "cell_type": "code",
   "execution_count": 13,
   "metadata": {},
   "outputs": [],
   "source": [
    "gold_data = data['Gold']"
   ]
  },
  {
   "cell_type": "code",
   "execution_count": 23,
   "metadata": {},
   "outputs": [],
   "source": [
    "flat_array = np.array(flat_data, dtype=object)"
   ]
  },
  {
   "cell_type": "code",
   "execution_count": 28,
   "metadata": {},
   "outputs": [
    {
     "data": {
      "text/plain": [
       "array(['\\n        player-color$ Gold$\\n        life$ 20$\\n        opponent-life$ 20$\\n        phase$ Phases.MAIN_PHASE_PRE_COMBAT$\\n        hand$ Mountain$Forest$Ogre Taskmaster$Enormous Baloth$Goblin Raider$Norwood Ranger$Goblin Raider$Forest$\\n        generic-debt$ 0$\\n        manapool$ White$ 0$ Blue$ 0$ Black$ 0$ Red$ 0$ Green$ 0$ Colorless$ 0$\\n        opponent-cards$ 6$\\n        self-lands-untapped$ $\\n        self-lands-tapped$ $\\n        opponent-lands-untapped$ Forest$\\n        opponent-lands-tapped$ $\\n        self-creatures-untapped$ $\\n        self-creatures-tapped$ $\\n        opponent-creatures-untapped$ $\\n        opponent-creatures-tapped$ $\\n        attackers-blockers$ None$\\n        damage-order$ None$\\n        ',\n",
       "       list(['Mountain', 'Forest', 'Forest', 'Pass']), 'Forest', 1],\n",
       "      dtype=object)"
      ]
     },
     "execution_count": 28,
     "metadata": {},
     "output_type": "execute_result"
    }
   ],
   "source": [
    "flat_array[0]"
   ]
  },
  {
   "cell_type": "code",
   "execution_count": 63,
   "metadata": {},
   "outputs": [],
   "source": [
    "np.savez_compressed('./data/test_data', flat_array)"
   ]
  },
  {
   "cell_type": "code",
   "execution_count": 41,
   "metadata": {},
   "outputs": [],
   "source": [
    "actions = set(flat_array[:, 2])"
   ]
  },
  {
   "cell_type": "code",
   "execution_count": 17,
   "metadata": {},
   "outputs": [
    {
     "name": "stdout",
     "output_type": "stream",
     "text": [
      "{'Hill Giant$1$block$Grizzly Bears$1', 'Norwood Ranger$0$block$Goblin Raider$1', 'Grizzly Bears$0$block$Enormous Baloth$1', 'tapped_ability_0_Mountain', 'Enormous Baloth$0$block$Goblin Raider$1', 'Spined Wurm$0$block$Grizzly Bears$0', 'Hill Giant$1$block$Enormous Baloth$1', 'Goblin Raider', 'Spined Wurm$0$block$Enormous Baloth$0', 'Enormous Baloth$0$block$Grizzly Bears$1', 'Spined Wurm$0$block$Hill Giant$0', 'Pass', 'Enormous Baloth$1$block$Ogre Taskmaster$0', 'Hill Giant$0$block$Enormous Baloth$0', 'Norwood Ranger$1$block$Goblin Raider$0', 'Enormous Baloth', 'Enormous Baloth$1$block$Grizzly Bears$0', 'Norwood Ranger$1', 'Rampant Growth', 'Norwood Ranger$1$block$Grizzly Bears$0', 'Ogre Taskmaster$0', 'Hill Giant$0$block$Grizzly Bears$1', 'Norwood Ranger$0', 'Enormous Baloth$0$block$Hill Giant$1', 'Grizzly Bears$1', 'Enormous Baloth$1$block$Norwood Ranger$0', 'Enormous Baloth$1$block$Enormous Baloth$1', 'Enormous Baloth$1$block$Hill Giant$0', 'Norwood Ranger$0$block$Ogre Taskmaster$0', 'Grizzly Bears$0$block$Norwood Ranger$1', 'Grizzly Bears$0$block$Hill Giant$0', 'Grizzly Bears', 'Norwood Ranger$0$block$Hill Giant$0', 'Hill Giant$1$block$Spined Wurm$0', 'Hill Giant$1$block$Norwood Ranger$1', 'Norwood Ranger$1$block$Enormous Baloth$0', 'opponent', 'tapped_ability_0_Forest', 'Norwood Ranger$0$block$Norwood Ranger$1', 'Hill Giant$1$block$Goblin Raider$1', 'Enormous Baloth$1$block$Goblin Raider$0', 'Grizzly Bears$0$block$Enormous Baloth$0', 'Hill Giant$1$block$Norwood Ranger$0', 'Spined Wurm$0$block$Goblin Raider$1', 'Hill Giant$0$block$Grizzly Bears$0', 'Enormous Baloth$1$block$Goblin Raider$1', 'Norwood Ranger$0$block$Spined Wurm$0', 'Stone Rain', 'self', 'Hill Giant$0$block$Enormous Baloth$1', 'Norwood Ranger$1$block$Enormous Baloth$1', 'Spined Wurm$0$block$Hill Giant$1', 'Refuse', 'Norwood Ranger$0$block$Goblin Raider$0', 'Spined Wurm$0$block$Norwood Ranger$0', 'Enormous Baloth$1$block$Grizzly Bears$1', 'Enormous Baloth$1$block$Hill Giant$1', 'Enormous Baloth$0$block$Norwood Ranger$1', 'Grizzly Bears$0$block$Grizzly Bears$0', 'Spined Wurm$0$block$Goblin Raider$0', 'Grizzly Bears$1$block$Goblin Raider$1', 'Spined Wurm$0$block$Grizzly Bears$1', 'Hill Giant$1$block$Grizzly Bears$0', 'Norwood Ranger$1$block$Norwood Ranger$0', 'Enormous Baloth$0', 'Hill Giant$0', 'Enormous Baloth$1$block$Norwood Ranger$1', 'Grizzly Bears$1$block$Norwood Ranger$0', 'Enormous Baloth$0$block$Ogre Taskmaster$0', 'Goblin Raider$1', 'Hill Giant$1$block$Hill Giant$1', 'Hill Giant$0$block$Goblin Raider$0', 'Norwood Ranger$1$block$Norwood Ranger$1', 'Grizzly Bears$0$block$Grizzly Bears$1', 'Hill Giant$1$block$Goblin Raider$0', 'Hill Giant$0$block$Norwood Ranger$1', 'Norwood Ranger$1$block$Hill Giant$0', 'Grizzly Bears$0', 'Grizzly Bears$1$block$Grizzly Bears$1', 'Grizzly Bears$0$block$Goblin Raider$1', 'Norwood Ranger$1$block$Grizzly Bears$1', 'Norwood Ranger$0$block$Norwood Ranger$0', 'Grizzly Bears$0$block$Spined Wurm$0', 'Grizzly Bears$1$block$Hill Giant$0', 'Enormous Baloth$0$block$Hill Giant$0', 'Spined Wurm$0$block$Ogre Taskmaster$0', 'Norwood Ranger$0$block$Hill Giant$1', 'Grizzly Bears$0$block$Hill Giant$1', 'Norwood Ranger$1$block$Ogre Taskmaster$0', 'Hill Giant$1$block$Enormous Baloth$0', 'Grizzly Bears$1$block$Spined Wurm$0', 'Red', 'Mountain', 'Norwood Ranger$1$block$Spined Wurm$0', 'Enormous Baloth$0$block$Grizzly Bears$0', 'Hill Giant$0$block$Hill Giant$0', 'Spined Wurm$0', 'Hill Giant$0$block$Hill Giant$1', 'Norwood Ranger$0$block$Enormous Baloth$0', 'Enormous Baloth$1$block$Enormous Baloth$0', 'Ogre Taskmaster', 'Grizzly Bears$1$block$Grizzly Bears$0', 'Forest', 'Grizzly Bears$1$block$Goblin Raider$0', 'Enormous Baloth$1', 'Enormous Baloth$1$block$Spined Wurm$0', 'Grizzly Bears$0$block$Norwood Ranger$0', 'Grizzly Bears$1$block$Norwood Ranger$1', 'Grizzly Bears$0$block$Goblin Raider$0', 'Hill Giant$0$block$Ogre Taskmaster$0', 'Norwood Ranger$1$block$Goblin Raider$1', 'Hill Giant$0$block$Spined Wurm$0', 'Grizzly Bears$1$block$Ogre Taskmaster$0', 'Enormous Baloth$0$block$Spined Wurm$0', 'Enormous Baloth$0$block$Goblin Raider$0', 'Enormous Baloth$0$block$Norwood Ranger$0', 'Hill Giant$0$block$Goblin Raider$1', 'Norwood Ranger$0$block$Grizzly Bears$0', 'Volcanic Hammer', 'Norwood Ranger$1$block$Hill Giant$1', 'Spined Wurm$0$block$Enormous Baloth$1', 'Hill Giant$1$block$Ogre Taskmaster$0', 'Norwood Ranger$0$block$Enormous Baloth$1', 'Norwood Ranger', 'Grizzly Bears$1$block$Enormous Baloth$1', 'Enormous Baloth$0$block$Enormous Baloth$0', 'Spined Wurm', 'Spined Wurm$0$block$Norwood Ranger$1', 'Hill Giant$1$block$Hill Giant$0', 'Grizzly Bears$0$block$Ogre Taskmaster$0', 'Grizzly Bears$1$block$Enormous Baloth$0', 'Goblin Raider$0', 'Enormous Baloth$0$block$Enormous Baloth$1', 'Hill Giant$1', 'Lava Axe', 'Hill Giant', 'Hill Giant$0$block$Norwood Ranger$0', 'Green', 'Grizzly Bears$1$block$Hill Giant$1', 'Norwood Ranger$0$block$Grizzly Bears$1', 'Spined Wurm$0$block$Spined Wurm$0'}\n"
     ]
    }
   ],
   "source": [
    "print(actions)"
   ]
  },
  {
   "cell_type": "code",
   "execution_count": 24,
   "metadata": {},
   "outputs": [],
   "source": [
    "import torchtext"
   ]
  },
  {
   "cell_type": "code",
   "execution_count": 35,
   "metadata": {},
   "outputs": [],
   "source": [
    "def customer_tokenizer(text):\n",
    "    return text.split(\"$\")"
   ]
  },
  {
   "cell_type": "code",
   "execution_count": 44,
   "metadata": {},
   "outputs": [],
   "source": [
    "import collections"
   ]
  },
  {
   "cell_type": "code",
   "execution_count": 45,
   "metadata": {},
   "outputs": [
    {
     "data": {
      "text/plain": [
       "{'Enormous Baloth',\n",
       " 'Enormous Baloth$0',\n",
       " 'Enormous Baloth$0$block$Enormous Baloth$0',\n",
       " 'Enormous Baloth$0$block$Enormous Baloth$1',\n",
       " 'Enormous Baloth$0$block$Goblin Raider$0',\n",
       " 'Enormous Baloth$0$block$Goblin Raider$1',\n",
       " 'Enormous Baloth$0$block$Grizzly Bears$0',\n",
       " 'Enormous Baloth$0$block$Grizzly Bears$1',\n",
       " 'Enormous Baloth$0$block$Hill Giant$0',\n",
       " 'Enormous Baloth$0$block$Hill Giant$1',\n",
       " 'Enormous Baloth$0$block$Norwood Ranger$0',\n",
       " 'Enormous Baloth$0$block$Norwood Ranger$1',\n",
       " 'Enormous Baloth$0$block$Ogre Taskmaster$0',\n",
       " 'Enormous Baloth$0$block$Spined Wurm$0',\n",
       " 'Enormous Baloth$1',\n",
       " 'Enormous Baloth$1$block$Enormous Baloth$0',\n",
       " 'Enormous Baloth$1$block$Enormous Baloth$1',\n",
       " 'Enormous Baloth$1$block$Goblin Raider$0',\n",
       " 'Enormous Baloth$1$block$Goblin Raider$1',\n",
       " 'Enormous Baloth$1$block$Grizzly Bears$0',\n",
       " 'Enormous Baloth$1$block$Grizzly Bears$1',\n",
       " 'Enormous Baloth$1$block$Hill Giant$0',\n",
       " 'Enormous Baloth$1$block$Hill Giant$1',\n",
       " 'Enormous Baloth$1$block$Norwood Ranger$0',\n",
       " 'Enormous Baloth$1$block$Norwood Ranger$1',\n",
       " 'Enormous Baloth$1$block$Ogre Taskmaster$0',\n",
       " 'Enormous Baloth$1$block$Spined Wurm$0',\n",
       " 'Forest',\n",
       " 'Goblin Raider',\n",
       " 'Goblin Raider$0',\n",
       " 'Goblin Raider$1',\n",
       " 'Green',\n",
       " 'Grizzly Bears',\n",
       " 'Grizzly Bears$0',\n",
       " 'Grizzly Bears$0$block$Enormous Baloth$0',\n",
       " 'Grizzly Bears$0$block$Enormous Baloth$1',\n",
       " 'Grizzly Bears$0$block$Goblin Raider$0',\n",
       " 'Grizzly Bears$0$block$Goblin Raider$1',\n",
       " 'Grizzly Bears$0$block$Grizzly Bears$0',\n",
       " 'Grizzly Bears$0$block$Grizzly Bears$1',\n",
       " 'Grizzly Bears$0$block$Hill Giant$0',\n",
       " 'Grizzly Bears$0$block$Hill Giant$1',\n",
       " 'Grizzly Bears$0$block$Norwood Ranger$0',\n",
       " 'Grizzly Bears$0$block$Norwood Ranger$1',\n",
       " 'Grizzly Bears$0$block$Ogre Taskmaster$0',\n",
       " 'Grizzly Bears$0$block$Spined Wurm$0',\n",
       " 'Grizzly Bears$1',\n",
       " 'Grizzly Bears$1$block$Enormous Baloth$0',\n",
       " 'Grizzly Bears$1$block$Enormous Baloth$1',\n",
       " 'Grizzly Bears$1$block$Goblin Raider$0',\n",
       " 'Grizzly Bears$1$block$Goblin Raider$1',\n",
       " 'Grizzly Bears$1$block$Grizzly Bears$0',\n",
       " 'Grizzly Bears$1$block$Grizzly Bears$1',\n",
       " 'Grizzly Bears$1$block$Hill Giant$0',\n",
       " 'Grizzly Bears$1$block$Hill Giant$1',\n",
       " 'Grizzly Bears$1$block$Norwood Ranger$0',\n",
       " 'Grizzly Bears$1$block$Norwood Ranger$1',\n",
       " 'Grizzly Bears$1$block$Ogre Taskmaster$0',\n",
       " 'Grizzly Bears$1$block$Spined Wurm$0',\n",
       " 'Hill Giant',\n",
       " 'Hill Giant$0',\n",
       " 'Hill Giant$0$block$Enormous Baloth$0',\n",
       " 'Hill Giant$0$block$Enormous Baloth$1',\n",
       " 'Hill Giant$0$block$Goblin Raider$0',\n",
       " 'Hill Giant$0$block$Goblin Raider$1',\n",
       " 'Hill Giant$0$block$Grizzly Bears$0',\n",
       " 'Hill Giant$0$block$Grizzly Bears$1',\n",
       " 'Hill Giant$0$block$Hill Giant$0',\n",
       " 'Hill Giant$0$block$Hill Giant$1',\n",
       " 'Hill Giant$0$block$Norwood Ranger$0',\n",
       " 'Hill Giant$0$block$Norwood Ranger$1',\n",
       " 'Hill Giant$0$block$Ogre Taskmaster$0',\n",
       " 'Hill Giant$0$block$Spined Wurm$0',\n",
       " 'Hill Giant$1',\n",
       " 'Hill Giant$1$block$Enormous Baloth$0',\n",
       " 'Hill Giant$1$block$Enormous Baloth$1',\n",
       " 'Hill Giant$1$block$Goblin Raider$0',\n",
       " 'Hill Giant$1$block$Goblin Raider$1',\n",
       " 'Hill Giant$1$block$Grizzly Bears$0',\n",
       " 'Hill Giant$1$block$Grizzly Bears$1',\n",
       " 'Hill Giant$1$block$Hill Giant$0',\n",
       " 'Hill Giant$1$block$Hill Giant$1',\n",
       " 'Hill Giant$1$block$Norwood Ranger$0',\n",
       " 'Hill Giant$1$block$Norwood Ranger$1',\n",
       " 'Hill Giant$1$block$Ogre Taskmaster$0',\n",
       " 'Hill Giant$1$block$Spined Wurm$0',\n",
       " 'Lava Axe',\n",
       " 'Mountain',\n",
       " 'Norwood Ranger',\n",
       " 'Norwood Ranger$0',\n",
       " 'Norwood Ranger$0$block$Enormous Baloth$0',\n",
       " 'Norwood Ranger$0$block$Enormous Baloth$1',\n",
       " 'Norwood Ranger$0$block$Goblin Raider$0',\n",
       " 'Norwood Ranger$0$block$Goblin Raider$1',\n",
       " 'Norwood Ranger$0$block$Grizzly Bears$0',\n",
       " 'Norwood Ranger$0$block$Grizzly Bears$1',\n",
       " 'Norwood Ranger$0$block$Hill Giant$0',\n",
       " 'Norwood Ranger$0$block$Hill Giant$1',\n",
       " 'Norwood Ranger$0$block$Norwood Ranger$0',\n",
       " 'Norwood Ranger$0$block$Norwood Ranger$1',\n",
       " 'Norwood Ranger$0$block$Ogre Taskmaster$0',\n",
       " 'Norwood Ranger$0$block$Spined Wurm$0',\n",
       " 'Norwood Ranger$1',\n",
       " 'Norwood Ranger$1$block$Enormous Baloth$0',\n",
       " 'Norwood Ranger$1$block$Enormous Baloth$1',\n",
       " 'Norwood Ranger$1$block$Goblin Raider$0',\n",
       " 'Norwood Ranger$1$block$Goblin Raider$1',\n",
       " 'Norwood Ranger$1$block$Grizzly Bears$0',\n",
       " 'Norwood Ranger$1$block$Grizzly Bears$1',\n",
       " 'Norwood Ranger$1$block$Hill Giant$0',\n",
       " 'Norwood Ranger$1$block$Hill Giant$1',\n",
       " 'Norwood Ranger$1$block$Norwood Ranger$0',\n",
       " 'Norwood Ranger$1$block$Norwood Ranger$1',\n",
       " 'Norwood Ranger$1$block$Ogre Taskmaster$0',\n",
       " 'Norwood Ranger$1$block$Spined Wurm$0',\n",
       " 'Ogre Taskmaster',\n",
       " 'Ogre Taskmaster$0',\n",
       " 'Pass',\n",
       " 'Rampant Growth',\n",
       " 'Red',\n",
       " 'Refuse',\n",
       " 'Spined Wurm',\n",
       " 'Spined Wurm$0',\n",
       " 'Spined Wurm$0$block$Enormous Baloth$0',\n",
       " 'Spined Wurm$0$block$Enormous Baloth$1',\n",
       " 'Spined Wurm$0$block$Goblin Raider$0',\n",
       " 'Spined Wurm$0$block$Goblin Raider$1',\n",
       " 'Spined Wurm$0$block$Grizzly Bears$0',\n",
       " 'Spined Wurm$0$block$Grizzly Bears$1',\n",
       " 'Spined Wurm$0$block$Hill Giant$0',\n",
       " 'Spined Wurm$0$block$Hill Giant$1',\n",
       " 'Spined Wurm$0$block$Norwood Ranger$0',\n",
       " 'Spined Wurm$0$block$Norwood Ranger$1',\n",
       " 'Spined Wurm$0$block$Ogre Taskmaster$0',\n",
       " 'Spined Wurm$0$block$Spined Wurm$0',\n",
       " 'Stone Rain',\n",
       " 'Volcanic Hammer',\n",
       " 'opponent',\n",
       " 'self',\n",
       " 'tapped_ability_0_Forest',\n",
       " 'tapped_ability_0_Mountain'}"
      ]
     },
     "execution_count": 45,
     "metadata": {},
     "output_type": "execute_result"
    }
   ],
   "source": [
    "actions"
   ]
  },
  {
   "cell_type": "code",
   "execution_count": 39,
   "metadata": {},
   "outputs": [],
   "source": [
    "counter_obj = collections.Counter()"
   ]
  },
  {
   "cell_type": "code",
   "execution_count": 42,
   "metadata": {},
   "outputs": [],
   "source": [
    "for action in actions:\n",
    "    sub_actions = action.split(\"$\")\n",
    "    counter_obj.update(sub_actions)"
   ]
  },
  {
   "cell_type": "code",
   "execution_count": 46,
   "metadata": {},
   "outputs": [
    {
     "data": {
      "text/plain": [
       "Counter({'Hill Giant': 45,\n",
       "         '1': 98,\n",
       "         'block': 108,\n",
       "         'Grizzly Bears': 45,\n",
       "         'Norwood Ranger': 45,\n",
       "         '0': 130,\n",
       "         'Goblin Raider': 21,\n",
       "         'Enormous Baloth': 45,\n",
       "         'tapped_ability_0_Mountain': 1,\n",
       "         'Spined Wurm': 23,\n",
       "         'Pass': 1,\n",
       "         'Ogre Taskmaster': 11,\n",
       "         'Rampant Growth': 1,\n",
       "         'opponent': 1,\n",
       "         'tapped_ability_0_Forest': 1,\n",
       "         'Stone Rain': 1,\n",
       "         'self': 1,\n",
       "         'Refuse': 1,\n",
       "         'Red': 1,\n",
       "         'Mountain': 1,\n",
       "         'Forest': 1,\n",
       "         'Volcanic Hammer': 1,\n",
       "         'Lava Axe': 1,\n",
       "         'Green': 1})"
      ]
     },
     "execution_count": 46,
     "metadata": {},
     "output_type": "execute_result"
    }
   ],
   "source": [
    "counter_obj"
   ]
  },
  {
   "cell_type": "code",
   "execution_count": 60,
   "metadata": {},
   "outputs": [],
   "source": [
    "vocab = torchtext.vocab.Vocab(counter_obj, min_freq=1, specials=[\"<unk>\"])"
   ]
  },
  {
   "cell_type": "code",
   "execution_count": 61,
   "metadata": {},
   "outputs": [
    {
     "name": "stdout",
     "output_type": "stream",
     "text": [
      "0 <unk>\n",
      "1 0\n",
      "2 block\n",
      "3 1\n",
      "4 Enormous Baloth\n",
      "5 Grizzly Bears\n",
      "6 Hill Giant\n",
      "7 Norwood Ranger\n",
      "8 Spined Wurm\n",
      "9 Goblin Raider\n",
      "10 Ogre Taskmaster\n",
      "11 Forest\n",
      "12 Green\n",
      "13 Lava Axe\n",
      "14 Mountain\n",
      "15 Pass\n",
      "16 Rampant Growth\n",
      "17 Red\n",
      "18 Refuse\n",
      "19 Stone Rain\n",
      "20 Volcanic Hammer\n",
      "21 opponent\n",
      "22 self\n",
      "23 tapped_ability_0_Forest\n",
      "24 tapped_ability_0_Mountain\n"
     ]
    }
   ],
   "source": [
    "for i in range(len(vocab)):\n",
    "    print(i, vocab.itos[i])"
   ]
  },
  {
   "cell_type": "code",
   "execution_count": 67,
   "metadata": {},
   "outputs": [
    {
     "data": {
      "text/plain": [
       "<torchtext.vocab.Vocab at 0x7f982209e340>"
      ]
     },
     "execution_count": 67,
     "metadata": {},
     "output_type": "execute_result"
    }
   ],
   "source": [
    "vocab"
   ]
  }
 ],
 "metadata": {
  "interpreter": {
   "hash": "342633365bf1d2b098945d10492d9ee182e1c05ad3cfa3a35f02aa6a443073f0"
  },
  "kernelspec": {
   "display_name": "Python 3.8.5 64-bit ('decision-transformer-mtg': conda)",
   "name": "python3"
  },
  "language_info": {
   "codemirror_mode": {
    "name": "ipython",
    "version": 3
   },
   "file_extension": ".py",
   "mimetype": "text/x-python",
   "name": "python",
   "nbconvert_exporter": "python",
   "pygments_lexer": "ipython3",
   "version": "3.8.5"
  },
  "orig_nbformat": 4
 },
 "nbformat": 4,
 "nbformat_minor": 2
}
