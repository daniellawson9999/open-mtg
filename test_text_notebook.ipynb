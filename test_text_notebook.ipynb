{
 "metadata": {
  "language_info": {
   "codemirror_mode": {
    "name": "ipython",
    "version": 3
   },
   "file_extension": ".py",
   "mimetype": "text/x-python",
   "name": "python",
   "nbconvert_exporter": "python",
   "pygments_lexer": "ipython3",
   "version": "3.8.10"
  },
  "orig_nbformat": 4,
  "kernelspec": {
   "name": "python3",
   "display_name": "Python 3.8.10 64-bit ('mtg': conda)"
  },
  "interpreter": {
   "hash": "bf3216ba41af44cc382425e2feaa3b375a5af33ffa720b2ac0b7578a6ad0dbbf"
  }
 },
 "nbformat": 4,
 "nbformat_minor": 2,
 "cells": [
  {
   "cell_type": "code",
   "execution_count": 1,
   "source": [
    "from deck import *\n",
    "from game import *\n",
    "from player import *\n",
    "from phases import Phases\n",
    "import random"
   ],
   "outputs": [],
   "metadata": {}
  },
  {
   "cell_type": "code",
   "execution_count": 2,
   "source": [
    "data = {\n",
    "    \"Silver\": [],\n",
    "    \"Gold\": []\n",
    "}\n",
    "# Tuple State, Legal_actions, action, reward"
   ],
   "outputs": [],
   "metadata": {}
  },
  {
   "cell_type": "code",
   "execution_count": 3,
   "source": [
    "\n",
    "policies = [None,None]\n",
    "wins=[0,0]\n",
    "n_games = 100\n",
    "\n",
    "\n",
    "def get_move(index, state, move_indexes=None, move_strings=None):\n",
    "    assert(move_indexes != None or move_strings != None), \"at least one list must not be None {} {}\".format(move_indexes,move_strings)\n",
    "\n",
    "    if (move_indexes != None):\n",
    "        length = len(move_indexes)\n",
    "    else:\n",
    "        length = len(move_strings)\n",
    "\n",
    "    if policies[index] == None or length == 1:\n",
    "        if move_indexes != None:\n",
    "            move = random.sample(move_indexes,1)[0]\n",
    "        else:\n",
    "            move = random.sample(move_strings,1)[0]\n",
    "    else:\n",
    "        assert (False), \"TODO\"\n",
    "        pass\n",
    "    return move"
   ],
   "outputs": [],
   "metadata": {}
  },
  {
   "cell_type": "code",
   "execution_count": 33,
   "source": [
    "# Simulate n_names times\n",
    "for i in range(5000):\n",
    "    # Create game\n",
    "    #game = Game([Player(get_8ed_core_gold_deck(), name=\"Gold\"), Player(get_8ed_core_silver_deck(), name=\"Silver\")])\n",
    "    game = Game([Player(get_8ed_core_gold_deck(), name=\"Player1\", deck_name=\"Gold\"), Player(get_8ed_core_silver_deck(), name=\"Player2\", deck_name=\"Silver\")])\n",
    "    game.start_game()\n",
    "\n",
    "    game_data = {\n",
    "        game.players[0].name: [],\n",
    "        game.players[1].name: []\n",
    "    }\n",
    "    while not game.is_over():\n",
    "        # Get player, valid moves\n",
    "        player = game.player_with_priority\n",
    "        move_indexes, move_strings = game.get_moves()\n",
    "        state = game.get_board_string()\n",
    "\n",
    "        # Skip COMBAT_DAMAGE_STEP_510_1c, no choices in damage assignment\n",
    "        if game.current_phase_index == Phases.COMBAT_DAMAGE_STEP_510_1c:\n",
    "            assert(len(move_indexes) == 1), \"Should only be 1 value move\"\n",
    "            game.make_move(move_indexes[0],False)\n",
    "            continue\n",
    "\n",
    "        # Get move, may have to unroll action\n",
    "        if isinstance(move_strings, ActionUnroller):\n",
    "            unroller = move_strings\n",
    "            while not unroller.is_done():\n",
    "                moves = unroller.get_legal_moves()\n",
    "                move_string = get_move(player.index,state, move_indexes=None, move_strings=moves)\n",
    "\n",
    "                # Record Move\n",
    "                if len(moves) > 1:\n",
    "                    game_data[player.name].append([state, moves, move_string])\n",
    "\n",
    "                #print(move_string)\n",
    "                state = unroller.register_move(move_string)\n",
    "            # Apply unrolled actions to game\n",
    "            unroller.make_move()\n",
    "        else:\n",
    "            #print(state)\n",
    "            move = get_move(player.index, state, move_indexes, move_strings)\n",
    "            move_string = move_strings[move_indexes.index(move)]\n",
    "\n",
    "            # Record Move\n",
    "            if len(move_indexes) > 1:\n",
    "                game_data[player.name].append([state, move_strings, move_string])\n",
    "\n",
    "            #print(move_string)\n",
    "            game.make_move(move, False)\n",
    "        #move = mcts.uct(game, itermax=5)\n",
    "\n",
    "    if game.players[1].has_lost:\n",
    "        wins[0] += 1\n",
    "        reward_0 = 1\n",
    "        reward_1 = -1\n",
    "        #print(\"State\", state)\n",
    "    elif game.players[0].has_lost:\n",
    "        wins[1] += 1\n",
    "        reward_0 = -1\n",
    "        reward_1 = 1\n",
    "        #print(\"State\", state)\n",
    "    # Add reward info\n",
    "    name_0 = game.players[0].name\n",
    "    name_1 = game.players[1].name\n",
    "    len_0 = len(game_data[name_0])\n",
    "    len_1 = len(game_data[name_1])\n",
    "    for i in range(max(len_0, len_1)):\n",
    "        if i <= len_0 - 1:\n",
    "            game_data[name_0][i].append(reward_0)\n",
    "        if i <= len_1 - 1:\n",
    "            game_data[name_1][i].append(reward_1)\n",
    "    # Add game_data to overall data\n",
    "    for player in game.players:\n",
    "        data[player.deck_name].append(game_data[player.name])\n",
    "    \n",
    "print(\"player 0 wins: %i, player 1 wins: %i\" % (wins[0], wins[1]))\n"
   ],
   "outputs": [
    {
     "output_type": "stream",
     "name": "stdout",
     "text": [
      "player 0 wins: 1896, player 1 wins: 3904\n"
     ]
    }
   ],
   "metadata": {}
  },
  {
   "cell_type": "code",
   "execution_count": 5,
   "source": [
    "#np.array(game_data['Player1'])"
   ],
   "outputs": [
    {
     "output_type": "stream",
     "name": "stderr",
     "text": [
      "<ipython-input-5-2a37014f8a44>:1: VisibleDeprecationWarning: Creating an ndarray from ragged nested sequences (which is a list-or-tuple of lists-or-tuples-or ndarrays with different lengths or shapes) is deprecated. If you meant to do this, you must specify 'dtype=object' when creating the ndarray\n",
      "  np.array(game_data['Player1'])\n"
     ]
    },
    {
     "output_type": "execute_result",
     "data": {
      "text/plain": [
       "array([['\\n        player-color$ Gold$\\n        life$ 20$\\n        opponent-life$ 20$\\n        phase$ Phases.MAIN_PHASE_PRE_COMBAT$\\n        hand$ Lava Axe$Stone Rain$Volcanic Hammer$Goblin Raider$Forest$Mountain$Hill Giant$Hill Giant$\\n        generic-debt$ 0$\\n        manapool$ White$ 0$ Blue$ 0$ Black$ 0$ Red$ 0$ Green$ 0$ Colorless$ 0$\\n        opponent-cards$ 6$\\n        self-lands-untapped$ $\\n        self-lands-tapped$ $\\n        opponent-lands-untapped$ Island$\\n        opponent-lands-tapped$ $\\n        self-creatures-untapped$ $\\n        self-creatures-tapped$ $\\n        opponent-creatures-untapped$ $\\n        opponent-creatures-tapped$ $\\n        attackers-blockers$ None$\\n        damage-order$ None$\\n        ',\n",
       "        list(['Forest', 'Mountain', 'Pass']), 'Pass', 1],\n",
       "       ['\\n        player-color$ Gold$\\n        life$ 20$\\n        opponent-life$ 20$\\n        phase$ Phases.MAIN_PHASE_PRE_COMBAT$\\n        hand$ Lava Axe$Stone Rain$Volcanic Hammer$Goblin Raider$Forest$Mountain$Hill Giant$Hill Giant$Forest$\\n        generic-debt$ 0$\\n        manapool$ White$ 0$ Blue$ 0$ Black$ 0$ Red$ 0$ Green$ 0$ Colorless$ 0$\\n        opponent-cards$ 7$\\n        self-lands-untapped$ $\\n        self-lands-tapped$ $\\n        opponent-lands-untapped$ Island$\\n        opponent-lands-tapped$ $\\n        self-creatures-untapped$ $\\n        self-creatures-tapped$ $\\n        opponent-creatures-untapped$ $\\n        opponent-creatures-tapped$ $\\n        attackers-blockers$ None$\\n        damage-order$ None$\\n        ',\n",
       "        list(['Forest', 'Mountain', 'Forest', 'Pass']), 'Mountain', 1],\n",
       "       ['\\n        player-color$ Gold$\\n        life$ 20$\\n        opponent-life$ 20$\\n        phase$ Phases.MAIN_PHASE_PRE_COMBAT$\\n        hand$ Lava Axe$Stone Rain$Volcanic Hammer$Goblin Raider$Forest$Hill Giant$Hill Giant$Forest$\\n        generic-debt$ 0$\\n        manapool$ White$ 0$ Blue$ 0$ Black$ 0$ Red$ 0$ Green$ 0$ Colorless$ 0$\\n        opponent-cards$ 7$\\n        self-lands-untapped$ Mountain$\\n        self-lands-tapped$ $\\n        opponent-lands-untapped$ Island$\\n        opponent-lands-tapped$ $\\n        self-creatures-untapped$ $\\n        self-creatures-tapped$ $\\n        opponent-creatures-untapped$ $\\n        opponent-creatures-tapped$ $\\n        attackers-blockers$ None$\\n        damage-order$ None$\\n        ',\n",
       "        list(['tapped_ability_0_Mountain', 'Pass']), 'Pass', 1],\n",
       "       ['\\n        player-color$ Gold$\\n        life$ 20$\\n        opponent-life$ 20$\\n        phase$ Phases.MAIN_PHASE_PRE_COMBAT$\\n        hand$ Lava Axe$Stone Rain$Volcanic Hammer$Goblin Raider$Forest$Hill Giant$Hill Giant$Forest$Grizzly Bears$\\n        generic-debt$ 0$\\n        manapool$ White$ 0$ Blue$ 0$ Black$ 0$ Red$ 0$ Green$ 0$ Colorless$ 0$\\n        opponent-cards$ 8$\\n        self-lands-untapped$ Mountain$\\n        self-lands-tapped$ $\\n        opponent-lands-untapped$ Island$\\n        opponent-lands-tapped$ $\\n        self-creatures-untapped$ $\\n        self-creatures-tapped$ $\\n        opponent-creatures-untapped$ $\\n        opponent-creatures-tapped$ $\\n        attackers-blockers$ None$\\n        damage-order$ None$\\n        ',\n",
       "        list(['Forest', 'Forest', 'tapped_ability_0_Mountain', 'Pass']),\n",
       "        'tapped_ability_0_Mountain', 1],\n",
       "       ['\\n        player-color$ Gold$\\n        life$ 20$\\n        opponent-life$ 20$\\n        phase$ Phases.MAIN_PHASE_PRE_COMBAT$\\n        hand$ Lava Axe$Stone Rain$Volcanic Hammer$Goblin Raider$Forest$Hill Giant$Hill Giant$Forest$Grizzly Bears$\\n        generic-debt$ 0$\\n        manapool$ Black$ 0$ White$ 0$ Red$ 1$ Colorless$ 0$ Green$ 0$ Blue$ 0$\\n        opponent-cards$ 8$\\n        self-lands-untapped$ $\\n        self-lands-tapped$ Mountain$\\n        opponent-lands-untapped$ Island$\\n        opponent-lands-tapped$ $\\n        self-creatures-untapped$ $\\n        self-creatures-tapped$ $\\n        opponent-creatures-untapped$ $\\n        opponent-creatures-tapped$ $\\n        attackers-blockers$ None$\\n        damage-order$ None$\\n        ',\n",
       "        list(['Forest', 'Forest', 'Pass']), 'Forest', 1],\n",
       "       ['\\n        player-color$ Gold$\\n        life$ 20$\\n        opponent-life$ 20$\\n        phase$ Phases.MAIN_PHASE_PRE_COMBAT$\\n        hand$ Lava Axe$Stone Rain$Volcanic Hammer$Goblin Raider$Forest$Hill Giant$Hill Giant$Grizzly Bears$\\n        generic-debt$ 0$\\n        manapool$ Black$ 0$ White$ 0$ Red$ 1$ Colorless$ 0$ Green$ 0$ Blue$ 0$\\n        opponent-cards$ 8$\\n        self-lands-untapped$ Forest$\\n        self-lands-tapped$ Mountain$\\n        opponent-lands-untapped$ Island$\\n        opponent-lands-tapped$ $\\n        self-creatures-untapped$ $\\n        self-creatures-tapped$ $\\n        opponent-creatures-untapped$ $\\n        opponent-creatures-tapped$ $\\n        attackers-blockers$ None$\\n        damage-order$ None$\\n        ',\n",
       "        list(['tapped_ability_0_Forest', 'Pass']), 'Pass', 1],\n",
       "       ['\\n        player-color$ Gold$\\n        life$ 20$\\n        opponent-life$ 24$\\n        phase$ Phases.MAIN_PHASE_PRE_COMBAT$\\n        hand$ Lava Axe$Stone Rain$Volcanic Hammer$Goblin Raider$Forest$Hill Giant$Hill Giant$Grizzly Bears$Lava Axe$\\n        generic-debt$ 0$\\n        manapool$ White$ 0$ Blue$ 0$ Black$ 0$ Red$ 0$ Green$ 0$ Colorless$ 0$\\n        opponent-cards$ 7$\\n        self-lands-untapped$ Mountain$Forest$\\n        self-lands-tapped$ $\\n        opponent-lands-untapped$ Island$Plains$\\n        opponent-lands-tapped$ $\\n        self-creatures-untapped$ $\\n        self-creatures-tapped$ $\\n        opponent-creatures-untapped$ $\\n        opponent-creatures-tapped$ $\\n        attackers-blockers$ None$\\n        damage-order$ None$\\n        ',\n",
       "        list(['Forest', 'tapped_ability_0_Mountain', 'tapped_ability_0_Forest', 'Pass']),\n",
       "        'tapped_ability_0_Mountain', 1],\n",
       "       ['\\n        player-color$ Gold$\\n        life$ 20$\\n        opponent-life$ 24$\\n        phase$ Phases.MAIN_PHASE_PRE_COMBAT$\\n        hand$ Lava Axe$Stone Rain$Volcanic Hammer$Goblin Raider$Forest$Hill Giant$Hill Giant$Grizzly Bears$Lava Axe$\\n        generic-debt$ 0$\\n        manapool$ Black$ 0$ White$ 0$ Red$ 1$ Colorless$ 0$ Green$ 1$ Blue$ 0$\\n        opponent-cards$ 7$\\n        self-lands-untapped$ $\\n        self-lands-tapped$ Mountain$Forest$\\n        opponent-lands-untapped$ Island$Plains$\\n        opponent-lands-tapped$ $\\n        self-creatures-untapped$ $\\n        self-creatures-tapped$ $\\n        opponent-creatures-untapped$ $\\n        opponent-creatures-tapped$ $\\n        attackers-blockers$ None$\\n        damage-order$ None$\\n        ',\n",
       "        list(['Volcanic Hammer', 'Goblin Raider', 'Forest', 'Grizzly Bears', 'Pass']),\n",
       "        'Volcanic Hammer', 1],\n",
       "       ['\\n        player-color$ Gold$\\n        life$ 20$\\n        opponent-life$ 24$\\n        phase$ Phases.MAIN_PHASE_PRE_COMBAT$\\n        hand$ Lava Axe$Stone Rain$Goblin Raider$Forest$Hill Giant$Hill Giant$Grizzly Bears$Lava Axe$\\n        generic-debt$ 0$\\n        manapool$ Black$ 0$ White$ 0$ Red$ 0$ Colorless$ 0$ Green$ 0$ Blue$ 0$\\n        opponent-cards$ 7$\\n        self-lands-untapped$ $\\n        self-lands-tapped$ Mountain$Forest$\\n        opponent-lands-untapped$ Island$Plains$\\n        opponent-lands-tapped$ $\\n        self-creatures-untapped$ $\\n        self-creatures-tapped$ $\\n        opponent-creatures-untapped$ $\\n        opponent-creatures-tapped$ $\\n        attackers-blockers$ None$\\n        damage-order$ None$\\n        ',\n",
       "        list(['self', 'opponent']), 'opponent', 1],\n",
       "       ['\\n        player-color$ Gold$\\n        life$ 20$\\n        opponent-life$ 21$\\n        phase$ Phases.MAIN_PHASE_PRE_COMBAT$\\n        hand$ Lava Axe$Stone Rain$Goblin Raider$Forest$Hill Giant$Hill Giant$Grizzly Bears$Lava Axe$\\n        generic-debt$ 0$\\n        manapool$ Black$ 0$ White$ 0$ Red$ 0$ Colorless$ 0$ Green$ 0$ Blue$ 0$\\n        opponent-cards$ 7$\\n        self-lands-untapped$ $\\n        self-lands-tapped$ Mountain$Forest$\\n        opponent-lands-untapped$ Island$Plains$\\n        opponent-lands-tapped$ $\\n        self-creatures-untapped$ $\\n        self-creatures-tapped$ $\\n        opponent-creatures-untapped$ $\\n        opponent-creatures-tapped$ $\\n        attackers-blockers$ None$\\n        damage-order$ None$\\n        ',\n",
       "        list(['Forest', 'Pass']), 'Pass', 1],\n",
       "       ['\\n        player-color$ Gold$\\n        life$ 20$\\n        opponent-life$ 21$\\n        phase$ Phases.MAIN_PHASE_PRE_COMBAT$\\n        hand$ Lava Axe$Stone Rain$Goblin Raider$Forest$Hill Giant$Hill Giant$Grizzly Bears$Lava Axe$Mountain$\\n        generic-debt$ 0$\\n        manapool$ White$ 0$ Blue$ 0$ Black$ 0$ Red$ 0$ Green$ 0$ Colorless$ 0$\\n        opponent-cards$ 6$\\n        self-lands-untapped$ Mountain$Forest$\\n        self-lands-tapped$ $\\n        opponent-lands-untapped$ Island$Plains$Plains$\\n        opponent-lands-tapped$ $\\n        self-creatures-untapped$ $\\n        self-creatures-tapped$ $\\n        opponent-creatures-untapped$ Fugitive Wizard$\\n        opponent-creatures-tapped$ $\\n        attackers-blockers$ None$\\n        damage-order$ None$\\n        ',\n",
       "        list(['Forest', 'Mountain', 'tapped_ability_0_Mountain', 'tapped_ability_0_Forest', 'Pass']),\n",
       "        'Mountain', 1],\n",
       "       ['\\n        player-color$ Gold$\\n        life$ 20$\\n        opponent-life$ 21$\\n        phase$ Phases.MAIN_PHASE_PRE_COMBAT$\\n        hand$ Lava Axe$Stone Rain$Goblin Raider$Forest$Hill Giant$Hill Giant$Grizzly Bears$Lava Axe$\\n        generic-debt$ 0$\\n        manapool$ White$ 0$ Blue$ 0$ Black$ 0$ Red$ 0$ Green$ 0$ Colorless$ 0$\\n        opponent-cards$ 6$\\n        self-lands-untapped$ Mountain$Forest$Mountain$\\n        self-lands-tapped$ $\\n        opponent-lands-untapped$ Island$Plains$Plains$\\n        opponent-lands-tapped$ $\\n        self-creatures-untapped$ $\\n        self-creatures-tapped$ $\\n        opponent-creatures-untapped$ Fugitive Wizard$\\n        opponent-creatures-tapped$ $\\n        attackers-blockers$ None$\\n        damage-order$ None$\\n        ',\n",
       "        list(['tapped_ability_0_Mountain', 'tapped_ability_0_Forest', 'tapped_ability_0_Mountain', 'Pass']),\n",
       "        'tapped_ability_0_Mountain', 1],\n",
       "       ['\\n        player-color$ Gold$\\n        life$ 20$\\n        opponent-life$ 21$\\n        phase$ Phases.MAIN_PHASE_PRE_COMBAT$\\n        hand$ Lava Axe$Stone Rain$Goblin Raider$Forest$Hill Giant$Hill Giant$Grizzly Bears$Lava Axe$\\n        generic-debt$ 0$\\n        manapool$ Black$ 0$ White$ 0$ Red$ 2$ Colorless$ 0$ Green$ 1$ Blue$ 0$\\n        opponent-cards$ 6$\\n        self-lands-untapped$ $\\n        self-lands-tapped$ Mountain$Forest$Mountain$\\n        opponent-lands-untapped$ Island$Plains$Plains$\\n        opponent-lands-tapped$ $\\n        self-creatures-untapped$ $\\n        self-creatures-tapped$ $\\n        opponent-creatures-untapped$ Fugitive Wizard$\\n        opponent-creatures-tapped$ $\\n        attackers-blockers$ None$\\n        damage-order$ None$\\n        ',\n",
       "        list(['Stone Rain', 'Goblin Raider', 'Grizzly Bears', 'Pass']),\n",
       "        'Grizzly Bears', 1],\n",
       "       ['\\n        player-color$ Gold$\\n        life$ 20$\\n        opponent-life$ 21$\\n        phase$ Phases.MAIN_PHASE_PRE_COMBAT$\\n        hand$ Lava Axe$Stone Rain$Goblin Raider$Forest$Hill Giant$Hill Giant$Lava Axe$Mountain$\\n        generic-debt$ 0$\\n        manapool$ White$ 0$ Blue$ 0$ Black$ 0$ Red$ 0$ Green$ 0$ Colorless$ 0$\\n        opponent-cards$ 6$\\n        self-lands-untapped$ Mountain$Forest$Mountain$\\n        self-lands-tapped$ $\\n        opponent-lands-untapped$ Island$Plains$Plains$Plains$\\n        opponent-lands-tapped$ $\\n        self-creatures-untapped$ Grizzly Bears$\\n        self-creatures-tapped$ $\\n        opponent-creatures-untapped$ Fugitive Wizard$\\n        opponent-creatures-tapped$ $\\n        attackers-blockers$ None$\\n        damage-order$ None$\\n        ',\n",
       "        list(['Forest', 'Mountain', 'tapped_ability_0_Mountain', 'tapped_ability_0_Forest', 'tapped_ability_0_Mountain', 'Pass']),\n",
       "        'tapped_ability_0_Forest', 1],\n",
       "       ['\\n        player-color$ Gold$\\n        life$ 20$\\n        opponent-life$ 21$\\n        phase$ Phases.MAIN_PHASE_PRE_COMBAT$\\n        hand$ Lava Axe$Stone Rain$Goblin Raider$Forest$Hill Giant$Hill Giant$Lava Axe$Mountain$\\n        generic-debt$ 0$\\n        manapool$ Black$ 0$ White$ 0$ Red$ 2$ Colorless$ 0$ Green$ 1$ Blue$ 0$\\n        opponent-cards$ 6$\\n        self-lands-untapped$ $\\n        self-lands-tapped$ Mountain$Forest$Mountain$\\n        opponent-lands-untapped$ Island$Plains$Plains$Plains$\\n        opponent-lands-tapped$ $\\n        self-creatures-untapped$ Grizzly Bears$\\n        self-creatures-tapped$ $\\n        opponent-creatures-untapped$ Fugitive Wizard$\\n        opponent-creatures-tapped$ $\\n        attackers-blockers$ None$\\n        damage-order$ None$\\n        ',\n",
       "        list(['Stone Rain', 'Goblin Raider', 'Forest', 'Mountain', 'Pass']),\n",
       "        'Goblin Raider', 1],\n",
       "       ['\\n        player-color$ Gold$\\n        life$ 20$\\n        opponent-life$ 21$\\n        phase$ Phases.MAIN_PHASE_PRE_COMBAT$\\n        hand$ Lava Axe$Stone Rain$Forest$Hill Giant$Hill Giant$Lava Axe$Mountain$\\n        generic-debt$ 1$\\n        manapool$ Black$ 0$ White$ 0$ Red$ 1$ Colorless$ 0$ Green$ 1$ Blue$ 0$\\n        opponent-cards$ 6$\\n        self-lands-untapped$ $\\n        self-lands-tapped$ Mountain$Forest$Mountain$\\n        opponent-lands-untapped$ Island$Plains$Plains$Plains$\\n        opponent-lands-tapped$ $\\n        self-creatures-untapped$ Grizzly Bears$Goblin Raider$\\n        self-creatures-tapped$ $\\n        opponent-creatures-untapped$ Fugitive Wizard$\\n        opponent-creatures-tapped$ $\\n        attackers-blockers$ None$\\n        damage-order$ None$\\n        ',\n",
       "        list(['Green', 'Red']), 'Red', 1],\n",
       "       ['\\n        player-color$ Gold$\\n        life$ 20$\\n        opponent-life$ 21$\\n        phase$ Phases.MAIN_PHASE_PRE_COMBAT$\\n        hand$ Lava Axe$Stone Rain$Forest$Hill Giant$Hill Giant$Lava Axe$Mountain$\\n        generic-debt$ 0$\\n        manapool$ Black$ 0$ White$ 0$ Red$ 0$ Colorless$ 0$ Green$ 1$ Blue$ 0$\\n        opponent-cards$ 6$\\n        self-lands-untapped$ $\\n        self-lands-tapped$ Mountain$Forest$Mountain$\\n        opponent-lands-untapped$ Island$Plains$Plains$Plains$\\n        opponent-lands-tapped$ $\\n        self-creatures-untapped$ Grizzly Bears$Goblin Raider$\\n        self-creatures-tapped$ $\\n        opponent-creatures-untapped$ Fugitive Wizard$\\n        opponent-creatures-tapped$ $\\n        attackers-blockers$ None$\\n        damage-order$ None$\\n        ',\n",
       "        list(['Forest', 'Mountain', 'Pass']), 'Forest', 1],\n",
       "       ['\\n        player-color$ Gold$\\n        life$ 20$\\n        opponent-life$ 21$\\n        phase$ Phases.MAIN_PHASE_PRE_COMBAT$\\n        hand$ Lava Axe$Stone Rain$Hill Giant$Hill Giant$Lava Axe$Mountain$\\n        generic-debt$ 0$\\n        manapool$ Black$ 0$ White$ 0$ Red$ 0$ Colorless$ 0$ Green$ 1$ Blue$ 0$\\n        opponent-cards$ 6$\\n        self-lands-untapped$ Forest$\\n        self-lands-tapped$ Mountain$Forest$Mountain$\\n        opponent-lands-untapped$ Island$Plains$Plains$Plains$\\n        opponent-lands-tapped$ $\\n        self-creatures-untapped$ Grizzly Bears$Goblin Raider$\\n        self-creatures-tapped$ $\\n        opponent-creatures-untapped$ Fugitive Wizard$\\n        opponent-creatures-tapped$ $\\n        attackers-blockers$ None$\\n        damage-order$ None$\\n        ',\n",
       "        list(['tapped_ability_0_Forest', 'Pass']),\n",
       "        'tapped_ability_0_Forest', 1],\n",
       "       ['\\n        player-color$ Gold$\\n        life$ 20$\\n        opponent-life$ 21$\\n        phase$ Phases.DECLARE_ATTACKERS_STEP$\\n        hand$ Lava Axe$Stone Rain$Hill Giant$Hill Giant$Lava Axe$Mountain$\\n        generic-debt$ 0$\\n        manapool$ Black$ 0$ White$ 0$ Red$ 0$ Colorless$ 0$ Green$ 2$ Blue$ 0$\\n        opponent-cards$ 6$\\n        self-lands-untapped$ $\\n        self-lands-tapped$ Mountain$Forest$Mountain$Forest$\\n        opponent-lands-untapped$ Island$Plains$Plains$Plains$\\n        opponent-lands-tapped$ $\\n        self-creatures-untapped$ Grizzly Bears$Goblin Raider$\\n        self-creatures-tapped$ $\\n        opponent-creatures-untapped$ Fugitive Wizard$\\n        opponent-creatures-tapped$ $\\n        attackers-blockers$ None$\\n        damage-order$ None$\\n        ',\n",
       "        list(['Grizzly Bears$0']), 'Pass', 1],\n",
       "       ['\\n        player-color$ Gold$\\n        life$ 20$\\n        opponent-life$ 21$\\n        phase$ Phases.DECLARE_BLOCKERS_STEP$\\n        hand$ Lava Axe$Stone Rain$Hill Giant$Hill Giant$Lava Axe$Mountain$\\n        generic-debt$ 0$\\n        manapool$ White$ 0$ Blue$ 0$ Black$ 0$ Red$ 0$ Green$ 0$ Colorless$ 0$\\n        opponent-cards$ 4$\\n        self-lands-untapped$ Mountain$Forest$Mountain$Forest$\\n        self-lands-tapped$ $\\n        opponent-lands-untapped$ $\\n        opponent-lands-tapped$ Island$Plains$Plains$Plains$Island$\\n        self-creatures-untapped$ Grizzly Bears$Goblin Raider$\\n        self-creatures-tapped$ $\\n        opponent-creatures-untapped$ Fugitive Wizard$Giant Octopus$\\n        opponent-creatures-tapped$ Fugitive Wizard$\\n        attackers-blockers$ attacker: $Fugitive Wizard$0$ blocked by: $None$$\\n        damage-order$ None$\\n        ',\n",
       "        list(['Pass', 'Grizzly Bears$0$block$Fugitive Wizard$0']),\n",
       "        'Pass', 1],\n",
       "       ['\\n        player-color$ Gold$\\n        life$ 19$\\n        opponent-life$ 21$\\n        phase$ Phases.MAIN_PHASE_PRE_COMBAT$\\n        hand$ Lava Axe$Stone Rain$Hill Giant$Hill Giant$Lava Axe$Mountain$Volcanic Hammer$\\n        generic-debt$ 0$\\n        manapool$ White$ 0$ Blue$ 0$ Black$ 0$ Red$ 0$ Green$ 0$ Colorless$ 0$\\n        opponent-cards$ 4$\\n        self-lands-untapped$ Mountain$Forest$Mountain$Forest$\\n        self-lands-tapped$ $\\n        opponent-lands-untapped$ Island$Plains$Plains$Plains$Island$\\n        opponent-lands-tapped$ $\\n        self-creatures-untapped$ Grizzly Bears$Goblin Raider$\\n        self-creatures-tapped$ $\\n        opponent-creatures-untapped$ Fugitive Wizard$Fugitive Wizard$Giant Octopus$\\n        opponent-creatures-tapped$ $\\n        attackers-blockers$ None$\\n        damage-order$ None$\\n        ',\n",
       "        list(['Mountain', 'tapped_ability_0_Mountain', 'tapped_ability_0_Forest', 'tapped_ability_0_Mountain', 'tapped_ability_0_Forest', 'Pass']),\n",
       "        'tapped_ability_0_Mountain', 1],\n",
       "       ['\\n        player-color$ Gold$\\n        life$ 19$\\n        opponent-life$ 21$\\n        phase$ Phases.MAIN_PHASE_PRE_COMBAT$\\n        hand$ Lava Axe$Stone Rain$Hill Giant$Hill Giant$Lava Axe$Mountain$Volcanic Hammer$\\n        generic-debt$ 0$\\n        manapool$ Black$ 0$ White$ 0$ Red$ 1$ Colorless$ 0$ Green$ 2$ Blue$ 0$\\n        opponent-cards$ 4$\\n        self-lands-untapped$ Mountain$\\n        self-lands-tapped$ Forest$Mountain$Forest$\\n        opponent-lands-untapped$ Island$Plains$Plains$Plains$Island$\\n        opponent-lands-tapped$ $\\n        self-creatures-untapped$ Grizzly Bears$Goblin Raider$\\n        self-creatures-tapped$ $\\n        opponent-creatures-untapped$ Fugitive Wizard$Fugitive Wizard$Giant Octopus$\\n        opponent-creatures-tapped$ $\\n        attackers-blockers$ None$\\n        damage-order$ None$\\n        ',\n",
       "        list(['Stone Rain', 'Mountain', 'Volcanic Hammer', 'tapped_ability_0_Mountain', 'Pass']),\n",
       "        'Volcanic Hammer', 1],\n",
       "       ['\\n        player-color$ Gold$\\n        life$ 19$\\n        opponent-life$ 21$\\n        phase$ Phases.MAIN_PHASE_PRE_COMBAT$\\n        hand$ Lava Axe$Stone Rain$Hill Giant$Hill Giant$Lava Axe$Mountain$\\n        generic-debt$ 0$\\n        manapool$ Black$ 0$ White$ 0$ Red$ 0$ Colorless$ 0$ Green$ 1$ Blue$ 0$\\n        opponent-cards$ 4$\\n        self-lands-untapped$ Mountain$\\n        self-lands-tapped$ Forest$Mountain$Forest$\\n        opponent-lands-untapped$ Island$Plains$Plains$Plains$Island$\\n        opponent-lands-tapped$ $\\n        self-creatures-untapped$ Grizzly Bears$Goblin Raider$\\n        self-creatures-tapped$ $\\n        opponent-creatures-untapped$ Fugitive Wizard$Fugitive Wizard$Giant Octopus$\\n        opponent-creatures-tapped$ $\\n        attackers-blockers$ None$\\n        damage-order$ None$\\n        ',\n",
       "        list(['Fugitive Wizard', 'Grizzly Bears', 'Goblin Raider', 'Fugitive Wizard', 'Giant Octopus', 'self', 'opponent']),\n",
       "        'Giant Octopus', 1],\n",
       "       ['\\n        player-color$ Gold$\\n        life$ 19$\\n        opponent-life$ 21$\\n        phase$ Phases.MAIN_PHASE_PRE_COMBAT$\\n        hand$ Lava Axe$Stone Rain$Hill Giant$Hill Giant$Lava Axe$Mountain$\\n        generic-debt$ 0$\\n        manapool$ Black$ 0$ White$ 0$ Red$ 0$ Colorless$ 0$ Green$ 1$ Blue$ 0$\\n        opponent-cards$ 4$\\n        self-lands-untapped$ Mountain$\\n        self-lands-tapped$ Forest$Mountain$Forest$\\n        opponent-lands-untapped$ Island$Plains$Plains$Plains$Island$\\n        opponent-lands-tapped$ $\\n        self-creatures-untapped$ Grizzly Bears$Goblin Raider$\\n        self-creatures-tapped$ $\\n        opponent-creatures-untapped$ Fugitive Wizard$Fugitive Wizard$Giant Octopus$\\n        opponent-creatures-tapped$ $\\n        attackers-blockers$ None$\\n        damage-order$ None$\\n        ',\n",
       "        list(['Mountain', 'tapped_ability_0_Mountain', 'Pass']),\n",
       "        'Mountain', 1],\n",
       "       ['\\n        player-color$ Gold$\\n        life$ 19$\\n        opponent-life$ 21$\\n        phase$ Phases.MAIN_PHASE_PRE_COMBAT$\\n        hand$ Lava Axe$Stone Rain$Hill Giant$Hill Giant$Lava Axe$\\n        generic-debt$ 0$\\n        manapool$ Black$ 0$ White$ 0$ Red$ 0$ Colorless$ 0$ Green$ 1$ Blue$ 0$\\n        opponent-cards$ 4$\\n        self-lands-untapped$ Mountain$Mountain$\\n        self-lands-tapped$ Forest$Mountain$Forest$\\n        opponent-lands-untapped$ Island$Plains$Plains$Plains$Island$\\n        opponent-lands-tapped$ $\\n        self-creatures-untapped$ Grizzly Bears$Goblin Raider$\\n        self-creatures-tapped$ $\\n        opponent-creatures-untapped$ Fugitive Wizard$Fugitive Wizard$Giant Octopus$\\n        opponent-creatures-tapped$ $\\n        attackers-blockers$ None$\\n        damage-order$ None$\\n        ',\n",
       "        list(['tapped_ability_0_Mountain', 'tapped_ability_0_Mountain', 'Pass']),\n",
       "        'tapped_ability_0_Mountain', 1],\n",
       "       ['\\n        player-color$ Gold$\\n        life$ 19$\\n        opponent-life$ 21$\\n        phase$ Phases.MAIN_PHASE_PRE_COMBAT$\\n        hand$ Lava Axe$Stone Rain$Hill Giant$Hill Giant$Lava Axe$\\n        generic-debt$ 0$\\n        manapool$ Black$ 0$ White$ 0$ Red$ 2$ Colorless$ 0$ Green$ 1$ Blue$ 0$\\n        opponent-cards$ 4$\\n        self-lands-untapped$ $\\n        self-lands-tapped$ Mountain$Forest$Mountain$Forest$Mountain$\\n        opponent-lands-untapped$ Island$Plains$Plains$Plains$Island$\\n        opponent-lands-tapped$ $\\n        self-creatures-untapped$ Grizzly Bears$Goblin Raider$\\n        self-creatures-tapped$ $\\n        opponent-creatures-untapped$ Fugitive Wizard$Fugitive Wizard$Giant Octopus$\\n        opponent-creatures-tapped$ $\\n        attackers-blockers$ None$\\n        damage-order$ None$\\n        ',\n",
       "        list(['Stone Rain', 'Pass']), 'Pass', 1],\n",
       "       ['\\n        player-color$ Gold$\\n        life$ 19$\\n        opponent-life$ 21$\\n        phase$ Phases.DECLARE_ATTACKERS_STEP$\\n        hand$ Lava Axe$Stone Rain$Hill Giant$Hill Giant$Lava Axe$\\n        generic-debt$ 0$\\n        manapool$ Black$ 0$ White$ 0$ Red$ 2$ Colorless$ 0$ Green$ 1$ Blue$ 0$\\n        opponent-cards$ 4$\\n        self-lands-untapped$ $\\n        self-lands-tapped$ Mountain$Forest$Mountain$Forest$Mountain$\\n        opponent-lands-untapped$ Island$Plains$Plains$Plains$Island$\\n        opponent-lands-tapped$ $\\n        self-creatures-untapped$ Grizzly Bears$Goblin Raider$\\n        self-creatures-tapped$ $\\n        opponent-creatures-untapped$ Fugitive Wizard$Fugitive Wizard$Giant Octopus$\\n        opponent-creatures-tapped$ $\\n        attackers-blockers$ None$\\n        damage-order$ None$\\n        ',\n",
       "        list(['Grizzly Bears$0']), 'Goblin Raider$1', 1],\n",
       "       ['\\n        player-color$ Gold$\\n        life$ 19$\\n        opponent-life$ 21$\\n        phase$ Phases.DECLARE_ATTACKERS_STEP$\\n        hand$ Lava Axe$Stone Rain$Hill Giant$Hill Giant$Lava Axe$\\n        generic-debt$ 0$\\n        manapool$ Black$ 0$ White$ 0$ Red$ 2$ Colorless$ 0$ Green$ 1$ Blue$ 0$\\n        opponent-cards$ 4$\\n        self-lands-untapped$ $\\n        self-lands-tapped$ Mountain$Forest$Mountain$Forest$Mountain$\\n        opponent-lands-untapped$ Island$Plains$Plains$Plains$Island$\\n        opponent-lands-tapped$ $\\n        self-creatures-untapped$ Grizzly Bears$Goblin Raider$\\n        self-creatures-tapped$ $\\n        opponent-creatures-untapped$ Fugitive Wizard$Fugitive Wizard$Giant Octopus$\\n        opponent-creatures-tapped$ $\\n        attackers-blockers$ None$\\n        damage-order$ None$\\n        ',\n",
       "        list(['Grizzly Bears$0']), 'Pass', 1],\n",
       "       ['\\n        player-color$ Gold$\\n        life$ 19$\\n        opponent-life$ 21$\\n        phase$ Phases.MAIN_PHASE_PRE_COMBAT$\\n        hand$ Lava Axe$Stone Rain$Hill Giant$Hill Giant$Lava Axe$Enormous Baloth$\\n        generic-debt$ 0$\\n        manapool$ White$ 0$ Blue$ 0$ Black$ 0$ Red$ 0$ Green$ 0$ Colorless$ 0$\\n        opponent-cards$ 4$\\n        self-lands-untapped$ Mountain$Forest$Mountain$Forest$Mountain$\\n        self-lands-tapped$ $\\n        opponent-lands-untapped$ Island$Plains$Plains$Plains$Island$Island$\\n        opponent-lands-tapped$ $\\n        self-creatures-untapped$ Grizzly Bears$Goblin Raider$\\n        self-creatures-tapped$ $\\n        opponent-creatures-untapped$ Fugitive Wizard$\\n        opponent-creatures-tapped$ $\\n        attackers-blockers$ None$\\n        damage-order$ None$\\n        ',\n",
       "        list(['tapped_ability_0_Mountain', 'tapped_ability_0_Forest', 'tapped_ability_0_Mountain', 'tapped_ability_0_Forest', 'tapped_ability_0_Mountain', 'Pass']),\n",
       "        'tapped_ability_0_Mountain', 1],\n",
       "       ['\\n        player-color$ Gold$\\n        life$ 19$\\n        opponent-life$ 21$\\n        phase$ Phases.MAIN_PHASE_PRE_COMBAT$\\n        hand$ Lava Axe$Stone Rain$Hill Giant$Hill Giant$Lava Axe$Enormous Baloth$\\n        generic-debt$ 0$\\n        manapool$ Black$ 0$ White$ 0$ Red$ 1$ Colorless$ 0$ Green$ 1$ Blue$ 0$\\n        opponent-cards$ 4$\\n        self-lands-untapped$ Mountain$Forest$Mountain$\\n        self-lands-tapped$ Forest$Mountain$\\n        opponent-lands-untapped$ Island$Plains$Plains$Plains$Island$Island$\\n        opponent-lands-tapped$ $\\n        self-creatures-untapped$ Grizzly Bears$Goblin Raider$\\n        self-creatures-tapped$ $\\n        opponent-creatures-untapped$ Fugitive Wizard$\\n        opponent-creatures-tapped$ $\\n        attackers-blockers$ None$\\n        damage-order$ None$\\n        ',\n",
       "        list(['tapped_ability_0_Mountain', 'tapped_ability_0_Forest', 'tapped_ability_0_Mountain', 'Pass']),\n",
       "        'tapped_ability_0_Mountain', 1],\n",
       "       ['\\n        player-color$ Gold$\\n        life$ 19$\\n        opponent-life$ 21$\\n        phase$ Phases.MAIN_PHASE_PRE_COMBAT$\\n        hand$ Lava Axe$Stone Rain$Hill Giant$Hill Giant$Lava Axe$Enormous Baloth$\\n        generic-debt$ 0$\\n        manapool$ Black$ 0$ White$ 0$ Red$ 3$ Colorless$ 0$ Green$ 2$ Blue$ 0$\\n        opponent-cards$ 4$\\n        self-lands-untapped$ $\\n        self-lands-tapped$ Mountain$Forest$Mountain$Forest$Mountain$\\n        opponent-lands-untapped$ Island$Plains$Plains$Plains$Island$Island$\\n        opponent-lands-tapped$ $\\n        self-creatures-untapped$ Grizzly Bears$Goblin Raider$\\n        self-creatures-tapped$ $\\n        opponent-creatures-untapped$ Fugitive Wizard$\\n        opponent-creatures-tapped$ $\\n        attackers-blockers$ None$\\n        damage-order$ None$\\n        ',\n",
       "        list(['Lava Axe', 'Stone Rain', 'Hill Giant', 'Hill Giant', 'Lava Axe', 'Pass']),\n",
       "        'Pass', 1],\n",
       "       ['\\n        player-color$ Gold$\\n        life$ 19$\\n        opponent-life$ 21$\\n        phase$ Phases.DECLARE_ATTACKERS_STEP$\\n        hand$ Lava Axe$Stone Rain$Hill Giant$Hill Giant$Lava Axe$Enormous Baloth$\\n        generic-debt$ 0$\\n        manapool$ Black$ 0$ White$ 0$ Red$ 3$ Colorless$ 0$ Green$ 2$ Blue$ 0$\\n        opponent-cards$ 4$\\n        self-lands-untapped$ $\\n        self-lands-tapped$ Mountain$Forest$Mountain$Forest$Mountain$\\n        opponent-lands-untapped$ Island$Plains$Plains$Plains$Island$Island$\\n        opponent-lands-tapped$ $\\n        self-creatures-untapped$ Grizzly Bears$Goblin Raider$\\n        self-creatures-tapped$ $\\n        opponent-creatures-untapped$ Fugitive Wizard$\\n        opponent-creatures-tapped$ $\\n        attackers-blockers$ None$\\n        damage-order$ None$\\n        ',\n",
       "        list([]), 'Goblin Raider$1', 1],\n",
       "       ['\\n        player-color$ Gold$\\n        life$ 19$\\n        opponent-life$ 21$\\n        phase$ Phases.DECLARE_ATTACKERS_STEP$\\n        hand$ Lava Axe$Stone Rain$Hill Giant$Hill Giant$Lava Axe$Enormous Baloth$\\n        generic-debt$ 0$\\n        manapool$ Black$ 0$ White$ 0$ Red$ 3$ Colorless$ 0$ Green$ 2$ Blue$ 0$\\n        opponent-cards$ 4$\\n        self-lands-untapped$ $\\n        self-lands-tapped$ Mountain$Forest$Mountain$Forest$Mountain$\\n        opponent-lands-untapped$ Island$Plains$Plains$Plains$Island$Island$\\n        opponent-lands-tapped$ $\\n        self-creatures-untapped$ Grizzly Bears$Goblin Raider$\\n        self-creatures-tapped$ $\\n        opponent-creatures-untapped$ Fugitive Wizard$\\n        opponent-creatures-tapped$ $\\n        attackers-blockers$ None$\\n        damage-order$ None$\\n        ',\n",
       "        list([]), 'Grizzly Bears$0', 1],\n",
       "       ['\\n        player-color$ Gold$\\n        life$ 19$\\n        opponent-life$ 19$\\n        phase$ Phases.MAIN_PHASE_PRE_COMBAT$\\n        hand$ Lava Axe$Stone Rain$Hill Giant$Hill Giant$Lava Axe$Enormous Baloth$Mountain$\\n        generic-debt$ 0$\\n        manapool$ White$ 0$ Blue$ 0$ Black$ 0$ Red$ 0$ Green$ 0$ Colorless$ 0$\\n        opponent-cards$ 5$\\n        self-lands-untapped$ Mountain$Forest$Mountain$Forest$Mountain$\\n        self-lands-tapped$ $\\n        opponent-lands-untapped$ Island$Plains$Plains$Plains$Island$Island$\\n        opponent-lands-tapped$ $\\n        self-creatures-untapped$ Grizzly Bears$Goblin Raider$\\n        self-creatures-tapped$ $\\n        opponent-creatures-untapped$ $\\n        opponent-creatures-tapped$ $\\n        attackers-blockers$ None$\\n        damage-order$ None$\\n        ',\n",
       "        list(['Mountain', 'tapped_ability_0_Mountain', 'tapped_ability_0_Forest', 'tapped_ability_0_Mountain', 'tapped_ability_0_Forest', 'tapped_ability_0_Mountain', 'Pass']),\n",
       "        'Mountain', 1],\n",
       "       ['\\n        player-color$ Gold$\\n        life$ 19$\\n        opponent-life$ 19$\\n        phase$ Phases.MAIN_PHASE_PRE_COMBAT$\\n        hand$ Lava Axe$Stone Rain$Hill Giant$Hill Giant$Lava Axe$Enormous Baloth$\\n        generic-debt$ 0$\\n        manapool$ White$ 0$ Blue$ 0$ Black$ 0$ Red$ 0$ Green$ 0$ Colorless$ 0$\\n        opponent-cards$ 5$\\n        self-lands-untapped$ Mountain$Forest$Mountain$Forest$Mountain$Mountain$\\n        self-lands-tapped$ $\\n        opponent-lands-untapped$ Island$Plains$Plains$Plains$Island$Island$\\n        opponent-lands-tapped$ $\\n        self-creatures-untapped$ Grizzly Bears$Goblin Raider$\\n        self-creatures-tapped$ $\\n        opponent-creatures-untapped$ $\\n        opponent-creatures-tapped$ $\\n        attackers-blockers$ None$\\n        damage-order$ None$\\n        ',\n",
       "        list(['tapped_ability_0_Mountain', 'tapped_ability_0_Forest', 'tapped_ability_0_Mountain', 'tapped_ability_0_Forest', 'tapped_ability_0_Mountain', 'tapped_ability_0_Mountain', 'Pass']),\n",
       "        'tapped_ability_0_Mountain', 1],\n",
       "       ['\\n        player-color$ Gold$\\n        life$ 19$\\n        opponent-life$ 19$\\n        phase$ Phases.MAIN_PHASE_PRE_COMBAT$\\n        hand$ Lava Axe$Stone Rain$Hill Giant$Hill Giant$Lava Axe$Enormous Baloth$\\n        generic-debt$ 0$\\n        manapool$ Black$ 0$ White$ 0$ Red$ 4$ Colorless$ 0$ Green$ 2$ Blue$ 0$\\n        opponent-cards$ 5$\\n        self-lands-untapped$ $\\n        self-lands-tapped$ Mountain$Forest$Mountain$Forest$Mountain$Mountain$\\n        opponent-lands-untapped$ Island$Plains$Plains$Plains$Island$Island$\\n        opponent-lands-tapped$ $\\n        self-creatures-untapped$ Grizzly Bears$Goblin Raider$\\n        self-creatures-tapped$ $\\n        opponent-creatures-untapped$ $\\n        opponent-creatures-tapped$ $\\n        attackers-blockers$ None$\\n        damage-order$ None$\\n        ',\n",
       "        list(['Lava Axe', 'Stone Rain', 'Hill Giant', 'Hill Giant', 'Lava Axe', 'Pass']),\n",
       "        'Hill Giant', 1],\n",
       "       ['\\n        player-color$ Gold$\\n        life$ 19$\\n        opponent-life$ 19$\\n        phase$ Phases.MAIN_PHASE_PRE_COMBAT$\\n        hand$ Lava Axe$Stone Rain$Hill Giant$Lava Axe$Enormous Baloth$\\n        generic-debt$ 3$\\n        manapool$ Black$ 0$ White$ 0$ Red$ 3$ Colorless$ 0$ Green$ 2$ Blue$ 0$\\n        opponent-cards$ 5$\\n        self-lands-untapped$ $\\n        self-lands-tapped$ Mountain$Forest$Mountain$Forest$Mountain$Mountain$\\n        opponent-lands-untapped$ Island$Plains$Plains$Plains$Island$Island$\\n        opponent-lands-tapped$ $\\n        self-creatures-untapped$ Grizzly Bears$Goblin Raider$Hill Giant$\\n        self-creatures-tapped$ $\\n        opponent-creatures-untapped$ $\\n        opponent-creatures-tapped$ $\\n        attackers-blockers$ None$\\n        damage-order$ None$\\n        ',\n",
       "        list(['Green', 'Red']), 'Red', 1],\n",
       "       ['\\n        player-color$ Gold$\\n        life$ 19$\\n        opponent-life$ 19$\\n        phase$ Phases.MAIN_PHASE_PRE_COMBAT$\\n        hand$ Lava Axe$Stone Rain$Hill Giant$Lava Axe$Enormous Baloth$\\n        generic-debt$ 2$\\n        manapool$ Black$ 0$ White$ 0$ Red$ 2$ Colorless$ 0$ Green$ 2$ Blue$ 0$\\n        opponent-cards$ 5$\\n        self-lands-untapped$ $\\n        self-lands-tapped$ Mountain$Forest$Mountain$Forest$Mountain$Mountain$\\n        opponent-lands-untapped$ Island$Plains$Plains$Plains$Island$Island$\\n        opponent-lands-tapped$ $\\n        self-creatures-untapped$ Grizzly Bears$Goblin Raider$Hill Giant$\\n        self-creatures-tapped$ $\\n        opponent-creatures-untapped$ $\\n        opponent-creatures-tapped$ $\\n        attackers-blockers$ None$\\n        damage-order$ None$\\n        ',\n",
       "        list(['Green', 'Red']), 'Green', 1],\n",
       "       ['\\n        player-color$ Gold$\\n        life$ 19$\\n        opponent-life$ 19$\\n        phase$ Phases.MAIN_PHASE_PRE_COMBAT$\\n        hand$ Lava Axe$Stone Rain$Hill Giant$Lava Axe$Enormous Baloth$\\n        generic-debt$ 1$\\n        manapool$ Black$ 0$ White$ 0$ Red$ 2$ Colorless$ 0$ Green$ 1$ Blue$ 0$\\n        opponent-cards$ 5$\\n        self-lands-untapped$ $\\n        self-lands-tapped$ Mountain$Forest$Mountain$Forest$Mountain$Mountain$\\n        opponent-lands-untapped$ Island$Plains$Plains$Plains$Island$Island$\\n        opponent-lands-tapped$ $\\n        self-creatures-untapped$ Grizzly Bears$Goblin Raider$Hill Giant$\\n        self-creatures-tapped$ $\\n        opponent-creatures-untapped$ $\\n        opponent-creatures-tapped$ $\\n        attackers-blockers$ None$\\n        damage-order$ None$\\n        ',\n",
       "        list(['Green', 'Red']), 'Red', 1],\n",
       "       ['\\n        player-color$ Gold$\\n        life$ 19$\\n        opponent-life$ 19$\\n        phase$ Phases.DECLARE_ATTACKERS_STEP$\\n        hand$ Lava Axe$Stone Rain$Hill Giant$Lava Axe$Enormous Baloth$\\n        generic-debt$ 0$\\n        manapool$ Black$ 0$ White$ 0$ Red$ 1$ Colorless$ 0$ Green$ 1$ Blue$ 0$\\n        opponent-cards$ 5$\\n        self-lands-untapped$ $\\n        self-lands-tapped$ Mountain$Forest$Mountain$Forest$Mountain$Mountain$\\n        opponent-lands-untapped$ Island$Plains$Plains$Plains$Island$Island$\\n        opponent-lands-tapped$ $\\n        self-creatures-untapped$ Grizzly Bears$Goblin Raider$Hill Giant$\\n        self-creatures-tapped$ $\\n        opponent-creatures-untapped$ $\\n        opponent-creatures-tapped$ $\\n        attackers-blockers$ None$\\n        damage-order$ None$\\n        ',\n",
       "        list(['Grizzly Bears$0', 'Goblin Raider$1']), 'Pass', 1],\n",
       "       ['\\n        player-color$ Gold$\\n        life$ 19$\\n        opponent-life$ 19$\\n        phase$ Phases.MAIN_PHASE_PRE_COMBAT$\\n        hand$ Lava Axe$Stone Rain$Hill Giant$Lava Axe$Enormous Baloth$Ogre Taskmaster$\\n        generic-debt$ 0$\\n        manapool$ White$ 0$ Blue$ 0$ Black$ 0$ Red$ 0$ Green$ 0$ Colorless$ 0$\\n        opponent-cards$ 5$\\n        self-lands-untapped$ Mountain$Forest$Mountain$Forest$Mountain$Mountain$\\n        self-lands-tapped$ $\\n        opponent-lands-untapped$ Island$Plains$Plains$Plains$Island$Island$Plains$\\n        opponent-lands-tapped$ $\\n        self-creatures-untapped$ Grizzly Bears$Goblin Raider$Hill Giant$\\n        self-creatures-tapped$ $\\n        opponent-creatures-untapped$ $\\n        opponent-creatures-tapped$ $\\n        attackers-blockers$ None$\\n        damage-order$ None$\\n        ',\n",
       "        list(['tapped_ability_0_Mountain', 'tapped_ability_0_Forest', 'tapped_ability_0_Mountain', 'tapped_ability_0_Forest', 'tapped_ability_0_Mountain', 'tapped_ability_0_Mountain', 'Pass']),\n",
       "        'tapped_ability_0_Mountain', 1],\n",
       "       ['\\n        player-color$ Gold$\\n        life$ 19$\\n        opponent-life$ 19$\\n        phase$ Phases.MAIN_PHASE_PRE_COMBAT$\\n        hand$ Lava Axe$Stone Rain$Hill Giant$Lava Axe$Enormous Baloth$Ogre Taskmaster$\\n        generic-debt$ 0$\\n        manapool$ Black$ 0$ White$ 0$ Red$ 3$ Colorless$ 0$ Green$ 2$ Blue$ 0$\\n        opponent-cards$ 5$\\n        self-lands-untapped$ Mountain$\\n        self-lands-tapped$ Forest$Mountain$Forest$Mountain$Mountain$\\n        opponent-lands-untapped$ Island$Plains$Plains$Plains$Island$Island$Plains$\\n        opponent-lands-tapped$ $\\n        self-creatures-untapped$ Grizzly Bears$Goblin Raider$Hill Giant$\\n        self-creatures-tapped$ $\\n        opponent-creatures-untapped$ $\\n        opponent-creatures-tapped$ $\\n        attackers-blockers$ None$\\n        damage-order$ None$\\n        ',\n",
       "        list(['Lava Axe', 'Stone Rain', 'Hill Giant', 'Lava Axe', 'Ogre Taskmaster', 'tapped_ability_0_Mountain', 'Pass']),\n",
       "        'Lava Axe', 1],\n",
       "       ['\\n        player-color$ Gold$\\n        life$ 19$\\n        opponent-life$ 19$\\n        phase$ Phases.MAIN_PHASE_PRE_COMBAT$\\n        hand$ Stone Rain$Hill Giant$Lava Axe$Enormous Baloth$Ogre Taskmaster$\\n        generic-debt$ 4$\\n        manapool$ Black$ 0$ White$ 0$ Red$ 2$ Colorless$ 0$ Green$ 2$ Blue$ 0$\\n        opponent-cards$ 5$\\n        self-lands-untapped$ Mountain$\\n        self-lands-tapped$ Forest$Mountain$Forest$Mountain$Mountain$\\n        opponent-lands-untapped$ Island$Plains$Plains$Plains$Island$Island$Plains$\\n        opponent-lands-tapped$ $\\n        self-creatures-untapped$ Grizzly Bears$Goblin Raider$Hill Giant$\\n        self-creatures-tapped$ $\\n        opponent-creatures-untapped$ $\\n        opponent-creatures-tapped$ $\\n        attackers-blockers$ None$\\n        damage-order$ None$\\n        ',\n",
       "        list(['Green', 'Red']), 'Red', 1],\n",
       "       ['\\n        player-color$ Gold$\\n        life$ 19$\\n        opponent-life$ 19$\\n        phase$ Phases.MAIN_PHASE_PRE_COMBAT$\\n        hand$ Stone Rain$Hill Giant$Lava Axe$Enormous Baloth$Ogre Taskmaster$\\n        generic-debt$ 3$\\n        manapool$ Black$ 0$ White$ 0$ Red$ 1$ Colorless$ 0$ Green$ 2$ Blue$ 0$\\n        opponent-cards$ 5$\\n        self-lands-untapped$ Mountain$\\n        self-lands-tapped$ Forest$Mountain$Forest$Mountain$Mountain$\\n        opponent-lands-untapped$ Island$Plains$Plains$Plains$Island$Island$Plains$\\n        opponent-lands-tapped$ $\\n        self-creatures-untapped$ Grizzly Bears$Goblin Raider$Hill Giant$\\n        self-creatures-tapped$ $\\n        opponent-creatures-untapped$ $\\n        opponent-creatures-tapped$ $\\n        attackers-blockers$ None$\\n        damage-order$ None$\\n        ',\n",
       "        list(['Green', 'Red']), 'Red', 1],\n",
       "       ['\\n        player-color$ Gold$\\n        life$ 19$\\n        opponent-life$ 19$\\n        phase$ Phases.MAIN_PHASE_PRE_COMBAT$\\n        hand$ Stone Rain$Hill Giant$Lava Axe$Enormous Baloth$Ogre Taskmaster$\\n        generic-debt$ 0$\\n        manapool$ Black$ 0$ White$ 0$ Red$ 0$ Colorless$ 0$ Green$ 0$ Blue$ 0$\\n        opponent-cards$ 5$\\n        self-lands-untapped$ Mountain$\\n        self-lands-tapped$ Forest$Mountain$Forest$Mountain$Mountain$\\n        opponent-lands-untapped$ Island$Plains$Plains$Plains$Island$Island$Plains$\\n        opponent-lands-tapped$ $\\n        self-creatures-untapped$ Grizzly Bears$Goblin Raider$Hill Giant$\\n        self-creatures-tapped$ $\\n        opponent-creatures-untapped$ $\\n        opponent-creatures-tapped$ $\\n        attackers-blockers$ None$\\n        damage-order$ None$\\n        ',\n",
       "        list(['self', 'opponent']), 'self', 1],\n",
       "       ['\\n        player-color$ Gold$\\n        life$ 14$\\n        opponent-life$ 19$\\n        phase$ Phases.MAIN_PHASE_PRE_COMBAT$\\n        hand$ Stone Rain$Hill Giant$Lava Axe$Enormous Baloth$Ogre Taskmaster$\\n        generic-debt$ 0$\\n        manapool$ Black$ 0$ White$ 0$ Red$ 0$ Colorless$ 0$ Green$ 0$ Blue$ 0$\\n        opponent-cards$ 5$\\n        self-lands-untapped$ Mountain$\\n        self-lands-tapped$ Forest$Mountain$Forest$Mountain$Mountain$\\n        opponent-lands-untapped$ Island$Plains$Plains$Plains$Island$Island$Plains$\\n        opponent-lands-tapped$ $\\n        self-creatures-untapped$ Grizzly Bears$Goblin Raider$Hill Giant$\\n        self-creatures-tapped$ $\\n        opponent-creatures-untapped$ $\\n        opponent-creatures-tapped$ $\\n        attackers-blockers$ None$\\n        damage-order$ None$\\n        ',\n",
       "        list(['tapped_ability_0_Mountain', 'Pass']), 'Pass', 1],\n",
       "       ['\\n        player-color$ Gold$\\n        life$ 14$\\n        opponent-life$ 19$\\n        phase$ Phases.DECLARE_ATTACKERS_STEP$\\n        hand$ Stone Rain$Hill Giant$Lava Axe$Enormous Baloth$Ogre Taskmaster$\\n        generic-debt$ 0$\\n        manapool$ Black$ 0$ White$ 0$ Red$ 0$ Colorless$ 0$ Green$ 0$ Blue$ 0$\\n        opponent-cards$ 5$\\n        self-lands-untapped$ Mountain$\\n        self-lands-tapped$ Forest$Mountain$Forest$Mountain$Mountain$\\n        opponent-lands-untapped$ Island$Plains$Plains$Plains$Island$Island$Plains$\\n        opponent-lands-tapped$ $\\n        self-creatures-untapped$ Grizzly Bears$Goblin Raider$Hill Giant$\\n        self-creatures-tapped$ $\\n        opponent-creatures-untapped$ $\\n        opponent-creatures-tapped$ $\\n        attackers-blockers$ None$\\n        damage-order$ None$\\n        ',\n",
       "        list(['Grizzly Bears$0', 'Goblin Raider$1', 'Hill Giant$0']),\n",
       "        'Pass', 1],\n",
       "       ['\\n        player-color$ Gold$\\n        life$ 14$\\n        opponent-life$ 19$\\n        phase$ Phases.MAIN_PHASE_PRE_COMBAT$\\n        hand$ Stone Rain$Hill Giant$Lava Axe$Enormous Baloth$Ogre Taskmaster$Norwood Ranger$\\n        generic-debt$ 0$\\n        manapool$ White$ 0$ Blue$ 0$ Black$ 0$ Red$ 0$ Green$ 0$ Colorless$ 0$\\n        opponent-cards$ 6$\\n        self-lands-untapped$ Mountain$Forest$Mountain$Forest$Mountain$Mountain$\\n        self-lands-tapped$ $\\n        opponent-lands-untapped$ Island$Plains$Plains$Plains$Island$Island$Plains$\\n        opponent-lands-tapped$ $\\n        self-creatures-untapped$ Grizzly Bears$Goblin Raider$Hill Giant$\\n        self-creatures-tapped$ $\\n        opponent-creatures-untapped$ $\\n        opponent-creatures-tapped$ $\\n        attackers-blockers$ None$\\n        damage-order$ None$\\n        ',\n",
       "        list(['tapped_ability_0_Mountain', 'tapped_ability_0_Forest', 'tapped_ability_0_Mountain', 'tapped_ability_0_Forest', 'tapped_ability_0_Mountain', 'tapped_ability_0_Mountain', 'Pass']),\n",
       "        'tapped_ability_0_Mountain', 1],\n",
       "       ['\\n        player-color$ Gold$\\n        life$ 14$\\n        opponent-life$ 19$\\n        phase$ Phases.MAIN_PHASE_PRE_COMBAT$\\n        hand$ Stone Rain$Hill Giant$Lava Axe$Enormous Baloth$Ogre Taskmaster$Norwood Ranger$\\n        generic-debt$ 0$\\n        manapool$ Black$ 0$ White$ 0$ Red$ 4$ Colorless$ 0$ Green$ 2$ Blue$ 0$\\n        opponent-cards$ 6$\\n        self-lands-untapped$ $\\n        self-lands-tapped$ Mountain$Forest$Mountain$Forest$Mountain$Mountain$\\n        opponent-lands-untapped$ Island$Plains$Plains$Plains$Island$Island$Plains$\\n        opponent-lands-tapped$ $\\n        self-creatures-untapped$ Grizzly Bears$Goblin Raider$Hill Giant$\\n        self-creatures-tapped$ $\\n        opponent-creatures-untapped$ $\\n        opponent-creatures-tapped$ $\\n        attackers-blockers$ None$\\n        damage-order$ None$\\n        ',\n",
       "        list(['Stone Rain', 'Hill Giant', 'Lava Axe', 'Ogre Taskmaster', 'Norwood Ranger', 'Pass']),\n",
       "        'Stone Rain', 1],\n",
       "       ['\\n        player-color$ Gold$\\n        life$ 14$\\n        opponent-life$ 19$\\n        phase$ Phases.MAIN_PHASE_PRE_COMBAT$\\n        hand$ Hill Giant$Lava Axe$Enormous Baloth$Ogre Taskmaster$Norwood Ranger$\\n        generic-debt$ 2$\\n        manapool$ Black$ 0$ White$ 0$ Red$ 3$ Colorless$ 0$ Green$ 2$ Blue$ 0$\\n        opponent-cards$ 6$\\n        self-lands-untapped$ $\\n        self-lands-tapped$ Mountain$Forest$Mountain$Forest$Mountain$Mountain$\\n        opponent-lands-untapped$ Island$Plains$Plains$Plains$Island$Island$Plains$\\n        opponent-lands-tapped$ $\\n        self-creatures-untapped$ Grizzly Bears$Goblin Raider$Hill Giant$\\n        self-creatures-tapped$ $\\n        opponent-creatures-untapped$ $\\n        opponent-creatures-tapped$ $\\n        attackers-blockers$ None$\\n        damage-order$ None$\\n        ',\n",
       "        list(['Green', 'Red']), 'Red', 1],\n",
       "       ['\\n        player-color$ Gold$\\n        life$ 14$\\n        opponent-life$ 19$\\n        phase$ Phases.MAIN_PHASE_PRE_COMBAT$\\n        hand$ Hill Giant$Lava Axe$Enormous Baloth$Ogre Taskmaster$Norwood Ranger$\\n        generic-debt$ 1$\\n        manapool$ Black$ 0$ White$ 0$ Red$ 2$ Colorless$ 0$ Green$ 2$ Blue$ 0$\\n        opponent-cards$ 6$\\n        self-lands-untapped$ $\\n        self-lands-tapped$ Mountain$Forest$Mountain$Forest$Mountain$Mountain$\\n        opponent-lands-untapped$ Island$Plains$Plains$Plains$Island$Island$Plains$\\n        opponent-lands-tapped$ $\\n        self-creatures-untapped$ Grizzly Bears$Goblin Raider$Hill Giant$\\n        self-creatures-tapped$ $\\n        opponent-creatures-untapped$ $\\n        opponent-creatures-tapped$ $\\n        attackers-blockers$ None$\\n        damage-order$ None$\\n        ',\n",
       "        list(['Green', 'Red']), 'Green', 1],\n",
       "       ['\\n        player-color$ Gold$\\n        life$ 14$\\n        opponent-life$ 19$\\n        phase$ Phases.MAIN_PHASE_PRE_COMBAT$\\n        hand$ Hill Giant$Lava Axe$Enormous Baloth$Ogre Taskmaster$Norwood Ranger$\\n        generic-debt$ 0$\\n        manapool$ Black$ 0$ White$ 0$ Red$ 2$ Colorless$ 0$ Green$ 1$ Blue$ 0$\\n        opponent-cards$ 6$\\n        self-lands-untapped$ $\\n        self-lands-tapped$ Mountain$Forest$Mountain$Forest$Mountain$Mountain$\\n        opponent-lands-untapped$ Island$Plains$Plains$Plains$Island$Island$Plains$\\n        opponent-lands-tapped$ $\\n        self-creatures-untapped$ Grizzly Bears$Goblin Raider$Hill Giant$\\n        self-creatures-tapped$ $\\n        opponent-creatures-untapped$ $\\n        opponent-creatures-tapped$ $\\n        attackers-blockers$ None$\\n        damage-order$ None$\\n        ',\n",
       "        list(['Island', 'Mountain', 'Forest', 'Plains', 'Plains', 'Mountain', 'Plains', 'Forest', 'Island', 'Mountain', 'Island', 'Mountain', 'Plains']),\n",
       "        'Mountain', 1],\n",
       "       ['\\n        player-color$ Gold$\\n        life$ 14$\\n        opponent-life$ 19$\\n        phase$ Phases.MAIN_PHASE_PRE_COMBAT$\\n        hand$ Hill Giant$Lava Axe$Enormous Baloth$Ogre Taskmaster$Norwood Ranger$\\n        generic-debt$ 0$\\n        manapool$ Black$ 0$ White$ 0$ Red$ 2$ Colorless$ 0$ Green$ 1$ Blue$ 0$\\n        opponent-cards$ 6$\\n        self-lands-untapped$ $\\n        self-lands-tapped$ Mountain$Forest$Mountain$Forest$Mountain$\\n        opponent-lands-untapped$ Island$Plains$Plains$Plains$Island$Island$Plains$\\n        opponent-lands-tapped$ $\\n        self-creatures-untapped$ Grizzly Bears$Goblin Raider$Hill Giant$\\n        self-creatures-tapped$ $\\n        opponent-creatures-untapped$ $\\n        opponent-creatures-tapped$ $\\n        attackers-blockers$ None$\\n        damage-order$ None$\\n        ',\n",
       "        list(['Norwood Ranger', 'Pass']), 'Pass', 1],\n",
       "       ['\\n        player-color$ Gold$\\n        life$ 14$\\n        opponent-life$ 19$\\n        phase$ Phases.DECLARE_ATTACKERS_STEP$\\n        hand$ Hill Giant$Lava Axe$Enormous Baloth$Ogre Taskmaster$Norwood Ranger$\\n        generic-debt$ 0$\\n        manapool$ Black$ 0$ White$ 0$ Red$ 2$ Colorless$ 0$ Green$ 1$ Blue$ 0$\\n        opponent-cards$ 6$\\n        self-lands-untapped$ $\\n        self-lands-tapped$ Mountain$Forest$Mountain$Forest$Mountain$\\n        opponent-lands-untapped$ Island$Plains$Plains$Plains$Island$Island$Plains$\\n        opponent-lands-tapped$ $\\n        self-creatures-untapped$ Grizzly Bears$Goblin Raider$Hill Giant$\\n        self-creatures-tapped$ $\\n        opponent-creatures-untapped$ $\\n        opponent-creatures-tapped$ $\\n        attackers-blockers$ None$\\n        damage-order$ None$\\n        ',\n",
       "        list(['Grizzly Bears$0', 'Goblin Raider$1', 'Hill Giant$0']),\n",
       "        'Pass', 1],\n",
       "       ['\\n        player-color$ Gold$\\n        life$ 14$\\n        opponent-life$ 19$\\n        phase$ Phases.MAIN_PHASE_PRE_COMBAT$\\n        hand$ Hill Giant$Lava Axe$Enormous Baloth$Ogre Taskmaster$Norwood Ranger$Forest$\\n        generic-debt$ 0$\\n        manapool$ White$ 0$ Blue$ 0$ Black$ 0$ Red$ 0$ Green$ 0$ Colorless$ 0$\\n        opponent-cards$ 4$\\n        self-lands-untapped$ Mountain$Forest$Mountain$Forest$Mountain$\\n        self-lands-tapped$ $\\n        opponent-lands-untapped$ Island$Plains$Plains$Plains$Island$Island$Plains$Plains$\\n        opponent-lands-tapped$ $\\n        self-creatures-untapped$ Grizzly Bears$Goblin Raider$Hill Giant$\\n        self-creatures-tapped$ $\\n        opponent-creatures-untapped$ Giant Octopus$Glory Seeker$\\n        opponent-creatures-tapped$ $\\n        attackers-blockers$ None$\\n        damage-order$ None$\\n        ',\n",
       "        list(['Forest', 'tapped_ability_0_Mountain', 'tapped_ability_0_Forest', 'tapped_ability_0_Mountain', 'tapped_ability_0_Forest', 'tapped_ability_0_Mountain', 'Pass']),\n",
       "        'tapped_ability_0_Forest', 1],\n",
       "       ['\\n        player-color$ Gold$\\n        life$ 14$\\n        opponent-life$ 19$\\n        phase$ Phases.MAIN_PHASE_PRE_COMBAT$\\n        hand$ Hill Giant$Lava Axe$Enormous Baloth$Ogre Taskmaster$Norwood Ranger$Forest$\\n        generic-debt$ 0$\\n        manapool$ Black$ 0$ White$ 0$ Red$ 2$ Colorless$ 0$ Green$ 1$ Blue$ 0$\\n        opponent-cards$ 4$\\n        self-lands-untapped$ Mountain$Forest$\\n        self-lands-tapped$ Mountain$Forest$Mountain$\\n        opponent-lands-untapped$ Island$Plains$Plains$Plains$Island$Island$Plains$Plains$\\n        opponent-lands-tapped$ $\\n        self-creatures-untapped$ Grizzly Bears$Goblin Raider$Hill Giant$\\n        self-creatures-tapped$ $\\n        opponent-creatures-untapped$ Giant Octopus$Glory Seeker$\\n        opponent-creatures-tapped$ $\\n        attackers-blockers$ None$\\n        damage-order$ None$\\n        ',\n",
       "        list(['Norwood Ranger', 'Forest', 'tapped_ability_0_Mountain', 'tapped_ability_0_Forest', 'Pass']),\n",
       "        'Norwood Ranger', 1],\n",
       "       ['\\n        player-color$ Gold$\\n        life$ 14$\\n        opponent-life$ 19$\\n        phase$ Phases.MAIN_PHASE_PRE_COMBAT$\\n        hand$ Hill Giant$Lava Axe$Enormous Baloth$Ogre Taskmaster$Forest$\\n        generic-debt$ 0$\\n        manapool$ Black$ 0$ White$ 0$ Red$ 2$ Colorless$ 0$ Green$ 0$ Blue$ 0$\\n        opponent-cards$ 4$\\n        self-lands-untapped$ Mountain$Forest$\\n        self-lands-tapped$ Mountain$Forest$Mountain$\\n        opponent-lands-untapped$ Island$Plains$Plains$Plains$Island$Island$Plains$Plains$\\n        opponent-lands-tapped$ $\\n        self-creatures-untapped$ Grizzly Bears$Goblin Raider$Hill Giant$Norwood Ranger$\\n        self-creatures-tapped$ $\\n        opponent-creatures-untapped$ Giant Octopus$Glory Seeker$\\n        opponent-creatures-tapped$ $\\n        attackers-blockers$ None$\\n        damage-order$ None$\\n        ',\n",
       "        list(['Forest', 'tapped_ability_0_Mountain', 'tapped_ability_0_Forest', 'Pass']),\n",
       "        'tapped_ability_0_Forest', 1],\n",
       "       ['\\n        player-color$ Gold$\\n        life$ 14$\\n        opponent-life$ 19$\\n        phase$ Phases.MAIN_PHASE_PRE_COMBAT$\\n        hand$ Hill Giant$Lava Axe$Enormous Baloth$Ogre Taskmaster$Forest$\\n        generic-debt$ 0$\\n        manapool$ Black$ 0$ White$ 0$ Red$ 3$ Colorless$ 0$ Green$ 1$ Blue$ 0$\\n        opponent-cards$ 4$\\n        self-lands-untapped$ $\\n        self-lands-tapped$ Mountain$Forest$Mountain$Forest$Mountain$\\n        opponent-lands-untapped$ Island$Plains$Plains$Plains$Island$Island$Plains$Plains$\\n        opponent-lands-tapped$ $\\n        self-creatures-untapped$ Grizzly Bears$Goblin Raider$Hill Giant$Norwood Ranger$\\n        self-creatures-tapped$ $\\n        opponent-creatures-untapped$ Giant Octopus$Glory Seeker$\\n        opponent-creatures-tapped$ $\\n        attackers-blockers$ None$\\n        damage-order$ None$\\n        ',\n",
       "        list(['Hill Giant', 'Ogre Taskmaster', 'Forest', 'Pass']),\n",
       "        'Forest', 1],\n",
       "       ['\\n        player-color$ Gold$\\n        life$ 14$\\n        opponent-life$ 19$\\n        phase$ Phases.MAIN_PHASE_PRE_COMBAT$\\n        hand$ Hill Giant$Lava Axe$Enormous Baloth$Ogre Taskmaster$\\n        generic-debt$ 0$\\n        manapool$ Black$ 0$ White$ 0$ Red$ 3$ Colorless$ 0$ Green$ 1$ Blue$ 0$\\n        opponent-cards$ 4$\\n        self-lands-untapped$ Forest$\\n        self-lands-tapped$ Mountain$Forest$Mountain$Forest$Mountain$\\n        opponent-lands-untapped$ Island$Plains$Plains$Plains$Island$Island$Plains$Plains$\\n        opponent-lands-tapped$ $\\n        self-creatures-untapped$ Grizzly Bears$Goblin Raider$Hill Giant$Norwood Ranger$\\n        self-creatures-tapped$ $\\n        opponent-creatures-untapped$ Giant Octopus$Glory Seeker$\\n        opponent-creatures-tapped$ $\\n        attackers-blockers$ None$\\n        damage-order$ None$\\n        ',\n",
       "        list(['Hill Giant', 'Ogre Taskmaster', 'tapped_ability_0_Forest', 'Pass']),\n",
       "        'Pass', 1],\n",
       "       ['\\n        player-color$ Gold$\\n        life$ 14$\\n        opponent-life$ 19$\\n        phase$ Phases.DECLARE_ATTACKERS_STEP$\\n        hand$ Hill Giant$Lava Axe$Enormous Baloth$Ogre Taskmaster$\\n        generic-debt$ 0$\\n        manapool$ Black$ 0$ White$ 0$ Red$ 3$ Colorless$ 0$ Green$ 1$ Blue$ 0$\\n        opponent-cards$ 4$\\n        self-lands-untapped$ Forest$\\n        self-lands-tapped$ Mountain$Forest$Mountain$Forest$Mountain$\\n        opponent-lands-untapped$ Island$Plains$Plains$Plains$Island$Island$Plains$Plains$\\n        opponent-lands-tapped$ $\\n        self-creatures-untapped$ Grizzly Bears$Goblin Raider$Hill Giant$Norwood Ranger$\\n        self-creatures-tapped$ $\\n        opponent-creatures-untapped$ Giant Octopus$Glory Seeker$\\n        opponent-creatures-tapped$ $\\n        attackers-blockers$ None$\\n        damage-order$ None$\\n        ',\n",
       "        list(['Grizzly Bears$0', 'Goblin Raider$1', 'Hill Giant$0']),\n",
       "        'Pass', 1],\n",
       "       ['\\n        player-color$ Gold$\\n        life$ 14$\\n        opponent-life$ 19$\\n        phase$ Phases.MAIN_PHASE_PRE_COMBAT$\\n        hand$ Hill Giant$Lava Axe$Enormous Baloth$Ogre Taskmaster$Forest$\\n        generic-debt$ 0$\\n        manapool$ White$ 0$ Blue$ 0$ Black$ 0$ Red$ 0$ Green$ 0$ Colorless$ 0$\\n        opponent-cards$ 3$\\n        self-lands-untapped$ Mountain$Forest$Mountain$Forest$Mountain$Forest$\\n        self-lands-tapped$ $\\n        opponent-lands-untapped$ Island$Plains$Plains$Plains$Island$Island$Plains$Plains$Plains$\\n        opponent-lands-tapped$ $\\n        self-creatures-untapped$ Grizzly Bears$Goblin Raider$Hill Giant$Norwood Ranger$\\n        self-creatures-tapped$ $\\n        opponent-creatures-untapped$ Giant Octopus$Glory Seeker$Glory Seeker$\\n        opponent-creatures-tapped$ $\\n        attackers-blockers$ None$\\n        damage-order$ None$\\n        ',\n",
       "        list(['Forest', 'tapped_ability_0_Mountain', 'tapped_ability_0_Forest', 'tapped_ability_0_Mountain', 'tapped_ability_0_Forest', 'tapped_ability_0_Mountain', 'tapped_ability_0_Forest', 'Pass']),\n",
       "        'tapped_ability_0_Forest', 1],\n",
       "       ['\\n        player-color$ Gold$\\n        life$ 14$\\n        opponent-life$ 19$\\n        phase$ Phases.MAIN_PHASE_PRE_COMBAT$\\n        hand$ Hill Giant$Lava Axe$Enormous Baloth$Ogre Taskmaster$Forest$\\n        generic-debt$ 0$\\n        manapool$ Black$ 0$ White$ 0$ Red$ 3$ Colorless$ 0$ Green$ 3$ Blue$ 0$\\n        opponent-cards$ 3$\\n        self-lands-untapped$ $\\n        self-lands-tapped$ Mountain$Forest$Mountain$Forest$Mountain$Forest$\\n        opponent-lands-untapped$ Island$Plains$Plains$Plains$Island$Island$Plains$Plains$Plains$\\n        opponent-lands-tapped$ $\\n        self-creatures-untapped$ Grizzly Bears$Goblin Raider$Hill Giant$Norwood Ranger$\\n        self-creatures-tapped$ $\\n        opponent-creatures-untapped$ Giant Octopus$Glory Seeker$Glory Seeker$\\n        opponent-creatures-tapped$ $\\n        attackers-blockers$ None$\\n        damage-order$ None$\\n        ',\n",
       "        list(['Hill Giant', 'Lava Axe', 'Ogre Taskmaster', 'Forest', 'Pass']),\n",
       "        'Pass', 1],\n",
       "       ['\\n        player-color$ Gold$\\n        life$ 14$\\n        opponent-life$ 19$\\n        phase$ Phases.DECLARE_ATTACKERS_STEP$\\n        hand$ Hill Giant$Lava Axe$Enormous Baloth$Ogre Taskmaster$Forest$\\n        generic-debt$ 0$\\n        manapool$ Black$ 0$ White$ 0$ Red$ 3$ Colorless$ 0$ Green$ 3$ Blue$ 0$\\n        opponent-cards$ 3$\\n        self-lands-untapped$ $\\n        self-lands-tapped$ Mountain$Forest$Mountain$Forest$Mountain$Forest$\\n        opponent-lands-untapped$ Island$Plains$Plains$Plains$Island$Island$Plains$Plains$Plains$\\n        opponent-lands-tapped$ $\\n        self-creatures-untapped$ Grizzly Bears$Goblin Raider$Hill Giant$Norwood Ranger$\\n        self-creatures-tapped$ $\\n        opponent-creatures-untapped$ Giant Octopus$Glory Seeker$Glory Seeker$\\n        opponent-creatures-tapped$ $\\n        attackers-blockers$ None$\\n        damage-order$ None$\\n        ',\n",
       "        list(['Hill Giant$0']), 'Grizzly Bears$0', 1],\n",
       "       ['\\n        player-color$ Gold$\\n        life$ 14$\\n        opponent-life$ 19$\\n        phase$ Phases.DECLARE_ATTACKERS_STEP$\\n        hand$ Hill Giant$Lava Axe$Enormous Baloth$Ogre Taskmaster$Forest$\\n        generic-debt$ 0$\\n        manapool$ Black$ 0$ White$ 0$ Red$ 3$ Colorless$ 0$ Green$ 3$ Blue$ 0$\\n        opponent-cards$ 3$\\n        self-lands-untapped$ $\\n        self-lands-tapped$ Mountain$Forest$Mountain$Forest$Mountain$Forest$\\n        opponent-lands-untapped$ Island$Plains$Plains$Plains$Island$Island$Plains$Plains$Plains$\\n        opponent-lands-tapped$ $\\n        self-creatures-untapped$ Grizzly Bears$Goblin Raider$Hill Giant$Norwood Ranger$\\n        self-creatures-tapped$ $\\n        opponent-creatures-untapped$ Giant Octopus$Glory Seeker$Glory Seeker$\\n        opponent-creatures-tapped$ $\\n        attackers-blockers$ None$\\n        damage-order$ None$\\n        ',\n",
       "        list(['Hill Giant$0']), 'Norwood Ranger$1', 1],\n",
       "       ['\\n        player-color$ Gold$\\n        life$ 14$\\n        opponent-life$ 19$\\n        phase$ Phases.DECLARE_ATTACKERS_STEP$\\n        hand$ Hill Giant$Lava Axe$Enormous Baloth$Ogre Taskmaster$Forest$\\n        generic-debt$ 0$\\n        manapool$ Black$ 0$ White$ 0$ Red$ 3$ Colorless$ 0$ Green$ 3$ Blue$ 0$\\n        opponent-cards$ 3$\\n        self-lands-untapped$ $\\n        self-lands-tapped$ Mountain$Forest$Mountain$Forest$Mountain$Forest$\\n        opponent-lands-untapped$ Island$Plains$Plains$Plains$Island$Island$Plains$Plains$Plains$\\n        opponent-lands-tapped$ $\\n        self-creatures-untapped$ Grizzly Bears$Goblin Raider$Hill Giant$Norwood Ranger$\\n        self-creatures-tapped$ $\\n        opponent-creatures-untapped$ Giant Octopus$Glory Seeker$Glory Seeker$\\n        opponent-creatures-tapped$ $\\n        attackers-blockers$ None$\\n        damage-order$ None$\\n        ',\n",
       "        list(['Hill Giant$0']), 'Goblin Raider$1', 1],\n",
       "       ['\\n        player-color$ Gold$\\n        life$ 14$\\n        opponent-life$ 19$\\n        phase$ Phases.DECLARE_ATTACKERS_STEP$\\n        hand$ Hill Giant$Lava Axe$Enormous Baloth$Ogre Taskmaster$Forest$\\n        generic-debt$ 0$\\n        manapool$ Black$ 0$ White$ 0$ Red$ 3$ Colorless$ 0$ Green$ 3$ Blue$ 0$\\n        opponent-cards$ 3$\\n        self-lands-untapped$ $\\n        self-lands-tapped$ Mountain$Forest$Mountain$Forest$Mountain$Forest$\\n        opponent-lands-untapped$ Island$Plains$Plains$Plains$Island$Island$Plains$Plains$Plains$\\n        opponent-lands-tapped$ $\\n        self-creatures-untapped$ Grizzly Bears$Goblin Raider$Hill Giant$Norwood Ranger$\\n        self-creatures-tapped$ $\\n        opponent-creatures-untapped$ Giant Octopus$Glory Seeker$Glory Seeker$\\n        opponent-creatures-tapped$ $\\n        attackers-blockers$ None$\\n        damage-order$ None$\\n        ',\n",
       "        list(['Hill Giant$0']), 'Pass', 1],\n",
       "       ['\\n        player-color$ Gold$\\n        life$ 14$\\n        opponent-life$ 19$\\n        phase$ Phases.DECLARE_BLOCKERS_STEP_509_2$\\n        hand$ Hill Giant$Lava Axe$Enormous Baloth$Ogre Taskmaster$Forest$\\n        generic-debt$ 0$\\n        manapool$ Black$ 0$ White$ 0$ Red$ 3$ Colorless$ 0$ Green$ 3$ Blue$ 0$\\n        opponent-cards$ 3$\\n        self-lands-untapped$ $\\n        self-lands-tapped$ Mountain$Forest$Mountain$Forest$Mountain$Forest$\\n        opponent-lands-untapped$ Island$Plains$Plains$Plains$Island$Island$Plains$Plains$Plains$\\n        opponent-lands-tapped$ $\\n        self-creatures-untapped$ Hill Giant$\\n        self-creatures-tapped$ Grizzly Bears$Goblin Raider$Norwood Ranger$\\n        opponent-creatures-untapped$ Giant Octopus$Glory Seeker$Glory Seeker$\\n        opponent-creatures-tapped$ $\\n        attackers-blockers$ attacker: $Grizzly Bears$0$ blocked by: $Giant Octopus$2$Glory Seeker$0$\\nattacker: $Goblin Raider$1$ blocked by: $None$\\nattacker: $Norwood Ranger$1$ blocked by: $None$$\\n        damage-order$ None$\\n        ',\n",
       "        list([]), 'Giant Octopus$2', 1],\n",
       "       ['\\n        player-color$ Gold$\\n        life$ 14$\\n        opponent-life$ 16$\\n        phase$ Phases.MAIN_PHASE_PRE_COMBAT$\\n        hand$ Hill Giant$Lava Axe$Enormous Baloth$Ogre Taskmaster$Forest$Goblin Raider$\\n        generic-debt$ 0$\\n        manapool$ White$ 0$ Blue$ 0$ Black$ 0$ Red$ 0$ Green$ 0$ Colorless$ 0$\\n        opponent-cards$ 3$\\n        self-lands-untapped$ Mountain$Forest$Mountain$Forest$Mountain$Forest$\\n        self-lands-tapped$ $\\n        opponent-lands-untapped$ Island$Plains$Plains$Plains$Island$Island$Plains$Plains$Plains$Island$\\n        opponent-lands-tapped$ $\\n        self-creatures-untapped$ Goblin Raider$Hill Giant$Norwood Ranger$\\n        self-creatures-tapped$ $\\n        opponent-creatures-untapped$ Glory Seeker$\\n        opponent-creatures-tapped$ $\\n        attackers-blockers$ None$\\n        damage-order$ None$\\n        ',\n",
       "        list(['Forest', 'tapped_ability_0_Mountain', 'tapped_ability_0_Forest', 'tapped_ability_0_Mountain', 'tapped_ability_0_Forest', 'tapped_ability_0_Mountain', 'tapped_ability_0_Forest', 'Pass']),\n",
       "        'Forest', 1],\n",
       "       ['\\n        player-color$ Gold$\\n        life$ 14$\\n        opponent-life$ 16$\\n        phase$ Phases.MAIN_PHASE_PRE_COMBAT$\\n        hand$ Hill Giant$Lava Axe$Enormous Baloth$Ogre Taskmaster$Goblin Raider$\\n        generic-debt$ 0$\\n        manapool$ White$ 0$ Blue$ 0$ Black$ 0$ Red$ 0$ Green$ 0$ Colorless$ 0$\\n        opponent-cards$ 3$\\n        self-lands-untapped$ Mountain$Forest$Mountain$Forest$Mountain$Forest$Forest$\\n        self-lands-tapped$ $\\n        opponent-lands-untapped$ Island$Plains$Plains$Plains$Island$Island$Plains$Plains$Plains$Island$\\n        opponent-lands-tapped$ $\\n        self-creatures-untapped$ Goblin Raider$Hill Giant$Norwood Ranger$\\n        self-creatures-tapped$ $\\n        opponent-creatures-untapped$ Glory Seeker$\\n        opponent-creatures-tapped$ $\\n        attackers-blockers$ None$\\n        damage-order$ None$\\n        ',\n",
       "        list(['tapped_ability_0_Mountain', 'tapped_ability_0_Forest', 'tapped_ability_0_Mountain', 'tapped_ability_0_Forest', 'tapped_ability_0_Mountain', 'tapped_ability_0_Forest', 'tapped_ability_0_Forest', 'Pass']),\n",
       "        'tapped_ability_0_Forest', 1],\n",
       "       ['\\n        player-color$ Gold$\\n        life$ 14$\\n        opponent-life$ 16$\\n        phase$ Phases.MAIN_PHASE_PRE_COMBAT$\\n        hand$ Hill Giant$Lava Axe$Enormous Baloth$Ogre Taskmaster$Goblin Raider$\\n        generic-debt$ 0$\\n        manapool$ Black$ 0$ White$ 0$ Red$ 1$ Colorless$ 0$ Green$ 2$ Blue$ 0$\\n        opponent-cards$ 3$\\n        self-lands-untapped$ Mountain$Forest$Mountain$Forest$\\n        self-lands-tapped$ Mountain$Forest$Forest$\\n        opponent-lands-untapped$ Island$Plains$Plains$Plains$Island$Island$Plains$Plains$Plains$Island$\\n        opponent-lands-tapped$ $\\n        self-creatures-untapped$ Goblin Raider$Hill Giant$Norwood Ranger$\\n        self-creatures-tapped$ $\\n        opponent-creatures-untapped$ Glory Seeker$\\n        opponent-creatures-tapped$ $\\n        attackers-blockers$ None$\\n        damage-order$ None$\\n        ',\n",
       "        list(['Goblin Raider', 'tapped_ability_0_Mountain', 'tapped_ability_0_Forest', 'tapped_ability_0_Mountain', 'tapped_ability_0_Forest', 'Pass']),\n",
       "        'tapped_ability_0_Forest', 1],\n",
       "       ['\\n        player-color$ Gold$\\n        life$ 14$\\n        opponent-life$ 16$\\n        phase$ Phases.MAIN_PHASE_PRE_COMBAT$\\n        hand$ Hill Giant$Lava Axe$Enormous Baloth$Ogre Taskmaster$Goblin Raider$\\n        generic-debt$ 0$\\n        manapool$ Black$ 0$ White$ 0$ Red$ 3$ Colorless$ 0$ Green$ 4$ Blue$ 0$\\n        opponent-cards$ 3$\\n        self-lands-untapped$ $\\n        self-lands-tapped$ Mountain$Forest$Mountain$Forest$Mountain$Forest$Forest$\\n        opponent-lands-untapped$ Island$Plains$Plains$Plains$Island$Island$Plains$Plains$Plains$Island$\\n        opponent-lands-tapped$ $\\n        self-creatures-untapped$ Goblin Raider$Hill Giant$Norwood Ranger$\\n        self-creatures-tapped$ $\\n        opponent-creatures-untapped$ Glory Seeker$\\n        opponent-creatures-tapped$ $\\n        attackers-blockers$ None$\\n        damage-order$ None$\\n        ',\n",
       "        list(['Hill Giant', 'Lava Axe', 'Enormous Baloth', 'Ogre Taskmaster', 'Goblin Raider', 'Pass']),\n",
       "        'Lava Axe', 1],\n",
       "       ['\\n        player-color$ Gold$\\n        life$ 14$\\n        opponent-life$ 16$\\n        phase$ Phases.MAIN_PHASE_PRE_COMBAT$\\n        hand$ Hill Giant$Enormous Baloth$Ogre Taskmaster$Goblin Raider$\\n        generic-debt$ 4$\\n        manapool$ Black$ 0$ White$ 0$ Red$ 2$ Colorless$ 0$ Green$ 4$ Blue$ 0$\\n        opponent-cards$ 3$\\n        self-lands-untapped$ $\\n        self-lands-tapped$ Mountain$Forest$Mountain$Forest$Mountain$Forest$Forest$\\n        opponent-lands-untapped$ Island$Plains$Plains$Plains$Island$Island$Plains$Plains$Plains$Island$\\n        opponent-lands-tapped$ $\\n        self-creatures-untapped$ Goblin Raider$Hill Giant$Norwood Ranger$\\n        self-creatures-tapped$ $\\n        opponent-creatures-untapped$ Glory Seeker$\\n        opponent-creatures-tapped$ $\\n        attackers-blockers$ None$\\n        damage-order$ None$\\n        ',\n",
       "        list(['Green', 'Red']), 'Red', 1],\n",
       "       ['\\n        player-color$ Gold$\\n        life$ 14$\\n        opponent-life$ 16$\\n        phase$ Phases.MAIN_PHASE_PRE_COMBAT$\\n        hand$ Hill Giant$Enormous Baloth$Ogre Taskmaster$Goblin Raider$\\n        generic-debt$ 3$\\n        manapool$ Black$ 0$ White$ 0$ Red$ 1$ Colorless$ 0$ Green$ 4$ Blue$ 0$\\n        opponent-cards$ 3$\\n        self-lands-untapped$ $\\n        self-lands-tapped$ Mountain$Forest$Mountain$Forest$Mountain$Forest$Forest$\\n        opponent-lands-untapped$ Island$Plains$Plains$Plains$Island$Island$Plains$Plains$Plains$Island$\\n        opponent-lands-tapped$ $\\n        self-creatures-untapped$ Goblin Raider$Hill Giant$Norwood Ranger$\\n        self-creatures-tapped$ $\\n        opponent-creatures-untapped$ Glory Seeker$\\n        opponent-creatures-tapped$ $\\n        attackers-blockers$ None$\\n        damage-order$ None$\\n        ',\n",
       "        list(['Green', 'Red']), 'Red', 1],\n",
       "       ['\\n        player-color$ Gold$\\n        life$ 14$\\n        opponent-life$ 16$\\n        phase$ Phases.MAIN_PHASE_PRE_COMBAT$\\n        hand$ Hill Giant$Enormous Baloth$Ogre Taskmaster$Goblin Raider$\\n        generic-debt$ 0$\\n        manapool$ Black$ 0$ White$ 0$ Red$ 0$ Colorless$ 0$ Green$ 2$ Blue$ 0$\\n        opponent-cards$ 3$\\n        self-lands-untapped$ $\\n        self-lands-tapped$ Mountain$Forest$Mountain$Forest$Mountain$Forest$Forest$\\n        opponent-lands-untapped$ Island$Plains$Plains$Plains$Island$Island$Plains$Plains$Plains$Island$\\n        opponent-lands-tapped$ $\\n        self-creatures-untapped$ Goblin Raider$Hill Giant$Norwood Ranger$\\n        self-creatures-tapped$ $\\n        opponent-creatures-untapped$ Glory Seeker$\\n        opponent-creatures-tapped$ $\\n        attackers-blockers$ None$\\n        damage-order$ None$\\n        ',\n",
       "        list(['self', 'opponent']), 'opponent', 1],\n",
       "       ['\\n        player-color$ Gold$\\n        life$ 14$\\n        opponent-life$ 11$\\n        phase$ Phases.DECLARE_ATTACKERS_STEP$\\n        hand$ Hill Giant$Enormous Baloth$Ogre Taskmaster$Goblin Raider$\\n        generic-debt$ 0$\\n        manapool$ Black$ 0$ White$ 0$ Red$ 0$ Colorless$ 0$ Green$ 2$ Blue$ 0$\\n        opponent-cards$ 3$\\n        self-lands-untapped$ $\\n        self-lands-tapped$ Mountain$Forest$Mountain$Forest$Mountain$Forest$Forest$\\n        opponent-lands-untapped$ Island$Plains$Plains$Plains$Island$Island$Plains$Plains$Plains$Island$\\n        opponent-lands-tapped$ $\\n        self-creatures-untapped$ Goblin Raider$Hill Giant$Norwood Ranger$\\n        self-creatures-tapped$ $\\n        opponent-creatures-untapped$ Glory Seeker$\\n        opponent-creatures-tapped$ $\\n        attackers-blockers$ None$\\n        damage-order$ None$\\n        ',\n",
       "        list(['Goblin Raider$1', 'Hill Giant$0']), 'Norwood Ranger$1', 1],\n",
       "       ['\\n        player-color$ Gold$\\n        life$ 14$\\n        opponent-life$ 11$\\n        phase$ Phases.DECLARE_ATTACKERS_STEP$\\n        hand$ Hill Giant$Enormous Baloth$Ogre Taskmaster$Goblin Raider$\\n        generic-debt$ 0$\\n        manapool$ Black$ 0$ White$ 0$ Red$ 0$ Colorless$ 0$ Green$ 2$ Blue$ 0$\\n        opponent-cards$ 3$\\n        self-lands-untapped$ $\\n        self-lands-tapped$ Mountain$Forest$Mountain$Forest$Mountain$Forest$Forest$\\n        opponent-lands-untapped$ Island$Plains$Plains$Plains$Island$Island$Plains$Plains$Plains$Island$\\n        opponent-lands-tapped$ $\\n        self-creatures-untapped$ Goblin Raider$Hill Giant$Norwood Ranger$\\n        self-creatures-tapped$ $\\n        opponent-creatures-untapped$ Glory Seeker$\\n        opponent-creatures-tapped$ $\\n        attackers-blockers$ None$\\n        damage-order$ None$\\n        ',\n",
       "        list(['Goblin Raider$1', 'Hill Giant$0']), 'Pass', 1],\n",
       "       ['\\n        player-color$ Gold$\\n        life$ 14$\\n        opponent-life$ 10$\\n        phase$ Phases.DECLARE_BLOCKERS_STEP$\\n        hand$ Hill Giant$Enormous Baloth$Ogre Taskmaster$Goblin Raider$\\n        generic-debt$ 0$\\n        manapool$ White$ 0$ Blue$ 0$ Black$ 0$ Red$ 0$ Green$ 0$ Colorless$ 0$\\n        opponent-cards$ 4$\\n        self-lands-untapped$ Mountain$Forest$Mountain$Forest$Mountain$Forest$Forest$\\n        self-lands-tapped$ $\\n        opponent-lands-untapped$ Island$Plains$Plains$Plains$Island$Island$Plains$Plains$Plains$Island$\\n        opponent-lands-tapped$ $\\n        self-creatures-untapped$ Goblin Raider$Hill Giant$Norwood Ranger$\\n        self-creatures-tapped$ $\\n        opponent-creatures-untapped$ $\\n        opponent-creatures-tapped$ Glory Seeker$\\n        attackers-blockers$ attacker: $Glory Seeker$2$ blocked by: $None$$\\n        damage-order$ None$\\n        ',\n",
       "        list(['Pass', 'Hill Giant$0$block$Glory Seeker$2']), 'Pass', 1],\n",
       "       ['\\n        player-color$ Gold$\\n        life$ 12$\\n        opponent-life$ 10$\\n        phase$ Phases.MAIN_PHASE_PRE_COMBAT$\\n        hand$ Hill Giant$Enormous Baloth$Ogre Taskmaster$Goblin Raider$Mountain$\\n        generic-debt$ 0$\\n        manapool$ White$ 0$ Blue$ 0$ Black$ 0$ Red$ 0$ Green$ 0$ Colorless$ 0$\\n        opponent-cards$ 4$\\n        self-lands-untapped$ Mountain$Forest$Mountain$Forest$Mountain$Forest$Forest$\\n        self-lands-tapped$ $\\n        opponent-lands-untapped$ Island$Plains$Plains$Plains$Island$Island$Plains$Plains$Plains$Island$\\n        opponent-lands-tapped$ $\\n        self-creatures-untapped$ Goblin Raider$Hill Giant$Norwood Ranger$\\n        self-creatures-tapped$ $\\n        opponent-creatures-untapped$ Glory Seeker$\\n        opponent-creatures-tapped$ $\\n        attackers-blockers$ None$\\n        damage-order$ None$\\n        ',\n",
       "        list(['Mountain', 'tapped_ability_0_Mountain', 'tapped_ability_0_Forest', 'tapped_ability_0_Mountain', 'tapped_ability_0_Forest', 'tapped_ability_0_Mountain', 'tapped_ability_0_Forest', 'tapped_ability_0_Forest', 'Pass']),\n",
       "        'tapped_ability_0_Forest', 1],\n",
       "       ['\\n        player-color$ Gold$\\n        life$ 12$\\n        opponent-life$ 10$\\n        phase$ Phases.MAIN_PHASE_PRE_COMBAT$\\n        hand$ Hill Giant$Enormous Baloth$Ogre Taskmaster$Goblin Raider$Mountain$\\n        generic-debt$ 0$\\n        manapool$ Black$ 0$ White$ 0$ Red$ 2$ Colorless$ 0$ Green$ 3$ Blue$ 0$\\n        opponent-cards$ 4$\\n        self-lands-untapped$ Mountain$Forest$\\n        self-lands-tapped$ Mountain$Forest$Mountain$Forest$Forest$\\n        opponent-lands-untapped$ Island$Plains$Plains$Plains$Island$Island$Plains$Plains$Plains$Island$\\n        opponent-lands-tapped$ $\\n        self-creatures-untapped$ Goblin Raider$Hill Giant$Norwood Ranger$\\n        self-creatures-tapped$ $\\n        opponent-creatures-untapped$ Glory Seeker$\\n        opponent-creatures-tapped$ $\\n        attackers-blockers$ None$\\n        damage-order$ None$\\n        ',\n",
       "        list(['Hill Giant', 'Ogre Taskmaster', 'Goblin Raider', 'Mountain', 'tapped_ability_0_Mountain', 'tapped_ability_0_Forest', 'Pass']),\n",
       "        'Pass', 1],\n",
       "       ['\\n        player-color$ Gold$\\n        life$ 12$\\n        opponent-life$ 10$\\n        phase$ Phases.DECLARE_ATTACKERS_STEP$\\n        hand$ Hill Giant$Enormous Baloth$Ogre Taskmaster$Goblin Raider$Mountain$\\n        generic-debt$ 0$\\n        manapool$ Black$ 0$ White$ 0$ Red$ 2$ Colorless$ 0$ Green$ 3$ Blue$ 0$\\n        opponent-cards$ 4$\\n        self-lands-untapped$ Mountain$Forest$\\n        self-lands-tapped$ Mountain$Forest$Mountain$Forest$Forest$\\n        opponent-lands-untapped$ Island$Plains$Plains$Plains$Island$Island$Plains$Plains$Plains$Island$\\n        opponent-lands-tapped$ $\\n        self-creatures-untapped$ Goblin Raider$Hill Giant$Norwood Ranger$\\n        self-creatures-tapped$ $\\n        opponent-creatures-untapped$ Glory Seeker$\\n        opponent-creatures-tapped$ $\\n        attackers-blockers$ None$\\n        damage-order$ None$\\n        ',\n",
       "        list([]), 'Norwood Ranger$1', 1],\n",
       "       ['\\n        player-color$ Gold$\\n        life$ 12$\\n        opponent-life$ 10$\\n        phase$ Phases.DECLARE_ATTACKERS_STEP$\\n        hand$ Hill Giant$Enormous Baloth$Ogre Taskmaster$Goblin Raider$Mountain$\\n        generic-debt$ 0$\\n        manapool$ Black$ 0$ White$ 0$ Red$ 2$ Colorless$ 0$ Green$ 3$ Blue$ 0$\\n        opponent-cards$ 4$\\n        self-lands-untapped$ Mountain$Forest$\\n        self-lands-tapped$ Mountain$Forest$Mountain$Forest$Forest$\\n        opponent-lands-untapped$ Island$Plains$Plains$Plains$Island$Island$Plains$Plains$Plains$Island$\\n        opponent-lands-tapped$ $\\n        self-creatures-untapped$ Goblin Raider$Hill Giant$Norwood Ranger$\\n        self-creatures-tapped$ $\\n        opponent-creatures-untapped$ Glory Seeker$\\n        opponent-creatures-tapped$ $\\n        attackers-blockers$ None$\\n        damage-order$ None$\\n        ',\n",
       "        list([]), 'Goblin Raider$1', 1],\n",
       "       ['\\n        player-color$ Gold$\\n        life$ 12$\\n        opponent-life$ 10$\\n        phase$ Phases.DECLARE_ATTACKERS_STEP$\\n        hand$ Hill Giant$Enormous Baloth$Ogre Taskmaster$Goblin Raider$Mountain$\\n        generic-debt$ 0$\\n        manapool$ Black$ 0$ White$ 0$ Red$ 2$ Colorless$ 0$ Green$ 3$ Blue$ 0$\\n        opponent-cards$ 4$\\n        self-lands-untapped$ Mountain$Forest$\\n        self-lands-tapped$ Mountain$Forest$Mountain$Forest$Forest$\\n        opponent-lands-untapped$ Island$Plains$Plains$Plains$Island$Island$Plains$Plains$Plains$Island$\\n        opponent-lands-tapped$ $\\n        self-creatures-untapped$ Goblin Raider$Hill Giant$Norwood Ranger$\\n        self-creatures-tapped$ $\\n        opponent-creatures-untapped$ Glory Seeker$\\n        opponent-creatures-tapped$ $\\n        attackers-blockers$ None$\\n        damage-order$ None$\\n        ',\n",
       "        list([]), 'Hill Giant$0', 1],\n",
       "       ['\\n        player-color$ Gold$\\n        life$ 12$\\n        opponent-life$ 7$\\n        phase$ Phases.MAIN_PHASE_PRE_COMBAT$\\n        hand$ Hill Giant$Enormous Baloth$Ogre Taskmaster$Goblin Raider$Mountain$Mountain$\\n        generic-debt$ 0$\\n        manapool$ White$ 0$ Blue$ 0$ Black$ 0$ Red$ 0$ Green$ 0$ Colorless$ 0$\\n        opponent-cards$ 4$\\n        self-lands-untapped$ Mountain$Forest$Mountain$Forest$Mountain$Forest$Forest$\\n        self-lands-tapped$ $\\n        opponent-lands-untapped$ Island$Plains$Plains$Plains$Island$Island$Plains$Plains$Plains$Island$Plains$\\n        opponent-lands-tapped$ $\\n        self-creatures-untapped$ Goblin Raider$Hill Giant$Norwood Ranger$\\n        self-creatures-tapped$ $\\n        opponent-creatures-untapped$ Glory Seeker$\\n        opponent-creatures-tapped$ $\\n        attackers-blockers$ None$\\n        damage-order$ None$\\n        ',\n",
       "        list(['Mountain', 'Mountain', 'tapped_ability_0_Mountain', 'tapped_ability_0_Forest', 'tapped_ability_0_Mountain', 'tapped_ability_0_Forest', 'tapped_ability_0_Mountain', 'tapped_ability_0_Forest', 'tapped_ability_0_Forest', 'Pass']),\n",
       "        'Mountain', 1],\n",
       "       ['\\n        player-color$ Gold$\\n        life$ 12$\\n        opponent-life$ 7$\\n        phase$ Phases.MAIN_PHASE_PRE_COMBAT$\\n        hand$ Hill Giant$Enormous Baloth$Ogre Taskmaster$Goblin Raider$Mountain$\\n        generic-debt$ 0$\\n        manapool$ White$ 0$ Blue$ 0$ Black$ 0$ Red$ 0$ Green$ 0$ Colorless$ 0$\\n        opponent-cards$ 4$\\n        self-lands-untapped$ Mountain$Forest$Mountain$Forest$Mountain$Forest$Forest$Mountain$\\n        self-lands-tapped$ $\\n        opponent-lands-untapped$ Island$Plains$Plains$Plains$Island$Island$Plains$Plains$Plains$Island$Plains$\\n        opponent-lands-tapped$ $\\n        self-creatures-untapped$ Goblin Raider$Hill Giant$Norwood Ranger$\\n        self-creatures-tapped$ $\\n        opponent-creatures-untapped$ Glory Seeker$\\n        opponent-creatures-tapped$ $\\n        attackers-blockers$ None$\\n        damage-order$ None$\\n        ',\n",
       "        list(['tapped_ability_0_Mountain', 'tapped_ability_0_Forest', 'tapped_ability_0_Mountain', 'tapped_ability_0_Forest', 'tapped_ability_0_Mountain', 'tapped_ability_0_Forest', 'tapped_ability_0_Forest', 'tapped_ability_0_Mountain', 'Pass']),\n",
       "        'Pass', 1],\n",
       "       ['\\n        player-color$ Gold$\\n        life$ 12$\\n        opponent-life$ 7$\\n        phase$ Phases.DECLARE_ATTACKERS_STEP$\\n        hand$ Hill Giant$Enormous Baloth$Ogre Taskmaster$Goblin Raider$Mountain$\\n        generic-debt$ 0$\\n        manapool$ White$ 0$ Blue$ 0$ Black$ 0$ Red$ 0$ Green$ 0$ Colorless$ 0$\\n        opponent-cards$ 4$\\n        self-lands-untapped$ Mountain$Forest$Mountain$Forest$Mountain$Forest$Forest$Mountain$\\n        self-lands-tapped$ $\\n        opponent-lands-untapped$ Island$Plains$Plains$Plains$Island$Island$Plains$Plains$Plains$Island$Plains$\\n        opponent-lands-tapped$ $\\n        self-creatures-untapped$ Goblin Raider$Hill Giant$Norwood Ranger$\\n        self-creatures-tapped$ $\\n        opponent-creatures-untapped$ Glory Seeker$\\n        opponent-creatures-tapped$ $\\n        attackers-blockers$ None$\\n        damage-order$ None$\\n        ',\n",
       "        list(['Goblin Raider$1']), 'Hill Giant$0', 1],\n",
       "       ['\\n        player-color$ Gold$\\n        life$ 12$\\n        opponent-life$ 7$\\n        phase$ Phases.DECLARE_ATTACKERS_STEP$\\n        hand$ Hill Giant$Enormous Baloth$Ogre Taskmaster$Goblin Raider$Mountain$\\n        generic-debt$ 0$\\n        manapool$ White$ 0$ Blue$ 0$ Black$ 0$ Red$ 0$ Green$ 0$ Colorless$ 0$\\n        opponent-cards$ 4$\\n        self-lands-untapped$ Mountain$Forest$Mountain$Forest$Mountain$Forest$Forest$Mountain$\\n        self-lands-tapped$ $\\n        opponent-lands-untapped$ Island$Plains$Plains$Plains$Island$Island$Plains$Plains$Plains$Island$Plains$\\n        opponent-lands-tapped$ $\\n        self-creatures-untapped$ Goblin Raider$Hill Giant$Norwood Ranger$\\n        self-creatures-tapped$ $\\n        opponent-creatures-untapped$ Glory Seeker$\\n        opponent-creatures-tapped$ $\\n        attackers-blockers$ None$\\n        damage-order$ None$\\n        ',\n",
       "        list(['Goblin Raider$1']), 'Norwood Ranger$1', 1],\n",
       "       ['\\n        player-color$ Gold$\\n        life$ 12$\\n        opponent-life$ 7$\\n        phase$ Phases.DECLARE_ATTACKERS_STEP$\\n        hand$ Hill Giant$Enormous Baloth$Ogre Taskmaster$Goblin Raider$Mountain$\\n        generic-debt$ 0$\\n        manapool$ White$ 0$ Blue$ 0$ Black$ 0$ Red$ 0$ Green$ 0$ Colorless$ 0$\\n        opponent-cards$ 4$\\n        self-lands-untapped$ Mountain$Forest$Mountain$Forest$Mountain$Forest$Forest$Mountain$\\n        self-lands-tapped$ $\\n        opponent-lands-untapped$ Island$Plains$Plains$Plains$Island$Island$Plains$Plains$Plains$Island$Plains$\\n        opponent-lands-tapped$ $\\n        self-creatures-untapped$ Goblin Raider$Hill Giant$Norwood Ranger$\\n        self-creatures-tapped$ $\\n        opponent-creatures-untapped$ Glory Seeker$\\n        opponent-creatures-tapped$ $\\n        attackers-blockers$ None$\\n        damage-order$ None$\\n        ',\n",
       "        list(['Goblin Raider$1']), 'Pass', 1],\n",
       "       ['\\n        player-color$ Gold$\\n        life$ 12$\\n        opponent-life$ 3$\\n        phase$ Phases.MAIN_PHASE_PRE_COMBAT$\\n        hand$ Hill Giant$Enormous Baloth$Ogre Taskmaster$Goblin Raider$Mountain$Norwood Ranger$\\n        generic-debt$ 0$\\n        manapool$ White$ 0$ Blue$ 0$ Black$ 0$ Red$ 0$ Green$ 0$ Colorless$ 0$\\n        opponent-cards$ 5$\\n        self-lands-untapped$ Mountain$Forest$Mountain$Forest$Mountain$Forest$Forest$Mountain$\\n        self-lands-tapped$ $\\n        opponent-lands-untapped$ Island$Plains$Plains$Plains$Island$Island$Plains$Plains$Plains$Island$Plains$\\n        opponent-lands-tapped$ $\\n        self-creatures-untapped$ Goblin Raider$Hill Giant$Norwood Ranger$\\n        self-creatures-tapped$ $\\n        opponent-creatures-untapped$ Glory Seeker$\\n        opponent-creatures-tapped$ $\\n        attackers-blockers$ None$\\n        damage-order$ None$\\n        ',\n",
       "        list(['Mountain', 'tapped_ability_0_Mountain', 'tapped_ability_0_Forest', 'tapped_ability_0_Mountain', 'tapped_ability_0_Forest', 'tapped_ability_0_Mountain', 'tapped_ability_0_Forest', 'tapped_ability_0_Forest', 'tapped_ability_0_Mountain', 'Pass']),\n",
       "        'tapped_ability_0_Forest', 1],\n",
       "       ['\\n        player-color$ Gold$\\n        life$ 12$\\n        opponent-life$ 3$\\n        phase$ Phases.MAIN_PHASE_PRE_COMBAT$\\n        hand$ Hill Giant$Enormous Baloth$Ogre Taskmaster$Goblin Raider$Mountain$Norwood Ranger$\\n        generic-debt$ 0$\\n        manapool$ Black$ 0$ White$ 0$ Red$ 1$ Colorless$ 0$ Green$ 2$ Blue$ 0$\\n        opponent-cards$ 5$\\n        self-lands-untapped$ Mountain$Forest$Mountain$Forest$Mountain$\\n        self-lands-tapped$ Forest$Forest$Mountain$\\n        opponent-lands-untapped$ Island$Plains$Plains$Plains$Island$Island$Plains$Plains$Plains$Island$Plains$\\n        opponent-lands-tapped$ $\\n        self-creatures-untapped$ Goblin Raider$Hill Giant$Norwood Ranger$\\n        self-creatures-tapped$ $\\n        opponent-creatures-untapped$ Glory Seeker$\\n        opponent-creatures-tapped$ $\\n        attackers-blockers$ None$\\n        damage-order$ None$\\n        ',\n",
       "        list(['Goblin Raider', 'Mountain', 'Norwood Ranger', 'tapped_ability_0_Mountain', 'tapped_ability_0_Forest', 'tapped_ability_0_Mountain', 'tapped_ability_0_Forest', 'tapped_ability_0_Mountain', 'Pass']),\n",
       "        'tapped_ability_0_Mountain', 1],\n",
       "       ['\\n        player-color$ Gold$\\n        life$ 12$\\n        opponent-life$ 3$\\n        phase$ Phases.MAIN_PHASE_PRE_COMBAT$\\n        hand$ Hill Giant$Enormous Baloth$Ogre Taskmaster$Goblin Raider$Mountain$Norwood Ranger$\\n        generic-debt$ 0$\\n        manapool$ Black$ 0$ White$ 0$ Red$ 3$ Colorless$ 0$ Green$ 4$ Blue$ 0$\\n        opponent-cards$ 5$\\n        self-lands-untapped$ Mountain$\\n        self-lands-tapped$ Forest$Mountain$Forest$Mountain$Forest$Forest$Mountain$\\n        opponent-lands-untapped$ Island$Plains$Plains$Plains$Island$Island$Plains$Plains$Plains$Island$Plains$\\n        opponent-lands-tapped$ $\\n        self-creatures-untapped$ Goblin Raider$Hill Giant$Norwood Ranger$\\n        self-creatures-tapped$ $\\n        opponent-creatures-untapped$ Glory Seeker$\\n        opponent-creatures-tapped$ $\\n        attackers-blockers$ None$\\n        damage-order$ None$\\n        ',\n",
       "        list(['Hill Giant', 'Enormous Baloth', 'Ogre Taskmaster', 'Goblin Raider', 'Mountain', 'Norwood Ranger', 'tapped_ability_0_Mountain', 'Pass']),\n",
       "        'Hill Giant', 1],\n",
       "       ['\\n        player-color$ Gold$\\n        life$ 12$\\n        opponent-life$ 3$\\n        phase$ Phases.MAIN_PHASE_PRE_COMBAT$\\n        hand$ Enormous Baloth$Ogre Taskmaster$Goblin Raider$Mountain$Norwood Ranger$\\n        generic-debt$ 3$\\n        manapool$ Black$ 0$ White$ 0$ Red$ 2$ Colorless$ 0$ Green$ 4$ Blue$ 0$\\n        opponent-cards$ 5$\\n        self-lands-untapped$ Mountain$\\n        self-lands-tapped$ Forest$Mountain$Forest$Mountain$Forest$Forest$Mountain$\\n        opponent-lands-untapped$ Island$Plains$Plains$Plains$Island$Island$Plains$Plains$Plains$Island$Plains$\\n        opponent-lands-tapped$ $\\n        self-creatures-untapped$ Goblin Raider$Hill Giant$Norwood Ranger$Hill Giant$\\n        self-creatures-tapped$ $\\n        opponent-creatures-untapped$ Glory Seeker$\\n        opponent-creatures-tapped$ $\\n        attackers-blockers$ None$\\n        damage-order$ None$\\n        ',\n",
       "        list(['Green', 'Red']), 'Red', 1],\n",
       "       ['\\n        player-color$ Gold$\\n        life$ 12$\\n        opponent-life$ 3$\\n        phase$ Phases.MAIN_PHASE_PRE_COMBAT$\\n        hand$ Enormous Baloth$Ogre Taskmaster$Goblin Raider$Mountain$Norwood Ranger$\\n        generic-debt$ 2$\\n        manapool$ Black$ 0$ White$ 0$ Red$ 1$ Colorless$ 0$ Green$ 4$ Blue$ 0$\\n        opponent-cards$ 5$\\n        self-lands-untapped$ Mountain$\\n        self-lands-tapped$ Forest$Mountain$Forest$Mountain$Forest$Forest$Mountain$\\n        opponent-lands-untapped$ Island$Plains$Plains$Plains$Island$Island$Plains$Plains$Plains$Island$Plains$\\n        opponent-lands-tapped$ $\\n        self-creatures-untapped$ Goblin Raider$Hill Giant$Norwood Ranger$Hill Giant$\\n        self-creatures-tapped$ $\\n        opponent-creatures-untapped$ Glory Seeker$\\n        opponent-creatures-tapped$ $\\n        attackers-blockers$ None$\\n        damage-order$ None$\\n        ',\n",
       "        list(['Green', 'Red']), 'Red', 1],\n",
       "       ['\\n        player-color$ Gold$\\n        life$ 12$\\n        opponent-life$ 3$\\n        phase$ Phases.MAIN_PHASE_PRE_COMBAT$\\n        hand$ Enormous Baloth$Ogre Taskmaster$Goblin Raider$Mountain$Norwood Ranger$\\n        generic-debt$ 0$\\n        manapool$ Black$ 0$ White$ 0$ Red$ 0$ Colorless$ 0$ Green$ 3$ Blue$ 0$\\n        opponent-cards$ 5$\\n        self-lands-untapped$ Mountain$\\n        self-lands-tapped$ Forest$Mountain$Forest$Mountain$Forest$Forest$Mountain$\\n        opponent-lands-untapped$ Island$Plains$Plains$Plains$Island$Island$Plains$Plains$Plains$Island$Plains$\\n        opponent-lands-tapped$ $\\n        self-creatures-untapped$ Goblin Raider$Hill Giant$Norwood Ranger$Hill Giant$\\n        self-creatures-tapped$ $\\n        opponent-creatures-untapped$ Glory Seeker$\\n        opponent-creatures-tapped$ $\\n        attackers-blockers$ None$\\n        damage-order$ None$\\n        ',\n",
       "        list(['Mountain', 'Norwood Ranger', 'tapped_ability_0_Mountain', 'Pass']),\n",
       "        'tapped_ability_0_Mountain', 1],\n",
       "       ['\\n        player-color$ Gold$\\n        life$ 12$\\n        opponent-life$ 3$\\n        phase$ Phases.MAIN_PHASE_PRE_COMBAT$\\n        hand$ Enormous Baloth$Ogre Taskmaster$Goblin Raider$Mountain$Norwood Ranger$\\n        generic-debt$ 0$\\n        manapool$ Black$ 0$ White$ 0$ Red$ 1$ Colorless$ 0$ Green$ 3$ Blue$ 0$\\n        opponent-cards$ 5$\\n        self-lands-untapped$ $\\n        self-lands-tapped$ Mountain$Forest$Mountain$Forest$Mountain$Forest$Forest$Mountain$\\n        opponent-lands-untapped$ Island$Plains$Plains$Plains$Island$Island$Plains$Plains$Plains$Island$Plains$\\n        opponent-lands-tapped$ $\\n        self-creatures-untapped$ Goblin Raider$Hill Giant$Norwood Ranger$Hill Giant$\\n        self-creatures-tapped$ $\\n        opponent-creatures-untapped$ Glory Seeker$\\n        opponent-creatures-tapped$ $\\n        attackers-blockers$ None$\\n        damage-order$ None$\\n        ',\n",
       "        list(['Ogre Taskmaster', 'Goblin Raider', 'Mountain', 'Norwood Ranger', 'Pass']),\n",
       "        'Ogre Taskmaster', 1],\n",
       "       ['\\n        player-color$ Gold$\\n        life$ 12$\\n        opponent-life$ 3$\\n        phase$ Phases.MAIN_PHASE_PRE_COMBAT$\\n        hand$ Enormous Baloth$Goblin Raider$Mountain$Norwood Ranger$\\n        generic-debt$ 0$\\n        manapool$ Black$ 0$ White$ 0$ Red$ 0$ Colorless$ 0$ Green$ 0$ Blue$ 0$\\n        opponent-cards$ 5$\\n        self-lands-untapped$ $\\n        self-lands-tapped$ Mountain$Forest$Mountain$Forest$Mountain$Forest$Forest$Mountain$\\n        opponent-lands-untapped$ Island$Plains$Plains$Plains$Island$Island$Plains$Plains$Plains$Island$Plains$\\n        opponent-lands-tapped$ $\\n        self-creatures-untapped$ Goblin Raider$Hill Giant$Norwood Ranger$Hill Giant$Ogre Taskmaster$\\n        self-creatures-tapped$ $\\n        opponent-creatures-untapped$ Glory Seeker$\\n        opponent-creatures-tapped$ $\\n        attackers-blockers$ None$\\n        damage-order$ None$\\n        ',\n",
       "        list(['Mountain', 'Pass']), 'Mountain', 1],\n",
       "       ['\\n        player-color$ Gold$\\n        life$ 12$\\n        opponent-life$ 3$\\n        phase$ Phases.MAIN_PHASE_PRE_COMBAT$\\n        hand$ Enormous Baloth$Goblin Raider$Norwood Ranger$\\n        generic-debt$ 0$\\n        manapool$ Black$ 0$ White$ 0$ Red$ 0$ Colorless$ 0$ Green$ 0$ Blue$ 0$\\n        opponent-cards$ 5$\\n        self-lands-untapped$ Mountain$\\n        self-lands-tapped$ Mountain$Forest$Mountain$Forest$Mountain$Forest$Forest$Mountain$\\n        opponent-lands-untapped$ Island$Plains$Plains$Plains$Island$Island$Plains$Plains$Plains$Island$Plains$\\n        opponent-lands-tapped$ $\\n        self-creatures-untapped$ Goblin Raider$Hill Giant$Norwood Ranger$Hill Giant$Ogre Taskmaster$\\n        self-creatures-tapped$ $\\n        opponent-creatures-untapped$ Glory Seeker$\\n        opponent-creatures-tapped$ $\\n        attackers-blockers$ None$\\n        damage-order$ None$\\n        ',\n",
       "        list(['tapped_ability_0_Mountain', 'Pass']),\n",
       "        'tapped_ability_0_Mountain', 1],\n",
       "       ['\\n        player-color$ Gold$\\n        life$ 12$\\n        opponent-life$ 3$\\n        phase$ Phases.DECLARE_ATTACKERS_STEP$\\n        hand$ Enormous Baloth$Goblin Raider$Norwood Ranger$\\n        generic-debt$ 0$\\n        manapool$ Black$ 0$ White$ 0$ Red$ 1$ Colorless$ 0$ Green$ 0$ Blue$ 0$\\n        opponent-cards$ 5$\\n        self-lands-untapped$ $\\n        self-lands-tapped$ Mountain$Forest$Mountain$Forest$Mountain$Forest$Forest$Mountain$Mountain$\\n        opponent-lands-untapped$ Island$Plains$Plains$Plains$Island$Island$Plains$Plains$Plains$Island$Plains$\\n        opponent-lands-tapped$ $\\n        self-creatures-untapped$ Goblin Raider$Hill Giant$Norwood Ranger$Hill Giant$Ogre Taskmaster$\\n        self-creatures-tapped$ $\\n        opponent-creatures-untapped$ Glory Seeker$\\n        opponent-creatures-tapped$ $\\n        attackers-blockers$ None$\\n        damage-order$ None$\\n        ',\n",
       "        list([]), 'Norwood Ranger$1', 1],\n",
       "       ['\\n        player-color$ Gold$\\n        life$ 12$\\n        opponent-life$ 3$\\n        phase$ Phases.DECLARE_ATTACKERS_STEP$\\n        hand$ Enormous Baloth$Goblin Raider$Norwood Ranger$\\n        generic-debt$ 0$\\n        manapool$ Black$ 0$ White$ 0$ Red$ 1$ Colorless$ 0$ Green$ 0$ Blue$ 0$\\n        opponent-cards$ 5$\\n        self-lands-untapped$ $\\n        self-lands-tapped$ Mountain$Forest$Mountain$Forest$Mountain$Forest$Forest$Mountain$Mountain$\\n        opponent-lands-untapped$ Island$Plains$Plains$Plains$Island$Island$Plains$Plains$Plains$Island$Plains$\\n        opponent-lands-tapped$ $\\n        self-creatures-untapped$ Goblin Raider$Hill Giant$Norwood Ranger$Hill Giant$Ogre Taskmaster$\\n        self-creatures-tapped$ $\\n        opponent-creatures-untapped$ Glory Seeker$\\n        opponent-creatures-tapped$ $\\n        attackers-blockers$ None$\\n        damage-order$ None$\\n        ',\n",
       "        list([]), 'Goblin Raider$1', 1],\n",
       "       ['\\n        player-color$ Gold$\\n        life$ 12$\\n        opponent-life$ 3$\\n        phase$ Phases.DECLARE_ATTACKERS_STEP$\\n        hand$ Enormous Baloth$Goblin Raider$Norwood Ranger$\\n        generic-debt$ 0$\\n        manapool$ Black$ 0$ White$ 0$ Red$ 1$ Colorless$ 0$ Green$ 0$ Blue$ 0$\\n        opponent-cards$ 5$\\n        self-lands-untapped$ $\\n        self-lands-tapped$ Mountain$Forest$Mountain$Forest$Mountain$Forest$Forest$Mountain$Mountain$\\n        opponent-lands-untapped$ Island$Plains$Plains$Plains$Island$Island$Plains$Plains$Plains$Island$Plains$\\n        opponent-lands-tapped$ $\\n        self-creatures-untapped$ Goblin Raider$Hill Giant$Norwood Ranger$Hill Giant$Ogre Taskmaster$\\n        self-creatures-tapped$ $\\n        opponent-creatures-untapped$ Glory Seeker$\\n        opponent-creatures-tapped$ $\\n        attackers-blockers$ None$\\n        damage-order$ None$\\n        ',\n",
       "        list([]), 'Hill Giant$0', 1]], dtype=object)"
      ]
     },
     "metadata": {},
     "execution_count": 5
    }
   ],
   "metadata": {}
  },
  {
   "cell_type": "code",
   "execution_count": 12,
   "source": [
    "len(data['Silver'])"
   ],
   "outputs": [
    {
     "output_type": "execute_result",
     "data": {
      "text/plain": [
       "100"
      ]
     },
     "metadata": {},
     "execution_count": 12
    }
   ],
   "metadata": {}
  },
  {
   "cell_type": "code",
   "execution_count": 19,
   "source": [
    "data['Silver'][0][0]"
   ],
   "outputs": [
    {
     "output_type": "execute_result",
     "data": {
      "text/plain": [
       "['\\n        player-color$ Silver$\\n        life$ 20$\\n        opponent-life$ 20$\\n        phase$ Phases.MAIN_PHASE_PRE_COMBAT$\\n        hand$ Island$Island$Island$Giant Octopus$Vizzerdrix$Plains$Plains$Island$\\n        generic-debt$ 0$\\n        manapool$ White$ 0$ Blue$ 0$ Black$ 0$ Red$ 0$ Green$ 0$ Colorless$ 0$\\n        opponent-cards$ 6$\\n        self-lands-untapped$ $\\n        self-lands-tapped$ $\\n        opponent-lands-untapped$ Mountain$\\n        opponent-lands-tapped$ $\\n        self-creatures-untapped$ $\\n        self-creatures-tapped$ $\\n        opponent-creatures-untapped$ $\\n        opponent-creatures-tapped$ $\\n        attackers-blockers$ None$\\n        damage-order$ None$\\n        ',\n",
       " ['Island', 'Island', 'Island', 'Plains', 'Plains', 'Island', 'Pass'],\n",
       " 'Island',\n",
       " -1]"
      ]
     },
     "metadata": {},
     "execution_count": 19
    }
   ],
   "metadata": {}
  },
  {
   "cell_type": "code",
   "execution_count": 22,
   "source": [
    "data['Gold'][0][0]"
   ],
   "outputs": [
    {
     "output_type": "execute_result",
     "data": {
      "text/plain": [
       "['\\n        player-color$ Gold$\\n        life$ 20$\\n        opponent-life$ 20$\\n        phase$ Phases.MAIN_PHASE_PRE_COMBAT$\\n        hand$ Ogre Taskmaster$Hill Giant$Volcanic Hammer$Norwood Ranger$Grizzly Bears$Mountain$Mountain$\\n        generic-debt$ 0$\\n        manapool$ White$ 0$ Blue$ 0$ Black$ 0$ Red$ 0$ Green$ 0$ Colorless$ 0$\\n        opponent-cards$ 7$\\n        self-lands-untapped$ $\\n        self-lands-tapped$ $\\n        opponent-lands-untapped$ $\\n        opponent-lands-tapped$ $\\n        self-creatures-untapped$ $\\n        self-creatures-tapped$ $\\n        opponent-creatures-untapped$ $\\n        opponent-creatures-tapped$ $\\n        attackers-blockers$ None$\\n        damage-order$ None$\\n        ',\n",
       " ['Mountain', 'Mountain', 'Pass'],\n",
       " 'Mountain',\n",
       " 1]"
      ]
     },
     "metadata": {},
     "execution_count": 22
    }
   ],
   "metadata": {}
  },
  {
   "cell_type": "code",
   "execution_count": 32,
   "source": [
    "wins"
   ],
   "outputs": [
    {
     "output_type": "execute_result",
     "data": {
      "text/plain": [
       "[268, 532]"
      ]
     },
     "metadata": {},
     "execution_count": 32
    }
   ],
   "metadata": {}
  },
  {
   "cell_type": "code",
   "execution_count": 37,
   "source": [
    "# Count total amount of transitions\n",
    "total_transitions = 0\n",
    "for deck_name, deck_data in data.items():\n",
    "    for game_data in deck_data:\n",
    "        total_transitions += len(game_data)\n",
    "print(total_transitions)"
   ],
   "outputs": [
    {
     "output_type": "stream",
     "name": "stdout",
     "text": [
      "901408\n"
     ]
    }
   ],
   "metadata": {}
  },
  {
   "cell_type": "code",
   "execution_count": 40,
   "source": [
    "flat_data = []\n",
    "for deck_type, deck_data in data.items():\n",
    "    for game in deck_data:\n",
    "        flat_data.extend(game)"
   ],
   "outputs": [],
   "metadata": {}
  },
  {
   "cell_type": "code",
   "execution_count": 42,
   "source": [
    "len(flat_data)"
   ],
   "outputs": [
    {
     "output_type": "execute_result",
     "data": {
      "text/plain": [
       "901408"
      ]
     },
     "metadata": {},
     "execution_count": 42
    }
   ],
   "metadata": {}
  },
  {
   "cell_type": "code",
   "execution_count": 58,
   "source": [
    "flat_array = np.array(flat_data, dtype=object)"
   ],
   "outputs": [],
   "metadata": {}
  },
  {
   "cell_type": "code",
   "execution_count": 63,
   "source": [
    "np.savez_compressed('./data/test_data', flat_array)"
   ],
   "outputs": [],
   "metadata": {}
  },
  {
   "cell_type": "code",
   "execution_count": 55,
   "source": [
    "actions = set(flat_array[:, 2])"
   ],
   "outputs": [],
   "metadata": {}
  },
  {
   "cell_type": "code",
   "execution_count": 57,
   "source": [
    "print(actions)"
   ],
   "outputs": [
    {
     "output_type": "stream",
     "name": "stdout",
     "text": [
      "{'Sacred Nectar', 'Eager Cadet$0$block$Spined Wurm$0', 'Norwood Ranger', 'Enormous Baloth$1$block$Giant Octopus$1', 'Coral Eel$1$block$Enormous Baloth$1', 'Fugitive Wizard$0$block$Hill Giant$1', 'tapped_ability_0_Mountain', 'Norwood Ranger$1$block$Glory Seeker$0', 'Glory Seeker$3$block$Goblin Raider$1', 'Hill Giant$0$block$Fugitive Wizard$0', 'Coral Eel$0$block$Hill Giant$1', 'Fugitive Wizard$0$block$Grizzly Bears$0', 'Vizzerdrix$1$block$Hill Giant$1', 'Eager Cadet$0$block$Enormous Baloth$1', 'Giant Octopus$1$block$Norwood Ranger$1', 'Glory Seeker$0', 'Norwood Ranger$0$block$Giant Octopus$2', 'Eager Cadet$0$block$Grizzly Bears$0', 'tapped_ability_0_Island', 'Spined Wurm$0$block$Fugitive Wizard$0', 'Glory Seeker$0$block$Norwood Ranger$0', 'Giant Octopus$0$block$Grizzly Bears$1', 'Glory Seeker$2$block$Grizzly Bears$0', 'Glory Seeker$2$block$Enormous Baloth$1', 'Vizzerdrix$1$block$Enormous Baloth$1', 'Norwood Ranger$0$block$Coral Eel$1', 'Glory Seeker$1$block$Enormous Baloth$0', 'Fugitive Wizard$0', 'Glory Seeker$1$block$Goblin Raider$0', 'Vizzerdrix$1$block$Grizzly Bears$0', 'Glory Seeker$1$block$Ogre Taskmaster$0', 'Giant Octopus$0$block$Goblin Raider$1', 'Coral Eel$1$block$Norwood Ranger$0', 'Glory Seeker$0$block$Grizzly Bears$1', 'Enormous Baloth', 'Norwood Ranger$1$block$Coral Eel$1', 'Coral Eel$1$block$Ogre Taskmaster$0', 'Enormous Baloth$1$block$Vizzerdrix$0', 'Hill Giant$0$block$Giant Octopus$2', 'Spined Wurm', 'Giant Octopus$0$block$Norwood Ranger$1', 'Spined Wurm$0$block$Glory Seeker$1', 'Grizzly Bears$0$block$Vizzerdrix$1', 'Glory Seeker$0$block$Hill Giant$1', 'Glory Seeker$0$block$Goblin Raider$1', 'Spined Wurm$0$block$Giant Octopus$2', 'Hill Giant$0$block$Glory Seeker$1', 'Giant Octopus$2$block$Enormous Baloth$1', 'Glory Seeker$1', 'Vizzerdrix$0$block$Enormous Baloth$1', 'Ogre Taskmaster$0', 'Coral Eel$1$block$Goblin Raider$0', 'Giant Octopus$1$block$Goblin Raider$0', 'Norwood Ranger$1$block$Giant Octopus$0', 'Enormous Baloth$0$block$Glory Seeker$3', 'Fugitive Wizard$0$block$Enormous Baloth$1', 'Glory Seeker$0$block$Ogre Taskmaster$0', 'Vizzerdrix$0$block$Spined Wurm$0', 'Hill Giant$0$block$Glory Seeker$0', 'Norwood Ranger$0$block$Giant Octopus$1', 'Hill Giant$0$block$Glory Seeker$3', 'Hill Giant$1$block$Fugitive Wizard$0', 'Vizzerdrix$0$block$Grizzly Bears$1', 'Enormous Baloth$1', 'Glory Seeker$1$block$Hill Giant$1', 'Hill Giant', 'Spined Wurm$0$block$Giant Octopus$1', 'Refuse', 'Vizzerdrix$0$block$Norwood Ranger$0', 'Grizzly Bears$0$block$Glory Seeker$3', 'Fugitive Wizard$0$block$Norwood Ranger$0', 'Norwood Ranger$1$block$Fugitive Wizard$0', 'Hill Giant$1$block$Coral Eel$1', 'Hill Giant$0$block$Vizzerdrix$0', 'Vizzerdrix$0$block$Enormous Baloth$0', 'Blue', 'Grizzly Bears$1$block$Giant Octopus$0', 'Coral Eel$0$block$Grizzly Bears$1', 'Glory Seeker$2$block$Goblin Raider$1', 'Norwood Ranger$1$block$Glory Seeker$1', 'Grizzly Bears$1$block$Vizzerdrix$0', 'Enormous Baloth$0$block$Coral Eel$0', 'Glory Seeker$2$block$Ogre Taskmaster$0', 'Spined Wurm$0', 'Vizzerdrix$1$block$Grizzly Bears$1', 'Rampant Growth', 'Glory Seeker$2$block$Norwood Ranger$0', 'Giant Octopus$2$block$Ogre Taskmaster$0', 'Coral Eel$0$block$Enormous Baloth$1', 'Glory Seeker$2$block$Norwood Ranger$1', 'Glory Seeker$0$block$Enormous Baloth$0', 'Glory Seeker$1$block$Grizzly Bears$0', 'Coral Eel$1$block$Goblin Raider$1', 'Glory Seeker$2$block$Hill Giant$1', 'Fugitive Wizard$0$block$Grizzly Bears$1', 'Enormous Baloth$0', 'self', 'Vizzerdrix$1$block$Norwood Ranger$0', 'Vizzerdrix$0$block$Goblin Raider$1', 'Hill Giant$1$block$Vizzerdrix$0', 'Fugitive Wizard$0$block$Hill Giant$0', 'Glory Seeker$0$block$Enormous Baloth$1', 'Coral Eel$1$block$Hill Giant$1', 'Eager Cadet$0$block$Goblin Raider$1', 'Norwood Ranger$0$block$Coral Eel$0', 'Grizzly Bears$1$block$Eager Cadet$0', 'Norwood Ranger$0$block$Vizzerdrix$1', 'Hill Giant$1$block$Glory Seeker$3', 'Giant Octopus$1$block$Enormous Baloth$0', 'Giant Octopus$2$block$Enormous Baloth$0', 'Enormous Baloth$1$block$Giant Octopus$2', 'Norwood Ranger$0$block$Glory Seeker$0', 'Hill Giant$0$block$Eager Cadet$0', 'Island', 'Hill Giant$1$block$Glory Seeker$2', 'Giant Octopus$2$block$Spined Wurm$0', 'Vizzerdrix$0$block$Goblin Raider$0', 'Red', 'Glory Seeker$1$block$Goblin Raider$1', 'Glory Seeker$3$block$Ogre Taskmaster$0', 'Hill Giant$1', 'Fugitive Wizard$0$block$Goblin Raider$0', 'Grizzly Bears$1', 'Coral Eel$0$block$Grizzly Bears$0', 'Enormous Baloth$0$block$Glory Seeker$1', 'Eager Cadet$0$block$Hill Giant$0', 'Grizzly Bears$0$block$Glory Seeker$2', 'Glory Seeker$3$block$Hill Giant$1', 'Goblin Raider$0', 'Norwood Ranger$1$block$Vizzerdrix$0', 'Enormous Baloth$1$block$Eager Cadet$0', 'Giant Octopus$1$block$Norwood Ranger$0', 'Giant Octopus', 'Eager Cadet', 'Hill Giant$1$block$Giant Octopus$1', 'Grizzly Bears', 'Glory Seeker$1$block$Spined Wurm$0', 'Spined Wurm$0$block$Coral Eel$1', 'Giant Octopus$2$block$Goblin Raider$1', 'Hill Giant$1$block$Giant Octopus$2', 'Glory Seeker$0$block$Grizzly Bears$0', 'Vizzerdrix$1', 'Giant Octopus$1$block$Ogre Taskmaster$0', 'Enormous Baloth$1$block$Glory Seeker$3', 'Glory Seeker$1$block$Hill Giant$0', 'Coral Eel$1$block$Norwood Ranger$1', 'Glory Seeker$3$block$Grizzly Bears$1', 'Hill Giant$1$block$Glory Seeker$0', 'Coral Eel$1$block$Grizzly Bears$0', 'Spined Wurm$0$block$Vizzerdrix$0', 'Pass', 'Grizzly Bears$1$block$Fugitive Wizard$0', 'Coral Eel$0$block$Hill Giant$0', 'Hill Giant$0$block$Glory Seeker$2', 'Mountain', 'Fugitive Wizard$0$block$Norwood Ranger$1', 'Coral Eel$1$block$Hill Giant$0', 'Glory Seeker$1$block$Norwood Ranger$1', 'Norwood Ranger$1$block$Coral Eel$0', 'Enormous Baloth$0$block$Glory Seeker$2', 'Glory Seeker$2$block$Goblin Raider$0', 'Giant Octopus$0$block$Norwood Ranger$0', 'Glory Seeker$3$block$Spined Wurm$0', 'Spined Wurm$0$block$Vizzerdrix$1', 'Giant Octopus$1$block$Hill Giant$1', 'Enormous Baloth$1$block$Giant Octopus$0', 'Grizzly Bears$0$block$Giant Octopus$1', 'Eager Cadet$0$block$Enormous Baloth$0', 'Enormous Baloth$0$block$Vizzerdrix$1', 'Vizzerdrix$1$block$Norwood Ranger$1', 'Vizzerdrix$1$block$Goblin Raider$1', 'Glory Seeker$3$block$Enormous Baloth$1', 'Enormous Baloth$1$block$Coral Eel$0', 'Giant Octopus$1$block$Spined Wurm$0', 'Giant Octopus$2$block$Grizzly Bears$0', 'Vizzerdrix$0$block$Grizzly Bears$0', 'Grizzly Bears$0$block$Coral Eel$1', 'Grizzly Bears$0$block$Vizzerdrix$0', 'Norwood Ranger$0$block$Fugitive Wizard$0', 'Norwood Ranger$1$block$Giant Octopus$1', 'Grizzly Bears$0$block$Giant Octopus$0', 'Grizzly Bears$1$block$Glory Seeker$1', 'Giant Octopus$1$block$Grizzly Bears$0', 'Coral Eel$1$block$Spined Wurm$0', 'Giant Octopus$2', 'Enormous Baloth$1$block$Fugitive Wizard$0', 'Grizzly Bears$0$block$Coral Eel$0', 'Coral Eel$0$block$Ogre Taskmaster$0', 'Glory Seeker$3', 'Norwood Ranger$1$block$Glory Seeker$2', 'Norwood Ranger$0$block$Glory Seeker$1', 'Giant Octopus$0$block$Enormous Baloth$1', 'Grizzly Bears$0$block$Glory Seeker$1', 'Ogre Taskmaster', 'Glory Seeker$2', 'Giant Octopus$1$block$Hill Giant$0', 'Glory Seeker$0$block$Hill Giant$0', 'Enormous Baloth$1$block$Coral Eel$1', 'Coral Eel$0$block$Goblin Raider$0', 'Grizzly Bears$1$block$Giant Octopus$1', 'Glory Seeker$3$block$Norwood Ranger$0', 'Eager Cadet$0$block$Goblin Raider$0', 'Green', 'Grizzly Bears$1$block$Vizzerdrix$1', 'Norwood Ranger$0$block$Glory Seeker$3', 'Coral Eel$1$block$Enormous Baloth$0', 'Hill Giant$1$block$Giant Octopus$0', 'Eager Cadet$0$block$Hill Giant$1', 'Vizzerdrix$1$block$Enormous Baloth$0', 'Enormous Baloth$0$block$Giant Octopus$1', 'Coral Eel', 'Enormous Baloth$1$block$Glory Seeker$1', 'Grizzly Bears$1$block$Giant Octopus$2', 'Hill Giant$1$block$Glory Seeker$1', 'Hill Giant$1$block$Eager Cadet$0', 'Fugitive Wizard', 'Hill Giant$1$block$Vizzerdrix$1', 'Enormous Baloth$0$block$Glory Seeker$0', 'Coral Eel$0$block$Goblin Raider$1', 'Norwood Ranger$1$block$Vizzerdrix$1', 'Norwood Ranger$0$block$Glory Seeker$2', 'tapped_ability_0_Forest', 'Grizzly Bears$1$block$Glory Seeker$0', 'White', 'Lava Axe', 'Goblin Raider', 'Giant Octopus$0$block$Enormous Baloth$0', 'Grizzly Bears$0$block$Giant Octopus$2', 'Vizzerdrix$0', 'Glory Seeker$2$block$Spined Wurm$0', 'Giant Octopus$1$block$Enormous Baloth$1', 'Hill Giant$0$block$Vizzerdrix$1', 'Norwood Ranger$1$block$Glory Seeker$3', 'Eager Cadet$0$block$Norwood Ranger$1', 'Enormous Baloth$0$block$Fugitive Wizard$0', 'Volcanic Hammer', 'Giant Octopus$0$block$Spined Wurm$0', 'Giant Octopus$0$block$Hill Giant$0', 'Enormous Baloth$0$block$Coral Eel$1', 'Giant Octopus$0$block$Hill Giant$1', 'Glory Seeker$3$block$Hill Giant$0', 'Fugitive Wizard$0$block$Ogre Taskmaster$0', 'Norwood Ranger$0$block$Giant Octopus$0', 'Vizzerdrix$0$block$Hill Giant$1', 'Fugitive Wizard$0$block$Spined Wurm$0', 'Coral Eel$0$block$Spined Wurm$0', 'Forest', 'tapped_ability_0_Plains', 'Giant Octopus$2$block$Norwood Ranger$0', 'Vizzerdrix$1$block$Hill Giant$0', 'Glory Seeker$3$block$Enormous Baloth$0', 'Spined Wurm$0$block$Glory Seeker$2', 'Hill Giant$0$block$Coral Eel$1', 'Enormous Baloth$0$block$Vizzerdrix$0', 'Grizzly Bears$0', 'Coral Eel$0$block$Enormous Baloth$0', 'Vizzerdrix$1$block$Spined Wurm$0', 'Glory Seeker$0$block$Norwood Ranger$1', 'Spined Wurm$0$block$Glory Seeker$3', 'Grizzly Bears$0$block$Fugitive Wizard$0', 'Giant Octopus$2$block$Hill Giant$0', 'Coral Eel$0$block$Norwood Ranger$0', 'Glory Seeker$1$block$Norwood Ranger$0', 'Norwood Ranger$1$block$Eager Cadet$0', 'Enormous Baloth$1$block$Glory Seeker$2', 'Glory Seeker$0$block$Spined Wurm$0', 'Stone Rain', 'Giant Octopus$1', 'Coral Eel$1$block$Grizzly Bears$1', 'Vizzerdrix$0$block$Ogre Taskmaster$0', 'Norwood Ranger$0$block$Eager Cadet$0', 'Glory Seeker$2$block$Hill Giant$0', 'Coral Eel$1', 'Fugitive Wizard$0$block$Goblin Raider$1', 'Giant Octopus$2$block$Grizzly Bears$1', 'Giant Octopus$0$block$Grizzly Bears$0', 'Hill Giant$0', 'Grizzly Bears$0$block$Glory Seeker$0', 'Glory Seeker$3$block$Grizzly Bears$0', 'opponent', 'Grizzly Bears$1$block$Coral Eel$0', 'Hill Giant$0$block$Coral Eel$0', 'Giant Octopus$0', 'Glory Seeker', 'Vizzerdrix$0$block$Norwood Ranger$1', 'Giant Octopus$0$block$Ogre Taskmaster$0', 'Eager Cadet$0', 'Glory Seeker$1$block$Grizzly Bears$1', 'Norwood Ranger$1$block$Giant Octopus$2', 'Vizzerdrix$1$block$Goblin Raider$0', 'Enormous Baloth$0$block$Giant Octopus$0', 'Coral Eel$0', 'Eager Cadet$0$block$Ogre Taskmaster$0', 'Vizzerdrix$0$block$Hill Giant$0', 'Hill Giant$1$block$Coral Eel$0', 'Eager Cadet$0$block$Norwood Ranger$0', 'Norwood Ranger$1', 'Plains', 'Grizzly Bears$0$block$Eager Cadet$0', 'Grizzly Bears$1$block$Glory Seeker$3', 'Giant Octopus$1$block$Goblin Raider$1', 'Vizzerdrix', 'Glory Seeker$3$block$Norwood Ranger$1', 'Grizzly Bears$1$block$Coral Eel$1', 'Fugitive Wizard$0$block$Enormous Baloth$0', 'Hill Giant$0$block$Giant Octopus$1', 'Giant Octopus$2$block$Norwood Ranger$1', 'Giant Octopus$2$block$Goblin Raider$0', 'Giant Octopus$2$block$Hill Giant$1', 'Enormous Baloth$1$block$Vizzerdrix$1', 'Spined Wurm$0$block$Eager Cadet$0', 'Glory Seeker$0$block$Goblin Raider$0', 'Glory Seeker$3$block$Goblin Raider$0', 'Hill Giant$0$block$Giant Octopus$0', 'Giant Octopus$1$block$Grizzly Bears$1', 'Norwood Ranger$0', 'Eager Cadet$0$block$Grizzly Bears$1', 'Grizzly Bears$1$block$Glory Seeker$2', 'Glory Seeker$2$block$Grizzly Bears$1', 'Glory Seeker$1$block$Enormous Baloth$1', 'Giant Octopus$0$block$Goblin Raider$0', 'Coral Eel$0$block$Norwood Ranger$1', 'Norwood Ranger$0$block$Vizzerdrix$0', 'Spined Wurm$0$block$Coral Eel$0', 'Enormous Baloth$0$block$Eager Cadet$0', 'Vizzerdrix$1$block$Ogre Taskmaster$0', 'Enormous Baloth$0$block$Giant Octopus$2', 'Goblin Raider$1', 'Glory Seeker$2$block$Enormous Baloth$0', 'Enormous Baloth$1$block$Glory Seeker$0', 'Spined Wurm$0$block$Glory Seeker$0', 'Spined Wurm$0$block$Giant Octopus$0'}\n"
     ]
    }
   ],
   "metadata": {}
  }
 ]
}