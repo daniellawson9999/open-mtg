{
 "cells": [
  {
   "cell_type": "code",
   "execution_count": 176,
   "metadata": {},
   "outputs": [],
   "source": [
    "from deck import *\n",
    "from game import *\n",
    "from player import *\n",
    "from phases import Phases\n",
    "import random\n",
    "import torch\n"
   ]
  },
  {
   "cell_type": "code",
   "execution_count": 6,
   "metadata": {},
   "outputs": [],
   "source": [
    "data = {\n",
    "    \"Silver\": [],\n",
    "    \"Gold\": []\n",
    "}\n",
    "# Tuple State, Legal_actions, action, reward"
   ]
  },
  {
   "cell_type": "code",
   "execution_count": 7,
   "metadata": {},
   "outputs": [],
   "source": [
    "\n",
    "policies = [None,None]\n",
    "wins=[0,0]\n",
    "n_games = 1000\n",
    "\n",
    "\n",
    "def get_move(index, state, move_indexes=None, move_strings=None):\n",
    "    assert(move_indexes != None or move_strings != None), \"at least one list must not be None {} {}\".format(move_indexes,move_strings)\n",
    "\n",
    "    if (move_indexes != None):\n",
    "        length = len(move_indexes)\n",
    "    else:\n",
    "        length = len(move_strings)\n",
    "\n",
    "    if policies[index] == None or length == 1:\n",
    "        if move_indexes != None:\n",
    "            move = random.sample(move_indexes,1)[0]\n",
    "        else:\n",
    "            move = random.sample(move_strings,1)[0]\n",
    "    else:\n",
    "        assert (False), \"TODO\"\n",
    "        pass\n",
    "    return move"
   ]
  },
  {
   "cell_type": "code",
   "execution_count": 38,
   "metadata": {},
   "outputs": [
    {
     "name": "stdout",
     "output_type": "stream",
     "text": [
      "Starting game 1\n",
      "Starting game 2\n",
      "Starting game 3\n",
      "Starting game 4\n",
      "Starting game 5\n",
      "Starting game 6\n",
      "Starting game 7\n",
      "Starting game 8\n",
      "Starting game 9\n",
      "Starting game 10\n",
      "Starting game 11\n",
      "Starting game 12\n",
      "Starting game 13\n",
      "Starting game 14\n",
      "Starting game 15\n",
      "Starting game 16\n",
      "Starting game 17\n",
      "Starting game 18\n",
      "Starting game 19\n",
      "Starting game 20\n",
      "Starting game 21\n",
      "Starting game 22\n",
      "Starting game 23\n",
      "Starting game 24\n",
      "Starting game 25\n",
      "Starting game 26\n",
      "Starting game 27\n",
      "Starting game 28\n",
      "Starting game 29\n",
      "Starting game 30\n",
      "Starting game 31\n",
      "Starting game 32\n",
      "Starting game 33\n",
      "Starting game 34\n",
      "Starting game 35\n",
      "Starting game 36\n",
      "Starting game 37\n",
      "Starting game 38\n",
      "Starting game 39\n",
      "Starting game 40\n",
      "Starting game 41\n",
      "Starting game 42\n",
      "Starting game 43\n",
      "Starting game 44\n",
      "Starting game 45\n",
      "Starting game 46\n",
      "Starting game 47\n",
      "Starting game 48\n",
      "Starting game 49\n",
      "Starting game 50\n",
      "Starting game 51\n",
      "Starting game 52\n",
      "Starting game 53\n",
      "Starting game 54\n",
      "Starting game 55\n",
      "Starting game 56\n",
      "Starting game 57\n",
      "Starting game 58\n",
      "Starting game 59\n",
      "Starting game 60\n",
      "Starting game 61\n",
      "Starting game 62\n",
      "Starting game 63\n",
      "Starting game 64\n",
      "Starting game 65\n",
      "Starting game 66\n",
      "Starting game 67\n",
      "Starting game 68\n",
      "Starting game 69\n",
      "Starting game 70\n",
      "Starting game 71\n",
      "Starting game 72\n",
      "Starting game 73\n",
      "Starting game 74\n",
      "Starting game 75\n",
      "Starting game 76\n",
      "Starting game 77\n",
      "Starting game 78\n",
      "Starting game 79\n",
      "Starting game 80\n",
      "Starting game 81\n",
      "Starting game 82\n",
      "Starting game 83\n",
      "Starting game 84\n",
      "Starting game 85\n",
      "Starting game 86\n",
      "Starting game 87\n",
      "Starting game 88\n",
      "Starting game 89\n",
      "Starting game 90\n",
      "Starting game 91\n",
      "Starting game 92\n",
      "Starting game 93\n",
      "Starting game 94\n",
      "Starting game 95\n",
      "Starting game 96\n",
      "Starting game 97\n",
      "Starting game 98\n",
      "Starting game 99\n",
      "Starting game 100\n",
      "player 0 wins: 411, player 1 wins: 389\n"
     ]
    }
   ],
   "source": [
    "# Simulate n_names times\n",
    "for i in range(n_games):\n",
    "    print(\"Starting game %d\" % (i + 1))\n",
    "    # Create game\n",
    "    #game = Game([Player(get_8ed_core_gold_deck(), name=\"Gold\"), Player(get_8ed_core_silver_deck(), name=\"Silver\")])\n",
    "    game = Game([Player(get_8ed_core_gold_deck(), name=\"Player1\", deck_name=\"Gold\"), Player(get_8ed_core_gold_deck(), name=\"Player2\", deck_name=\"Gold\")])\n",
    "    game.start_game()\n",
    "\n",
    "    game_data = {\n",
    "        game.players[0].name: [],\n",
    "        game.players[1].name: []\n",
    "    }\n",
    "    while not game.is_over():\n",
    "        # Get player, valid moves\n",
    "        player = game.player_with_priority\n",
    "        move_indexes, move_strings = game.get_moves()\n",
    "        state = game.get_board_string()\n",
    "\n",
    "        # Skip COMBAT_DAMAGE_STEP_510_1c, no choices in damage assignment\n",
    "        if game.current_phase_index == Phases.COMBAT_DAMAGE_STEP_510_1c:\n",
    "            assert(len(move_indexes) == 1), \"Should only be 1 value move\"\n",
    "            game.make_move(move_indexes[0],False)\n",
    "            continue\n",
    "\n",
    "        # Get move, may have to unroll action\n",
    "        if isinstance(move_strings, ActionUnroller):\n",
    "            unroller = move_strings\n",
    "            while not unroller.is_done():\n",
    "                moves = unroller.get_legal_moves()\n",
    "                move_string = get_move(player.index,state, move_indexes=None, move_strings=moves)\n",
    "\n",
    "                # Record Move\n",
    "                if len(moves) > 1:\n",
    "                    game_data[player.name].append([state, moves, move_string])\n",
    "\n",
    "                #print(move_string)\n",
    "                state = unroller.register_move(move_string)\n",
    "            # Apply unrolled actions to game\n",
    "            unroller.make_move()\n",
    "        else:\n",
    "            #print(state)\n",
    "            move = get_move(player.index, state, move_indexes, move_strings)\n",
    "            move_string = move_strings[move_indexes.index(move)]\n",
    "\n",
    "            # Record Move\n",
    "            if len(move_indexes) > 1:\n",
    "                game_data[player.name].append([state, move_strings, move_string])\n",
    "\n",
    "            #print(move_string)\n",
    "            game.make_move(move, False)\n",
    "        #move = mcts.uct(game, itermax=5)\n",
    "\n",
    "    if game.players[1].has_lost:\n",
    "        wins[0] += 1\n",
    "        reward_0 = 1\n",
    "        reward_1 = -1\n",
    "        #print(\"State\", state)\n",
    "    elif game.players[0].has_lost:\n",
    "        wins[1] += 1\n",
    "        reward_0 = -1\n",
    "        reward_1 = 1\n",
    "        #print(\"State\", state)\n",
    "    # Add reward info\n",
    "    name_0 = game.players[0].name\n",
    "    name_1 = game.players[1].name\n",
    "    len_0 = len(game_data[name_0])\n",
    "    len_1 = len(game_data[name_1])\n",
    "    for i in range(max(len_0, len_1)):\n",
    "        if i <= len_0 - 1:\n",
    "            game_data[name_0][i].append(reward_0)\n",
    "        if i <= len_1 - 1:\n",
    "            game_data[name_1][i].append(reward_1)\n",
    "    # Add game_data to overall data\n",
    "    for player in game.players:\n",
    "        data[player.deck_name].append(game_data[player.name])\n",
    "    \n",
    "print(\"player 0 wins: %i, player 1 wins: %i\" % (wins[0], wins[1]))\n"
   ]
  },
  {
   "cell_type": "code",
   "execution_count": 9,
   "metadata": {},
   "outputs": [
    {
     "data": {
      "text/plain": [
       "array([['\\n        player-color$ Gold$\\n        life$ 20$\\n        opponent-life$ 20$\\n        phase$ Phases.MAIN_PHASE_PRE_COMBAT$\\n        hand$ Norwood Ranger$Mountain$Volcanic Hammer$Mountain$Forest$Hill Giant$Lava Axe$Forest$\\n        generic-debt$ 0$\\n        manapool$ White$ 0$ Blue$ 0$ Black$ 0$ Red$ 0$ Green$ 0$ Colorless$ 0$\\n        opponent-cards$ 6$\\n        self-lands-untapped$ $\\n        self-lands-tapped$ $\\n        opponent-lands-untapped$ Forest$\\n        opponent-lands-tapped$ $\\n        self-creatures-untapped$ $\\n        self-creatures-tapped$ $\\n        opponent-creatures-untapped$ $\\n        opponent-creatures-tapped$ $\\n        attackers-blockers$ None$\\n        damage-order$ None$\\n        ',\n",
       "        list(['Mountain', 'Mountain', 'Forest', 'Forest', 'Pass']),\n",
       "        'Pass', 1],\n",
       "       ['\\n        player-color$ Gold$\\n        life$ 20$\\n        opponent-life$ 20$\\n        phase$ Phases.MAIN_PHASE_PRE_COMBAT$\\n        hand$ Norwood Ranger$Mountain$Volcanic Hammer$Mountain$Forest$Hill Giant$Lava Axe$Forest$Forest$\\n        generic-debt$ 0$\\n        manapool$ White$ 0$ Blue$ 0$ Black$ 0$ Red$ 0$ Green$ 0$ Colorless$ 0$\\n        opponent-cards$ 6$\\n        self-lands-untapped$ $\\n        self-lands-tapped$ $\\n        opponent-lands-untapped$ Forest$Forest$\\n        opponent-lands-tapped$ $\\n        self-creatures-untapped$ $\\n        self-creatures-tapped$ $\\n        opponent-creatures-untapped$ $\\n        opponent-creatures-tapped$ $\\n        attackers-blockers$ None$\\n        damage-order$ None$\\n        ',\n",
       "        list(['Mountain', 'Mountain', 'Forest', 'Forest', 'Forest', 'Pass']),\n",
       "        'Forest', 1],\n",
       "       ['\\n        player-color$ Gold$\\n        life$ 20$\\n        opponent-life$ 20$\\n        phase$ Phases.MAIN_PHASE_PRE_COMBAT$\\n        hand$ Norwood Ranger$Mountain$Volcanic Hammer$Mountain$Hill Giant$Lava Axe$Forest$Forest$\\n        generic-debt$ 0$\\n        manapool$ White$ 0$ Blue$ 0$ Black$ 0$ Red$ 0$ Green$ 0$ Colorless$ 0$\\n        opponent-cards$ 6$\\n        self-lands-untapped$ Forest$\\n        self-lands-tapped$ $\\n        opponent-lands-untapped$ Forest$Forest$\\n        opponent-lands-tapped$ $\\n        self-creatures-untapped$ $\\n        self-creatures-tapped$ $\\n        opponent-creatures-untapped$ $\\n        opponent-creatures-tapped$ $\\n        attackers-blockers$ None$\\n        damage-order$ None$\\n        ',\n",
       "        list(['tapped_ability_0_Forest', 'Pass']), 'Pass', 1],\n",
       "       ['\\n        player-color$ Gold$\\n        life$ 20$\\n        opponent-life$ 20$\\n        phase$ Phases.MAIN_PHASE_PRE_COMBAT$\\n        hand$ Norwood Ranger$Mountain$Volcanic Hammer$Mountain$Hill Giant$Lava Axe$Forest$Forest$Stone Rain$\\n        generic-debt$ 0$\\n        manapool$ White$ 0$ Blue$ 0$ Black$ 0$ Red$ 0$ Green$ 0$ Colorless$ 0$\\n        opponent-cards$ 6$\\n        self-lands-untapped$ Forest$\\n        self-lands-tapped$ $\\n        opponent-lands-untapped$ Forest$Forest$Forest$\\n        opponent-lands-tapped$ $\\n        self-creatures-untapped$ $\\n        self-creatures-tapped$ $\\n        opponent-creatures-untapped$ $\\n        opponent-creatures-tapped$ $\\n        attackers-blockers$ None$\\n        damage-order$ None$\\n        ',\n",
       "        list(['Mountain', 'Mountain', 'Forest', 'Forest', 'tapped_ability_0_Forest', 'Pass']),\n",
       "        'Forest', 1],\n",
       "       ['\\n        player-color$ Gold$\\n        life$ 20$\\n        opponent-life$ 20$\\n        phase$ Phases.MAIN_PHASE_PRE_COMBAT$\\n        hand$ Norwood Ranger$Mountain$Volcanic Hammer$Mountain$Hill Giant$Lava Axe$Forest$Stone Rain$\\n        generic-debt$ 0$\\n        manapool$ White$ 0$ Blue$ 0$ Black$ 0$ Red$ 0$ Green$ 0$ Colorless$ 0$\\n        opponent-cards$ 6$\\n        self-lands-untapped$ Forest$Forest$\\n        self-lands-tapped$ $\\n        opponent-lands-untapped$ Forest$Forest$Forest$\\n        opponent-lands-tapped$ $\\n        self-creatures-untapped$ $\\n        self-creatures-tapped$ $\\n        opponent-creatures-untapped$ $\\n        opponent-creatures-tapped$ $\\n        attackers-blockers$ None$\\n        damage-order$ None$\\n        ',\n",
       "        list(['tapped_ability_0_Forest', 'tapped_ability_0_Forest', 'Pass']),\n",
       "        'Pass', 1],\n",
       "       ['\\n        player-color$ Gold$\\n        life$ 20$\\n        opponent-life$ 20$\\n        phase$ Phases.MAIN_PHASE_PRE_COMBAT$\\n        hand$ Norwood Ranger$Mountain$Volcanic Hammer$Mountain$Hill Giant$Lava Axe$Forest$Stone Rain$Lava Axe$\\n        generic-debt$ 0$\\n        manapool$ White$ 0$ Blue$ 0$ Black$ 0$ Red$ 0$ Green$ 0$ Colorless$ 0$\\n        opponent-cards$ 6$\\n        self-lands-untapped$ Forest$Forest$\\n        self-lands-tapped$ $\\n        opponent-lands-untapped$ Forest$Forest$Forest$\\n        opponent-lands-tapped$ $\\n        self-creatures-untapped$ $\\n        self-creatures-tapped$ $\\n        opponent-creatures-untapped$ Grizzly Bears$\\n        opponent-creatures-tapped$ $\\n        attackers-blockers$ None$\\n        damage-order$ None$\\n        ',\n",
       "        list(['Mountain', 'Mountain', 'Forest', 'tapped_ability_0_Forest', 'tapped_ability_0_Forest', 'Pass']),\n",
       "        'Mountain', 1],\n",
       "       ['\\n        player-color$ Gold$\\n        life$ 20$\\n        opponent-life$ 20$\\n        phase$ Phases.MAIN_PHASE_PRE_COMBAT$\\n        hand$ Norwood Ranger$Mountain$Volcanic Hammer$Hill Giant$Lava Axe$Forest$Stone Rain$Lava Axe$\\n        generic-debt$ 0$\\n        manapool$ White$ 0$ Blue$ 0$ Black$ 0$ Red$ 0$ Green$ 0$ Colorless$ 0$\\n        opponent-cards$ 6$\\n        self-lands-untapped$ Forest$Forest$Mountain$\\n        self-lands-tapped$ $\\n        opponent-lands-untapped$ Forest$Forest$Forest$\\n        opponent-lands-tapped$ $\\n        self-creatures-untapped$ $\\n        self-creatures-tapped$ $\\n        opponent-creatures-untapped$ Grizzly Bears$\\n        opponent-creatures-tapped$ $\\n        attackers-blockers$ None$\\n        damage-order$ None$\\n        ',\n",
       "        list(['tapped_ability_0_Forest', 'tapped_ability_0_Forest', 'tapped_ability_0_Mountain', 'Pass']),\n",
       "        'tapped_ability_0_Mountain', 1],\n",
       "       ['\\n        player-color$ Gold$\\n        life$ 20$\\n        opponent-life$ 20$\\n        phase$ Phases.MAIN_PHASE_PRE_COMBAT$\\n        hand$ Norwood Ranger$Mountain$Volcanic Hammer$Hill Giant$Lava Axe$Forest$Stone Rain$Lava Axe$\\n        generic-debt$ 0$\\n        manapool$ Red$ 1$ Blue$ 0$ Black$ 0$ Colorless$ 0$ Green$ 1$ White$ 0$\\n        opponent-cards$ 6$\\n        self-lands-untapped$ Forest$\\n        self-lands-tapped$ Forest$Mountain$\\n        opponent-lands-untapped$ Forest$Forest$Forest$\\n        opponent-lands-tapped$ $\\n        self-creatures-untapped$ $\\n        self-creatures-tapped$ $\\n        opponent-creatures-untapped$ Grizzly Bears$\\n        opponent-creatures-tapped$ $\\n        attackers-blockers$ None$\\n        damage-order$ None$\\n        ',\n",
       "        list(['Norwood Ranger', 'Volcanic Hammer', 'tapped_ability_0_Forest', 'Pass']),\n",
       "        'Volcanic Hammer', 1],\n",
       "       ['\\n        player-color$ Gold$\\n        life$ 20$\\n        opponent-life$ 20$\\n        phase$ Phases.MAIN_PHASE_PRE_COMBAT$\\n        hand$ Norwood Ranger$Mountain$Hill Giant$Lava Axe$Forest$Stone Rain$Lava Axe$\\n        generic-debt$ 0$\\n        manapool$ Red$ 0$ Blue$ 0$ Black$ 0$ Colorless$ 0$ Green$ 0$ White$ 0$\\n        opponent-cards$ 6$\\n        self-lands-untapped$ Forest$\\n        self-lands-tapped$ Forest$Mountain$\\n        opponent-lands-untapped$ Forest$Forest$Forest$\\n        opponent-lands-tapped$ $\\n        self-creatures-untapped$ $\\n        self-creatures-tapped$ $\\n        opponent-creatures-untapped$ Grizzly Bears$\\n        opponent-creatures-tapped$ $\\n        attackers-blockers$ None$\\n        damage-order$ None$\\n        ',\n",
       "        list(['Grizzly Bears$1', 'self', 'opponent']), 'opponent', 1],\n",
       "       ['\\n        player-color$ Gold$\\n        life$ 20$\\n        opponent-life$ 17$\\n        phase$ Phases.MAIN_PHASE_PRE_COMBAT$\\n        hand$ Norwood Ranger$Mountain$Hill Giant$Lava Axe$Forest$Stone Rain$Lava Axe$\\n        generic-debt$ 0$\\n        manapool$ Red$ 0$ Blue$ 0$ Black$ 0$ Colorless$ 0$ Green$ 0$ White$ 0$\\n        opponent-cards$ 6$\\n        self-lands-untapped$ Forest$\\n        self-lands-tapped$ Forest$Mountain$\\n        opponent-lands-untapped$ Forest$Forest$Forest$\\n        opponent-lands-tapped$ $\\n        self-creatures-untapped$ $\\n        self-creatures-tapped$ $\\n        opponent-creatures-untapped$ Grizzly Bears$\\n        opponent-creatures-tapped$ $\\n        attackers-blockers$ None$\\n        damage-order$ None$\\n        ',\n",
       "        list(['tapped_ability_0_Forest', 'Pass']),\n",
       "        'tapped_ability_0_Forest', 1],\n",
       "       ['\\n        player-color$ Gold$\\n        life$ 20$\\n        opponent-life$ 17$\\n        phase$ Phases.MAIN_PHASE_PRE_COMBAT$\\n        hand$ Norwood Ranger$Mountain$Hill Giant$Lava Axe$Forest$Stone Rain$Lava Axe$\\n        generic-debt$ 0$\\n        manapool$ Red$ 0$ Colorless$ 0$ Blue$ 0$ Black$ 0$ Green$ 1$ White$ 0$\\n        opponent-cards$ 6$\\n        self-lands-untapped$ $\\n        self-lands-tapped$ Forest$Forest$Mountain$\\n        opponent-lands-untapped$ Forest$Forest$Forest$\\n        opponent-lands-tapped$ $\\n        self-creatures-untapped$ $\\n        self-creatures-tapped$ $\\n        opponent-creatures-untapped$ Grizzly Bears$\\n        opponent-creatures-tapped$ $\\n        attackers-blockers$ None$\\n        damage-order$ None$\\n        ',\n",
       "        list(['Norwood Ranger', 'Pass']), 'Norwood Ranger', 1],\n",
       "       ['\\n        player-color$ Gold$\\n        life$ 20$\\n        opponent-life$ 17$\\n        phase$ Phases.DECLARE_BLOCKERS_STEP$\\n        hand$ Mountain$Hill Giant$Lava Axe$Forest$Stone Rain$Lava Axe$\\n        generic-debt$ 0$\\n        manapool$ White$ 0$ Blue$ 0$ Black$ 0$ Red$ 0$ Green$ 0$ Colorless$ 0$\\n        opponent-cards$ 6$\\n        self-lands-untapped$ Forest$Forest$Mountain$\\n        self-lands-tapped$ $\\n        opponent-lands-untapped$ $\\n        opponent-lands-tapped$ Forest$Forest$Forest$Forest$\\n        self-creatures-untapped$ Norwood Ranger$\\n        self-creatures-tapped$ $\\n        opponent-creatures-untapped$ $\\n        opponent-creatures-tapped$ Grizzly Bears$\\n        attackers-blockers$ attacker: $Grizzly Bears$1$ blocked by: $None$$\\n        damage-order$ None$\\n        ',\n",
       "        list(['Pass', 'Norwood Ranger$1$block$Grizzly Bears$1']), 'Pass',\n",
       "        1],\n",
       "       ['\\n        player-color$ Gold$\\n        life$ 18$\\n        opponent-life$ 17$\\n        phase$ Phases.MAIN_PHASE_PRE_COMBAT$\\n        hand$ Mountain$Hill Giant$Lava Axe$Forest$Stone Rain$Lava Axe$Grizzly Bears$\\n        generic-debt$ 0$\\n        manapool$ White$ 0$ Blue$ 0$ Black$ 0$ Red$ 0$ Green$ 0$ Colorless$ 0$\\n        opponent-cards$ 6$\\n        self-lands-untapped$ Forest$Forest$Mountain$\\n        self-lands-tapped$ $\\n        opponent-lands-untapped$ Forest$Forest$Forest$Forest$\\n        opponent-lands-tapped$ $\\n        self-creatures-untapped$ Norwood Ranger$\\n        self-creatures-tapped$ $\\n        opponent-creatures-untapped$ Grizzly Bears$\\n        opponent-creatures-tapped$ $\\n        attackers-blockers$ None$\\n        damage-order$ None$\\n        ',\n",
       "        list(['Mountain', 'Forest', 'tapped_ability_0_Forest', 'tapped_ability_0_Forest', 'tapped_ability_0_Mountain', 'Pass']),\n",
       "        'Mountain', 1],\n",
       "       ['\\n        player-color$ Gold$\\n        life$ 18$\\n        opponent-life$ 17$\\n        phase$ Phases.MAIN_PHASE_PRE_COMBAT$\\n        hand$ Hill Giant$Lava Axe$Forest$Stone Rain$Lava Axe$Grizzly Bears$\\n        generic-debt$ 0$\\n        manapool$ White$ 0$ Blue$ 0$ Black$ 0$ Red$ 0$ Green$ 0$ Colorless$ 0$\\n        opponent-cards$ 6$\\n        self-lands-untapped$ Forest$Forest$Mountain$Mountain$\\n        self-lands-tapped$ $\\n        opponent-lands-untapped$ Forest$Forest$Forest$Forest$\\n        opponent-lands-tapped$ $\\n        self-creatures-untapped$ Norwood Ranger$\\n        self-creatures-tapped$ $\\n        opponent-creatures-untapped$ Grizzly Bears$\\n        opponent-creatures-tapped$ $\\n        attackers-blockers$ None$\\n        damage-order$ None$\\n        ',\n",
       "        list(['tapped_ability_0_Forest', 'tapped_ability_0_Forest', 'tapped_ability_0_Mountain', 'tapped_ability_0_Mountain', 'Pass']),\n",
       "        'tapped_ability_0_Mountain', 1],\n",
       "       ['\\n        player-color$ Gold$\\n        life$ 18$\\n        opponent-life$ 17$\\n        phase$ Phases.MAIN_PHASE_PRE_COMBAT$\\n        hand$ Hill Giant$Lava Axe$Forest$Stone Rain$Lava Axe$Grizzly Bears$\\n        generic-debt$ 0$\\n        manapool$ Red$ 2$ Colorless$ 0$ Blue$ 0$ Black$ 0$ Green$ 1$ White$ 0$\\n        opponent-cards$ 6$\\n        self-lands-untapped$ Forest$\\n        self-lands-tapped$ Forest$Mountain$Mountain$\\n        opponent-lands-untapped$ Forest$Forest$Forest$Forest$\\n        opponent-lands-tapped$ $\\n        self-creatures-untapped$ Norwood Ranger$\\n        self-creatures-tapped$ $\\n        opponent-creatures-untapped$ Grizzly Bears$\\n        opponent-creatures-tapped$ $\\n        attackers-blockers$ None$\\n        damage-order$ None$\\n        ',\n",
       "        list(['Stone Rain', 'Grizzly Bears', 'tapped_ability_0_Forest', 'Pass']),\n",
       "        'Grizzly Bears', 1],\n",
       "       ['\\n        player-color$ Gold$\\n        life$ 18$\\n        opponent-life$ 17$\\n        phase$ Phases.MAIN_PHASE_PRE_COMBAT$\\n        hand$ Hill Giant$Lava Axe$Forest$Stone Rain$Lava Axe$\\n        generic-debt$ 0$\\n        manapool$ Red$ 1$ Colorless$ 0$ Blue$ 0$ Black$ 0$ Green$ 0$ White$ 0$\\n        opponent-cards$ 6$\\n        self-lands-untapped$ Forest$\\n        self-lands-tapped$ Forest$Mountain$Mountain$\\n        opponent-lands-untapped$ Forest$Forest$Forest$Forest$\\n        opponent-lands-tapped$ $\\n        self-creatures-untapped$ Norwood Ranger$Grizzly Bears$\\n        self-creatures-tapped$ $\\n        opponent-creatures-untapped$ Grizzly Bears$\\n        opponent-creatures-tapped$ $\\n        attackers-blockers$ None$\\n        damage-order$ None$\\n        ',\n",
       "        list(['tapped_ability_0_Forest', 'Pass']),\n",
       "        'tapped_ability_0_Forest', 1],\n",
       "       ['\\n        player-color$ Gold$\\n        life$ 18$\\n        opponent-life$ 17$\\n        phase$ Phases.DECLARE_ATTACKERS_STEP$\\n        hand$ Hill Giant$Lava Axe$Forest$Stone Rain$Lava Axe$\\n        generic-debt$ 0$\\n        manapool$ Red$ 1$ Blue$ 0$ Black$ 0$ Colorless$ 0$ Green$ 1$ White$ 0$\\n        opponent-cards$ 6$\\n        self-lands-untapped$ $\\n        self-lands-tapped$ Forest$Forest$Mountain$Mountain$\\n        opponent-lands-untapped$ Forest$Forest$Forest$Forest$\\n        opponent-lands-tapped$ $\\n        self-creatures-untapped$ Norwood Ranger$Grizzly Bears$\\n        self-creatures-tapped$ $\\n        opponent-creatures-untapped$ Grizzly Bears$\\n        opponent-creatures-tapped$ $\\n        attackers-blockers$ None$\\n        damage-order$ None$\\n        ',\n",
       "        list([]), 'Norwood Ranger$1', 1],\n",
       "       ['\\n        player-color$ Gold$\\n        life$ 18$\\n        opponent-life$ 17$\\n        phase$ Phases.MAIN_PHASE_PRE_COMBAT$\\n        hand$ Hill Giant$Lava Axe$Forest$Stone Rain$Lava Axe$Volcanic Hammer$\\n        generic-debt$ 0$\\n        manapool$ White$ 0$ Blue$ 0$ Black$ 0$ Red$ 0$ Green$ 0$ Colorless$ 0$\\n        opponent-cards$ 7$\\n        self-lands-untapped$ Forest$Forest$Mountain$Mountain$\\n        self-lands-tapped$ $\\n        opponent-lands-untapped$ Forest$Forest$Forest$Forest$\\n        opponent-lands-tapped$ $\\n        self-creatures-untapped$ Grizzly Bears$\\n        self-creatures-tapped$ $\\n        opponent-creatures-untapped$ $\\n        opponent-creatures-tapped$ $\\n        attackers-blockers$ None$\\n        damage-order$ None$\\n        ',\n",
       "        list(['Forest', 'tapped_ability_0_Forest', 'tapped_ability_0_Forest', 'tapped_ability_0_Mountain', 'tapped_ability_0_Mountain', 'Pass']),\n",
       "        'tapped_ability_0_Forest', 1],\n",
       "       ['\\n        player-color$ Gold$\\n        life$ 18$\\n        opponent-life$ 17$\\n        phase$ Phases.MAIN_PHASE_PRE_COMBAT$\\n        hand$ Hill Giant$Lava Axe$Forest$Stone Rain$Lava Axe$Volcanic Hammer$\\n        generic-debt$ 0$\\n        manapool$ Red$ 2$ Blue$ 0$ Black$ 0$ Colorless$ 0$ Green$ 2$ White$ 0$\\n        opponent-cards$ 7$\\n        self-lands-untapped$ $\\n        self-lands-tapped$ Forest$Forest$Mountain$Mountain$\\n        opponent-lands-untapped$ Forest$Forest$Forest$Forest$\\n        opponent-lands-tapped$ $\\n        self-creatures-untapped$ Grizzly Bears$\\n        self-creatures-tapped$ $\\n        opponent-creatures-untapped$ $\\n        opponent-creatures-tapped$ $\\n        attackers-blockers$ None$\\n        damage-order$ None$\\n        ',\n",
       "        list(['Hill Giant', 'Forest', 'Stone Rain', 'Volcanic Hammer', 'Pass']),\n",
       "        'Stone Rain', 1],\n",
       "       ['\\n        player-color$ Gold$\\n        life$ 18$\\n        opponent-life$ 17$\\n        phase$ Phases.MAIN_PHASE_PRE_COMBAT$\\n        hand$ Hill Giant$Lava Axe$Forest$Lava Axe$Volcanic Hammer$\\n        generic-debt$ 2$\\n        manapool$ Red$ 1$ Blue$ 0$ Black$ 0$ Colorless$ 0$ Green$ 2$ White$ 0$\\n        opponent-cards$ 7$\\n        self-lands-untapped$ $\\n        self-lands-tapped$ Forest$Forest$Mountain$Mountain$\\n        opponent-lands-untapped$ Forest$Forest$Forest$Forest$\\n        opponent-lands-tapped$ $\\n        self-creatures-untapped$ Grizzly Bears$\\n        self-creatures-tapped$ $\\n        opponent-creatures-untapped$ $\\n        opponent-creatures-tapped$ $\\n        attackers-blockers$ None$\\n        damage-order$ None$\\n        ',\n",
       "        list(['Red', 'Green']), 'Red', 1],\n",
       "       ['\\n        player-color$ Gold$\\n        life$ 18$\\n        opponent-life$ 17$\\n        phase$ Phases.MAIN_PHASE_PRE_COMBAT$\\n        hand$ Hill Giant$Lava Axe$Forest$Lava Axe$Volcanic Hammer$\\n        generic-debt$ 0$\\n        manapool$ Red$ 0$ Blue$ 0$ Black$ 0$ Colorless$ 0$ Green$ 1$ White$ 0$\\n        opponent-cards$ 7$\\n        self-lands-untapped$ $\\n        self-lands-tapped$ Forest$Forest$Mountain$Mountain$\\n        opponent-lands-untapped$ Forest$Forest$Forest$Forest$\\n        opponent-lands-tapped$ $\\n        self-creatures-untapped$ Grizzly Bears$\\n        self-creatures-tapped$ $\\n        opponent-creatures-untapped$ $\\n        opponent-creatures-tapped$ $\\n        attackers-blockers$ None$\\n        damage-order$ None$\\n        ',\n",
       "        list(['Forest', 'Forest', 'Forest', 'Forest', 'Forest', 'Mountain', 'Forest', 'Mountain']),\n",
       "        'Forest', 1],\n",
       "       ['\\n        player-color$ Gold$\\n        life$ 18$\\n        opponent-life$ 17$\\n        phase$ Phases.MAIN_PHASE_PRE_COMBAT$\\n        hand$ Hill Giant$Lava Axe$Forest$Lava Axe$Volcanic Hammer$\\n        generic-debt$ 0$\\n        manapool$ Red$ 0$ Blue$ 0$ Black$ 0$ Colorless$ 0$ Green$ 1$ White$ 0$\\n        opponent-cards$ 7$\\n        self-lands-untapped$ $\\n        self-lands-tapped$ Forest$Forest$Mountain$Mountain$\\n        opponent-lands-untapped$ Forest$Forest$Forest$\\n        opponent-lands-tapped$ $\\n        self-creatures-untapped$ Grizzly Bears$\\n        self-creatures-tapped$ $\\n        opponent-creatures-untapped$ $\\n        opponent-creatures-tapped$ $\\n        attackers-blockers$ None$\\n        damage-order$ None$\\n        ',\n",
       "        list(['Forest', 'Pass']), 'Forest', 1],\n",
       "       ['\\n        player-color$ Gold$\\n        life$ 18$\\n        opponent-life$ 17$\\n        phase$ Phases.MAIN_PHASE_PRE_COMBAT$\\n        hand$ Hill Giant$Lava Axe$Lava Axe$Volcanic Hammer$\\n        generic-debt$ 0$\\n        manapool$ Red$ 0$ Blue$ 0$ Black$ 0$ Colorless$ 0$ Green$ 1$ White$ 0$\\n        opponent-cards$ 7$\\n        self-lands-untapped$ Forest$\\n        self-lands-tapped$ Forest$Forest$Mountain$Mountain$\\n        opponent-lands-untapped$ Forest$Forest$Forest$\\n        opponent-lands-tapped$ $\\n        self-creatures-untapped$ Grizzly Bears$\\n        self-creatures-tapped$ $\\n        opponent-creatures-untapped$ $\\n        opponent-creatures-tapped$ $\\n        attackers-blockers$ None$\\n        damage-order$ None$\\n        ',\n",
       "        list(['tapped_ability_0_Forest', 'Pass']), 'Pass', 1],\n",
       "       ['\\n        player-color$ Gold$\\n        life$ 18$\\n        opponent-life$ 17$\\n        phase$ Phases.DECLARE_ATTACKERS_STEP$\\n        hand$ Hill Giant$Lava Axe$Lava Axe$Volcanic Hammer$\\n        generic-debt$ 0$\\n        manapool$ Red$ 0$ Blue$ 0$ Black$ 0$ Colorless$ 0$ Green$ 1$ White$ 0$\\n        opponent-cards$ 7$\\n        self-lands-untapped$ Forest$\\n        self-lands-tapped$ Forest$Forest$Mountain$Mountain$\\n        opponent-lands-untapped$ Forest$Forest$Forest$\\n        opponent-lands-tapped$ $\\n        self-creatures-untapped$ Grizzly Bears$\\n        self-creatures-tapped$ $\\n        opponent-creatures-untapped$ $\\n        opponent-creatures-tapped$ $\\n        attackers-blockers$ None$\\n        damage-order$ None$\\n        ',\n",
       "        list(['Grizzly Bears$1']), 'Pass', 1],\n",
       "       ['\\n        player-color$ Gold$\\n        life$ 18$\\n        opponent-life$ 17$\\n        phase$ Phases.MAIN_PHASE_PRE_COMBAT$\\n        hand$ Hill Giant$Lava Axe$Lava Axe$Volcanic Hammer$Mountain$\\n        generic-debt$ 0$\\n        manapool$ White$ 0$ Blue$ 0$ Black$ 0$ Red$ 0$ Green$ 0$ Colorless$ 0$\\n        opponent-cards$ 7$\\n        self-lands-untapped$ Forest$Forest$Mountain$Mountain$Forest$\\n        self-lands-tapped$ $\\n        opponent-lands-untapped$ Forest$Forest$Forest$Mountain$\\n        opponent-lands-tapped$ $\\n        self-creatures-untapped$ Grizzly Bears$\\n        self-creatures-tapped$ $\\n        opponent-creatures-untapped$ $\\n        opponent-creatures-tapped$ $\\n        attackers-blockers$ None$\\n        damage-order$ None$\\n        ',\n",
       "        list(['Mountain', 'tapped_ability_0_Forest', 'tapped_ability_0_Forest', 'tapped_ability_0_Mountain', 'tapped_ability_0_Mountain', 'tapped_ability_0_Forest', 'Pass']),\n",
       "        'tapped_ability_0_Forest', 1],\n",
       "       ['\\n        player-color$ Gold$\\n        life$ 18$\\n        opponent-life$ 17$\\n        phase$ Phases.MAIN_PHASE_PRE_COMBAT$\\n        hand$ Hill Giant$Lava Axe$Lava Axe$Volcanic Hammer$Mountain$\\n        generic-debt$ 0$\\n        manapool$ Red$ 2$ Colorless$ 0$ Blue$ 0$ Black$ 0$ Green$ 3$ White$ 0$\\n        opponent-cards$ 7$\\n        self-lands-untapped$ $\\n        self-lands-tapped$ Forest$Forest$Mountain$Mountain$Forest$\\n        opponent-lands-untapped$ Forest$Forest$Forest$Mountain$\\n        opponent-lands-tapped$ $\\n        self-creatures-untapped$ Grizzly Bears$\\n        self-creatures-tapped$ $\\n        opponent-creatures-untapped$ $\\n        opponent-creatures-tapped$ $\\n        attackers-blockers$ None$\\n        damage-order$ None$\\n        ',\n",
       "        list(['Hill Giant', 'Lava Axe', 'Lava Axe', 'Volcanic Hammer', 'Mountain', 'Pass']),\n",
       "        'Lava Axe', 1],\n",
       "       ['\\n        player-color$ Gold$\\n        life$ 18$\\n        opponent-life$ 17$\\n        phase$ Phases.MAIN_PHASE_PRE_COMBAT$\\n        hand$ Hill Giant$Lava Axe$Volcanic Hammer$Mountain$\\n        generic-debt$ 4$\\n        manapool$ Red$ 1$ Colorless$ 0$ Blue$ 0$ Black$ 0$ Green$ 3$ White$ 0$\\n        opponent-cards$ 7$\\n        self-lands-untapped$ $\\n        self-lands-tapped$ Forest$Forest$Mountain$Mountain$Forest$\\n        opponent-lands-untapped$ Forest$Forest$Forest$Mountain$\\n        opponent-lands-tapped$ $\\n        self-creatures-untapped$ Grizzly Bears$\\n        self-creatures-tapped$ $\\n        opponent-creatures-untapped$ $\\n        opponent-creatures-tapped$ $\\n        attackers-blockers$ None$\\n        damage-order$ None$\\n        ',\n",
       "        list(['Red', 'Green']), 'Red', 1],\n",
       "       ['\\n        player-color$ Gold$\\n        life$ 18$\\n        opponent-life$ 17$\\n        phase$ Phases.MAIN_PHASE_PRE_COMBAT$\\n        hand$ Hill Giant$Lava Axe$Volcanic Hammer$Mountain$\\n        generic-debt$ 0$\\n        manapool$ Red$ 0$ Colorless$ 0$ Blue$ 0$ Black$ 0$ Green$ 0$ White$ 0$\\n        opponent-cards$ 7$\\n        self-lands-untapped$ $\\n        self-lands-tapped$ Forest$Forest$Mountain$Mountain$Forest$\\n        opponent-lands-untapped$ Forest$Forest$Forest$Mountain$\\n        opponent-lands-tapped$ $\\n        self-creatures-untapped$ Grizzly Bears$\\n        self-creatures-tapped$ $\\n        opponent-creatures-untapped$ $\\n        opponent-creatures-tapped$ $\\n        attackers-blockers$ None$\\n        damage-order$ None$\\n        ',\n",
       "        list(['self', 'opponent']), 'self', 1],\n",
       "       ['\\n        player-color$ Gold$\\n        life$ 13$\\n        opponent-life$ 17$\\n        phase$ Phases.MAIN_PHASE_PRE_COMBAT$\\n        hand$ Hill Giant$Lava Axe$Volcanic Hammer$Mountain$\\n        generic-debt$ 0$\\n        manapool$ Red$ 0$ Colorless$ 0$ Blue$ 0$ Black$ 0$ Green$ 0$ White$ 0$\\n        opponent-cards$ 7$\\n        self-lands-untapped$ $\\n        self-lands-tapped$ Forest$Forest$Mountain$Mountain$Forest$\\n        opponent-lands-untapped$ Forest$Forest$Forest$Mountain$\\n        opponent-lands-tapped$ $\\n        self-creatures-untapped$ Grizzly Bears$\\n        self-creatures-tapped$ $\\n        opponent-creatures-untapped$ $\\n        opponent-creatures-tapped$ $\\n        attackers-blockers$ None$\\n        damage-order$ None$\\n        ',\n",
       "        list(['Mountain', 'Pass']), 'Pass', 1],\n",
       "       ['\\n        player-color$ Gold$\\n        life$ 13$\\n        opponent-life$ 17$\\n        phase$ Phases.DECLARE_ATTACKERS_STEP$\\n        hand$ Hill Giant$Lava Axe$Volcanic Hammer$Mountain$\\n        generic-debt$ 0$\\n        manapool$ Red$ 0$ Colorless$ 0$ Blue$ 0$ Black$ 0$ Green$ 0$ White$ 0$\\n        opponent-cards$ 7$\\n        self-lands-untapped$ $\\n        self-lands-tapped$ Forest$Forest$Mountain$Mountain$Forest$\\n        opponent-lands-untapped$ Forest$Forest$Forest$Mountain$\\n        opponent-lands-tapped$ $\\n        self-creatures-untapped$ Grizzly Bears$\\n        self-creatures-tapped$ $\\n        opponent-creatures-untapped$ $\\n        opponent-creatures-tapped$ $\\n        attackers-blockers$ None$\\n        damage-order$ None$\\n        ',\n",
       "        list(['Grizzly Bears$1']), 'Pass', 1],\n",
       "       ['\\n        player-color$ Gold$\\n        life$ 13$\\n        opponent-life$ 17$\\n        phase$ Phases.MAIN_PHASE_PRE_COMBAT$\\n        hand$ Hill Giant$Lava Axe$Volcanic Hammer$Mountain$Enormous Baloth$\\n        generic-debt$ 0$\\n        manapool$ White$ 0$ Blue$ 0$ Black$ 0$ Red$ 0$ Green$ 0$ Colorless$ 0$\\n        opponent-cards$ 6$\\n        self-lands-untapped$ Forest$Forest$Mountain$Mountain$Forest$\\n        self-lands-tapped$ $\\n        opponent-lands-untapped$ Forest$Forest$Forest$Mountain$\\n        opponent-lands-tapped$ $\\n        self-creatures-untapped$ Grizzly Bears$\\n        self-creatures-tapped$ $\\n        opponent-creatures-untapped$ Goblin Raider$Norwood Ranger$\\n        opponent-creatures-tapped$ $\\n        attackers-blockers$ None$\\n        damage-order$ None$\\n        ',\n",
       "        list(['Mountain', 'tapped_ability_0_Forest', 'tapped_ability_0_Forest', 'tapped_ability_0_Mountain', 'tapped_ability_0_Mountain', 'tapped_ability_0_Forest', 'Pass']),\n",
       "        'tapped_ability_0_Mountain', 1],\n",
       "       ['\\n        player-color$ Gold$\\n        life$ 13$\\n        opponent-life$ 17$\\n        phase$ Phases.MAIN_PHASE_PRE_COMBAT$\\n        hand$ Hill Giant$Lava Axe$Volcanic Hammer$Mountain$Enormous Baloth$\\n        generic-debt$ 0$\\n        manapool$ Red$ 2$ Blue$ 0$ Black$ 0$ Colorless$ 0$ Green$ 2$ White$ 0$\\n        opponent-cards$ 6$\\n        self-lands-untapped$ Forest$\\n        self-lands-tapped$ Forest$Mountain$Mountain$Forest$\\n        opponent-lands-untapped$ Forest$Forest$Forest$Mountain$\\n        opponent-lands-tapped$ $\\n        self-creatures-untapped$ Grizzly Bears$\\n        self-creatures-tapped$ $\\n        opponent-creatures-untapped$ Goblin Raider$Norwood Ranger$\\n        opponent-creatures-tapped$ $\\n        attackers-blockers$ None$\\n        damage-order$ None$\\n        ',\n",
       "        list(['Hill Giant', 'Volcanic Hammer', 'Mountain', 'tapped_ability_0_Forest', 'Pass']),\n",
       "        'Pass', 1],\n",
       "       ['\\n        player-color$ Gold$\\n        life$ 13$\\n        opponent-life$ 17$\\n        phase$ Phases.DECLARE_ATTACKERS_STEP$\\n        hand$ Hill Giant$Lava Axe$Volcanic Hammer$Mountain$Enormous Baloth$\\n        generic-debt$ 0$\\n        manapool$ Red$ 2$ Blue$ 0$ Black$ 0$ Colorless$ 0$ Green$ 2$ White$ 0$\\n        opponent-cards$ 6$\\n        self-lands-untapped$ Forest$\\n        self-lands-tapped$ Forest$Mountain$Mountain$Forest$\\n        opponent-lands-untapped$ Forest$Forest$Forest$Mountain$\\n        opponent-lands-tapped$ $\\n        self-creatures-untapped$ Grizzly Bears$\\n        self-creatures-tapped$ $\\n        opponent-creatures-untapped$ Goblin Raider$Norwood Ranger$\\n        opponent-creatures-tapped$ $\\n        attackers-blockers$ None$\\n        damage-order$ None$\\n        ',\n",
       "        list(['Grizzly Bears$1']), 'Pass', 1],\n",
       "       ['\\n        player-color$ Gold$\\n        life$ 13$\\n        opponent-life$ 17$\\n        phase$ Phases.DECLARE_BLOCKERS_STEP$\\n        hand$ Hill Giant$Lava Axe$Volcanic Hammer$Mountain$Enormous Baloth$\\n        generic-debt$ 0$\\n        manapool$ White$ 0$ Blue$ 0$ Black$ 0$ Red$ 0$ Green$ 0$ Colorless$ 0$\\n        opponent-cards$ 7$\\n        self-lands-untapped$ Forest$Forest$Mountain$Mountain$Forest$\\n        self-lands-tapped$ $\\n        opponent-lands-untapped$ $\\n        opponent-lands-tapped$ Forest$Forest$Forest$Mountain$\\n        self-creatures-untapped$ Grizzly Bears$\\n        self-creatures-tapped$ $\\n        opponent-creatures-untapped$ Goblin Raider$\\n        opponent-creatures-tapped$ Norwood Ranger$\\n        attackers-blockers$ attacker: $Norwood Ranger$0$ blocked by: $None$$\\n        damage-order$ None$\\n        ',\n",
       "        list(['Pass', 'Grizzly Bears$1$block$Norwood Ranger$0']), 'Pass',\n",
       "        1],\n",
       "       ['\\n        player-color$ Gold$\\n        life$ 12$\\n        opponent-life$ 17$\\n        phase$ Phases.MAIN_PHASE_PRE_COMBAT$\\n        hand$ Hill Giant$Lava Axe$Volcanic Hammer$Mountain$Enormous Baloth$Goblin Raider$\\n        generic-debt$ 0$\\n        manapool$ White$ 0$ Blue$ 0$ Black$ 0$ Red$ 0$ Green$ 0$ Colorless$ 0$\\n        opponent-cards$ 7$\\n        self-lands-untapped$ Forest$Forest$Mountain$Mountain$Forest$\\n        self-lands-tapped$ $\\n        opponent-lands-untapped$ Forest$Forest$Forest$Mountain$\\n        opponent-lands-tapped$ $\\n        self-creatures-untapped$ Grizzly Bears$\\n        self-creatures-tapped$ $\\n        opponent-creatures-untapped$ Goblin Raider$Norwood Ranger$\\n        opponent-creatures-tapped$ $\\n        attackers-blockers$ None$\\n        damage-order$ None$\\n        ',\n",
       "        list(['Mountain', 'tapped_ability_0_Forest', 'tapped_ability_0_Forest', 'tapped_ability_0_Mountain', 'tapped_ability_0_Mountain', 'tapped_ability_0_Forest', 'Pass']),\n",
       "        'tapped_ability_0_Mountain', 1],\n",
       "       ['\\n        player-color$ Gold$\\n        life$ 12$\\n        opponent-life$ 17$\\n        phase$ Phases.MAIN_PHASE_PRE_COMBAT$\\n        hand$ Hill Giant$Lava Axe$Volcanic Hammer$Mountain$Enormous Baloth$Goblin Raider$\\n        generic-debt$ 0$\\n        manapool$ Red$ 2$ Blue$ 0$ Black$ 0$ Colorless$ 0$ Green$ 2$ White$ 0$\\n        opponent-cards$ 7$\\n        self-lands-untapped$ Forest$\\n        self-lands-tapped$ Forest$Mountain$Mountain$Forest$\\n        opponent-lands-untapped$ Forest$Forest$Forest$Mountain$\\n        opponent-lands-tapped$ $\\n        self-creatures-untapped$ Grizzly Bears$\\n        self-creatures-tapped$ $\\n        opponent-creatures-untapped$ Goblin Raider$Norwood Ranger$\\n        opponent-creatures-tapped$ $\\n        attackers-blockers$ None$\\n        damage-order$ None$\\n        ',\n",
       "        list(['Hill Giant', 'Volcanic Hammer', 'Mountain', 'Goblin Raider', 'tapped_ability_0_Forest', 'Pass']),\n",
       "        'Hill Giant', 1],\n",
       "       ['\\n        player-color$ Gold$\\n        life$ 12$\\n        opponent-life$ 17$\\n        phase$ Phases.MAIN_PHASE_PRE_COMBAT$\\n        hand$ Lava Axe$Volcanic Hammer$Mountain$Enormous Baloth$Goblin Raider$\\n        generic-debt$ 3$\\n        manapool$ Red$ 1$ Blue$ 0$ Black$ 0$ Colorless$ 0$ Green$ 2$ White$ 0$\\n        opponent-cards$ 7$\\n        self-lands-untapped$ Forest$\\n        self-lands-tapped$ Forest$Mountain$Mountain$Forest$\\n        opponent-lands-untapped$ Forest$Forest$Forest$Mountain$\\n        opponent-lands-tapped$ $\\n        self-creatures-untapped$ Grizzly Bears$Hill Giant$\\n        self-creatures-tapped$ $\\n        opponent-creatures-untapped$ Goblin Raider$Norwood Ranger$\\n        opponent-creatures-tapped$ $\\n        attackers-blockers$ None$\\n        damage-order$ None$\\n        ',\n",
       "        list(['Red', 'Green']), 'Red', 1],\n",
       "       ['\\n        player-color$ Gold$\\n        life$ 12$\\n        opponent-life$ 17$\\n        phase$ Phases.MAIN_PHASE_PRE_COMBAT$\\n        hand$ Lava Axe$Volcanic Hammer$Mountain$Enormous Baloth$Goblin Raider$\\n        generic-debt$ 0$\\n        manapool$ Red$ 0$ Blue$ 0$ Black$ 0$ Colorless$ 0$ Green$ 0$ White$ 0$\\n        opponent-cards$ 7$\\n        self-lands-untapped$ Forest$\\n        self-lands-tapped$ Forest$Mountain$Mountain$Forest$\\n        opponent-lands-untapped$ Forest$Forest$Forest$Mountain$\\n        opponent-lands-tapped$ $\\n        self-creatures-untapped$ Grizzly Bears$Hill Giant$\\n        self-creatures-tapped$ $\\n        opponent-creatures-untapped$ Goblin Raider$Norwood Ranger$\\n        opponent-creatures-tapped$ $\\n        attackers-blockers$ None$\\n        damage-order$ None$\\n        ',\n",
       "        list(['Mountain', 'tapped_ability_0_Forest', 'Pass']), 'Pass', 1],\n",
       "       ['\\n        player-color$ Gold$\\n        life$ 12$\\n        opponent-life$ 17$\\n        phase$ Phases.DECLARE_ATTACKERS_STEP$\\n        hand$ Lava Axe$Volcanic Hammer$Mountain$Enormous Baloth$Goblin Raider$\\n        generic-debt$ 0$\\n        manapool$ Red$ 0$ Blue$ 0$ Black$ 0$ Colorless$ 0$ Green$ 0$ White$ 0$\\n        opponent-cards$ 7$\\n        self-lands-untapped$ Forest$\\n        self-lands-tapped$ Forest$Mountain$Mountain$Forest$\\n        opponent-lands-untapped$ Forest$Forest$Forest$Mountain$\\n        opponent-lands-tapped$ $\\n        self-creatures-untapped$ Grizzly Bears$Hill Giant$\\n        self-creatures-tapped$ $\\n        opponent-creatures-untapped$ Goblin Raider$Norwood Ranger$\\n        opponent-creatures-tapped$ $\\n        attackers-blockers$ None$\\n        damage-order$ None$\\n        ',\n",
       "        list(['Grizzly Bears$1']), 'Pass', 1],\n",
       "       ['\\n        player-color$ Gold$\\n        life$ 12$\\n        opponent-life$ 17$\\n        phase$ Phases.DECLARE_BLOCKERS_STEP$\\n        hand$ Lava Axe$Volcanic Hammer$Mountain$Enormous Baloth$Goblin Raider$\\n        generic-debt$ 0$\\n        manapool$ White$ 0$ Blue$ 0$ Black$ 0$ Red$ 0$ Green$ 0$ Colorless$ 0$\\n        opponent-cards$ 6$\\n        self-lands-untapped$ Forest$Forest$Mountain$Mountain$Forest$\\n        self-lands-tapped$ $\\n        opponent-lands-untapped$ $\\n        opponent-lands-tapped$ Forest$Forest$Forest$Mountain$Mountain$\\n        self-creatures-untapped$ Grizzly Bears$Hill Giant$\\n        self-creatures-tapped$ $\\n        opponent-creatures-untapped$ Ogre Taskmaster$\\n        opponent-creatures-tapped$ Goblin Raider$Norwood Ranger$\\n        attackers-blockers$ attacker: $Goblin Raider$1$ blocked by: $None$\\nattacker: $Norwood Ranger$0$ blocked by: $None$$\\n        damage-order$ None$\\n        ',\n",
       "        list(['Pass', 'Grizzly Bears$1$block$Goblin Raider$1', 'Grizzly Bears$1$block$Norwood Ranger$0']),\n",
       "        'Grizzly Bears$1$block$Norwood Ranger$0', 1],\n",
       "       ['\\n        player-color$ Gold$\\n        life$ 12$\\n        opponent-life$ 17$\\n        phase$ Phases.DECLARE_BLOCKERS_STEP$\\n        hand$ Lava Axe$Volcanic Hammer$Mountain$Enormous Baloth$Goblin Raider$\\n        generic-debt$ 0$\\n        manapool$ White$ 0$ Blue$ 0$ Black$ 0$ Red$ 0$ Green$ 0$ Colorless$ 0$\\n        opponent-cards$ 6$\\n        self-lands-untapped$ Forest$Forest$Mountain$Mountain$Forest$\\n        self-lands-tapped$ $\\n        opponent-lands-untapped$ $\\n        opponent-lands-tapped$ Forest$Forest$Forest$Mountain$Mountain$\\n        self-creatures-untapped$ Grizzly Bears$Hill Giant$\\n        self-creatures-tapped$ $\\n        opponent-creatures-untapped$ Ogre Taskmaster$\\n        opponent-creatures-tapped$ Goblin Raider$Norwood Ranger$\\n        attackers-blockers$ attacker: $Goblin Raider$1$ blocked by: $None$\\nattacker: $Norwood Ranger$0$ blocked by: $Grizzly Bears$1$$\\n        damage-order$ None$\\n        ',\n",
       "        list(['Pass', 'Hill Giant$0$block$Goblin Raider$1', 'Hill Giant$0$block$Norwood Ranger$0']),\n",
       "        'Pass', 1],\n",
       "       ['\\n        player-color$ Gold$\\n        life$ 10$\\n        opponent-life$ 17$\\n        phase$ Phases.MAIN_PHASE_PRE_COMBAT$\\n        hand$ Lava Axe$Volcanic Hammer$Mountain$Enormous Baloth$Goblin Raider$Forest$\\n        generic-debt$ 0$\\n        manapool$ White$ 0$ Blue$ 0$ Black$ 0$ Red$ 0$ Green$ 0$ Colorless$ 0$\\n        opponent-cards$ 6$\\n        self-lands-untapped$ Forest$Forest$Mountain$Mountain$Forest$\\n        self-lands-tapped$ $\\n        opponent-lands-untapped$ Forest$Forest$Forest$Mountain$Mountain$\\n        opponent-lands-tapped$ $\\n        self-creatures-untapped$ Grizzly Bears$Hill Giant$\\n        self-creatures-tapped$ $\\n        opponent-creatures-untapped$ Goblin Raider$Ogre Taskmaster$\\n        opponent-creatures-tapped$ $\\n        attackers-blockers$ None$\\n        damage-order$ None$\\n        ',\n",
       "        list(['Mountain', 'Forest', 'tapped_ability_0_Forest', 'tapped_ability_0_Forest', 'tapped_ability_0_Mountain', 'tapped_ability_0_Mountain', 'tapped_ability_0_Forest', 'Pass']),\n",
       "        'Forest', 1],\n",
       "       ['\\n        player-color$ Gold$\\n        life$ 10$\\n        opponent-life$ 17$\\n        phase$ Phases.MAIN_PHASE_PRE_COMBAT$\\n        hand$ Lava Axe$Volcanic Hammer$Mountain$Enormous Baloth$Goblin Raider$\\n        generic-debt$ 0$\\n        manapool$ White$ 0$ Blue$ 0$ Black$ 0$ Red$ 0$ Green$ 0$ Colorless$ 0$\\n        opponent-cards$ 6$\\n        self-lands-untapped$ Forest$Forest$Mountain$Mountain$Forest$Forest$\\n        self-lands-tapped$ $\\n        opponent-lands-untapped$ Forest$Forest$Forest$Mountain$Mountain$\\n        opponent-lands-tapped$ $\\n        self-creatures-untapped$ Grizzly Bears$Hill Giant$\\n        self-creatures-tapped$ $\\n        opponent-creatures-untapped$ Goblin Raider$Ogre Taskmaster$\\n        opponent-creatures-tapped$ $\\n        attackers-blockers$ None$\\n        damage-order$ None$\\n        ',\n",
       "        list(['tapped_ability_0_Forest', 'tapped_ability_0_Forest', 'tapped_ability_0_Mountain', 'tapped_ability_0_Mountain', 'tapped_ability_0_Forest', 'tapped_ability_0_Forest', 'Pass']),\n",
       "        'tapped_ability_0_Forest', 1],\n",
       "       ['\\n        player-color$ Gold$\\n        life$ 10$\\n        opponent-life$ 17$\\n        phase$ Phases.MAIN_PHASE_PRE_COMBAT$\\n        hand$ Lava Axe$Volcanic Hammer$Mountain$Enormous Baloth$Goblin Raider$\\n        generic-debt$ 0$\\n        manapool$ Red$ 0$ Blue$ 0$ Black$ 0$ Colorless$ 0$ Green$ 2$ White$ 0$\\n        opponent-cards$ 6$\\n        self-lands-untapped$ Forest$Forest$Mountain$Mountain$\\n        self-lands-tapped$ Forest$Forest$\\n        opponent-lands-untapped$ Forest$Forest$Forest$Mountain$Mountain$\\n        opponent-lands-tapped$ $\\n        self-creatures-untapped$ Grizzly Bears$Hill Giant$\\n        self-creatures-tapped$ $\\n        opponent-creatures-untapped$ Goblin Raider$Ogre Taskmaster$\\n        opponent-creatures-tapped$ $\\n        attackers-blockers$ None$\\n        damage-order$ None$\\n        ',\n",
       "        list(['tapped_ability_0_Forest', 'tapped_ability_0_Forest', 'tapped_ability_0_Mountain', 'tapped_ability_0_Mountain', 'Pass']),\n",
       "        'tapped_ability_0_Forest', 1],\n",
       "       ['\\n        player-color$ Gold$\\n        life$ 10$\\n        opponent-life$ 17$\\n        phase$ Phases.MAIN_PHASE_PRE_COMBAT$\\n        hand$ Lava Axe$Volcanic Hammer$Mountain$Enormous Baloth$Goblin Raider$\\n        generic-debt$ 0$\\n        manapool$ Red$ 2$ Blue$ 0$ Black$ 0$ Colorless$ 0$ Green$ 4$ White$ 0$\\n        opponent-cards$ 6$\\n        self-lands-untapped$ $\\n        self-lands-tapped$ Forest$Forest$Mountain$Mountain$Forest$Forest$\\n        opponent-lands-untapped$ Forest$Forest$Forest$Mountain$Mountain$\\n        opponent-lands-tapped$ $\\n        self-creatures-untapped$ Grizzly Bears$Hill Giant$\\n        self-creatures-tapped$ $\\n        opponent-creatures-untapped$ Goblin Raider$Ogre Taskmaster$\\n        opponent-creatures-tapped$ $\\n        attackers-blockers$ None$\\n        damage-order$ None$\\n        ',\n",
       "        list(['Lava Axe', 'Volcanic Hammer', 'Goblin Raider', 'Pass']),\n",
       "        'Volcanic Hammer', 1],\n",
       "       ['\\n        player-color$ Gold$\\n        life$ 10$\\n        opponent-life$ 17$\\n        phase$ Phases.MAIN_PHASE_PRE_COMBAT$\\n        hand$ Lava Axe$Mountain$Enormous Baloth$Goblin Raider$\\n        generic-debt$ 1$\\n        manapool$ Red$ 1$ Blue$ 0$ Black$ 0$ Colorless$ 0$ Green$ 4$ White$ 0$\\n        opponent-cards$ 6$\\n        self-lands-untapped$ $\\n        self-lands-tapped$ Forest$Forest$Mountain$Mountain$Forest$Forest$\\n        opponent-lands-untapped$ Forest$Forest$Forest$Mountain$Mountain$\\n        opponent-lands-tapped$ $\\n        self-creatures-untapped$ Grizzly Bears$Hill Giant$\\n        self-creatures-tapped$ $\\n        opponent-creatures-untapped$ Goblin Raider$Ogre Taskmaster$\\n        opponent-creatures-tapped$ $\\n        attackers-blockers$ None$\\n        damage-order$ None$\\n        ',\n",
       "        list(['Red', 'Green']), 'Red', 1],\n",
       "       ['\\n        player-color$ Gold$\\n        life$ 10$\\n        opponent-life$ 17$\\n        phase$ Phases.MAIN_PHASE_PRE_COMBAT$\\n        hand$ Lava Axe$Mountain$Enormous Baloth$Goblin Raider$\\n        generic-debt$ 0$\\n        manapool$ Red$ 0$ Blue$ 0$ Black$ 0$ Colorless$ 0$ Green$ 4$ White$ 0$\\n        opponent-cards$ 6$\\n        self-lands-untapped$ $\\n        self-lands-tapped$ Forest$Forest$Mountain$Mountain$Forest$Forest$\\n        opponent-lands-untapped$ Forest$Forest$Forest$Mountain$Mountain$\\n        opponent-lands-tapped$ $\\n        self-creatures-untapped$ Grizzly Bears$Hill Giant$\\n        self-creatures-tapped$ $\\n        opponent-creatures-untapped$ Goblin Raider$Ogre Taskmaster$\\n        opponent-creatures-tapped$ $\\n        attackers-blockers$ None$\\n        damage-order$ None$\\n        ',\n",
       "        list(['Grizzly Bears$1', 'Goblin Raider$1', 'Hill Giant$0', 'Ogre Taskmaster$0', 'self', 'opponent']),\n",
       "        'Ogre Taskmaster$0', 1],\n",
       "       ['\\n        player-color$ Gold$\\n        life$ 10$\\n        opponent-life$ 17$\\n        phase$ Phases.DECLARE_ATTACKERS_STEP$\\n        hand$ Lava Axe$Mountain$Enormous Baloth$Goblin Raider$\\n        generic-debt$ 0$\\n        manapool$ Red$ 0$ Blue$ 0$ Black$ 0$ Colorless$ 0$ Green$ 4$ White$ 0$\\n        opponent-cards$ 6$\\n        self-lands-untapped$ $\\n        self-lands-tapped$ Forest$Forest$Mountain$Mountain$Forest$Forest$\\n        opponent-lands-untapped$ Forest$Forest$Forest$Mountain$Mountain$\\n        opponent-lands-tapped$ $\\n        self-creatures-untapped$ Grizzly Bears$Hill Giant$\\n        self-creatures-tapped$ $\\n        opponent-creatures-untapped$ Goblin Raider$Ogre Taskmaster$\\n        opponent-creatures-tapped$ $\\n        attackers-blockers$ None$\\n        damage-order$ None$\\n        ',\n",
       "        list(['Hill Giant$0']), 'Grizzly Bears$1', 1],\n",
       "       ['\\n        player-color$ Gold$\\n        life$ 10$\\n        opponent-life$ 17$\\n        phase$ Phases.DECLARE_ATTACKERS_STEP$\\n        hand$ Lava Axe$Mountain$Enormous Baloth$Goblin Raider$\\n        generic-debt$ 0$\\n        manapool$ Red$ 0$ Blue$ 0$ Black$ 0$ Colorless$ 0$ Green$ 4$ White$ 0$\\n        opponent-cards$ 6$\\n        self-lands-untapped$ $\\n        self-lands-tapped$ Forest$Forest$Mountain$Mountain$Forest$Forest$\\n        opponent-lands-untapped$ Forest$Forest$Forest$Mountain$Mountain$\\n        opponent-lands-tapped$ $\\n        self-creatures-untapped$ Grizzly Bears$Hill Giant$\\n        self-creatures-tapped$ $\\n        opponent-creatures-untapped$ Goblin Raider$Ogre Taskmaster$\\n        opponent-creatures-tapped$ $\\n        attackers-blockers$ None$\\n        damage-order$ None$\\n        ',\n",
       "        list(['Hill Giant$0']), 'Pass', 1],\n",
       "       ['\\n        player-color$ Gold$\\n        life$ 10$\\n        opponent-life$ 15$\\n        phase$ Phases.MAIN_PHASE_PRE_COMBAT$\\n        hand$ Lava Axe$Mountain$Enormous Baloth$Goblin Raider$Forest$\\n        generic-debt$ 0$\\n        manapool$ White$ 0$ Blue$ 0$ Black$ 0$ Red$ 0$ Green$ 0$ Colorless$ 0$\\n        opponent-cards$ 4$\\n        self-lands-untapped$ Forest$Mountain$Mountain$Forest$Forest$\\n        self-lands-tapped$ $\\n        opponent-lands-untapped$ Forest$Forest$Forest$Mountain$Mountain$Forest$\\n        opponent-lands-tapped$ $\\n        self-creatures-untapped$ Grizzly Bears$Hill Giant$\\n        self-creatures-tapped$ $\\n        opponent-creatures-untapped$ Goblin Raider$Norwood Ranger$\\n        opponent-creatures-tapped$ $\\n        attackers-blockers$ None$\\n        damage-order$ None$\\n        ',\n",
       "        list(['Mountain', 'Forest', 'tapped_ability_0_Forest', 'tapped_ability_0_Mountain', 'tapped_ability_0_Mountain', 'tapped_ability_0_Forest', 'tapped_ability_0_Forest', 'Pass']),\n",
       "        'Pass', 1],\n",
       "       ['\\n        player-color$ Gold$\\n        life$ 10$\\n        opponent-life$ 15$\\n        phase$ Phases.DECLARE_ATTACKERS_STEP$\\n        hand$ Lava Axe$Mountain$Enormous Baloth$Goblin Raider$Forest$\\n        generic-debt$ 0$\\n        manapool$ White$ 0$ Blue$ 0$ Black$ 0$ Red$ 0$ Green$ 0$ Colorless$ 0$\\n        opponent-cards$ 4$\\n        self-lands-untapped$ Forest$Mountain$Mountain$Forest$Forest$\\n        self-lands-tapped$ $\\n        opponent-lands-untapped$ Forest$Forest$Forest$Mountain$Mountain$Forest$\\n        opponent-lands-tapped$ $\\n        self-creatures-untapped$ Grizzly Bears$Hill Giant$\\n        self-creatures-tapped$ $\\n        opponent-creatures-untapped$ Goblin Raider$Norwood Ranger$\\n        opponent-creatures-tapped$ $\\n        attackers-blockers$ None$\\n        damage-order$ None$\\n        ',\n",
       "        list(['Grizzly Bears$1']), 'Hill Giant$0', 1],\n",
       "       ['\\n        player-color$ Gold$\\n        life$ 10$\\n        opponent-life$ 15$\\n        phase$ Phases.DECLARE_ATTACKERS_STEP$\\n        hand$ Lava Axe$Mountain$Enormous Baloth$Goblin Raider$Forest$\\n        generic-debt$ 0$\\n        manapool$ White$ 0$ Blue$ 0$ Black$ 0$ Red$ 0$ Green$ 0$ Colorless$ 0$\\n        opponent-cards$ 4$\\n        self-lands-untapped$ Forest$Mountain$Mountain$Forest$Forest$\\n        self-lands-tapped$ $\\n        opponent-lands-untapped$ Forest$Forest$Forest$Mountain$Mountain$Forest$\\n        opponent-lands-tapped$ $\\n        self-creatures-untapped$ Grizzly Bears$Hill Giant$\\n        self-creatures-tapped$ $\\n        opponent-creatures-untapped$ Goblin Raider$Norwood Ranger$\\n        opponent-creatures-tapped$ $\\n        attackers-blockers$ None$\\n        damage-order$ None$\\n        ',\n",
       "        list(['Grizzly Bears$1']), 'Pass', 1],\n",
       "       ['\\n        player-color$ Gold$\\n        life$ 10$\\n        opponent-life$ 15$\\n        phase$ Phases.MAIN_PHASE_PRE_COMBAT$\\n        hand$ Lava Axe$Mountain$Enormous Baloth$Goblin Raider$Forest$Mountain$\\n        generic-debt$ 0$\\n        manapool$ White$ 0$ Blue$ 0$ Black$ 0$ Red$ 0$ Green$ 0$ Colorless$ 0$\\n        opponent-cards$ 5$\\n        self-lands-untapped$ Forest$Mountain$Mountain$Forest$Forest$\\n        self-lands-tapped$ $\\n        opponent-lands-untapped$ Forest$Forest$Forest$Mountain$Mountain$Forest$\\n        opponent-lands-tapped$ $\\n        self-creatures-untapped$ Grizzly Bears$Hill Giant$\\n        self-creatures-tapped$ $\\n        opponent-creatures-untapped$ Goblin Raider$\\n        opponent-creatures-tapped$ $\\n        attackers-blockers$ None$\\n        damage-order$ None$\\n        ',\n",
       "        list(['Mountain', 'Forest', 'Mountain', 'tapped_ability_0_Forest', 'tapped_ability_0_Mountain', 'tapped_ability_0_Mountain', 'tapped_ability_0_Forest', 'tapped_ability_0_Forest', 'Pass']),\n",
       "        'tapped_ability_0_Forest', 1],\n",
       "       ['\\n        player-color$ Gold$\\n        life$ 10$\\n        opponent-life$ 15$\\n        phase$ Phases.MAIN_PHASE_PRE_COMBAT$\\n        hand$ Lava Axe$Mountain$Enormous Baloth$Goblin Raider$Forest$Mountain$\\n        generic-debt$ 0$\\n        manapool$ Red$ 2$ Colorless$ 0$ Blue$ 0$ Black$ 0$ Green$ 3$ White$ 0$\\n        opponent-cards$ 5$\\n        self-lands-untapped$ $\\n        self-lands-tapped$ Forest$Mountain$Mountain$Forest$Forest$\\n        opponent-lands-untapped$ Forest$Forest$Forest$Mountain$Mountain$Forest$\\n        opponent-lands-tapped$ $\\n        self-creatures-untapped$ Grizzly Bears$Hill Giant$\\n        self-creatures-tapped$ $\\n        opponent-creatures-untapped$ Goblin Raider$\\n        opponent-creatures-tapped$ $\\n        attackers-blockers$ None$\\n        damage-order$ None$\\n        ',\n",
       "        list(['Lava Axe', 'Mountain', 'Goblin Raider', 'Forest', 'Mountain', 'Pass']),\n",
       "        'Mountain', 1],\n",
       "       ['\\n        player-color$ Gold$\\n        life$ 10$\\n        opponent-life$ 15$\\n        phase$ Phases.MAIN_PHASE_PRE_COMBAT$\\n        hand$ Lava Axe$Mountain$Enormous Baloth$Goblin Raider$Forest$\\n        generic-debt$ 0$\\n        manapool$ Red$ 2$ Colorless$ 0$ Blue$ 0$ Black$ 0$ Green$ 3$ White$ 0$\\n        opponent-cards$ 5$\\n        self-lands-untapped$ Mountain$\\n        self-lands-tapped$ Forest$Mountain$Mountain$Forest$Forest$\\n        opponent-lands-untapped$ Forest$Forest$Forest$Mountain$Mountain$Forest$\\n        opponent-lands-tapped$ $\\n        self-creatures-untapped$ Grizzly Bears$Hill Giant$\\n        self-creatures-tapped$ $\\n        opponent-creatures-untapped$ Goblin Raider$\\n        opponent-creatures-tapped$ $\\n        attackers-blockers$ None$\\n        damage-order$ None$\\n        ',\n",
       "        list(['Lava Axe', 'Goblin Raider', 'tapped_ability_0_Mountain', 'Pass']),\n",
       "        'Pass', 1],\n",
       "       ['\\n        player-color$ Gold$\\n        life$ 10$\\n        opponent-life$ 15$\\n        phase$ Phases.DECLARE_ATTACKERS_STEP$\\n        hand$ Lava Axe$Mountain$Enormous Baloth$Goblin Raider$Forest$\\n        generic-debt$ 0$\\n        manapool$ Red$ 2$ Colorless$ 0$ Blue$ 0$ Black$ 0$ Green$ 3$ White$ 0$\\n        opponent-cards$ 5$\\n        self-lands-untapped$ Mountain$\\n        self-lands-tapped$ Forest$Mountain$Mountain$Forest$Forest$\\n        opponent-lands-untapped$ Forest$Forest$Forest$Mountain$Mountain$Forest$\\n        opponent-lands-tapped$ $\\n        self-creatures-untapped$ Grizzly Bears$Hill Giant$\\n        self-creatures-tapped$ $\\n        opponent-creatures-untapped$ Goblin Raider$\\n        opponent-creatures-tapped$ $\\n        attackers-blockers$ None$\\n        damage-order$ None$\\n        ',\n",
       "        list(['Hill Giant$0']), 'Grizzly Bears$1', 1],\n",
       "       ['\\n        player-color$ Gold$\\n        life$ 10$\\n        opponent-life$ 15$\\n        phase$ Phases.DECLARE_ATTACKERS_STEP$\\n        hand$ Lava Axe$Mountain$Enormous Baloth$Goblin Raider$Forest$\\n        generic-debt$ 0$\\n        manapool$ Red$ 2$ Colorless$ 0$ Blue$ 0$ Black$ 0$ Green$ 3$ White$ 0$\\n        opponent-cards$ 5$\\n        self-lands-untapped$ Mountain$\\n        self-lands-tapped$ Forest$Mountain$Mountain$Forest$Forest$\\n        opponent-lands-untapped$ Forest$Forest$Forest$Mountain$Mountain$Forest$\\n        opponent-lands-tapped$ $\\n        self-creatures-untapped$ Grizzly Bears$Hill Giant$\\n        self-creatures-tapped$ $\\n        opponent-creatures-untapped$ Goblin Raider$\\n        opponent-creatures-tapped$ $\\n        attackers-blockers$ None$\\n        damage-order$ None$\\n        ',\n",
       "        list(['Hill Giant$0']), 'Pass', 1],\n",
       "       ['\\n        player-color$ Gold$\\n        life$ 10$\\n        opponent-life$ 13$\\n        phase$ Phases.DECLARE_BLOCKERS_STEP$\\n        hand$ Lava Axe$Mountain$Enormous Baloth$Goblin Raider$Forest$\\n        generic-debt$ 0$\\n        manapool$ White$ 0$ Blue$ 0$ Black$ 0$ Red$ 0$ Green$ 0$ Colorless$ 0$\\n        opponent-cards$ 4$\\n        self-lands-untapped$ Forest$Mountain$Mountain$Forest$Forest$Mountain$\\n        self-lands-tapped$ $\\n        opponent-lands-untapped$ Forest$\\n        opponent-lands-tapped$ Forest$Forest$Mountain$Mountain$Forest$Mountain$\\n        self-creatures-untapped$ Grizzly Bears$Hill Giant$\\n        self-creatures-tapped$ $\\n        opponent-creatures-untapped$ Hill Giant$\\n        opponent-creatures-tapped$ Goblin Raider$\\n        attackers-blockers$ attacker: $Goblin Raider$1$ blocked by: $None$$\\n        damage-order$ None$\\n        ',\n",
       "        list(['Pass', 'Grizzly Bears$1$block$Goblin Raider$1']),\n",
       "        'Grizzly Bears$1$block$Goblin Raider$1', 1],\n",
       "       ['\\n        player-color$ Gold$\\n        life$ 10$\\n        opponent-life$ 13$\\n        phase$ Phases.DECLARE_BLOCKERS_STEP$\\n        hand$ Lava Axe$Mountain$Enormous Baloth$Goblin Raider$Forest$\\n        generic-debt$ 0$\\n        manapool$ White$ 0$ Blue$ 0$ Black$ 0$ Red$ 0$ Green$ 0$ Colorless$ 0$\\n        opponent-cards$ 4$\\n        self-lands-untapped$ Forest$Mountain$Mountain$Forest$Forest$Mountain$\\n        self-lands-tapped$ $\\n        opponent-lands-untapped$ Forest$\\n        opponent-lands-tapped$ Forest$Forest$Mountain$Mountain$Forest$Mountain$\\n        self-creatures-untapped$ Grizzly Bears$Hill Giant$\\n        self-creatures-tapped$ $\\n        opponent-creatures-untapped$ Hill Giant$\\n        opponent-creatures-tapped$ Goblin Raider$\\n        attackers-blockers$ attacker: $Goblin Raider$1$ blocked by: $Grizzly Bears$1$$\\n        damage-order$ None$\\n        ',\n",
       "        list(['Pass', 'Hill Giant$0$block$Goblin Raider$1']), 'Pass', 1],\n",
       "       ['\\n        player-color$ Gold$\\n        life$ 10$\\n        opponent-life$ 13$\\n        phase$ Phases.MAIN_PHASE_PRE_COMBAT$\\n        hand$ Lava Axe$Mountain$Enormous Baloth$Goblin Raider$Forest$Ogre Taskmaster$\\n        generic-debt$ 0$\\n        manapool$ White$ 0$ Blue$ 0$ Black$ 0$ Red$ 0$ Green$ 0$ Colorless$ 0$\\n        opponent-cards$ 4$\\n        self-lands-untapped$ Forest$Mountain$Mountain$Forest$Forest$Mountain$\\n        self-lands-tapped$ $\\n        opponent-lands-untapped$ Forest$Forest$Forest$Mountain$Mountain$Forest$Mountain$\\n        opponent-lands-tapped$ $\\n        self-creatures-untapped$ Hill Giant$\\n        self-creatures-tapped$ $\\n        opponent-creatures-untapped$ Hill Giant$\\n        opponent-creatures-tapped$ $\\n        attackers-blockers$ None$\\n        damage-order$ None$\\n        ',\n",
       "        list(['Mountain', 'Forest', 'tapped_ability_0_Forest', 'tapped_ability_0_Mountain', 'tapped_ability_0_Mountain', 'tapped_ability_0_Forest', 'tapped_ability_0_Forest', 'tapped_ability_0_Mountain', 'Pass']),\n",
       "        'tapped_ability_0_Forest', 1],\n",
       "       ['\\n        player-color$ Gold$\\n        life$ 10$\\n        opponent-life$ 13$\\n        phase$ Phases.MAIN_PHASE_PRE_COMBAT$\\n        hand$ Lava Axe$Mountain$Enormous Baloth$Goblin Raider$Forest$Ogre Taskmaster$\\n        generic-debt$ 0$\\n        manapool$ Red$ 3$ Blue$ 0$ Black$ 0$ Colorless$ 0$ Green$ 3$ White$ 0$\\n        opponent-cards$ 4$\\n        self-lands-untapped$ $\\n        self-lands-tapped$ Forest$Mountain$Mountain$Forest$Forest$Mountain$\\n        opponent-lands-untapped$ Forest$Forest$Forest$Mountain$Mountain$Forest$Mountain$\\n        opponent-lands-tapped$ $\\n        self-creatures-untapped$ Hill Giant$\\n        self-creatures-tapped$ $\\n        opponent-creatures-untapped$ Hill Giant$\\n        opponent-creatures-tapped$ $\\n        attackers-blockers$ None$\\n        damage-order$ None$\\n        ',\n",
       "        list(['Lava Axe', 'Mountain', 'Goblin Raider', 'Forest', 'Ogre Taskmaster', 'Pass']),\n",
       "        'Lava Axe', 1],\n",
       "       ['\\n        player-color$ Gold$\\n        life$ 10$\\n        opponent-life$ 13$\\n        phase$ Phases.MAIN_PHASE_PRE_COMBAT$\\n        hand$ Mountain$Enormous Baloth$Goblin Raider$Forest$Ogre Taskmaster$\\n        generic-debt$ 4$\\n        manapool$ Red$ 2$ Blue$ 0$ Black$ 0$ Colorless$ 0$ Green$ 3$ White$ 0$\\n        opponent-cards$ 4$\\n        self-lands-untapped$ $\\n        self-lands-tapped$ Forest$Mountain$Mountain$Forest$Forest$Mountain$\\n        opponent-lands-untapped$ Forest$Forest$Forest$Mountain$Mountain$Forest$Mountain$\\n        opponent-lands-tapped$ $\\n        self-creatures-untapped$ Hill Giant$\\n        self-creatures-tapped$ $\\n        opponent-creatures-untapped$ Hill Giant$\\n        opponent-creatures-tapped$ $\\n        attackers-blockers$ None$\\n        damage-order$ None$\\n        ',\n",
       "        list(['Red', 'Green']), 'Red', 1],\n",
       "       ['\\n        player-color$ Gold$\\n        life$ 10$\\n        opponent-life$ 13$\\n        phase$ Phases.MAIN_PHASE_PRE_COMBAT$\\n        hand$ Mountain$Enormous Baloth$Goblin Raider$Forest$Ogre Taskmaster$\\n        generic-debt$ 3$\\n        manapool$ Red$ 1$ Blue$ 0$ Black$ 0$ Colorless$ 0$ Green$ 3$ White$ 0$\\n        opponent-cards$ 4$\\n        self-lands-untapped$ $\\n        self-lands-tapped$ Forest$Mountain$Mountain$Forest$Forest$Mountain$\\n        opponent-lands-untapped$ Forest$Forest$Forest$Mountain$Mountain$Forest$Mountain$\\n        opponent-lands-tapped$ $\\n        self-creatures-untapped$ Hill Giant$\\n        self-creatures-tapped$ $\\n        opponent-creatures-untapped$ Hill Giant$\\n        opponent-creatures-tapped$ $\\n        attackers-blockers$ None$\\n        damage-order$ None$\\n        ',\n",
       "        list(['Red', 'Green']), 'Green', 1],\n",
       "       ['\\n        player-color$ Gold$\\n        life$ 10$\\n        opponent-life$ 13$\\n        phase$ Phases.MAIN_PHASE_PRE_COMBAT$\\n        hand$ Mountain$Enormous Baloth$Goblin Raider$Forest$Ogre Taskmaster$\\n        generic-debt$ 2$\\n        manapool$ Red$ 1$ Blue$ 0$ Black$ 0$ Colorless$ 0$ Green$ 2$ White$ 0$\\n        opponent-cards$ 4$\\n        self-lands-untapped$ $\\n        self-lands-tapped$ Forest$Mountain$Mountain$Forest$Forest$Mountain$\\n        opponent-lands-untapped$ Forest$Forest$Forest$Mountain$Mountain$Forest$Mountain$\\n        opponent-lands-tapped$ $\\n        self-creatures-untapped$ Hill Giant$\\n        self-creatures-tapped$ $\\n        opponent-creatures-untapped$ Hill Giant$\\n        opponent-creatures-tapped$ $\\n        attackers-blockers$ None$\\n        damage-order$ None$\\n        ',\n",
       "        list(['Red', 'Green']), 'Green', 1],\n",
       "       ['\\n        player-color$ Gold$\\n        life$ 10$\\n        opponent-life$ 13$\\n        phase$ Phases.MAIN_PHASE_PRE_COMBAT$\\n        hand$ Mountain$Enormous Baloth$Goblin Raider$Forest$Ogre Taskmaster$\\n        generic-debt$ 1$\\n        manapool$ Red$ 1$ Blue$ 0$ Black$ 0$ Colorless$ 0$ Green$ 1$ White$ 0$\\n        opponent-cards$ 4$\\n        self-lands-untapped$ $\\n        self-lands-tapped$ Forest$Mountain$Mountain$Forest$Forest$Mountain$\\n        opponent-lands-untapped$ Forest$Forest$Forest$Mountain$Mountain$Forest$Mountain$\\n        opponent-lands-tapped$ $\\n        self-creatures-untapped$ Hill Giant$\\n        self-creatures-tapped$ $\\n        opponent-creatures-untapped$ Hill Giant$\\n        opponent-creatures-tapped$ $\\n        attackers-blockers$ None$\\n        damage-order$ None$\\n        ',\n",
       "        list(['Red', 'Green']), 'Green', 1],\n",
       "       ['\\n        player-color$ Gold$\\n        life$ 10$\\n        opponent-life$ 13$\\n        phase$ Phases.MAIN_PHASE_PRE_COMBAT$\\n        hand$ Mountain$Enormous Baloth$Goblin Raider$Forest$Ogre Taskmaster$\\n        generic-debt$ 0$\\n        manapool$ Red$ 1$ Blue$ 0$ Black$ 0$ Colorless$ 0$ Green$ 0$ White$ 0$\\n        opponent-cards$ 4$\\n        self-lands-untapped$ $\\n        self-lands-tapped$ Forest$Mountain$Mountain$Forest$Forest$Mountain$\\n        opponent-lands-untapped$ Forest$Forest$Forest$Mountain$Mountain$Forest$Mountain$\\n        opponent-lands-tapped$ $\\n        self-creatures-untapped$ Hill Giant$\\n        self-creatures-tapped$ $\\n        opponent-creatures-untapped$ Hill Giant$\\n        opponent-creatures-tapped$ $\\n        attackers-blockers$ None$\\n        damage-order$ None$\\n        ',\n",
       "        list(['self', 'opponent']), 'opponent', 1],\n",
       "       ['\\n        player-color$ Gold$\\n        life$ 10$\\n        opponent-life$ 8$\\n        phase$ Phases.MAIN_PHASE_PRE_COMBAT$\\n        hand$ Mountain$Enormous Baloth$Goblin Raider$Forest$Ogre Taskmaster$\\n        generic-debt$ 0$\\n        manapool$ Red$ 1$ Blue$ 0$ Black$ 0$ Colorless$ 0$ Green$ 0$ White$ 0$\\n        opponent-cards$ 4$\\n        self-lands-untapped$ $\\n        self-lands-tapped$ Forest$Mountain$Mountain$Forest$Forest$Mountain$\\n        opponent-lands-untapped$ Forest$Forest$Forest$Mountain$Mountain$Forest$Mountain$\\n        opponent-lands-tapped$ $\\n        self-creatures-untapped$ Hill Giant$\\n        self-creatures-tapped$ $\\n        opponent-creatures-untapped$ Hill Giant$\\n        opponent-creatures-tapped$ $\\n        attackers-blockers$ None$\\n        damage-order$ None$\\n        ',\n",
       "        list(['Mountain', 'Forest', 'Pass']), 'Pass', 1],\n",
       "       ['\\n        player-color$ Gold$\\n        life$ 10$\\n        opponent-life$ 8$\\n        phase$ Phases.DECLARE_ATTACKERS_STEP$\\n        hand$ Mountain$Enormous Baloth$Goblin Raider$Forest$Ogre Taskmaster$\\n        generic-debt$ 0$\\n        manapool$ Red$ 1$ Blue$ 0$ Black$ 0$ Colorless$ 0$ Green$ 0$ White$ 0$\\n        opponent-cards$ 4$\\n        self-lands-untapped$ $\\n        self-lands-tapped$ Forest$Mountain$Mountain$Forest$Forest$Mountain$\\n        opponent-lands-untapped$ Forest$Forest$Forest$Mountain$Mountain$Forest$Mountain$\\n        opponent-lands-tapped$ $\\n        self-creatures-untapped$ Hill Giant$\\n        self-creatures-tapped$ $\\n        opponent-creatures-untapped$ Hill Giant$\\n        opponent-creatures-tapped$ $\\n        attackers-blockers$ None$\\n        damage-order$ None$\\n        ',\n",
       "        list([]), 'Hill Giant$0', 1],\n",
       "       ['\\n        player-color$ Gold$\\n        life$ 10$\\n        opponent-life$ 5$\\n        phase$ Phases.MAIN_PHASE_PRE_COMBAT$\\n        hand$ Mountain$Enormous Baloth$Goblin Raider$Forest$Ogre Taskmaster$Mountain$\\n        generic-debt$ 0$\\n        manapool$ White$ 0$ Blue$ 0$ Black$ 0$ Red$ 0$ Green$ 0$ Colorless$ 0$\\n        opponent-cards$ 5$\\n        self-lands-untapped$ Forest$Mountain$Mountain$Forest$Forest$Mountain$\\n        self-lands-tapped$ $\\n        opponent-lands-untapped$ Forest$Forest$Forest$Mountain$Mountain$Forest$Mountain$\\n        opponent-lands-tapped$ $\\n        self-creatures-untapped$ Hill Giant$\\n        self-creatures-tapped$ $\\n        opponent-creatures-untapped$ Hill Giant$\\n        opponent-creatures-tapped$ $\\n        attackers-blockers$ None$\\n        damage-order$ None$\\n        ',\n",
       "        list(['Mountain', 'Forest', 'Mountain', 'tapped_ability_0_Forest', 'tapped_ability_0_Mountain', 'tapped_ability_0_Mountain', 'tapped_ability_0_Forest', 'tapped_ability_0_Forest', 'tapped_ability_0_Mountain', 'Pass']),\n",
       "        'tapped_ability_0_Forest', 1],\n",
       "       ['\\n        player-color$ Gold$\\n        life$ 10$\\n        opponent-life$ 5$\\n        phase$ Phases.MAIN_PHASE_PRE_COMBAT$\\n        hand$ Mountain$Enormous Baloth$Goblin Raider$Forest$Ogre Taskmaster$Mountain$\\n        generic-debt$ 0$\\n        manapool$ Red$ 2$ Blue$ 0$ Black$ 0$ Colorless$ 0$ Green$ 2$ White$ 0$\\n        opponent-cards$ 5$\\n        self-lands-untapped$ Forest$Mountain$\\n        self-lands-tapped$ Mountain$Forest$Forest$Mountain$\\n        opponent-lands-untapped$ Forest$Forest$Forest$Mountain$Mountain$Forest$Mountain$\\n        opponent-lands-tapped$ $\\n        self-creatures-untapped$ Hill Giant$\\n        self-creatures-tapped$ $\\n        opponent-creatures-untapped$ Hill Giant$\\n        opponent-creatures-tapped$ $\\n        attackers-blockers$ None$\\n        damage-order$ None$\\n        ',\n",
       "        list(['Mountain', 'Goblin Raider', 'Forest', 'Ogre Taskmaster', 'Mountain', 'tapped_ability_0_Forest', 'tapped_ability_0_Mountain', 'Pass']),\n",
       "        'Forest', 1],\n",
       "       ['\\n        player-color$ Gold$\\n        life$ 10$\\n        opponent-life$ 5$\\n        phase$ Phases.MAIN_PHASE_PRE_COMBAT$\\n        hand$ Mountain$Enormous Baloth$Goblin Raider$Ogre Taskmaster$Mountain$\\n        generic-debt$ 0$\\n        manapool$ Red$ 2$ Blue$ 0$ Black$ 0$ Colorless$ 0$ Green$ 2$ White$ 0$\\n        opponent-cards$ 5$\\n        self-lands-untapped$ Forest$Mountain$Forest$\\n        self-lands-tapped$ Mountain$Forest$Forest$Mountain$\\n        opponent-lands-untapped$ Forest$Forest$Forest$Mountain$Mountain$Forest$Mountain$\\n        opponent-lands-tapped$ $\\n        self-creatures-untapped$ Hill Giant$\\n        self-creatures-tapped$ $\\n        opponent-creatures-untapped$ Hill Giant$\\n        opponent-creatures-tapped$ $\\n        attackers-blockers$ None$\\n        damage-order$ None$\\n        ',\n",
       "        list(['Goblin Raider', 'Ogre Taskmaster', 'tapped_ability_0_Forest', 'tapped_ability_0_Mountain', 'tapped_ability_0_Forest', 'Pass']),\n",
       "        'Ogre Taskmaster', 1],\n",
       "       ['\\n        player-color$ Gold$\\n        life$ 10$\\n        opponent-life$ 5$\\n        phase$ Phases.MAIN_PHASE_PRE_COMBAT$\\n        hand$ Mountain$Enormous Baloth$Goblin Raider$Mountain$\\n        generic-debt$ 3$\\n        manapool$ Red$ 1$ Blue$ 0$ Black$ 0$ Colorless$ 0$ Green$ 2$ White$ 0$\\n        opponent-cards$ 5$\\n        self-lands-untapped$ Forest$Mountain$Forest$\\n        self-lands-tapped$ Mountain$Forest$Forest$Mountain$\\n        opponent-lands-untapped$ Forest$Forest$Forest$Mountain$Mountain$Forest$Mountain$\\n        opponent-lands-tapped$ $\\n        self-creatures-untapped$ Hill Giant$Ogre Taskmaster$\\n        self-creatures-tapped$ $\\n        opponent-creatures-untapped$ Hill Giant$\\n        opponent-creatures-tapped$ $\\n        attackers-blockers$ None$\\n        damage-order$ None$\\n        ',\n",
       "        list(['Red', 'Green']), 'Green', 1],\n",
       "       ['\\n        player-color$ Gold$\\n        life$ 10$\\n        opponent-life$ 5$\\n        phase$ Phases.MAIN_PHASE_PRE_COMBAT$\\n        hand$ Mountain$Enormous Baloth$Goblin Raider$Mountain$\\n        generic-debt$ 2$\\n        manapool$ Red$ 1$ Blue$ 0$ Black$ 0$ Colorless$ 0$ Green$ 1$ White$ 0$\\n        opponent-cards$ 5$\\n        self-lands-untapped$ Forest$Mountain$Forest$\\n        self-lands-tapped$ Mountain$Forest$Forest$Mountain$\\n        opponent-lands-untapped$ Forest$Forest$Forest$Mountain$Mountain$Forest$Mountain$\\n        opponent-lands-tapped$ $\\n        self-creatures-untapped$ Hill Giant$Ogre Taskmaster$\\n        self-creatures-tapped$ $\\n        opponent-creatures-untapped$ Hill Giant$\\n        opponent-creatures-tapped$ $\\n        attackers-blockers$ None$\\n        damage-order$ None$\\n        ',\n",
       "        list(['Red', 'Green']), 'Green', 1],\n",
       "       ['\\n        player-color$ Gold$\\n        life$ 10$\\n        opponent-life$ 5$\\n        phase$ Phases.MAIN_PHASE_PRE_COMBAT$\\n        hand$ Mountain$Enormous Baloth$Goblin Raider$Mountain$\\n        generic-debt$ 0$\\n        manapool$ Red$ 0$ Blue$ 0$ Black$ 0$ Colorless$ 0$ Green$ 0$ White$ 0$\\n        opponent-cards$ 5$\\n        self-lands-untapped$ Forest$Mountain$Forest$\\n        self-lands-tapped$ Mountain$Forest$Forest$Mountain$\\n        opponent-lands-untapped$ Forest$Forest$Forest$Mountain$Mountain$Forest$Mountain$\\n        opponent-lands-tapped$ $\\n        self-creatures-untapped$ Hill Giant$Ogre Taskmaster$\\n        self-creatures-tapped$ $\\n        opponent-creatures-untapped$ Hill Giant$\\n        opponent-creatures-tapped$ $\\n        attackers-blockers$ None$\\n        damage-order$ None$\\n        ',\n",
       "        list(['tapped_ability_0_Forest', 'tapped_ability_0_Mountain', 'tapped_ability_0_Forest', 'Pass']),\n",
       "        'tapped_ability_0_Mountain', 1],\n",
       "       ['\\n        player-color$ Gold$\\n        life$ 10$\\n        opponent-life$ 5$\\n        phase$ Phases.MAIN_PHASE_PRE_COMBAT$\\n        hand$ Mountain$Enormous Baloth$Goblin Raider$Mountain$\\n        generic-debt$ 0$\\n        manapool$ Red$ 1$ Colorless$ 0$ Blue$ 0$ Black$ 0$ Green$ 2$ White$ 0$\\n        opponent-cards$ 5$\\n        self-lands-untapped$ $\\n        self-lands-tapped$ Forest$Mountain$Mountain$Forest$Forest$Mountain$Forest$\\n        opponent-lands-untapped$ Forest$Forest$Forest$Mountain$Mountain$Forest$Mountain$\\n        opponent-lands-tapped$ $\\n        self-creatures-untapped$ Hill Giant$Ogre Taskmaster$\\n        self-creatures-tapped$ $\\n        opponent-creatures-untapped$ Hill Giant$\\n        opponent-creatures-tapped$ $\\n        attackers-blockers$ None$\\n        damage-order$ None$\\n        ',\n",
       "        list(['Goblin Raider', 'Pass']), 'Goblin Raider', 1],\n",
       "       ['\\n        player-color$ Gold$\\n        life$ 10$\\n        opponent-life$ 5$\\n        phase$ Phases.DECLARE_ATTACKERS_STEP$\\n        hand$ Mountain$Enormous Baloth$Mountain$\\n        generic-debt$ 0$\\n        manapool$ Red$ 0$ Colorless$ 0$ Blue$ 0$ Black$ 0$ Green$ 1$ White$ 0$\\n        opponent-cards$ 5$\\n        self-lands-untapped$ $\\n        self-lands-tapped$ Forest$Mountain$Mountain$Forest$Forest$Mountain$Forest$\\n        opponent-lands-untapped$ Forest$Forest$Forest$Mountain$Mountain$Forest$Mountain$\\n        opponent-lands-tapped$ $\\n        self-creatures-untapped$ Hill Giant$Ogre Taskmaster$Goblin Raider$\\n        self-creatures-tapped$ $\\n        opponent-creatures-untapped$ Hill Giant$\\n        opponent-creatures-tapped$ $\\n        attackers-blockers$ None$\\n        damage-order$ None$\\n        ',\n",
       "        list(['Hill Giant$0']), 'Pass', 1],\n",
       "       ['\\n        player-color$ Gold$\\n        life$ 10$\\n        opponent-life$ 5$\\n        phase$ Phases.DECLARE_BLOCKERS_STEP$\\n        hand$ Mountain$Enormous Baloth$Mountain$\\n        generic-debt$ 0$\\n        manapool$ White$ 0$ Blue$ 0$ Black$ 0$ Red$ 0$ Green$ 0$ Colorless$ 0$\\n        opponent-cards$ 6$\\n        self-lands-untapped$ Forest$Mountain$Mountain$Forest$Forest$Mountain$Forest$\\n        self-lands-tapped$ $\\n        opponent-lands-untapped$ Forest$Forest$Forest$Mountain$Mountain$\\n        opponent-lands-tapped$ Forest$Mountain$\\n        self-creatures-untapped$ Hill Giant$Ogre Taskmaster$Goblin Raider$\\n        self-creatures-tapped$ $\\n        opponent-creatures-untapped$ $\\n        opponent-creatures-tapped$ Hill Giant$\\n        attackers-blockers$ attacker: $Hill Giant$0$ blocked by: $None$$\\n        damage-order$ None$\\n        ',\n",
       "        list(['Pass', 'Hill Giant$0$block$Hill Giant$0']),\n",
       "        'Hill Giant$0$block$Hill Giant$0', 1],\n",
       "       ['\\n        player-color$ Gold$\\n        life$ 10$\\n        opponent-life$ 5$\\n        phase$ Phases.MAIN_PHASE_PRE_COMBAT$\\n        hand$ Mountain$Enormous Baloth$Mountain$Mountain$\\n        generic-debt$ 0$\\n        manapool$ White$ 0$ Blue$ 0$ Black$ 0$ Red$ 0$ Green$ 0$ Colorless$ 0$\\n        opponent-cards$ 6$\\n        self-lands-untapped$ Forest$Mountain$Mountain$Forest$Forest$Mountain$Forest$\\n        self-lands-tapped$ $\\n        opponent-lands-untapped$ Forest$Forest$Forest$Mountain$Mountain$Forest$Mountain$\\n        opponent-lands-tapped$ $\\n        self-creatures-untapped$ Hill Giant$Ogre Taskmaster$Goblin Raider$\\n        self-creatures-tapped$ $\\n        opponent-creatures-untapped$ $\\n        opponent-creatures-tapped$ $\\n        attackers-blockers$ None$\\n        damage-order$ None$\\n        ',\n",
       "        list(['Mountain', 'Mountain', 'Mountain', 'tapped_ability_0_Forest', 'tapped_ability_0_Mountain', 'tapped_ability_0_Mountain', 'tapped_ability_0_Forest', 'tapped_ability_0_Forest', 'tapped_ability_0_Mountain', 'tapped_ability_0_Forest', 'Pass']),\n",
       "        'tapped_ability_0_Forest', 1],\n",
       "       ['\\n        player-color$ Gold$\\n        life$ 10$\\n        opponent-life$ 5$\\n        phase$ Phases.MAIN_PHASE_PRE_COMBAT$\\n        hand$ Mountain$Enormous Baloth$Mountain$Mountain$\\n        generic-debt$ 0$\\n        manapool$ Red$ 3$ Colorless$ 0$ Blue$ 0$ Black$ 0$ Green$ 4$ White$ 0$\\n        opponent-cards$ 6$\\n        self-lands-untapped$ $\\n        self-lands-tapped$ Forest$Mountain$Mountain$Forest$Forest$Mountain$Forest$\\n        opponent-lands-untapped$ Forest$Forest$Forest$Mountain$Mountain$Forest$Mountain$\\n        opponent-lands-tapped$ $\\n        self-creatures-untapped$ Hill Giant$Ogre Taskmaster$Goblin Raider$\\n        self-creatures-tapped$ $\\n        opponent-creatures-untapped$ $\\n        opponent-creatures-tapped$ $\\n        attackers-blockers$ None$\\n        damage-order$ None$\\n        ',\n",
       "        list(['Mountain', 'Enormous Baloth', 'Mountain', 'Mountain', 'Pass']),\n",
       "        'Mountain', 1],\n",
       "       ['\\n        player-color$ Gold$\\n        life$ 10$\\n        opponent-life$ 5$\\n        phase$ Phases.MAIN_PHASE_PRE_COMBAT$\\n        hand$ Enormous Baloth$Mountain$Mountain$\\n        generic-debt$ 0$\\n        manapool$ Red$ 3$ Colorless$ 0$ Blue$ 0$ Black$ 0$ Green$ 4$ White$ 0$\\n        opponent-cards$ 6$\\n        self-lands-untapped$ Mountain$\\n        self-lands-tapped$ Forest$Mountain$Mountain$Forest$Forest$Mountain$Forest$\\n        opponent-lands-untapped$ Forest$Forest$Forest$Mountain$Mountain$Forest$Mountain$\\n        opponent-lands-tapped$ $\\n        self-creatures-untapped$ Hill Giant$Ogre Taskmaster$Goblin Raider$\\n        self-creatures-tapped$ $\\n        opponent-creatures-untapped$ $\\n        opponent-creatures-tapped$ $\\n        attackers-blockers$ None$\\n        damage-order$ None$\\n        ',\n",
       "        list(['Enormous Baloth', 'tapped_ability_0_Mountain', 'Pass']),\n",
       "        'Enormous Baloth', 1],\n",
       "       ['\\n        player-color$ Gold$\\n        life$ 10$\\n        opponent-life$ 5$\\n        phase$ Phases.MAIN_PHASE_PRE_COMBAT$\\n        hand$ Mountain$Mountain$\\n        generic-debt$ 6$\\n        manapool$ Red$ 3$ Colorless$ 0$ Blue$ 0$ Black$ 0$ Green$ 3$ White$ 0$\\n        opponent-cards$ 6$\\n        self-lands-untapped$ Mountain$\\n        self-lands-tapped$ Forest$Mountain$Mountain$Forest$Forest$Mountain$Forest$\\n        opponent-lands-untapped$ Forest$Forest$Forest$Mountain$Mountain$Forest$Mountain$\\n        opponent-lands-tapped$ $\\n        self-creatures-untapped$ Hill Giant$Ogre Taskmaster$Goblin Raider$Enormous Baloth$\\n        self-creatures-tapped$ $\\n        opponent-creatures-untapped$ $\\n        opponent-creatures-tapped$ $\\n        attackers-blockers$ None$\\n        damage-order$ None$\\n        ',\n",
       "        list(['Red', 'Green']), 'Red', 1],\n",
       "       ['\\n        player-color$ Gold$\\n        life$ 10$\\n        opponent-life$ 5$\\n        phase$ Phases.MAIN_PHASE_PRE_COMBAT$\\n        hand$ Mountain$Mountain$\\n        generic-debt$ 5$\\n        manapool$ Red$ 2$ Colorless$ 0$ Blue$ 0$ Black$ 0$ Green$ 3$ White$ 0$\\n        opponent-cards$ 6$\\n        self-lands-untapped$ Mountain$\\n        self-lands-tapped$ Forest$Mountain$Mountain$Forest$Forest$Mountain$Forest$\\n        opponent-lands-untapped$ Forest$Forest$Forest$Mountain$Mountain$Forest$Mountain$\\n        opponent-lands-tapped$ $\\n        self-creatures-untapped$ Hill Giant$Ogre Taskmaster$Goblin Raider$Enormous Baloth$\\n        self-creatures-tapped$ $\\n        opponent-creatures-untapped$ $\\n        opponent-creatures-tapped$ $\\n        attackers-blockers$ None$\\n        damage-order$ None$\\n        ',\n",
       "        list(['Red', 'Green']), 'Green', 1],\n",
       "       ['\\n        player-color$ Gold$\\n        life$ 10$\\n        opponent-life$ 5$\\n        phase$ Phases.MAIN_PHASE_PRE_COMBAT$\\n        hand$ Mountain$Mountain$\\n        generic-debt$ 4$\\n        manapool$ Red$ 2$ Colorless$ 0$ Blue$ 0$ Black$ 0$ Green$ 2$ White$ 0$\\n        opponent-cards$ 6$\\n        self-lands-untapped$ Mountain$\\n        self-lands-tapped$ Forest$Mountain$Mountain$Forest$Forest$Mountain$Forest$\\n        opponent-lands-untapped$ Forest$Forest$Forest$Mountain$Mountain$Forest$Mountain$\\n        opponent-lands-tapped$ $\\n        self-creatures-untapped$ Hill Giant$Ogre Taskmaster$Goblin Raider$Enormous Baloth$\\n        self-creatures-tapped$ $\\n        opponent-creatures-untapped$ $\\n        opponent-creatures-tapped$ $\\n        attackers-blockers$ None$\\n        damage-order$ None$\\n        ',\n",
       "        list(['Red', 'Green']), 'Green', 1],\n",
       "       ['\\n        player-color$ Gold$\\n        life$ 10$\\n        opponent-life$ 5$\\n        phase$ Phases.MAIN_PHASE_PRE_COMBAT$\\n        hand$ Mountain$Mountain$\\n        generic-debt$ 3$\\n        manapool$ Red$ 2$ Colorless$ 0$ Blue$ 0$ Black$ 0$ Green$ 1$ White$ 0$\\n        opponent-cards$ 6$\\n        self-lands-untapped$ Mountain$\\n        self-lands-tapped$ Forest$Mountain$Mountain$Forest$Forest$Mountain$Forest$\\n        opponent-lands-untapped$ Forest$Forest$Forest$Mountain$Mountain$Forest$Mountain$\\n        opponent-lands-tapped$ $\\n        self-creatures-untapped$ Hill Giant$Ogre Taskmaster$Goblin Raider$Enormous Baloth$\\n        self-creatures-tapped$ $\\n        opponent-creatures-untapped$ $\\n        opponent-creatures-tapped$ $\\n        attackers-blockers$ None$\\n        damage-order$ None$\\n        ',\n",
       "        list(['Red', 'Green']), 'Green', 1],\n",
       "       ['\\n        player-color$ Gold$\\n        life$ 10$\\n        opponent-life$ 5$\\n        phase$ Phases.MAIN_PHASE_PRE_COMBAT$\\n        hand$ Mountain$Mountain$\\n        generic-debt$ 0$\\n        manapool$ Red$ 0$ Colorless$ 0$ Blue$ 0$ Black$ 0$ Green$ 0$ White$ 0$\\n        opponent-cards$ 6$\\n        self-lands-untapped$ Mountain$\\n        self-lands-tapped$ Forest$Mountain$Mountain$Forest$Forest$Mountain$Forest$\\n        opponent-lands-untapped$ Forest$Forest$Forest$Mountain$Mountain$Forest$Mountain$\\n        opponent-lands-tapped$ $\\n        self-creatures-untapped$ Hill Giant$Ogre Taskmaster$Goblin Raider$Enormous Baloth$\\n        self-creatures-tapped$ $\\n        opponent-creatures-untapped$ $\\n        opponent-creatures-tapped$ $\\n        attackers-blockers$ None$\\n        damage-order$ None$\\n        ',\n",
       "        list(['tapped_ability_0_Mountain', 'Pass']),\n",
       "        'tapped_ability_0_Mountain', 1],\n",
       "       ['\\n        player-color$ Gold$\\n        life$ 10$\\n        opponent-life$ 5$\\n        phase$ Phases.DECLARE_ATTACKERS_STEP$\\n        hand$ Mountain$Mountain$\\n        generic-debt$ 0$\\n        manapool$ Red$ 1$ Blue$ 0$ Black$ 0$ Colorless$ 0$ Green$ 0$ White$ 0$\\n        opponent-cards$ 6$\\n        self-lands-untapped$ $\\n        self-lands-tapped$ Forest$Mountain$Mountain$Forest$Forest$Mountain$Forest$Mountain$\\n        opponent-lands-untapped$ Forest$Forest$Forest$Mountain$Mountain$Forest$Mountain$\\n        opponent-lands-tapped$ $\\n        self-creatures-untapped$ Hill Giant$Ogre Taskmaster$Goblin Raider$Enormous Baloth$\\n        self-creatures-tapped$ $\\n        opponent-creatures-untapped$ $\\n        opponent-creatures-tapped$ $\\n        attackers-blockers$ None$\\n        damage-order$ None$\\n        ',\n",
       "        list([]), 'Goblin Raider$0', 1],\n",
       "       ['\\n        player-color$ Gold$\\n        life$ 10$\\n        opponent-life$ 5$\\n        phase$ Phases.DECLARE_ATTACKERS_STEP$\\n        hand$ Mountain$Mountain$\\n        generic-debt$ 0$\\n        manapool$ Red$ 1$ Blue$ 0$ Black$ 0$ Colorless$ 0$ Green$ 0$ White$ 0$\\n        opponent-cards$ 6$\\n        self-lands-untapped$ $\\n        self-lands-tapped$ Forest$Mountain$Mountain$Forest$Forest$Mountain$Forest$Mountain$\\n        opponent-lands-untapped$ Forest$Forest$Forest$Mountain$Mountain$Forest$Mountain$\\n        opponent-lands-tapped$ $\\n        self-creatures-untapped$ Hill Giant$Ogre Taskmaster$Goblin Raider$Enormous Baloth$\\n        self-creatures-tapped$ $\\n        opponent-creatures-untapped$ $\\n        opponent-creatures-tapped$ $\\n        attackers-blockers$ None$\\n        damage-order$ None$\\n        ',\n",
       "        list([]), 'Hill Giant$0', 1],\n",
       "       ['\\n        player-color$ Gold$\\n        life$ 10$\\n        opponent-life$ 5$\\n        phase$ Phases.DECLARE_ATTACKERS_STEP$\\n        hand$ Mountain$Mountain$\\n        generic-debt$ 0$\\n        manapool$ Red$ 1$ Blue$ 0$ Black$ 0$ Colorless$ 0$ Green$ 0$ White$ 0$\\n        opponent-cards$ 6$\\n        self-lands-untapped$ $\\n        self-lands-tapped$ Forest$Mountain$Mountain$Forest$Forest$Mountain$Forest$Mountain$\\n        opponent-lands-untapped$ Forest$Forest$Forest$Mountain$Mountain$Forest$Mountain$\\n        opponent-lands-tapped$ $\\n        self-creatures-untapped$ Hill Giant$Ogre Taskmaster$Goblin Raider$Enormous Baloth$\\n        self-creatures-tapped$ $\\n        opponent-creatures-untapped$ $\\n        opponent-creatures-tapped$ $\\n        attackers-blockers$ None$\\n        damage-order$ None$\\n        ',\n",
       "        list([]), 'Ogre Taskmaster$0', 1]], dtype=object)"
      ]
     },
     "execution_count": 9,
     "metadata": {},
     "output_type": "execute_result"
    }
   ],
   "source": [
    "np.array(game_data['Player1'])"
   ]
  },
  {
   "cell_type": "code",
   "execution_count": 39,
   "metadata": {},
   "outputs": [
    {
     "data": {
      "text/plain": [
       "0"
      ]
     },
     "execution_count": 39,
     "metadata": {},
     "output_type": "execute_result"
    }
   ],
   "source": [
    "len(data['Silver'])"
   ]
  },
  {
   "cell_type": "code",
   "execution_count": 40,
   "metadata": {},
   "outputs": [
    {
     "data": {
      "text/plain": [
       "['\\n        player-color$ Silver$\\n        life$ 20$\\n        opponent-life$ 20$\\n        phase$ Phases.MAIN_PHASE_PRE_COMBAT$\\n        hand$ Forest$Enormous Baloth$Stone Rain$Lava Axe$Mountain$Volcanic Hammer$\\n        generic-debt$ 0$\\n        manapool$ White$ 0$ Blue$ 0$ Black$ 0$ Red$ 0$ Green$ 0$ Colorless$ 0$\\n        opponent-cards$ 7$\\n        self-lands-untapped$ Forest$\\n        self-lands-tapped$ $\\n        opponent-lands-untapped$ $\\n        opponent-lands-tapped$ $\\n        self-creatures-untapped$ $\\n        self-creatures-tapped$ $\\n        opponent-creatures-untapped$ $\\n        opponent-creatures-tapped$ $\\n        attackers-blockers$ None$\\n        damage-order$ None$\\n        ',\n",
       " ['tapped_ability_0_Forest', 'Pass'],\n",
       " 'tapped_ability_0_Forest',\n",
       " 1]"
      ]
     },
     "execution_count": 40,
     "metadata": {},
     "output_type": "execute_result"
    }
   ],
   "source": [
    "data['Gold'][1][1]"
   ]
  },
  {
   "cell_type": "code",
   "execution_count": 19,
   "metadata": {},
   "outputs": [
    {
     "data": {
      "text/plain": [
       "['\\n        player-color$ Silver$\\n        life$ 20$\\n        opponent-life$ 20$\\n        phase$ Phases.MAIN_PHASE_PRE_COMBAT$\\n        hand$ Island$Island$Island$Giant Octopus$Vizzerdrix$Plains$Plains$Island$\\n        generic-debt$ 0$\\n        manapool$ White$ 0$ Blue$ 0$ Black$ 0$ Red$ 0$ Green$ 0$ Colorless$ 0$\\n        opponent-cards$ 6$\\n        self-lands-untapped$ $\\n        self-lands-tapped$ $\\n        opponent-lands-untapped$ Mountain$\\n        opponent-lands-tapped$ $\\n        self-creatures-untapped$ $\\n        self-creatures-tapped$ $\\n        opponent-creatures-untapped$ $\\n        opponent-creatures-tapped$ $\\n        attackers-blockers$ None$\\n        damage-order$ None$\\n        ',\n",
       " ['Island', 'Island', 'Island', 'Plains', 'Plains', 'Island', 'Pass'],\n",
       " 'Island',\n",
       " -1]"
      ]
     },
     "execution_count": 19,
     "metadata": {},
     "output_type": "execute_result"
    }
   ],
   "source": [
    "data['Silver'][0][0]"
   ]
  },
  {
   "cell_type": "code",
   "execution_count": 22,
   "metadata": {},
   "outputs": [
    {
     "data": {
      "text/plain": [
       "['\\n        player-color$ Gold$\\n        life$ 20$\\n        opponent-life$ 20$\\n        phase$ Phases.MAIN_PHASE_PRE_COMBAT$\\n        hand$ Ogre Taskmaster$Hill Giant$Volcanic Hammer$Norwood Ranger$Grizzly Bears$Mountain$Mountain$\\n        generic-debt$ 0$\\n        manapool$ White$ 0$ Blue$ 0$ Black$ 0$ Red$ 0$ Green$ 0$ Colorless$ 0$\\n        opponent-cards$ 7$\\n        self-lands-untapped$ $\\n        self-lands-tapped$ $\\n        opponent-lands-untapped$ $\\n        opponent-lands-tapped$ $\\n        self-creatures-untapped$ $\\n        self-creatures-tapped$ $\\n        opponent-creatures-untapped$ $\\n        opponent-creatures-tapped$ $\\n        attackers-blockers$ None$\\n        damage-order$ None$\\n        ',\n",
       " ['Mountain', 'Mountain', 'Pass'],\n",
       " 'Mountain',\n",
       " 1]"
      ]
     },
     "execution_count": 22,
     "metadata": {},
     "output_type": "execute_result"
    }
   ],
   "source": [
    "data['Gold'][0][0]"
   ]
  },
  {
   "cell_type": "code",
   "execution_count": 51,
   "metadata": {},
   "outputs": [
    {
     "data": {
      "text/plain": [
       "[411, 389]"
      ]
     },
     "execution_count": 51,
     "metadata": {},
     "output_type": "execute_result"
    }
   ],
   "source": [
    "wins"
   ]
  },
  {
   "cell_type": "code",
   "execution_count": 60,
   "metadata": {},
   "outputs": [
    {
     "data": {
      "text/plain": [
       "76"
      ]
     },
     "execution_count": 60,
     "metadata": {},
     "output_type": "execute_result"
    }
   ],
   "source": [
    "len(data['Gold'][0])"
   ]
  },
  {
   "cell_type": "code",
   "execution_count": 63,
   "metadata": {},
   "outputs": [
    {
     "data": {
      "text/plain": [
       "692"
      ]
     },
     "execution_count": 63,
     "metadata": {},
     "output_type": "execute_result"
    }
   ],
   "source": [
    "len(data['Gold'][0][0][0])"
   ]
  },
  {
   "cell_type": "code",
   "execution_count": 65,
   "metadata": {},
   "outputs": [
    {
     "name": "stdout",
     "output_type": "stream",
     "text": [
      "105274\n",
      "148\n",
      "1245\n"
     ]
    }
   ],
   "source": [
    "max_per_game = -1\n",
    "max_state_len = -1\n",
    "# Count total amount of transitions\n",
    "total_transitions = 0\n",
    "for deck_name, deck_data in data.items():\n",
    "    for game_data in deck_data:\n",
    "        game_len = len(game_data)\n",
    "        max_per_game = max(max_per_game, game_len)\n",
    "        max_state_len = max(max_state_len, max([len(transition[0]) for transition in game_data]))\n",
    "        total_transitions += game_len\n",
    "print(total_transitions)\n",
    "print(max_per_game)\n",
    "print(max_state_len)"
   ]
  },
  {
   "cell_type": "code",
   "execution_count": 43,
   "metadata": {},
   "outputs": [
    {
     "data": {
      "text/plain": [
       "1600"
      ]
     },
     "execution_count": 43,
     "metadata": {},
     "output_type": "execute_result"
    }
   ],
   "source": [
    "len(data['Gold'])"
   ]
  },
  {
   "cell_type": "code",
   "execution_count": 106,
   "metadata": {},
   "outputs": [],
   "source": [
    "flat_data = []\n",
    "for deck_type, deck_data in data.items():\n",
    "    for game in deck_data:\n",
    "        flat_data.extend(game)"
   ]
  },
  {
   "cell_type": "code",
   "execution_count": 45,
   "metadata": {},
   "outputs": [
    {
     "data": {
      "text/plain": [
       "105274"
      ]
     },
     "execution_count": 45,
     "metadata": {},
     "output_type": "execute_result"
    }
   ],
   "source": [
    "len(flat_data)"
   ]
  },
  {
   "cell_type": "code",
   "execution_count": 35,
   "metadata": {},
   "outputs": [],
   "source": [
    "gold_data = data['Gold']"
   ]
  },
  {
   "cell_type": "code",
   "execution_count": 107,
   "metadata": {},
   "outputs": [],
   "source": [
    "flat_array = np.array(flat_data, dtype=object)"
   ]
  },
  {
   "cell_type": "code",
   "execution_count": 17,
   "metadata": {},
   "outputs": [
    {
     "data": {
      "text/plain": [
       "array(['\\n        player-color$ Gold$\\n        life$ 20$\\n        opponent-life$ 20$\\n        phase$ Phases.MAIN_PHASE_PRE_COMBAT$\\n        hand$ Mountain$Mountain$Goblin Raider$Mountain$Rampant Growth$Forest$Lava Axe$Forest$\\n        generic-debt$ 0$\\n        manapool$ White$ 0$ Blue$ 0$ Black$ 0$ Red$ 0$ Green$ 0$ Colorless$ 0$\\n        opponent-cards$ 6$\\n        self-lands-untapped$ $\\n        self-lands-tapped$ $\\n        opponent-lands-untapped$ Forest$\\n        opponent-lands-tapped$ $\\n        self-creatures-untapped$ $\\n        self-creatures-tapped$ $\\n        opponent-creatures-untapped$ $\\n        opponent-creatures-tapped$ $\\n        attackers-blockers$ None$\\n        damage-order$ None$\\n        ',\n",
       "       list(['Mountain', 'Mountain', 'Mountain', 'Forest', 'Forest', 'Pass']),\n",
       "       'Forest', -1], dtype=object)"
      ]
     },
     "execution_count": 17,
     "metadata": {},
     "output_type": "execute_result"
    }
   ],
   "source": [
    "flat_array[0]"
   ]
  },
  {
   "cell_type": "code",
   "execution_count": 63,
   "metadata": {},
   "outputs": [],
   "source": [
    "np.savez_compressed('./data/test_data', flat_array)"
   ]
  },
  {
   "cell_type": "code",
   "execution_count": 49,
   "metadata": {},
   "outputs": [],
   "source": [
    "actions = set(flat_array[:, 2])"
   ]
  },
  {
   "cell_type": "code",
   "execution_count": 50,
   "metadata": {},
   "outputs": [
    {
     "name": "stdout",
     "output_type": "stream",
     "text": [
      "141\n"
     ]
    }
   ],
   "source": [
    "print(len(actions))"
   ]
  },
  {
   "cell_type": "code",
   "execution_count": 17,
   "metadata": {},
   "outputs": [
    {
     "name": "stdout",
     "output_type": "stream",
     "text": [
      "['\\n        player-color$ Gold$\\n        life$ 20$\\n        opponent-life$ 20$\\n        phase$ Phases.MAIN_PHASE_PRE_COMBAT$\\n        hand$ Mountain$Mountain$Forest$Goblin Raider$Mountain$Enormous Baloth$Goblin Raider$Enormous Baloth$\\n        generic-debt$ 0$\\n        manapool$ White$ 0$ Blue$ 0$ Black$ 0$ Red$ 0$ Green$ 0$ Colorless$ 0$\\n        opponent-cards$ 6$\\n        self-lands-untapped$ $\\n        self-lands-tapped$ $\\n        opponent-lands-untapped$ Mountain$\\n        opponent-lands-tapped$ $\\n        self-creatures-untapped$ $\\n        self-creatures-tapped$ $\\n        opponent-creatures-untapped$ $\\n        opponent-creatures-tapped$ $\\n        attackers-blockers$ None$\\n        damage-order$ None$\\n        ', ['Mountain', 'Mountain', 'Forest', 'Mountain', 'Pass'], 'Mountain', 1]\n"
     ]
    }
   ],
   "source": [
    "print(data['Gold'][0][0])"
   ]
  },
  {
   "cell_type": "code",
   "execution_count": 66,
   "metadata": {},
   "outputs": [],
   "source": [
    "import torchtext"
   ]
  },
  {
   "cell_type": "code",
   "execution_count": 19,
   "metadata": {},
   "outputs": [],
   "source": [
    "def customer_tokenizer(text):\n",
    "    return text.split(\"$\")"
   ]
  },
  {
   "cell_type": "code",
   "execution_count": 20,
   "metadata": {},
   "outputs": [],
   "source": [
    "def customer_tokenizer_whole(text):\n",
    "    return [text]"
   ]
  },
  {
   "cell_type": "code",
   "execution_count": 68,
   "metadata": {},
   "outputs": [],
   "source": [
    "import collections"
   ]
  },
  {
   "cell_type": "code",
   "execution_count": 71,
   "metadata": {},
   "outputs": [],
   "source": [
    "counter_obj_actions = collections.Counter()"
   ]
  },
  {
   "cell_type": "code",
   "execution_count": 23,
   "metadata": {},
   "outputs": [],
   "source": [
    "for action in actions:\n",
    "    sub_actions = action.split(\"$\")\n",
    "    counter_obj_actions.update(sub_actions)"
   ]
  },
  {
   "cell_type": "code",
   "execution_count": 72,
   "metadata": {},
   "outputs": [],
   "source": [
    "for action in actions:\n",
    "    counter_obj_actions.update([action])"
   ]
  },
  {
   "cell_type": "code",
   "execution_count": 73,
   "metadata": {},
   "outputs": [
    {
     "data": {
      "text/plain": [
       "Counter({'Hill Giant$1$block$Norwood Ranger$0': 1,\n",
       "         'Norwood Ranger$0$block$Grizzly Bears$1': 1,\n",
       "         'Norwood Ranger$0$block$Ogre Taskmaster$0': 1,\n",
       "         'Norwood Ranger$0$block$Norwood Ranger$1': 1,\n",
       "         'Spined Wurm$0$block$Grizzly Bears$1': 1,\n",
       "         'Enormous Baloth$0$block$Enormous Baloth$1': 1,\n",
       "         'Hill Giant$0$block$Enormous Baloth$0': 1,\n",
       "         'Hill Giant$0': 1,\n",
       "         'Hill Giant$1$block$Norwood Ranger$1': 1,\n",
       "         'Hill Giant$0$block$Norwood Ranger$0': 1,\n",
       "         'Grizzly Bears$0$block$Enormous Baloth$0': 1,\n",
       "         'Refuse': 1,\n",
       "         'Hill Giant$0$block$Goblin Raider$0': 1,\n",
       "         'Hill Giant$1': 1,\n",
       "         'Enormous Baloth$0$block$Enormous Baloth$0': 1,\n",
       "         'Norwood Ranger$0': 1,\n",
       "         'Enormous Baloth$1$block$Grizzly Bears$0': 1,\n",
       "         'Spined Wurm$0$block$Hill Giant$1': 1,\n",
       "         'Spined Wurm$0$block$Enormous Baloth$0': 1,\n",
       "         'Enormous Baloth$0$block$Grizzly Bears$0': 1,\n",
       "         'Hill Giant$1$block$Goblin Raider$1': 1,\n",
       "         'Spined Wurm$0': 1,\n",
       "         'Goblin Raider$1': 1,\n",
       "         'tapped_ability_0_Forest': 1,\n",
       "         'Enormous Baloth$1$block$Goblin Raider$1': 1,\n",
       "         'Enormous Baloth$0$block$Grizzly Bears$1': 1,\n",
       "         'Grizzly Bears$0$block$Grizzly Bears$0': 1,\n",
       "         'Hill Giant$1$block$Spined Wurm$0': 1,\n",
       "         'Enormous Baloth$0$block$Spined Wurm$0': 1,\n",
       "         'Grizzly Bears$0$block$Norwood Ranger$1': 1,\n",
       "         'Forest': 1,\n",
       "         'Spined Wurm$0$block$Norwood Ranger$1': 1,\n",
       "         'Norwood Ranger$1': 1,\n",
       "         'Grizzly Bears$1': 1,\n",
       "         'Norwood Ranger$1$block$Norwood Ranger$0': 1,\n",
       "         'Grizzly Bears$0': 1,\n",
       "         'Norwood Ranger$1$block$Spined Wurm$0': 1,\n",
       "         'Enormous Baloth$1$block$Enormous Baloth$0': 1,\n",
       "         'Volcanic Hammer': 1,\n",
       "         'Enormous Baloth$0$block$Norwood Ranger$1': 1,\n",
       "         'Norwood Ranger$0$block$Goblin Raider$1': 1,\n",
       "         'Enormous Baloth': 1,\n",
       "         'Norwood Ranger$1$block$Goblin Raider$0': 1,\n",
       "         'Grizzly Bears$1$block$Grizzly Bears$1': 1,\n",
       "         'Norwood Ranger$0$block$Spined Wurm$0': 1,\n",
       "         'Pass': 1,\n",
       "         'Grizzly Bears$0$block$Norwood Ranger$0': 1,\n",
       "         'Norwood Ranger$1$block$Norwood Ranger$1': 1,\n",
       "         'Stone Rain': 1,\n",
       "         'Hill Giant$1$block$Ogre Taskmaster$0': 1,\n",
       "         'Enormous Baloth$0$block$Hill Giant$0': 1,\n",
       "         'Norwood Ranger$1$block$Hill Giant$1': 1,\n",
       "         'Spined Wurm$0$block$Enormous Baloth$1': 1,\n",
       "         'Grizzly Bears$1$block$Hill Giant$0': 1,\n",
       "         'Hill Giant$0$block$Hill Giant$0': 1,\n",
       "         'Enormous Baloth$1$block$Ogre Taskmaster$0': 1,\n",
       "         'Norwood Ranger$0$block$Enormous Baloth$0': 1,\n",
       "         'self': 1,\n",
       "         'Mountain': 1,\n",
       "         'Grizzly Bears$0$block$Grizzly Bears$1': 1,\n",
       "         'Goblin Raider$0': 1,\n",
       "         'Enormous Baloth$1$block$Goblin Raider$0': 1,\n",
       "         'tapped_ability_0_Mountain': 1,\n",
       "         'Norwood Ranger$0$block$Grizzly Bears$0': 1,\n",
       "         'Grizzly Bears$0$block$Ogre Taskmaster$0': 1,\n",
       "         'Enormous Baloth$0$block$Norwood Ranger$0': 1,\n",
       "         'Norwood Ranger$1$block$Enormous Baloth$0': 1,\n",
       "         'Spined Wurm$0$block$Hill Giant$0': 1,\n",
       "         'Enormous Baloth$0$block$Goblin Raider$1': 1,\n",
       "         'Grizzly Bears$0$block$Spined Wurm$0': 1,\n",
       "         'Norwood Ranger$0$block$Enormous Baloth$1': 1,\n",
       "         'Spined Wurm$0$block$Goblin Raider$1': 1,\n",
       "         'Hill Giant$0$block$Spined Wurm$0': 1,\n",
       "         'Grizzly Bears$1$block$Norwood Ranger$1': 1,\n",
       "         'Enormous Baloth$1': 1,\n",
       "         'Rampant Growth': 1,\n",
       "         'Norwood Ranger$1$block$Goblin Raider$1': 1,\n",
       "         'Grizzly Bears$1$block$Goblin Raider$1': 1,\n",
       "         'Spined Wurm$0$block$Ogre Taskmaster$0': 1,\n",
       "         'Norwood Ranger$0$block$Goblin Raider$0': 1,\n",
       "         'Enormous Baloth$1$block$Hill Giant$0': 1,\n",
       "         'Spined Wurm': 1,\n",
       "         'Lava Axe': 1,\n",
       "         'Hill Giant$0$block$Goblin Raider$1': 1,\n",
       "         'Grizzly Bears$1$block$Goblin Raider$0': 1,\n",
       "         'Norwood Ranger': 1,\n",
       "         'Hill Giant$1$block$Enormous Baloth$0': 1,\n",
       "         'Enormous Baloth$1$block$Norwood Ranger$1': 1,\n",
       "         'Enormous Baloth$1$block$Spined Wurm$0': 1,\n",
       "         'Norwood Ranger$1$block$Grizzly Bears$1': 1,\n",
       "         'Grizzly Bears$1$block$Enormous Baloth$0': 1,\n",
       "         'Enormous Baloth$1$block$Enormous Baloth$1': 1,\n",
       "         'Enormous Baloth$1$block$Hill Giant$1': 1,\n",
       "         'Grizzly Bears$1$block$Grizzly Bears$0': 1,\n",
       "         'Goblin Raider': 1,\n",
       "         'Red': 1,\n",
       "         'Enormous Baloth$1$block$Norwood Ranger$0': 1,\n",
       "         'Green': 1,\n",
       "         'Grizzly Bears$1$block$Spined Wurm$0': 1,\n",
       "         'Hill Giant$1$block$Enormous Baloth$1': 1,\n",
       "         'Hill Giant$1$block$Goblin Raider$0': 1,\n",
       "         'Ogre Taskmaster$0': 1,\n",
       "         'Hill Giant$0$block$Norwood Ranger$1': 1,\n",
       "         'Norwood Ranger$0$block$Hill Giant$1': 1,\n",
       "         'Hill Giant': 1,\n",
       "         'opponent': 1,\n",
       "         'Grizzly Bears': 1,\n",
       "         'Spined Wurm$0$block$Norwood Ranger$0': 1,\n",
       "         'Grizzly Bears$1$block$Hill Giant$1': 1,\n",
       "         'Norwood Ranger$0$block$Norwood Ranger$0': 1,\n",
       "         'Enormous Baloth$0$block$Ogre Taskmaster$0': 1,\n",
       "         'Hill Giant$0$block$Grizzly Bears$0': 1,\n",
       "         'Hill Giant$0$block$Ogre Taskmaster$0': 1,\n",
       "         'Norwood Ranger$1$block$Hill Giant$0': 1,\n",
       "         'Hill Giant$1$block$Hill Giant$1': 1,\n",
       "         'Enormous Baloth$0': 1,\n",
       "         'Ogre Taskmaster': 1,\n",
       "         'Hill Giant$1$block$Grizzly Bears$0': 1,\n",
       "         'Hill Giant$0$block$Enormous Baloth$1': 1,\n",
       "         'Spined Wurm$0$block$Grizzly Bears$0': 1,\n",
       "         'Grizzly Bears$1$block$Enormous Baloth$1': 1,\n",
       "         'Grizzly Bears$0$block$Hill Giant$0': 1,\n",
       "         'Grizzly Bears$0$block$Goblin Raider$1': 1,\n",
       "         'Spined Wurm$0$block$Goblin Raider$0': 1,\n",
       "         'Grizzly Bears$1$block$Ogre Taskmaster$0': 1,\n",
       "         'Enormous Baloth$0$block$Hill Giant$1': 1,\n",
       "         'Grizzly Bears$0$block$Hill Giant$1': 1,\n",
       "         'Norwood Ranger$0$block$Hill Giant$0': 1,\n",
       "         'Hill Giant$0$block$Hill Giant$1': 1,\n",
       "         'Norwood Ranger$1$block$Ogre Taskmaster$0': 1,\n",
       "         'Norwood Ranger$1$block$Grizzly Bears$0': 1,\n",
       "         'Hill Giant$1$block$Grizzly Bears$1': 1,\n",
       "         'Hill Giant$0$block$Grizzly Bears$1': 1,\n",
       "         'Grizzly Bears$0$block$Goblin Raider$0': 1,\n",
       "         'Grizzly Bears$0$block$Enormous Baloth$1': 1,\n",
       "         'Norwood Ranger$1$block$Enormous Baloth$1': 1,\n",
       "         'Hill Giant$1$block$Hill Giant$0': 1,\n",
       "         'Grizzly Bears$1$block$Norwood Ranger$0': 1,\n",
       "         'Enormous Baloth$1$block$Grizzly Bears$1': 1,\n",
       "         'Enormous Baloth$0$block$Goblin Raider$0': 1,\n",
       "         'Spined Wurm$0$block$Spined Wurm$0': 1})"
      ]
     },
     "execution_count": 73,
     "metadata": {},
     "output_type": "execute_result"
    }
   ],
   "source": [
    "counter_obj_actions"
   ]
  },
  {
   "cell_type": "code",
   "execution_count": 77,
   "metadata": {},
   "outputs": [],
   "source": [
    "vocab_actions = torchtext.vocab.Vocab(counter_obj_actions, min_freq=1, specials=[\"<unk>\"])"
   ]
  },
  {
   "cell_type": "code",
   "execution_count": 78,
   "metadata": {},
   "outputs": [
    {
     "name": "stdout",
     "output_type": "stream",
     "text": [
      "0 <unk>\n",
      "1 Enormous Baloth\n",
      "2 Enormous Baloth$0\n",
      "3 Enormous Baloth$0$block$Enormous Baloth$0\n",
      "4 Enormous Baloth$0$block$Enormous Baloth$1\n",
      "5 Enormous Baloth$0$block$Goblin Raider$0\n",
      "6 Enormous Baloth$0$block$Goblin Raider$1\n",
      "7 Enormous Baloth$0$block$Grizzly Bears$0\n",
      "8 Enormous Baloth$0$block$Grizzly Bears$1\n",
      "9 Enormous Baloth$0$block$Hill Giant$0\n",
      "10 Enormous Baloth$0$block$Hill Giant$1\n",
      "11 Enormous Baloth$0$block$Norwood Ranger$0\n",
      "12 Enormous Baloth$0$block$Norwood Ranger$1\n",
      "13 Enormous Baloth$0$block$Ogre Taskmaster$0\n",
      "14 Enormous Baloth$0$block$Spined Wurm$0\n",
      "15 Enormous Baloth$1\n",
      "16 Enormous Baloth$1$block$Enormous Baloth$0\n",
      "17 Enormous Baloth$1$block$Enormous Baloth$1\n",
      "18 Enormous Baloth$1$block$Goblin Raider$0\n",
      "19 Enormous Baloth$1$block$Goblin Raider$1\n",
      "20 Enormous Baloth$1$block$Grizzly Bears$0\n",
      "21 Enormous Baloth$1$block$Grizzly Bears$1\n",
      "22 Enormous Baloth$1$block$Hill Giant$0\n",
      "23 Enormous Baloth$1$block$Hill Giant$1\n",
      "24 Enormous Baloth$1$block$Norwood Ranger$0\n",
      "25 Enormous Baloth$1$block$Norwood Ranger$1\n",
      "26 Enormous Baloth$1$block$Ogre Taskmaster$0\n",
      "27 Enormous Baloth$1$block$Spined Wurm$0\n",
      "28 Forest\n",
      "29 Goblin Raider\n",
      "30 Goblin Raider$0\n",
      "31 Goblin Raider$1\n",
      "32 Green\n",
      "33 Grizzly Bears\n",
      "34 Grizzly Bears$0\n",
      "35 Grizzly Bears$0$block$Enormous Baloth$0\n",
      "36 Grizzly Bears$0$block$Enormous Baloth$1\n",
      "37 Grizzly Bears$0$block$Goblin Raider$0\n",
      "38 Grizzly Bears$0$block$Goblin Raider$1\n",
      "39 Grizzly Bears$0$block$Grizzly Bears$0\n",
      "40 Grizzly Bears$0$block$Grizzly Bears$1\n",
      "41 Grizzly Bears$0$block$Hill Giant$0\n",
      "42 Grizzly Bears$0$block$Hill Giant$1\n",
      "43 Grizzly Bears$0$block$Norwood Ranger$0\n",
      "44 Grizzly Bears$0$block$Norwood Ranger$1\n",
      "45 Grizzly Bears$0$block$Ogre Taskmaster$0\n",
      "46 Grizzly Bears$0$block$Spined Wurm$0\n",
      "47 Grizzly Bears$1\n",
      "48 Grizzly Bears$1$block$Enormous Baloth$0\n",
      "49 Grizzly Bears$1$block$Enormous Baloth$1\n",
      "50 Grizzly Bears$1$block$Goblin Raider$0\n",
      "51 Grizzly Bears$1$block$Goblin Raider$1\n",
      "52 Grizzly Bears$1$block$Grizzly Bears$0\n",
      "53 Grizzly Bears$1$block$Grizzly Bears$1\n",
      "54 Grizzly Bears$1$block$Hill Giant$0\n",
      "55 Grizzly Bears$1$block$Hill Giant$1\n",
      "56 Grizzly Bears$1$block$Norwood Ranger$0\n",
      "57 Grizzly Bears$1$block$Norwood Ranger$1\n",
      "58 Grizzly Bears$1$block$Ogre Taskmaster$0\n",
      "59 Grizzly Bears$1$block$Spined Wurm$0\n",
      "60 Hill Giant\n",
      "61 Hill Giant$0\n",
      "62 Hill Giant$0$block$Enormous Baloth$0\n",
      "63 Hill Giant$0$block$Enormous Baloth$1\n",
      "64 Hill Giant$0$block$Goblin Raider$0\n",
      "65 Hill Giant$0$block$Goblin Raider$1\n",
      "66 Hill Giant$0$block$Grizzly Bears$0\n",
      "67 Hill Giant$0$block$Grizzly Bears$1\n",
      "68 Hill Giant$0$block$Hill Giant$0\n",
      "69 Hill Giant$0$block$Hill Giant$1\n",
      "70 Hill Giant$0$block$Norwood Ranger$0\n",
      "71 Hill Giant$0$block$Norwood Ranger$1\n",
      "72 Hill Giant$0$block$Ogre Taskmaster$0\n",
      "73 Hill Giant$0$block$Spined Wurm$0\n",
      "74 Hill Giant$1\n",
      "75 Hill Giant$1$block$Enormous Baloth$0\n",
      "76 Hill Giant$1$block$Enormous Baloth$1\n",
      "77 Hill Giant$1$block$Goblin Raider$0\n",
      "78 Hill Giant$1$block$Goblin Raider$1\n",
      "79 Hill Giant$1$block$Grizzly Bears$0\n",
      "80 Hill Giant$1$block$Grizzly Bears$1\n",
      "81 Hill Giant$1$block$Hill Giant$0\n",
      "82 Hill Giant$1$block$Hill Giant$1\n",
      "83 Hill Giant$1$block$Norwood Ranger$0\n",
      "84 Hill Giant$1$block$Norwood Ranger$1\n",
      "85 Hill Giant$1$block$Ogre Taskmaster$0\n",
      "86 Hill Giant$1$block$Spined Wurm$0\n",
      "87 Lava Axe\n",
      "88 Mountain\n",
      "89 Norwood Ranger\n",
      "90 Norwood Ranger$0\n",
      "91 Norwood Ranger$0$block$Enormous Baloth$0\n",
      "92 Norwood Ranger$0$block$Enormous Baloth$1\n",
      "93 Norwood Ranger$0$block$Goblin Raider$0\n",
      "94 Norwood Ranger$0$block$Goblin Raider$1\n",
      "95 Norwood Ranger$0$block$Grizzly Bears$0\n",
      "96 Norwood Ranger$0$block$Grizzly Bears$1\n",
      "97 Norwood Ranger$0$block$Hill Giant$0\n",
      "98 Norwood Ranger$0$block$Hill Giant$1\n",
      "99 Norwood Ranger$0$block$Norwood Ranger$0\n",
      "100 Norwood Ranger$0$block$Norwood Ranger$1\n",
      "101 Norwood Ranger$0$block$Ogre Taskmaster$0\n",
      "102 Norwood Ranger$0$block$Spined Wurm$0\n",
      "103 Norwood Ranger$1\n",
      "104 Norwood Ranger$1$block$Enormous Baloth$0\n",
      "105 Norwood Ranger$1$block$Enormous Baloth$1\n",
      "106 Norwood Ranger$1$block$Goblin Raider$0\n",
      "107 Norwood Ranger$1$block$Goblin Raider$1\n",
      "108 Norwood Ranger$1$block$Grizzly Bears$0\n",
      "109 Norwood Ranger$1$block$Grizzly Bears$1\n",
      "110 Norwood Ranger$1$block$Hill Giant$0\n",
      "111 Norwood Ranger$1$block$Hill Giant$1\n",
      "112 Norwood Ranger$1$block$Norwood Ranger$0\n",
      "113 Norwood Ranger$1$block$Norwood Ranger$1\n",
      "114 Norwood Ranger$1$block$Ogre Taskmaster$0\n",
      "115 Norwood Ranger$1$block$Spined Wurm$0\n",
      "116 Ogre Taskmaster\n",
      "117 Ogre Taskmaster$0\n",
      "118 Pass\n",
      "119 Rampant Growth\n",
      "120 Red\n",
      "121 Refuse\n",
      "122 Spined Wurm\n",
      "123 Spined Wurm$0\n",
      "124 Spined Wurm$0$block$Enormous Baloth$0\n",
      "125 Spined Wurm$0$block$Enormous Baloth$1\n",
      "126 Spined Wurm$0$block$Goblin Raider$0\n",
      "127 Spined Wurm$0$block$Goblin Raider$1\n",
      "128 Spined Wurm$0$block$Grizzly Bears$0\n",
      "129 Spined Wurm$0$block$Grizzly Bears$1\n",
      "130 Spined Wurm$0$block$Hill Giant$0\n",
      "131 Spined Wurm$0$block$Hill Giant$1\n",
      "132 Spined Wurm$0$block$Norwood Ranger$0\n",
      "133 Spined Wurm$0$block$Norwood Ranger$1\n",
      "134 Spined Wurm$0$block$Ogre Taskmaster$0\n",
      "135 Spined Wurm$0$block$Spined Wurm$0\n",
      "136 Stone Rain\n",
      "137 Volcanic Hammer\n",
      "138 opponent\n",
      "139 self\n",
      "140 tapped_ability_0_Forest\n",
      "141 tapped_ability_0_Mountain\n"
     ]
    }
   ],
   "source": [
    "for i in range(len(vocab_actions)):\n",
    "    print(i, vocab_actions.itos[i])"
   ]
  },
  {
   "cell_type": "code",
   "execution_count": 85,
   "metadata": {},
   "outputs": [],
   "source": [
    "counter_obj_states = collections.Counter()"
   ]
  },
  {
   "cell_type": "code",
   "execution_count": 96,
   "metadata": {},
   "outputs": [],
   "source": [
    "def process_state(state):\n",
    "    return state.replace(' ', '').replace('\\n', '').split('$')"
   ]
  },
  {
   "cell_type": "code",
   "execution_count": 98,
   "metadata": {},
   "outputs": [
    {
     "name": "stdout",
     "output_type": "stream",
     "text": [
      "['player-color', 'Gold', 'life', '20', 'opponent-life', '20', 'phase', 'Phases.MAIN_PHASE_PRE_COMBAT', 'hand', 'Mountain', 'Mountain', 'GoblinRaider', 'Mountain', 'RampantGrowth', 'Forest', 'LavaAxe', 'Forest', 'generic-debt', '0', 'manapool', 'White', '0', 'Blue', '0', 'Black', '0', 'Red', '0', 'Green', '0', 'Colorless', '0', 'opponent-cards', '6', 'self-lands-untapped', '', 'self-lands-tapped', '', 'opponent-lands-untapped', 'Forest', 'opponent-lands-tapped', '', 'self-creatures-untapped', '', 'self-creatures-tapped', '', 'opponent-creatures-untapped', '', 'opponent-creatures-tapped', '', 'attackers-blockers', 'None', 'damage-order', 'None', '']\n"
     ]
    }
   ],
   "source": [
    "print(flat_data[0][0].replace(' ', '').replace('\\n', '').split('$'))"
   ]
  },
  {
   "cell_type": "code",
   "execution_count": 218,
   "metadata": {},
   "outputs": [],
   "source": [
    "max_state_token_len = -1\n",
    "for transition in flat_data:\n",
    "    state = process_state(transition[0])\n",
    "    max_state_token_len = max(max_state_token_len, len(state))\n",
    "    counter_obj_states.update(state)\n"
   ]
  },
  {
   "cell_type": "code",
   "execution_count": 129,
   "metadata": {},
   "outputs": [],
   "source": [
    "vocab_states = torchtext.vocab.Vocab(counter_obj_states, min_freq=1, specials=[\"<unk>\"])"
   ]
  },
  {
   "cell_type": "code",
   "execution_count": 130,
   "metadata": {},
   "outputs": [
    {
     "data": {
      "text/plain": [
       "torchtext.vocab.Vocab"
      ]
     },
     "execution_count": 130,
     "metadata": {},
     "output_type": "execute_result"
    }
   ],
   "source": [
    "type(vocab_states)"
   ]
  },
  {
   "cell_type": "code",
   "execution_count": 116,
   "metadata": {},
   "outputs": [
    {
     "name": "stdout",
     "output_type": "stream",
     "text": [
      "0 <unk>\n",
      "1 Mountain\n",
      "2 0\n",
      "3 Forest\n",
      "4 \n",
      "5 None\n",
      "6 GoblinRaider\n",
      "7 Black\n",
      "8 Blue\n",
      "9 Colorless\n",
      "10 Green\n",
      "11 Red\n",
      "12 White\n",
      "13 attackers-blockers\n",
      "14 damage-order\n",
      "15 generic-debt\n",
      "16 hand\n",
      "17 life\n",
      "18 manapool\n",
      "19 opponent-cards\n",
      "20 opponent-creatures-tapped\n",
      "21 opponent-creatures-untapped\n",
      "22 opponent-lands-tapped\n",
      "23 opponent-lands-untapped\n",
      "24 opponent-life\n",
      "25 phase\n",
      "26 player-color\n",
      "27 self-creatures-tapped\n",
      "28 self-creatures-untapped\n",
      "29 self-lands-tapped\n",
      "30 self-lands-untapped\n",
      "31 HillGiant\n",
      "32 EnormousBaloth\n",
      "33 GrizzlyBears\n",
      "34 NorwoodRanger\n",
      "35 Phases.MAIN_PHASE_PRE_COMBAT\n",
      "36 LavaAxe\n",
      "37 20\n",
      "38 OgreTaskmaster\n",
      "39 SpinedWurm\n",
      "40 1\n",
      "41 Silver\n",
      "42 Gold\n",
      "43 2\n",
      "44 3\n",
      "45 VolcanicHammer\n",
      "46 4\n",
      "47 5\n",
      "48 6\n",
      "49 7\n",
      "50 StoneRain\n",
      "51 17\n",
      "52 Phases.DECLARE_ATTACKERS_STEP\n",
      "53 8\n",
      "54 RampantGrowth\n",
      "55 18\n",
      "56 9\n",
      "57 15\n",
      "58 16\n",
      "59 10\n",
      "60 attacker:\n",
      "61 blockedby:\n",
      "62 14\n",
      "63 12\n",
      "64 13\n",
      "65 11\n",
      "66 Phases.DECLARE_BLOCKERS_STEP\n",
      "67 19\n",
      "68 -3\n",
      "69 -4\n",
      "70 Phases.DECLARE_BLOCKERS_STEP_509_2\n",
      "71 -2\n",
      "72 -1\n",
      "73 -5\n",
      "74 -7\n",
      "75 -6\n",
      "76 -8\n",
      "77 -9\n",
      "78 -11\n",
      "79 0']\n",
      "80 1']\n",
      "81 ['GoblinRaider\n",
      "82 ['NorwoodRanger\n",
      "83 ['GrizzlyBears\n",
      "84 ['HillGiant\n",
      "85 ['SpinedWurm\n",
      "86 ['OgreTaskmaster\n",
      "87 ['EnormousBaloth\n"
     ]
    }
   ],
   "source": [
    "for i in range(len(vocab_states)):\n",
    "    print(i, vocab_states.itos[i])"
   ]
  },
  {
   "cell_type": "code",
   "execution_count": 221,
   "metadata": {},
   "outputs": [],
   "source": [
    "trajectories = []"
   ]
  },
  {
   "cell_type": "code",
   "execution_count": 222,
   "metadata": {},
   "outputs": [],
   "source": [
    "for game in data['Gold']:\n",
    "    game_data = {'states': [], 'actions': [], 'rewards':[], 'timesteps':[], 'state_masks':[]}\n",
    "    timestep = 0\n",
    "    for trajectory in game:\n",
    "        state = [vocab_states[word] for word in process_state(trajectory[0])]\n",
    "        mask = [1] * len(state)\n",
    "        padding_len = max_state_token_len - len(state)\n",
    "        mask.extend([0] * padding_len)\n",
    "        state.extend([0] * padding_len)\n",
    "\n",
    "        game_data['state_masks'].append(mask)\n",
    "        game_data['states'].append(state)\n",
    "        game_data['actions'].append(vocab_actions[trajectory[2]])\n",
    "        game_data['rewards'].append(trajectory[3])\n",
    "        game_data['timesteps'].append(timestep)\n",
    "        timestep +=1\n",
    "    for key,value in game_data.items():\n",
    "        if not isinstance(value, np.ndarray):\n",
    "            game_data[key] = np.array(value)\n",
    "    trajectories.append(game_data)"
   ]
  },
  {
   "cell_type": "code",
   "execution_count": 225,
   "metadata": {},
   "outputs": [],
   "source": [
    "device = 'cuda'\n",
    "num_trajectories = len(trajectories)\n",
    "K=20\n",
    "max_ep_len = max_per_game\n",
    "act_dim = 1"
   ]
  },
  {
   "cell_type": "code",
   "execution_count": 226,
   "metadata": {},
   "outputs": [
    {
     "data": {
      "text/plain": [
       "107"
      ]
     },
     "execution_count": 226,
     "metadata": {},
     "output_type": "execute_result"
    }
   ],
   "source": [
    "max_state_token_len"
   ]
  },
  {
   "cell_type": "code",
   "execution_count": 235,
   "metadata": {},
   "outputs": [],
   "source": [
    "def get_batch(batch_size=256, max_len=K):\n",
    "        batch_inds = np.random.choice(\n",
    "            np.arange(num_trajectories),\n",
    "            size=batch_size,\n",
    "            replace=True,\n",
    "        )\n",
    "\n",
    "        s, a, r, timesteps, mask, state_masks = [], [], [], [], [], []\n",
    "        for i in range(batch_size):\n",
    "            traj = trajectories[batch_inds[i]]\n",
    "            si = random.randint(0, traj['rewards'].shape[0] - 1)\n",
    "\n",
    "            # get sequences from dataset\n",
    "            state_dim = max_state_token_len\n",
    "            state_masks.append(traj['state_masks'][si:si + max_len].reshape(1, -1, state_dim))\n",
    "            s.append(traj['states'][si:si + max_len].reshape(1, -1, max_state_token_len))\n",
    "            a.append(traj['actions'][si:si + max_len].reshape(1, -1, act_dim))\n",
    "            r.append(traj['rewards'][si:si + max_len].reshape(1, -1, 1))\n",
    "            tlen = a[-1].shape[1]\n",
    "\n",
    "            \n",
    "            timesteps.append(np.arange(si, si + tlen).reshape(1, -1))\n",
    "            timesteps[-1][timesteps[-1] >= max_ep_len] = max_ep_len-1  # padding cutoff\n",
    "        \n",
    "            # padding and state + reward normalization\n",
    "            s[-1] = np.concatenate([np.zeros((1, max_len - tlen, state_dim)), s[-1]], axis=1)\n",
    "            state_masks[-1] = np.concatenate([np.zeros((1, max_len - tlen, state_dim)), state_masks[-1]], axis=1)\n",
    "            a[-1] = np.concatenate([np.ones((1, max_len - tlen, act_dim)) * -10., a[-1]], axis=1)\n",
    "            r[-1] = np.concatenate([np.zeros((1, max_len - tlen, 1)), r[-1]], axis=1)\n",
    "            timesteps[-1] = np.concatenate([np.zeros((1, max_len - tlen)), timesteps[-1]], axis=1)\n",
    "            mask.append(np.concatenate([np.zeros((1, max_len - tlen)), np.ones((1, tlen))], axis=1))\n",
    "\n",
    "        s = torch.from_numpy(np.concatenate(s, axis=0)).to(dtype=torch.float32, device=device)\n",
    "        state_masks = torch.from_numpy(np.concatenate(state_masks, axis=0)).to(dtype=torch.float32, device=device)\n",
    "        a = torch.from_numpy(np.concatenate(a, axis=0)).to(dtype=torch.float32, device=device)\n",
    "        r = torch.from_numpy(np.concatenate(r, axis=0)).to(dtype=torch.float32, device=device)\n",
    "        timesteps = torch.from_numpy(np.concatenate(timesteps, axis=0)).to(dtype=torch.long, device=device)\n",
    "        mask = torch.from_numpy(np.concatenate(mask, axis=0)).to(device=device)\n",
    "\n",
    "        return s, state_masks, a, r, timesteps, mask"
   ]
  },
  {
   "cell_type": "code",
   "execution_count": 236,
   "metadata": {},
   "outputs": [],
   "source": [
    "batch = get_batch()"
   ]
  },
  {
   "cell_type": "code",
   "execution_count": 243,
   "metadata": {},
   "outputs": [],
   "source": [
    "s, state_masks, a, r, timesteps, mask = batch"
   ]
  }
 ],
 "metadata": {
  "interpreter": {
   "hash": "342633365bf1d2b098945d10492d9ee182e1c05ad3cfa3a35f02aa6a443073f0"
  },
  "kernelspec": {
   "display_name": "Python 3.8.5 64-bit ('decision-transformer-mtg': conda)",
   "name": "python3"
  },
  "language_info": {
   "codemirror_mode": {
    "name": "ipython",
    "version": 3
   },
   "file_extension": ".py",
   "mimetype": "text/x-python",
   "name": "python",
   "nbconvert_exporter": "python",
   "pygments_lexer": "ipython3",
   "version": "3.8.5"
  },
  "orig_nbformat": 4
 },
 "nbformat": 4,
 "nbformat_minor": 2
}
